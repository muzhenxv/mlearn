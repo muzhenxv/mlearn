{
 "cells": [
  {
   "cell_type": "code",
   "execution_count": 1,
   "metadata": {
    "ExecuteTime": {
     "end_time": "2018-12-12T06:44:35.725674Z",
     "start_time": "2018-12-12T06:44:30.946209Z"
    }
   },
   "outputs": [],
   "source": [
    "from IPython.core.interactiveshell import InteractiveShell\n",
    "InteractiveShell.ast_node_interactivity = \"all\"\n",
    "\n",
    "import pandas as pd\n",
    "import numpy as np\n",
    "import json, pickle"
   ]
  },
  {
   "cell_type": "code",
   "execution_count": 2,
   "metadata": {
    "ExecuteTime": {
     "end_time": "2018-12-12T06:44:57.035680Z",
     "start_time": "2018-12-12T06:44:35.731651Z"
    }
   },
   "outputs": [
    {
     "name": "stderr",
     "output_type": "stream",
     "text": [
      "/Users/Chenson/anaconda3/lib/python3.6/site-packages/statsmodels/compat/pandas.py:56: FutureWarning: The pandas.core.datetools module is deprecated and will be removed in a future version. Please use the pandas.tseries module instead.\n",
      "  from pandas.core import datetools\n",
      "/Users/Chenson/anaconda3/lib/python3.6/site-packages/h5py/__init__.py:34: FutureWarning: Conversion of the second argument of issubdtype from `float` to `np.floating` is deprecated. In future, it will be treated as `np.float64 == np.dtype(float).type`.\n",
      "  from ._conv import register_converters as _register_converters\n"
     ]
    }
   ],
   "source": [
    "import os\n",
    "import sys\n",
    "sys.path.append(os.getcwd())\n",
    "\n",
    "try:\n",
    "    import mlearn\n",
    "except:\n",
    "    print(\"Cannot import mlearn, and try mlearndev again.\")\n",
    "#     import mlearndev as mlearn"
   ]
  },
  {
   "cell_type": "code",
   "execution_count": 3,
   "metadata": {
    "ExecuteTime": {
     "end_time": "2018-12-12T06:44:57.051474Z",
     "start_time": "2018-12-12T06:44:57.040485Z"
    }
   },
   "outputs": [],
   "source": [
    "import mlearn"
   ]
  },
  {
   "cell_type": "code",
   "execution_count": 4,
   "metadata": {
    "ExecuteTime": {
     "end_time": "2018-12-12T06:44:57.266260Z",
     "start_time": "2018-12-12T06:44:57.060868Z"
    }
   },
   "outputs": [
    {
     "data": {
      "text/plain": [
       "'/Users/Chenson/Dropbox/Github/mlearn'"
      ]
     },
     "execution_count": 4,
     "metadata": {},
     "output_type": "execute_result"
    }
   ],
   "source": [
    "os.getcwd()"
   ]
  },
  {
   "cell_type": "code",
   "execution_count": 5,
   "metadata": {
    "ExecuteTime": {
     "end_time": "2018-12-12T06:45:01.861370Z",
     "start_time": "2018-12-12T06:44:57.273332Z"
    }
   },
   "outputs": [
    {
     "data": {
      "text/plain": [
       "(10000, 457)"
      ]
     },
     "execution_count": 5,
     "metadata": {},
     "output_type": "execute_result"
    },
    {
     "data": {
      "text/html": [
       "<div>\n",
       "<style scoped>\n",
       "    .dataframe tbody tr th:only-of-type {\n",
       "        vertical-align: middle;\n",
       "    }\n",
       "\n",
       "    .dataframe tbody tr th {\n",
       "        vertical-align: top;\n",
       "    }\n",
       "\n",
       "    .dataframe thead th {\n",
       "        text-align: right;\n",
       "    }\n",
       "</style>\n",
       "<table border=\"1\" class=\"dataframe\">\n",
       "  <thead>\n",
       "    <tr style=\"text-align: right;\">\n",
       "      <th></th>\n",
       "      <th>baitiao_cnt</th>\n",
       "      <th>buzu_cnt</th>\n",
       "      <th>chushen_cnt</th>\n",
       "      <th>cnt_daoqi_dai</th>\n",
       "      <th>cnt_daoqi_fenqi</th>\n",
       "      <th>cnt_daoqi_finance</th>\n",
       "      <th>cnt_daoqi_jiekuan</th>\n",
       "      <th>cnt_daoqi_jinrong</th>\n",
       "      <th>cnt_daoqi_loan</th>\n",
       "      <th>cnt_daoqi_qianbao</th>\n",
       "      <th>...</th>\n",
       "      <th>i605</th>\n",
       "      <th>i606</th>\n",
       "      <th>i607</th>\n",
       "      <th>i614</th>\n",
       "      <th>i621</th>\n",
       "      <th>i630</th>\n",
       "      <th>jd_ss_score_payday_sort_score</th>\n",
       "      <th>overdue_days</th>\n",
       "      <th>td_score_final_score</th>\n",
       "      <th>level</th>\n",
       "    </tr>\n",
       "  </thead>\n",
       "  <tbody>\n",
       "    <tr>\n",
       "      <th>0</th>\n",
       "      <td>0.0</td>\n",
       "      <td>0.0</td>\n",
       "      <td>0.0</td>\n",
       "      <td>NaN</td>\n",
       "      <td>NaN</td>\n",
       "      <td>NaN</td>\n",
       "      <td>NaN</td>\n",
       "      <td>NaN</td>\n",
       "      <td>NaN</td>\n",
       "      <td>NaN</td>\n",
       "      <td>...</td>\n",
       "      <td>0.0</td>\n",
       "      <td>0.0</td>\n",
       "      <td>0.0</td>\n",
       "      <td>0.0</td>\n",
       "      <td>0.0</td>\n",
       "      <td>0.0</td>\n",
       "      <td>0.000</td>\n",
       "      <td>0</td>\n",
       "      <td>69.0</td>\n",
       "      <td>0</td>\n",
       "    </tr>\n",
       "    <tr>\n",
       "      <th>1</th>\n",
       "      <td>NaN</td>\n",
       "      <td>NaN</td>\n",
       "      <td>NaN</td>\n",
       "      <td>NaN</td>\n",
       "      <td>NaN</td>\n",
       "      <td>NaN</td>\n",
       "      <td>NaN</td>\n",
       "      <td>NaN</td>\n",
       "      <td>NaN</td>\n",
       "      <td>NaN</td>\n",
       "      <td>...</td>\n",
       "      <td>0.0</td>\n",
       "      <td>0.0</td>\n",
       "      <td>0.0</td>\n",
       "      <td>0.0</td>\n",
       "      <td>0.0</td>\n",
       "      <td>0.0</td>\n",
       "      <td>0.000</td>\n",
       "      <td>0</td>\n",
       "      <td>59.0</td>\n",
       "      <td>0</td>\n",
       "    </tr>\n",
       "    <tr>\n",
       "      <th>2</th>\n",
       "      <td>4.0</td>\n",
       "      <td>4.0</td>\n",
       "      <td>1.0</td>\n",
       "      <td>0.0</td>\n",
       "      <td>0.0</td>\n",
       "      <td>0.0</td>\n",
       "      <td>NaN</td>\n",
       "      <td>0.0</td>\n",
       "      <td>0.0</td>\n",
       "      <td>0.0</td>\n",
       "      <td>...</td>\n",
       "      <td>0.0</td>\n",
       "      <td>0.0</td>\n",
       "      <td>0.0</td>\n",
       "      <td>0.0</td>\n",
       "      <td>0.0</td>\n",
       "      <td>0.0</td>\n",
       "      <td>0.937</td>\n",
       "      <td>3</td>\n",
       "      <td>100.0</td>\n",
       "      <td>0</td>\n",
       "    </tr>\n",
       "    <tr>\n",
       "      <th>3</th>\n",
       "      <td>0.0</td>\n",
       "      <td>3.0</td>\n",
       "      <td>0.0</td>\n",
       "      <td>0.0</td>\n",
       "      <td>NaN</td>\n",
       "      <td>0.0</td>\n",
       "      <td>NaN</td>\n",
       "      <td>0.0</td>\n",
       "      <td>0.0</td>\n",
       "      <td>NaN</td>\n",
       "      <td>...</td>\n",
       "      <td>0.0</td>\n",
       "      <td>0.0</td>\n",
       "      <td>0.0</td>\n",
       "      <td>0.0</td>\n",
       "      <td>0.0</td>\n",
       "      <td>0.0</td>\n",
       "      <td>0.986</td>\n",
       "      <td>4</td>\n",
       "      <td>100.0</td>\n",
       "      <td>3</td>\n",
       "    </tr>\n",
       "    <tr>\n",
       "      <th>4</th>\n",
       "      <td>NaN</td>\n",
       "      <td>NaN</td>\n",
       "      <td>NaN</td>\n",
       "      <td>NaN</td>\n",
       "      <td>NaN</td>\n",
       "      <td>NaN</td>\n",
       "      <td>NaN</td>\n",
       "      <td>NaN</td>\n",
       "      <td>NaN</td>\n",
       "      <td>NaN</td>\n",
       "      <td>...</td>\n",
       "      <td>0.0</td>\n",
       "      <td>0.0</td>\n",
       "      <td>0.0</td>\n",
       "      <td>0.0</td>\n",
       "      <td>0.0</td>\n",
       "      <td>0.0</td>\n",
       "      <td>0.930</td>\n",
       "      <td>23</td>\n",
       "      <td>100.0</td>\n",
       "      <td>0</td>\n",
       "    </tr>\n",
       "  </tbody>\n",
       "</table>\n",
       "<p>5 rows × 457 columns</p>\n",
       "</div>"
      ],
      "text/plain": [
       "   baitiao_cnt  buzu_cnt  chushen_cnt  cnt_daoqi_dai  cnt_daoqi_fenqi  \\\n",
       "0          0.0       0.0          0.0            NaN              NaN   \n",
       "1          NaN       NaN          NaN            NaN              NaN   \n",
       "2          4.0       4.0          1.0            0.0              0.0   \n",
       "3          0.0       3.0          0.0            0.0              NaN   \n",
       "4          NaN       NaN          NaN            NaN              NaN   \n",
       "\n",
       "   cnt_daoqi_finance  cnt_daoqi_jiekuan  cnt_daoqi_jinrong  cnt_daoqi_loan  \\\n",
       "0                NaN                NaN                NaN             NaN   \n",
       "1                NaN                NaN                NaN             NaN   \n",
       "2                0.0                NaN                0.0             0.0   \n",
       "3                0.0                NaN                0.0             0.0   \n",
       "4                NaN                NaN                NaN             NaN   \n",
       "\n",
       "   cnt_daoqi_qianbao  ...    i605  i606  i607  i614  i621  i630  \\\n",
       "0                NaN  ...     0.0   0.0   0.0   0.0   0.0   0.0   \n",
       "1                NaN  ...     0.0   0.0   0.0   0.0   0.0   0.0   \n",
       "2                0.0  ...     0.0   0.0   0.0   0.0   0.0   0.0   \n",
       "3                NaN  ...     0.0   0.0   0.0   0.0   0.0   0.0   \n",
       "4                NaN  ...     0.0   0.0   0.0   0.0   0.0   0.0   \n",
       "\n",
       "   jd_ss_score_payday_sort_score  overdue_days  td_score_final_score  level  \n",
       "0                          0.000             0                  69.0      0  \n",
       "1                          0.000             0                  59.0      0  \n",
       "2                          0.937             3                 100.0      0  \n",
       "3                          0.986             4                 100.0      3  \n",
       "4                          0.930            23                 100.0      0  \n",
       "\n",
       "[5 rows x 457 columns]"
      ]
     },
     "execution_count": 5,
     "metadata": {},
     "output_type": "execute_result"
    }
   ],
   "source": [
    "df = pd.read_csv('mlearn/data/chaintest_data.csv', index_col=0)\n",
    "df.shape\n",
    "df.head()"
   ]
  },
  {
   "cell_type": "code",
   "execution_count": 6,
   "metadata": {
    "ExecuteTime": {
     "end_time": "2018-12-12T06:45:05.167712Z",
     "start_time": "2018-12-12T06:45:01.869972Z"
    }
   },
   "outputs": [
    {
     "data": {
      "text/html": [
       "<div>\n",
       "<style scoped>\n",
       "    .dataframe tbody tr th:only-of-type {\n",
       "        vertical-align: middle;\n",
       "    }\n",
       "\n",
       "    .dataframe tbody tr th {\n",
       "        vertical-align: top;\n",
       "    }\n",
       "\n",
       "    .dataframe thead th {\n",
       "        text-align: right;\n",
       "    }\n",
       "</style>\n",
       "<table border=\"1\" class=\"dataframe\">\n",
       "  <thead>\n",
       "    <tr style=\"text-align: right;\">\n",
       "      <th></th>\n",
       "      <th>apply_risk_id_2</th>\n",
       "      <th>individual_identity</th>\n",
       "      <th>paydayloanlevelonechannelname</th>\n",
       "      <th>individual_gender</th>\n",
       "      <th>individual_mobile</th>\n",
       "      <th>baidu_panshi_prea_score</th>\n",
       "      <th>cn_gt_0</th>\n",
       "      <th>cn_gt_0_ratio</th>\n",
       "      <th>coc_eq_0</th>\n",
       "      <th>coc_gt_0</th>\n",
       "      <th>...</th>\n",
       "      <th>xy_score</th>\n",
       "      <th>ym_large_code</th>\n",
       "      <th>ym_large_score</th>\n",
       "      <th>ym_small_code</th>\n",
       "      <th>ym_small_score</th>\n",
       "      <th>province</th>\n",
       "      <th>user_gray_has_report</th>\n",
       "      <th>1d</th>\n",
       "      <th>14d</th>\n",
       "      <th>apply_risk_created_at</th>\n",
       "    </tr>\n",
       "  </thead>\n",
       "  <tbody>\n",
       "    <tr>\n",
       "      <th>0</th>\n",
       "      <td>28762247</td>\n",
       "      <td>431129198807244811</td>\n",
       "      <td>垂直渠道</td>\n",
       "      <td>1</td>\n",
       "      <td>15581484959</td>\n",
       "      <td>NaN</td>\n",
       "      <td>NaN</td>\n",
       "      <td>NaN</td>\n",
       "      <td>NaN</td>\n",
       "      <td>NaN</td>\n",
       "      <td>...</td>\n",
       "      <td>NaN</td>\n",
       "      <td>code0</td>\n",
       "      <td>559.0</td>\n",
       "      <td>code0</td>\n",
       "      <td>406.0</td>\n",
       "      <td>湖南省</td>\n",
       "      <td>True</td>\n",
       "      <td>0</td>\n",
       "      <td>0</td>\n",
       "      <td>2018-03-01 17:47:39.0</td>\n",
       "    </tr>\n",
       "    <tr>\n",
       "      <th>1</th>\n",
       "      <td>28811909</td>\n",
       "      <td>510921198709290015</td>\n",
       "      <td>垂直渠道</td>\n",
       "      <td>1</td>\n",
       "      <td>15812783944</td>\n",
       "      <td>541.0</td>\n",
       "      <td>93.0</td>\n",
       "      <td>0.444976</td>\n",
       "      <td>49.0</td>\n",
       "      <td>160.0</td>\n",
       "      <td>...</td>\n",
       "      <td>0.205521</td>\n",
       "      <td>code0</td>\n",
       "      <td>649.0</td>\n",
       "      <td>code0</td>\n",
       "      <td>479.0</td>\n",
       "      <td>四川省</td>\n",
       "      <td>True</td>\n",
       "      <td>1</td>\n",
       "      <td>0</td>\n",
       "      <td>2018-03-03 00:34:43.0</td>\n",
       "    </tr>\n",
       "    <tr>\n",
       "      <th>2</th>\n",
       "      <td>28820305</td>\n",
       "      <td>412721198712262637</td>\n",
       "      <td>垂直渠道</td>\n",
       "      <td>1</td>\n",
       "      <td>15138254084</td>\n",
       "      <td>528.0</td>\n",
       "      <td>16.0</td>\n",
       "      <td>0.470588</td>\n",
       "      <td>7.0</td>\n",
       "      <td>27.0</td>\n",
       "      <td>...</td>\n",
       "      <td>NaN</td>\n",
       "      <td>code0</td>\n",
       "      <td>534.0</td>\n",
       "      <td>code0</td>\n",
       "      <td>453.0</td>\n",
       "      <td>河南省</td>\n",
       "      <td>True</td>\n",
       "      <td>1</td>\n",
       "      <td>0</td>\n",
       "      <td>2018-03-03 10:20:14.0</td>\n",
       "    </tr>\n",
       "    <tr>\n",
       "      <th>3</th>\n",
       "      <td>28832375</td>\n",
       "      <td>320325199804134231</td>\n",
       "      <td>APP_iOS</td>\n",
       "      <td>1</td>\n",
       "      <td>15966919652</td>\n",
       "      <td>514.0</td>\n",
       "      <td>77.0</td>\n",
       "      <td>0.083605</td>\n",
       "      <td>350.0</td>\n",
       "      <td>571.0</td>\n",
       "      <td>...</td>\n",
       "      <td>0.069139</td>\n",
       "      <td>code0</td>\n",
       "      <td>355.0</td>\n",
       "      <td>code0</td>\n",
       "      <td>453.0</td>\n",
       "      <td>江苏省</td>\n",
       "      <td>True</td>\n",
       "      <td>0</td>\n",
       "      <td>0</td>\n",
       "      <td>2018-03-03 15:15:45.0</td>\n",
       "    </tr>\n",
       "    <tr>\n",
       "      <th>4</th>\n",
       "      <td>28837776</td>\n",
       "      <td>632723199606010071</td>\n",
       "      <td>APP_iOS</td>\n",
       "      <td>1</td>\n",
       "      <td>17509766644</td>\n",
       "      <td>NaN</td>\n",
       "      <td>13.0</td>\n",
       "      <td>0.245283</td>\n",
       "      <td>35.0</td>\n",
       "      <td>18.0</td>\n",
       "      <td>...</td>\n",
       "      <td>0.098113</td>\n",
       "      <td>code108</td>\n",
       "      <td>NaN</td>\n",
       "      <td>code108</td>\n",
       "      <td>NaN</td>\n",
       "      <td>青海省</td>\n",
       "      <td>True</td>\n",
       "      <td>0</td>\n",
       "      <td>0</td>\n",
       "      <td>2018-03-03 17:37:27.0</td>\n",
       "    </tr>\n",
       "  </tbody>\n",
       "</table>\n",
       "<p>5 rows × 63 columns</p>\n",
       "</div>"
      ],
      "text/plain": [
       "  apply_risk_id_2 individual_identity paydayloanlevelonechannelname  \\\n",
       "0        28762247  431129198807244811                          垂直渠道   \n",
       "1        28811909  510921198709290015                          垂直渠道   \n",
       "2        28820305  412721198712262637                          垂直渠道   \n",
       "3        28832375  320325199804134231                       APP_iOS   \n",
       "4        28837776  632723199606010071                       APP_iOS   \n",
       "\n",
       "   individual_gender  individual_mobile  baidu_panshi_prea_score  cn_gt_0  \\\n",
       "0                  1        15581484959                      NaN      NaN   \n",
       "1                  1        15812783944                    541.0     93.0   \n",
       "2                  1        15138254084                    528.0     16.0   \n",
       "3                  1        15966919652                    514.0     77.0   \n",
       "4                  1        17509766644                      NaN     13.0   \n",
       "\n",
       "   cn_gt_0_ratio  coc_eq_0  coc_gt_0          ...            xy_score  \\\n",
       "0            NaN       NaN       NaN          ...                 NaN   \n",
       "1       0.444976      49.0     160.0          ...            0.205521   \n",
       "2       0.470588       7.0      27.0          ...                 NaN   \n",
       "3       0.083605     350.0     571.0          ...            0.069139   \n",
       "4       0.245283      35.0      18.0          ...            0.098113   \n",
       "\n",
       "   ym_large_code  ym_large_score  ym_small_code  ym_small_score  province  \\\n",
       "0          code0           559.0          code0           406.0       湖南省   \n",
       "1          code0           649.0          code0           479.0       四川省   \n",
       "2          code0           534.0          code0           453.0       河南省   \n",
       "3          code0           355.0          code0           453.0       江苏省   \n",
       "4        code108             NaN        code108             NaN       青海省   \n",
       "\n",
       "   user_gray_has_report  1d  14d  apply_risk_created_at  \n",
       "0                  True   0    0  2018-03-01 17:47:39.0  \n",
       "1                  True   1    0  2018-03-03 00:34:43.0  \n",
       "2                  True   1    0  2018-03-03 10:20:14.0  \n",
       "3                  True   0    0  2018-03-03 15:15:45.0  \n",
       "4                  True   0    0  2018-03-03 17:37:27.0  \n",
       "\n",
       "[5 rows x 63 columns]"
      ]
     },
     "execution_count": 6,
     "metadata": {},
     "output_type": "execute_result"
    }
   ],
   "source": [
    "df = pd.read_pickle('mlearn/data/20181113_YF_v4_data.pkl')\n",
    "df.head()"
   ]
  },
  {
   "cell_type": "code",
   "execution_count": 7,
   "metadata": {
    "ExecuteTime": {
     "end_time": "2018-12-12T06:45:05.383670Z",
     "start_time": "2018-12-12T06:45:05.174168Z"
    },
    "code_folding": [
     0
    ]
   },
   "outputs": [],
   "source": [
    "fea_in = [\n",
    " 'individual_gender',\n",
    " 'baidu_panshi_prea_score',\n",
    " 'cn_gt_0',\n",
    " 'cn_gt_0_ratio',\n",
    " 'coc_eq_0',\n",
    " 'coc_gt_0',\n",
    " 'coc_gt_0_ratio',\n",
    " 'consumer_label_if_own_cc',\n",
    " 'consumer_label_if_pay_ins',\n",
    " 'equipmentos',\n",
    " 'fbi_score',\n",
    " 'hds_score',\n",
    " 'i011',\n",
    " 'i012',\n",
    " 'i013',\n",
    " 'i031',\n",
    " 'i032',\n",
    " 'i033',\n",
    " 'i061',\n",
    " 'i062',\n",
    " 'i063',\n",
    " 'i101',\n",
    " 'i102',\n",
    " 'i103',\n",
    " 'i104',\n",
    " 'i105',\n",
    " 'i106',\n",
    " 'i107',\n",
    " 'i114',\n",
    " 'i301',\n",
    " 'i302',\n",
    " 'i303',\n",
    " 'i304',\n",
    " 'i305',\n",
    " 'i306',\n",
    " 'i307',\n",
    " 'i314',\n",
    " 'i321',\n",
    " 'i601',\n",
    " 'i602',\n",
    " 'i603',\n",
    " 'i604',\n",
    " 'i605',\n",
    " 'i606',\n",
    " 'i607',\n",
    " 'i614',\n",
    " 'i621',\n",
    " 'i630',\n",
    " 'xscore',\n",
    " 'xy_score',\n",
    " 'ym_large_score',\n",
    " 'ym_small_score',\n",
    " 'user_gray_has_report']\n",
    "\n",
    "X = df[fea_in].head(5000)\n",
    "X = X.fillna(X.mean())\n",
    "\n",
    "y = df['14d'].head(5000)"
   ]
  },
  {
   "cell_type": "code",
   "execution_count": 15,
   "metadata": {
    "ExecuteTime": {
     "end_time": "2018-12-12T07:16:41.463677Z",
     "start_time": "2018-12-12T07:16:40.991991Z"
    }
   },
   "outputs": [
    {
     "name": "stderr",
     "output_type": "stream",
     "text": [
      "/Users/Chenson/anaconda3/lib/python3.6/site-packages/sklearn/preprocessing/data.py:617: DataConversionWarning: Data with input dtype int64, float64 were all converted to float64 by StandardScaler.\n",
      "  return self.partial_fit(X, y)\n",
      "/Users/Chenson/anaconda3/lib/python3.6/site-packages/sklearn/base.py:462: DataConversionWarning: Data with input dtype int64, float64 were all converted to float64 by StandardScaler.\n",
      "  return self.fit(X, **fit_params).transform(X)\n"
     ]
    },
    {
     "data": {
      "text/plain": [
       "LogisticRegressionEstimator(C=1.0, class_weight=None, dual=False,\n",
       "              fit_intercept=True, intercept_scaling=1, max_iter=100,\n",
       "              multi_class='ovr', n_jobs=1, penalty='l2', random_state=None,\n",
       "              solver='liblinear', tol=0.0001, verbose=0, warm_start=False)"
      ]
     },
     "execution_count": 15,
     "metadata": {},
     "output_type": "execute_result"
    },
    {
     "name": "stderr",
     "output_type": "stream",
     "text": [
      "/Users/Chenson/Dropbox/Github/mlearn/mlearn/algorithms/linear_model/logistic.py:32: DataConversionWarning: Data with input dtype int64, float64 were all converted to float64 by StandardScaler.\n",
      "  X_scal = self.std_scaler.transform(X)\n"
     ]
    },
    {
     "data": {
      "text/plain": [
       "array([[-0.24687432, -1.5197749 ],\n",
       "       [-0.35443466, -1.20921972],\n",
       "       [-0.45047979, -1.01424071],\n",
       "       ...,\n",
       "       [-0.25788481, -1.48141519],\n",
       "       [-0.23294518, -1.57116476],\n",
       "       [-0.15787275, -1.92386404]])"
      ]
     },
     "execution_count": 15,
     "metadata": {},
     "output_type": "execute_result"
    }
   ],
   "source": [
    "lr = mlearn.algorithms.linear_model.LogisticRegressionEstimator()\n",
    "lr.fit(X, y)\n",
    "lr.predict_log_proba(X)"
   ]
  },
  {
   "cell_type": "markdown",
   "metadata": {},
   "source": [
    "# Tree2Rule - Test "
   ]
  },
  {
   "cell_type": "code",
   "execution_count": 8,
   "metadata": {
    "ExecuteTime": {
     "end_time": "2018-11-29T11:15:40.035693Z",
     "start_time": "2018-11-29T11:15:39.197234Z"
    }
   },
   "outputs": [
    {
     "data": {
      "text/plain": [
       "RandomForestClassifier(bootstrap=True, class_weight=None, criterion='gini',\n",
       "            max_depth=3, max_features='auto', max_leaf_nodes=None,\n",
       "            min_impurity_decrease=0.0, min_impurity_split=None,\n",
       "            min_samples_leaf=1, min_samples_split=2,\n",
       "            min_weight_fraction_leaf=0.0, n_estimators=50, n_jobs=None,\n",
       "            oob_score=False, random_state=None, verbose=0,\n",
       "            warm_start=False)"
      ]
     },
     "execution_count": 8,
     "metadata": {},
     "output_type": "execute_result"
    }
   ],
   "source": [
    "from sklearn.ensemble import GradientBoostingRegressor, GradientBoostingClassifier\n",
    "from sklearn.ensemble import RandomForestRegressor, RandomForestClassifier\n",
    "\n",
    "rf = RandomForestClassifier(n_estimators=50, max_depth=3)\n",
    "rf.fit(X, y)"
   ]
  },
  {
   "cell_type": "code",
   "execution_count": 9,
   "metadata": {
    "ExecuteTime": {
     "end_time": "2018-11-29T11:15:40.045338Z",
     "start_time": "2018-11-29T11:15:40.039995Z"
    }
   },
   "outputs": [],
   "source": [
    "t2r = mlearn.algorithms.ruler.Tree2Rule(rf)"
   ]
  },
  {
   "cell_type": "code",
   "execution_count": 10,
   "metadata": {
    "ExecuteTime": {
     "end_time": "2018-11-29T11:15:40.625720Z",
     "start_time": "2018-11-29T11:15:40.048873Z"
    }
   },
   "outputs": [
    {
     "name": "stderr",
     "output_type": "stream",
     "text": [
      "/Users/Chenson/Dropbox/Github/mlearn/mlearn/algorithms/ruler/tree2rules.py:22: FutureWarning: Method .as_matrix will be removed in a future version. Use .values instead.\n",
      "  self.clf.fit(X.as_matrix(), y.as_matrix())\n"
     ]
    }
   ],
   "source": [
    "t2r.fit(X, y)"
   ]
  },
  {
   "cell_type": "code",
   "execution_count": 11,
   "metadata": {
    "ExecuteTime": {
     "end_time": "2018-11-29T11:15:48.311702Z",
     "start_time": "2018-11-29T11:15:40.628734Z"
    }
   },
   "outputs": [],
   "source": [
    "metrics1 = t2r.get_metrics(X, y)\n",
    "metrics1.drop_duplicates(inplace=True)"
   ]
  },
  {
   "cell_type": "code",
   "execution_count": 12,
   "metadata": {
    "ExecuteTime": {
     "end_time": "2018-11-29T11:15:48.336492Z",
     "start_time": "2018-11-29T11:15:48.314651Z"
    }
   },
   "outputs": [
    {
     "data": {
      "text/html": [
       "<div>\n",
       "<style scoped>\n",
       "    .dataframe tbody tr th:only-of-type {\n",
       "        vertical-align: middle;\n",
       "    }\n",
       "\n",
       "    .dataframe tbody tr th {\n",
       "        vertical-align: top;\n",
       "    }\n",
       "\n",
       "    .dataframe thead th {\n",
       "        text-align: right;\n",
       "    }\n",
       "</style>\n",
       "<table border=\"1\" class=\"dataframe\">\n",
       "  <thead>\n",
       "    <tr style=\"text-align: right;\">\n",
       "      <th></th>\n",
       "      <th>Lift</th>\n",
       "      <th>Precision</th>\n",
       "      <th>Recall</th>\n",
       "      <th>F1_score</th>\n",
       "      <th>Hit</th>\n",
       "      <th>Cnt</th>\n",
       "      <th>Describe</th>\n",
       "    </tr>\n",
       "  </thead>\n",
       "  <tbody>\n",
       "    <tr>\n",
       "      <th>16</th>\n",
       "      <td>1.542010</td>\n",
       "      <td>0.714625</td>\n",
       "      <td>0.6978</td>\n",
       "      <td>0.705445</td>\n",
       "      <td>434</td>\n",
       "      <td>1277</td>\n",
       "      <td>coc_gt_0_ratio &gt; 0.6319886744022369</td>\n",
       "    </tr>\n",
       "    <tr>\n",
       "      <th>30</th>\n",
       "      <td>1.512402</td>\n",
       "      <td>0.714505</td>\n",
       "      <td>0.6882</td>\n",
       "      <td>0.699586</td>\n",
       "      <td>457</td>\n",
       "      <td>1371</td>\n",
       "      <td>coc_gt_0_ratio &gt; 0.6218847036361694</td>\n",
       "    </tr>\n",
       "    <tr>\n",
       "      <th>170</th>\n",
       "      <td>1.579920</td>\n",
       "      <td>0.713286</td>\n",
       "      <td>0.7116</td>\n",
       "      <td>0.712434</td>\n",
       "      <td>390</td>\n",
       "      <td>1120</td>\n",
       "      <td>coc_gt_0_ratio &gt; 0.6516954004764557</td>\n",
       "    </tr>\n",
       "    <tr>\n",
       "      <th>182</th>\n",
       "      <td>1.555508</td>\n",
       "      <td>0.714411</td>\n",
       "      <td>0.7024</td>\n",
       "      <td>0.708002</td>\n",
       "      <td>421</td>\n",
       "      <td>1228</td>\n",
       "      <td>coc_gt_0_ratio &gt; 0.6385855972766876</td>\n",
       "    </tr>\n",
       "    <tr>\n",
       "      <th>280</th>\n",
       "      <td>1.549377</td>\n",
       "      <td>0.715111</td>\n",
       "      <td>0.6992</td>\n",
       "      <td>0.706462</td>\n",
       "      <td>433</td>\n",
       "      <td>1268</td>\n",
       "      <td>coc_gt_0_ratio &gt; 0.6337330937385559</td>\n",
       "    </tr>\n",
       "    <tr>\n",
       "      <th>302</th>\n",
       "      <td>1.502093</td>\n",
       "      <td>0.703043</td>\n",
       "      <td>0.7102</td>\n",
       "      <td>0.706476</td>\n",
       "      <td>340</td>\n",
       "      <td>1027</td>\n",
       "      <td>coc_eq_0 &lt;= 37.5</td>\n",
       "    </tr>\n",
       "    <tr>\n",
       "      <th>322</th>\n",
       "      <td>1.576730</td>\n",
       "      <td>0.712481</td>\n",
       "      <td>0.7122</td>\n",
       "      <td>0.712340</td>\n",
       "      <td>384</td>\n",
       "      <td>1105</td>\n",
       "      <td>coc_gt_0_ratio &gt; 0.6540353000164032</td>\n",
       "    </tr>\n",
       "    <tr>\n",
       "      <th>349</th>\n",
       "      <td>1.576814</td>\n",
       "      <td>0.714784</td>\n",
       "      <td>0.7080</td>\n",
       "      <td>0.711258</td>\n",
       "      <td>408</td>\n",
       "      <td>1174</td>\n",
       "      <td>coc_gt_0_ratio &gt; 0.6447983086109161</td>\n",
       "    </tr>\n",
       "    <tr>\n",
       "      <th>379</th>\n",
       "      <td>1.578496</td>\n",
       "      <td>0.714717</td>\n",
       "      <td>0.7086</td>\n",
       "      <td>0.711549</td>\n",
       "      <td>406</td>\n",
       "      <td>1167</td>\n",
       "      <td>coc_gt_0_ratio &gt; 0.6457737982273102</td>\n",
       "    </tr>\n",
       "    <tr>\n",
       "      <th>450</th>\n",
       "      <td>1.555820</td>\n",
       "      <td>0.715322</td>\n",
       "      <td>0.7008</td>\n",
       "      <td>0.707477</td>\n",
       "      <td>430</td>\n",
       "      <td>1254</td>\n",
       "      <td>coc_gt_0_ratio &gt; 0.6357701420783997</td>\n",
       "    </tr>\n",
       "    <tr>\n",
       "      <th>487</th>\n",
       "      <td>1.505695</td>\n",
       "      <td>0.713152</td>\n",
       "      <td>0.6886</td>\n",
       "      <td>0.699339</td>\n",
       "      <td>449</td>\n",
       "      <td>1353</td>\n",
       "      <td>coc_gt_0_ratio &gt; 0.6241016089916229</td>\n",
       "    </tr>\n",
       "    <tr>\n",
       "      <th>545</th>\n",
       "      <td>1.555820</td>\n",
       "      <td>0.715322</td>\n",
       "      <td>0.7008</td>\n",
       "      <td>0.707477</td>\n",
       "      <td>430</td>\n",
       "      <td>1254</td>\n",
       "      <td>coc_gt_0_ratio &gt; 0.6357919275760651</td>\n",
       "    </tr>\n",
       "    <tr>\n",
       "      <th>557</th>\n",
       "      <td>1.566006</td>\n",
       "      <td>0.714055</td>\n",
       "      <td>0.7062</td>\n",
       "      <td>0.709951</td>\n",
       "      <td>409</td>\n",
       "      <td>1185</td>\n",
       "      <td>coc_gt_0_ratio &gt; 0.643008828163147</td>\n",
       "    </tr>\n",
       "    <tr>\n",
       "      <th>596</th>\n",
       "      <td>1.540804</td>\n",
       "      <td>0.714529</td>\n",
       "      <td>0.6976</td>\n",
       "      <td>0.705289</td>\n",
       "      <td>434</td>\n",
       "      <td>1278</td>\n",
       "      <td>coc_gt_0_ratio &gt; 0.6318272054195404</td>\n",
       "    </tr>\n",
       "  </tbody>\n",
       "</table>\n",
       "</div>"
      ],
      "text/plain": [
       "         Lift  Precision  Recall  F1_score  Hit   Cnt  \\\n",
       "16   1.542010   0.714625  0.6978  0.705445  434  1277   \n",
       "30   1.512402   0.714505  0.6882  0.699586  457  1371   \n",
       "170  1.579920   0.713286  0.7116  0.712434  390  1120   \n",
       "182  1.555508   0.714411  0.7024  0.708002  421  1228   \n",
       "280  1.549377   0.715111  0.6992  0.706462  433  1268   \n",
       "302  1.502093   0.703043  0.7102  0.706476  340  1027   \n",
       "322  1.576730   0.712481  0.7122  0.712340  384  1105   \n",
       "349  1.576814   0.714784  0.7080  0.711258  408  1174   \n",
       "379  1.578496   0.714717  0.7086  0.711549  406  1167   \n",
       "450  1.555820   0.715322  0.7008  0.707477  430  1254   \n",
       "487  1.505695   0.713152  0.6886  0.699339  449  1353   \n",
       "545  1.555820   0.715322  0.7008  0.707477  430  1254   \n",
       "557  1.566006   0.714055  0.7062  0.709951  409  1185   \n",
       "596  1.540804   0.714529  0.6976  0.705289  434  1278   \n",
       "\n",
       "                                Describe  \n",
       "16   coc_gt_0_ratio > 0.6319886744022369  \n",
       "30   coc_gt_0_ratio > 0.6218847036361694  \n",
       "170  coc_gt_0_ratio > 0.6516954004764557  \n",
       "182  coc_gt_0_ratio > 0.6385855972766876  \n",
       "280  coc_gt_0_ratio > 0.6337330937385559  \n",
       "302                     coc_eq_0 <= 37.5  \n",
       "322  coc_gt_0_ratio > 0.6540353000164032  \n",
       "349  coc_gt_0_ratio > 0.6447983086109161  \n",
       "379  coc_gt_0_ratio > 0.6457737982273102  \n",
       "450  coc_gt_0_ratio > 0.6357701420783997  \n",
       "487  coc_gt_0_ratio > 0.6241016089916229  \n",
       "545  coc_gt_0_ratio > 0.6357919275760651  \n",
       "557   coc_gt_0_ratio > 0.643008828163147  \n",
       "596  coc_gt_0_ratio > 0.6318272054195404  "
      ]
     },
     "execution_count": 12,
     "metadata": {},
     "output_type": "execute_result"
    }
   ],
   "source": [
    "metrics1[(metrics1.Lift > 1.5) & (metrics1.Cnt > 1000)]"
   ]
  },
  {
   "cell_type": "code",
   "execution_count": 13,
   "metadata": {
    "ExecuteTime": {
     "end_time": "2018-11-29T11:15:48.723253Z",
     "start_time": "2018-11-29T11:15:48.342142Z"
    }
   },
   "outputs": [],
   "source": [
    "def get_metrics(self, X, y, split=True, average='weighted'):\n",
    "    result = []\n",
    "    # tmp = self.rules_ensemble if cluster else self.conditions_ensemble\n",
    "    tmp = self.conditions_ensemble if split else self.rules_ensemble \n",
    "    for i, rule in enumerate(tmp):\n",
    "        y_pred = rule.transform(X)\n",
    "        describe = rule.get_str()\n",
    "        profile = self._get_metrics(y, y_pred, average=average, describe=describe)\n",
    "        result.append(profile)\n",
    "    desc = pd.DataFrame(result, columns=['Lift', 'Precision', 'Recall', 'F1_score', 'Hit', 'Cnt', 'Describe'])\n",
    "    return desc"
   ]
  },
  {
   "cell_type": "code",
   "execution_count": 13,
   "metadata": {},
   "outputs": [],
   "source": [
    "y_pred = t2r.conditions_ensemble[0].transform(X)"
   ]
  },
  {
   "cell_type": "code",
   "execution_count": 29,
   "metadata": {},
   "outputs": [
    {
     "data": {
      "text/plain": [
       "nan"
      ]
     },
     "execution_count": 29,
     "metadata": {},
     "output_type": "execute_result"
    }
   ],
   "source": [
    "t2r.get_lift(y, y_pred)"
   ]
  },
  {
   "cell_type": "code",
   "execution_count": 30,
   "metadata": {},
   "outputs": [
    {
     "data": {
      "text/plain": [
       "1.1404771394033615"
      ]
     },
     "execution_count": 30,
     "metadata": {},
     "output_type": "execute_result"
    }
   ],
   "source": [
    "((y & y_pred).sum() / y.sum()) / y.mean()"
   ]
  },
  {
   "cell_type": "code",
   "execution_count": 7,
   "metadata": {
    "ExecuteTime": {
     "end_time": "2018-11-16T04:26:49.155857Z",
     "start_time": "2018-11-16T04:26:48.926873Z"
    }
   },
   "outputs": [
    {
     "data": {
      "text/html": [
       "<div>\n",
       "<style scoped>\n",
       "    .dataframe tbody tr th:only-of-type {\n",
       "        vertical-align: middle;\n",
       "    }\n",
       "\n",
       "    .dataframe tbody tr th {\n",
       "        vertical-align: top;\n",
       "    }\n",
       "\n",
       "    .dataframe thead th {\n",
       "        text-align: right;\n",
       "    }\n",
       "</style>\n",
       "<table border=\"1\" class=\"dataframe\">\n",
       "  <thead>\n",
       "    <tr style=\"text-align: right;\">\n",
       "      <th></th>\n",
       "      <th>apply_risk_id_2</th>\n",
       "      <th>14d</th>\n",
       "      <th>apply_risk_created_at</th>\n",
       "      <th>paydayloanlevelonechannelname</th>\n",
       "      <th>individual_gender</th>\n",
       "      <th>baidu_panshi_prea_score</th>\n",
       "      <th>cn_gt_0</th>\n",
       "      <th>cn_gt_0_ratio</th>\n",
       "      <th>coc_eq_0</th>\n",
       "      <th>coc_gt_0</th>\n",
       "      <th>...</th>\n",
       "      <th>i621</th>\n",
       "      <th>i630</th>\n",
       "      <th>xscore</th>\n",
       "      <th>xy_score</th>\n",
       "      <th>ym_large_code</th>\n",
       "      <th>ym_large_score</th>\n",
       "      <th>ym_small_code</th>\n",
       "      <th>ym_small_score</th>\n",
       "      <th>province</th>\n",
       "      <th>user_gray_has_report</th>\n",
       "    </tr>\n",
       "  </thead>\n",
       "  <tbody>\n",
       "    <tr>\n",
       "      <th>0</th>\n",
       "      <td>28762247</td>\n",
       "      <td>0</td>\n",
       "      <td>2018-03-01 17:47:39.0</td>\n",
       "      <td>垂直渠道</td>\n",
       "      <td>1</td>\n",
       "      <td>NaN</td>\n",
       "      <td>NaN</td>\n",
       "      <td>NaN</td>\n",
       "      <td>NaN</td>\n",
       "      <td>NaN</td>\n",
       "      <td>...</td>\n",
       "      <td>NaN</td>\n",
       "      <td>NaN</td>\n",
       "      <td>NaN</td>\n",
       "      <td>NaN</td>\n",
       "      <td>code0</td>\n",
       "      <td>559.0</td>\n",
       "      <td>code0</td>\n",
       "      <td>406.0</td>\n",
       "      <td>湖南省</td>\n",
       "      <td>True</td>\n",
       "    </tr>\n",
       "    <tr>\n",
       "      <th>1</th>\n",
       "      <td>28811909</td>\n",
       "      <td>0</td>\n",
       "      <td>2018-03-03 00:34:43.0</td>\n",
       "      <td>垂直渠道</td>\n",
       "      <td>1</td>\n",
       "      <td>541.0</td>\n",
       "      <td>93.0</td>\n",
       "      <td>0.444976</td>\n",
       "      <td>49.0</td>\n",
       "      <td>160.0</td>\n",
       "      <td>...</td>\n",
       "      <td>0.0</td>\n",
       "      <td>0.0</td>\n",
       "      <td>NaN</td>\n",
       "      <td>0.205521</td>\n",
       "      <td>code0</td>\n",
       "      <td>649.0</td>\n",
       "      <td>code0</td>\n",
       "      <td>479.0</td>\n",
       "      <td>四川省</td>\n",
       "      <td>True</td>\n",
       "    </tr>\n",
       "    <tr>\n",
       "      <th>2</th>\n",
       "      <td>28820305</td>\n",
       "      <td>0</td>\n",
       "      <td>2018-03-03 10:20:14.0</td>\n",
       "      <td>垂直渠道</td>\n",
       "      <td>1</td>\n",
       "      <td>528.0</td>\n",
       "      <td>16.0</td>\n",
       "      <td>0.470588</td>\n",
       "      <td>7.0</td>\n",
       "      <td>27.0</td>\n",
       "      <td>...</td>\n",
       "      <td>0.0</td>\n",
       "      <td>0.0</td>\n",
       "      <td>NaN</td>\n",
       "      <td>NaN</td>\n",
       "      <td>code0</td>\n",
       "      <td>534.0</td>\n",
       "      <td>code0</td>\n",
       "      <td>453.0</td>\n",
       "      <td>河南省</td>\n",
       "      <td>True</td>\n",
       "    </tr>\n",
       "    <tr>\n",
       "      <th>3</th>\n",
       "      <td>28832375</td>\n",
       "      <td>0</td>\n",
       "      <td>2018-03-03 15:15:45.0</td>\n",
       "      <td>APP_iOS</td>\n",
       "      <td>1</td>\n",
       "      <td>514.0</td>\n",
       "      <td>77.0</td>\n",
       "      <td>0.083605</td>\n",
       "      <td>350.0</td>\n",
       "      <td>571.0</td>\n",
       "      <td>...</td>\n",
       "      <td>0.0</td>\n",
       "      <td>0.0</td>\n",
       "      <td>NaN</td>\n",
       "      <td>0.069139</td>\n",
       "      <td>code0</td>\n",
       "      <td>355.0</td>\n",
       "      <td>code0</td>\n",
       "      <td>453.0</td>\n",
       "      <td>江苏省</td>\n",
       "      <td>True</td>\n",
       "    </tr>\n",
       "    <tr>\n",
       "      <th>4</th>\n",
       "      <td>28837776</td>\n",
       "      <td>0</td>\n",
       "      <td>2018-03-03 17:37:27.0</td>\n",
       "      <td>APP_iOS</td>\n",
       "      <td>1</td>\n",
       "      <td>NaN</td>\n",
       "      <td>13.0</td>\n",
       "      <td>0.245283</td>\n",
       "      <td>35.0</td>\n",
       "      <td>18.0</td>\n",
       "      <td>...</td>\n",
       "      <td>0.0</td>\n",
       "      <td>0.0</td>\n",
       "      <td>NaN</td>\n",
       "      <td>0.098113</td>\n",
       "      <td>code108</td>\n",
       "      <td>NaN</td>\n",
       "      <td>code108</td>\n",
       "      <td>NaN</td>\n",
       "      <td>青海省</td>\n",
       "      <td>True</td>\n",
       "    </tr>\n",
       "  </tbody>\n",
       "</table>\n",
       "<p>5 rows × 60 columns</p>\n",
       "</div>"
      ],
      "text/plain": [
       "  apply_risk_id_2  14d  apply_risk_created_at paydayloanlevelonechannelname  \\\n",
       "0        28762247    0  2018-03-01 17:47:39.0                          垂直渠道   \n",
       "1        28811909    0  2018-03-03 00:34:43.0                          垂直渠道   \n",
       "2        28820305    0  2018-03-03 10:20:14.0                          垂直渠道   \n",
       "3        28832375    0  2018-03-03 15:15:45.0                       APP_iOS   \n",
       "4        28837776    0  2018-03-03 17:37:27.0                       APP_iOS   \n",
       "\n",
       "   individual_gender  baidu_panshi_prea_score  cn_gt_0  cn_gt_0_ratio  \\\n",
       "0                  1                      NaN      NaN            NaN   \n",
       "1                  1                    541.0     93.0       0.444976   \n",
       "2                  1                    528.0     16.0       0.470588   \n",
       "3                  1                    514.0     77.0       0.083605   \n",
       "4                  1                      NaN     13.0       0.245283   \n",
       "\n",
       "   coc_eq_0  coc_gt_0          ...           i621  i630  xscore  xy_score  \\\n",
       "0       NaN       NaN          ...            NaN   NaN     NaN       NaN   \n",
       "1      49.0     160.0          ...            0.0   0.0     NaN  0.205521   \n",
       "2       7.0      27.0          ...            0.0   0.0     NaN       NaN   \n",
       "3     350.0     571.0          ...            0.0   0.0     NaN  0.069139   \n",
       "4      35.0      18.0          ...            0.0   0.0     NaN  0.098113   \n",
       "\n",
       "   ym_large_code  ym_large_score  ym_small_code  ym_small_score  province  \\\n",
       "0          code0           559.0          code0           406.0       湖南省   \n",
       "1          code0           649.0          code0           479.0       四川省   \n",
       "2          code0           534.0          code0           453.0       河南省   \n",
       "3          code0           355.0          code0           453.0       江苏省   \n",
       "4        code108             NaN        code108             NaN       青海省   \n",
       "\n",
       "   user_gray_has_report  \n",
       "0                  True  \n",
       "1                  True  \n",
       "2                  True  \n",
       "3                  True  \n",
       "4                  True  \n",
       "\n",
       "[5 rows x 60 columns]"
      ]
     },
     "execution_count": 7,
     "metadata": {},
     "output_type": "execute_result"
    }
   ],
   "source": [
    "df[fea_in].to_pickle('mlearn/data/20181115_chaintest_data.pkl')\n",
    "df[fea_in].head()"
   ]
  },
  {
   "cell_type": "code",
   "execution_count": 8,
   "metadata": {
    "ExecuteTime": {
     "end_time": "2018-11-16T04:26:49.414022Z",
     "start_time": "2018-11-16T04:26:49.158466Z"
    }
   },
   "outputs": [
    {
     "data": {
      "text/html": [
       "<div>\n",
       "<style scoped>\n",
       "    .dataframe tbody tr th:only-of-type {\n",
       "        vertical-align: middle;\n",
       "    }\n",
       "\n",
       "    .dataframe tbody tr th {\n",
       "        vertical-align: top;\n",
       "    }\n",
       "\n",
       "    .dataframe thead th {\n",
       "        text-align: right;\n",
       "    }\n",
       "</style>\n",
       "<table border=\"1\" class=\"dataframe\">\n",
       "  <thead>\n",
       "    <tr style=\"text-align: right;\">\n",
       "      <th></th>\n",
       "      <th>apply_risk_id_2</th>\n",
       "      <th>14d</th>\n",
       "      <th>apply_risk_created_at</th>\n",
       "      <th>paydayloanlevelonechannelname</th>\n",
       "      <th>individual_gender</th>\n",
       "      <th>baidu_panshi_prea_score</th>\n",
       "      <th>cn_gt_0</th>\n",
       "      <th>cn_gt_0_ratio</th>\n",
       "      <th>coc_eq_0</th>\n",
       "      <th>coc_gt_0</th>\n",
       "      <th>...</th>\n",
       "      <th>i621</th>\n",
       "      <th>i630</th>\n",
       "      <th>xscore</th>\n",
       "      <th>xy_score</th>\n",
       "      <th>ym_large_code</th>\n",
       "      <th>ym_large_score</th>\n",
       "      <th>ym_small_code</th>\n",
       "      <th>ym_small_score</th>\n",
       "      <th>province</th>\n",
       "      <th>user_gray_has_report</th>\n",
       "    </tr>\n",
       "  </thead>\n",
       "  <tbody>\n",
       "    <tr>\n",
       "      <th>0</th>\n",
       "      <td>28762247</td>\n",
       "      <td>0</td>\n",
       "      <td>2018-03-01 17:47:39.0</td>\n",
       "      <td>垂直渠道</td>\n",
       "      <td>1</td>\n",
       "      <td>NaN</td>\n",
       "      <td>NaN</td>\n",
       "      <td>NaN</td>\n",
       "      <td>NaN</td>\n",
       "      <td>NaN</td>\n",
       "      <td>...</td>\n",
       "      <td>NaN</td>\n",
       "      <td>NaN</td>\n",
       "      <td>NaN</td>\n",
       "      <td>NaN</td>\n",
       "      <td>code0</td>\n",
       "      <td>559.0</td>\n",
       "      <td>code0</td>\n",
       "      <td>406.0</td>\n",
       "      <td>湖南省</td>\n",
       "      <td>True</td>\n",
       "    </tr>\n",
       "    <tr>\n",
       "      <th>1</th>\n",
       "      <td>28811909</td>\n",
       "      <td>0</td>\n",
       "      <td>2018-03-03 00:34:43.0</td>\n",
       "      <td>垂直渠道</td>\n",
       "      <td>1</td>\n",
       "      <td>541.0</td>\n",
       "      <td>93.0</td>\n",
       "      <td>0.444976</td>\n",
       "      <td>49.0</td>\n",
       "      <td>160.0</td>\n",
       "      <td>...</td>\n",
       "      <td>0.0</td>\n",
       "      <td>0.0</td>\n",
       "      <td>NaN</td>\n",
       "      <td>0.205521</td>\n",
       "      <td>code0</td>\n",
       "      <td>649.0</td>\n",
       "      <td>code0</td>\n",
       "      <td>479.0</td>\n",
       "      <td>四川省</td>\n",
       "      <td>True</td>\n",
       "    </tr>\n",
       "    <tr>\n",
       "      <th>2</th>\n",
       "      <td>28820305</td>\n",
       "      <td>0</td>\n",
       "      <td>2018-03-03 10:20:14.0</td>\n",
       "      <td>垂直渠道</td>\n",
       "      <td>1</td>\n",
       "      <td>528.0</td>\n",
       "      <td>16.0</td>\n",
       "      <td>0.470588</td>\n",
       "      <td>7.0</td>\n",
       "      <td>27.0</td>\n",
       "      <td>...</td>\n",
       "      <td>0.0</td>\n",
       "      <td>0.0</td>\n",
       "      <td>NaN</td>\n",
       "      <td>NaN</td>\n",
       "      <td>code0</td>\n",
       "      <td>534.0</td>\n",
       "      <td>code0</td>\n",
       "      <td>453.0</td>\n",
       "      <td>河南省</td>\n",
       "      <td>True</td>\n",
       "    </tr>\n",
       "    <tr>\n",
       "      <th>3</th>\n",
       "      <td>28832375</td>\n",
       "      <td>0</td>\n",
       "      <td>2018-03-03 15:15:45.0</td>\n",
       "      <td>APP_iOS</td>\n",
       "      <td>1</td>\n",
       "      <td>514.0</td>\n",
       "      <td>77.0</td>\n",
       "      <td>0.083605</td>\n",
       "      <td>350.0</td>\n",
       "      <td>571.0</td>\n",
       "      <td>...</td>\n",
       "      <td>0.0</td>\n",
       "      <td>0.0</td>\n",
       "      <td>NaN</td>\n",
       "      <td>0.069139</td>\n",
       "      <td>code0</td>\n",
       "      <td>355.0</td>\n",
       "      <td>code0</td>\n",
       "      <td>453.0</td>\n",
       "      <td>江苏省</td>\n",
       "      <td>True</td>\n",
       "    </tr>\n",
       "    <tr>\n",
       "      <th>4</th>\n",
       "      <td>28837776</td>\n",
       "      <td>0</td>\n",
       "      <td>2018-03-03 17:37:27.0</td>\n",
       "      <td>APP_iOS</td>\n",
       "      <td>1</td>\n",
       "      <td>NaN</td>\n",
       "      <td>13.0</td>\n",
       "      <td>0.245283</td>\n",
       "      <td>35.0</td>\n",
       "      <td>18.0</td>\n",
       "      <td>...</td>\n",
       "      <td>0.0</td>\n",
       "      <td>0.0</td>\n",
       "      <td>NaN</td>\n",
       "      <td>0.098113</td>\n",
       "      <td>code108</td>\n",
       "      <td>NaN</td>\n",
       "      <td>code108</td>\n",
       "      <td>NaN</td>\n",
       "      <td>青海省</td>\n",
       "      <td>True</td>\n",
       "    </tr>\n",
       "  </tbody>\n",
       "</table>\n",
       "<p>5 rows × 60 columns</p>\n",
       "</div>"
      ],
      "text/plain": [
       "  apply_risk_id_2  14d  apply_risk_created_at paydayloanlevelonechannelname  \\\n",
       "0        28762247    0  2018-03-01 17:47:39.0                          垂直渠道   \n",
       "1        28811909    0  2018-03-03 00:34:43.0                          垂直渠道   \n",
       "2        28820305    0  2018-03-03 10:20:14.0                          垂直渠道   \n",
       "3        28832375    0  2018-03-03 15:15:45.0                       APP_iOS   \n",
       "4        28837776    0  2018-03-03 17:37:27.0                       APP_iOS   \n",
       "\n",
       "   individual_gender  baidu_panshi_prea_score  cn_gt_0  cn_gt_0_ratio  \\\n",
       "0                  1                      NaN      NaN            NaN   \n",
       "1                  1                    541.0     93.0       0.444976   \n",
       "2                  1                    528.0     16.0       0.470588   \n",
       "3                  1                    514.0     77.0       0.083605   \n",
       "4                  1                      NaN     13.0       0.245283   \n",
       "\n",
       "   coc_eq_0  coc_gt_0          ...           i621  i630  xscore  xy_score  \\\n",
       "0       NaN       NaN          ...            NaN   NaN     NaN       NaN   \n",
       "1      49.0     160.0          ...            0.0   0.0     NaN  0.205521   \n",
       "2       7.0      27.0          ...            0.0   0.0     NaN       NaN   \n",
       "3     350.0     571.0          ...            0.0   0.0     NaN  0.069139   \n",
       "4      35.0      18.0          ...            0.0   0.0     NaN  0.098113   \n",
       "\n",
       "   ym_large_code  ym_large_score  ym_small_code  ym_small_score  province  \\\n",
       "0          code0           559.0          code0           406.0       湖南省   \n",
       "1          code0           649.0          code0           479.0       四川省   \n",
       "2          code0           534.0          code0           453.0       河南省   \n",
       "3          code0           355.0          code0           453.0       江苏省   \n",
       "4        code108             NaN        code108             NaN       青海省   \n",
       "\n",
       "   user_gray_has_report  \n",
       "0                  True  \n",
       "1                  True  \n",
       "2                  True  \n",
       "3                  True  \n",
       "4                  True  \n",
       "\n",
       "[5 rows x 60 columns]"
      ]
     },
     "execution_count": 8,
     "metadata": {},
     "output_type": "execute_result"
    }
   ],
   "source": [
    "df = pd.read_pickle('/Users/Chenson/Dropbox/Github/mlearn/mlearn/data/20181115_chaintest_data.pkl')\n",
    "df.head()"
   ]
  },
  {
   "cell_type": "markdown",
   "metadata": {},
   "source": [
    "# Chain-Test"
   ]
  },
  {
   "cell_type": "code",
   "execution_count": 7,
   "metadata": {
    "ExecuteTime": {
     "end_time": "2018-11-28T09:49:31.026266Z",
     "start_time": "2018-11-28T09:49:30.212726Z"
    }
   },
   "outputs": [
    {
     "data": {
      "text/plain": [
       "(14999, 60)"
      ]
     },
     "execution_count": 7,
     "metadata": {},
     "output_type": "execute_result"
    },
    {
     "data": {
      "text/html": [
       "<div>\n",
       "<style scoped>\n",
       "    .dataframe tbody tr th:only-of-type {\n",
       "        vertical-align: middle;\n",
       "    }\n",
       "\n",
       "    .dataframe tbody tr th {\n",
       "        vertical-align: top;\n",
       "    }\n",
       "\n",
       "    .dataframe thead th {\n",
       "        text-align: right;\n",
       "    }\n",
       "</style>\n",
       "<table border=\"1\" class=\"dataframe\">\n",
       "  <thead>\n",
       "    <tr style=\"text-align: right;\">\n",
       "      <th></th>\n",
       "      <th>apply_risk_id_2</th>\n",
       "      <th>14d</th>\n",
       "      <th>apply_risk_created_at</th>\n",
       "      <th>paydayloanlevelonechannelname</th>\n",
       "      <th>individual_gender</th>\n",
       "      <th>baidu_panshi_prea_score</th>\n",
       "      <th>cn_gt_0</th>\n",
       "      <th>cn_gt_0_ratio</th>\n",
       "      <th>coc_eq_0</th>\n",
       "      <th>coc_gt_0</th>\n",
       "      <th>...</th>\n",
       "      <th>i621</th>\n",
       "      <th>i630</th>\n",
       "      <th>xscore</th>\n",
       "      <th>xy_score</th>\n",
       "      <th>ym_large_code</th>\n",
       "      <th>ym_large_score</th>\n",
       "      <th>ym_small_code</th>\n",
       "      <th>ym_small_score</th>\n",
       "      <th>province</th>\n",
       "      <th>user_gray_has_report</th>\n",
       "    </tr>\n",
       "  </thead>\n",
       "  <tbody>\n",
       "    <tr>\n",
       "      <th>0</th>\n",
       "      <td>28762247</td>\n",
       "      <td>0</td>\n",
       "      <td>2018-03-01 17:47:39.0</td>\n",
       "      <td>垂直渠道</td>\n",
       "      <td>1</td>\n",
       "      <td>NaN</td>\n",
       "      <td>NaN</td>\n",
       "      <td>NaN</td>\n",
       "      <td>NaN</td>\n",
       "      <td>NaN</td>\n",
       "      <td>...</td>\n",
       "      <td>NaN</td>\n",
       "      <td>NaN</td>\n",
       "      <td>NaN</td>\n",
       "      <td>NaN</td>\n",
       "      <td>code0</td>\n",
       "      <td>559.0</td>\n",
       "      <td>code0</td>\n",
       "      <td>406.0</td>\n",
       "      <td>湖南省</td>\n",
       "      <td>True</td>\n",
       "    </tr>\n",
       "    <tr>\n",
       "      <th>1</th>\n",
       "      <td>28811909</td>\n",
       "      <td>0</td>\n",
       "      <td>2018-03-03 00:34:43.0</td>\n",
       "      <td>垂直渠道</td>\n",
       "      <td>1</td>\n",
       "      <td>541.0</td>\n",
       "      <td>93.0</td>\n",
       "      <td>0.444976</td>\n",
       "      <td>49.0</td>\n",
       "      <td>160.0</td>\n",
       "      <td>...</td>\n",
       "      <td>0.0</td>\n",
       "      <td>0.0</td>\n",
       "      <td>NaN</td>\n",
       "      <td>0.205521</td>\n",
       "      <td>code0</td>\n",
       "      <td>649.0</td>\n",
       "      <td>code0</td>\n",
       "      <td>479.0</td>\n",
       "      <td>四川省</td>\n",
       "      <td>True</td>\n",
       "    </tr>\n",
       "    <tr>\n",
       "      <th>2</th>\n",
       "      <td>28820305</td>\n",
       "      <td>0</td>\n",
       "      <td>2018-03-03 10:20:14.0</td>\n",
       "      <td>垂直渠道</td>\n",
       "      <td>1</td>\n",
       "      <td>528.0</td>\n",
       "      <td>16.0</td>\n",
       "      <td>0.470588</td>\n",
       "      <td>7.0</td>\n",
       "      <td>27.0</td>\n",
       "      <td>...</td>\n",
       "      <td>0.0</td>\n",
       "      <td>0.0</td>\n",
       "      <td>NaN</td>\n",
       "      <td>NaN</td>\n",
       "      <td>code0</td>\n",
       "      <td>534.0</td>\n",
       "      <td>code0</td>\n",
       "      <td>453.0</td>\n",
       "      <td>河南省</td>\n",
       "      <td>True</td>\n",
       "    </tr>\n",
       "    <tr>\n",
       "      <th>3</th>\n",
       "      <td>28832375</td>\n",
       "      <td>0</td>\n",
       "      <td>2018-03-03 15:15:45.0</td>\n",
       "      <td>APP_iOS</td>\n",
       "      <td>1</td>\n",
       "      <td>514.0</td>\n",
       "      <td>77.0</td>\n",
       "      <td>0.083605</td>\n",
       "      <td>350.0</td>\n",
       "      <td>571.0</td>\n",
       "      <td>...</td>\n",
       "      <td>0.0</td>\n",
       "      <td>0.0</td>\n",
       "      <td>NaN</td>\n",
       "      <td>0.069139</td>\n",
       "      <td>code0</td>\n",
       "      <td>355.0</td>\n",
       "      <td>code0</td>\n",
       "      <td>453.0</td>\n",
       "      <td>江苏省</td>\n",
       "      <td>True</td>\n",
       "    </tr>\n",
       "    <tr>\n",
       "      <th>4</th>\n",
       "      <td>28837776</td>\n",
       "      <td>0</td>\n",
       "      <td>2018-03-03 17:37:27.0</td>\n",
       "      <td>APP_iOS</td>\n",
       "      <td>1</td>\n",
       "      <td>NaN</td>\n",
       "      <td>13.0</td>\n",
       "      <td>0.245283</td>\n",
       "      <td>35.0</td>\n",
       "      <td>18.0</td>\n",
       "      <td>...</td>\n",
       "      <td>0.0</td>\n",
       "      <td>0.0</td>\n",
       "      <td>NaN</td>\n",
       "      <td>0.098113</td>\n",
       "      <td>code108</td>\n",
       "      <td>NaN</td>\n",
       "      <td>code108</td>\n",
       "      <td>NaN</td>\n",
       "      <td>青海省</td>\n",
       "      <td>True</td>\n",
       "    </tr>\n",
       "  </tbody>\n",
       "</table>\n",
       "<p>5 rows × 60 columns</p>\n",
       "</div>"
      ],
      "text/plain": [
       "  apply_risk_id_2  14d  apply_risk_created_at paydayloanlevelonechannelname  \\\n",
       "0        28762247    0  2018-03-01 17:47:39.0                          垂直渠道   \n",
       "1        28811909    0  2018-03-03 00:34:43.0                          垂直渠道   \n",
       "2        28820305    0  2018-03-03 10:20:14.0                          垂直渠道   \n",
       "3        28832375    0  2018-03-03 15:15:45.0                       APP_iOS   \n",
       "4        28837776    0  2018-03-03 17:37:27.0                       APP_iOS   \n",
       "\n",
       "   individual_gender  baidu_panshi_prea_score  cn_gt_0  cn_gt_0_ratio  \\\n",
       "0                  1                      NaN      NaN            NaN   \n",
       "1                  1                    541.0     93.0       0.444976   \n",
       "2                  1                    528.0     16.0       0.470588   \n",
       "3                  1                    514.0     77.0       0.083605   \n",
       "4                  1                      NaN     13.0       0.245283   \n",
       "\n",
       "   coc_eq_0  coc_gt_0          ...           i621  i630  xscore  xy_score  \\\n",
       "0       NaN       NaN          ...            NaN   NaN     NaN       NaN   \n",
       "1      49.0     160.0          ...            0.0   0.0     NaN  0.205521   \n",
       "2       7.0      27.0          ...            0.0   0.0     NaN       NaN   \n",
       "3     350.0     571.0          ...            0.0   0.0     NaN  0.069139   \n",
       "4      35.0      18.0          ...            0.0   0.0     NaN  0.098113   \n",
       "\n",
       "   ym_large_code  ym_large_score  ym_small_code  ym_small_score  province  \\\n",
       "0          code0           559.0          code0           406.0       湖南省   \n",
       "1          code0           649.0          code0           479.0       四川省   \n",
       "2          code0           534.0          code0           453.0       河南省   \n",
       "3          code0           355.0          code0           453.0       江苏省   \n",
       "4        code108             NaN        code108             NaN       青海省   \n",
       "\n",
       "   user_gray_has_report  \n",
       "0                  True  \n",
       "1                  True  \n",
       "2                  True  \n",
       "3                  True  \n",
       "4                  True  \n",
       "\n",
       "[5 rows x 60 columns]"
      ]
     },
     "execution_count": 7,
     "metadata": {},
     "output_type": "execute_result"
    }
   ],
   "source": [
    "df = pd.read_pickle('/Users/Chenson/Dropbox/Github/mlearn/mlearn/data/20181115_chaintest_data.pkl')\n",
    "df.shape\n",
    "df.head()"
   ]
  },
  {
   "cell_type": "code",
   "execution_count": 22,
   "metadata": {
    "ExecuteTime": {
     "end_time": "2018-11-28T11:21:15.978216Z",
     "start_time": "2018-11-28T11:21:15.651559Z"
    },
    "code_folding": []
   },
   "outputs": [],
   "source": [
    "_TARGET_ = 'overdue_days'\n",
    "_INDEX_ = 'apply_risk_id'\n",
    "\n",
    "# _TARGET_ = '14d'\n",
    "# _INDEX_ = 'apply_risk_id_2'\n",
    "\n",
    "file_path = '/Users/Chenson/Dropbox/Github/mlearn/mlearn/data/xk_v4_data.pkl'\n",
    "# file_path = '/Users/Chenson/Dropbox/Github/mlearn/mlearn/data/20181115_chaintest_data.pkl'\n",
    "\n",
    "params = {'filter': {'ds': {'label': {'name': '14d', 'type': 'number'},\n",
    "                            'test': '/Users/Chenson/dev/flow_0/transformer/test/transformer_result.pkl',\n",
    "                            'train': '/Users/Chenson/dev/flow_0/transformer/train/transformer_result.pkl'},\n",
    "                     'out': {'dst': '/Users/Chenson/dev/flow_0/filter'},\n",
    "                     'st': [\n",
    "    {\n",
    "        \"method\": \"StableFilter\",\n",
    "        \"params\": {\n",
    "            \"indice_name\": \"psi\",\n",
    "            \"indice_thr\": 0.2\n",
    "        }},\n",
    "    {\n",
    "        \"method\": \"SklearnFilter\",\n",
    "        \"params\": {\n",
    "            \"method\": \"RFEFilter\",\n",
    "            # \"method\": \"SelectFromModel\",\n",
    "            \"params\": {\n",
    "                \"estimator\": {\"estimator\": \"LogisticRegression\", \"params\": {}},\n",
    "                \"n_features_to_select\": 10,\n",
    "                # \"method\" : \"stepwise_coef\",\n",
    "                \"verbose\": True,\n",
    "                # \"method\" : \"coef\"\n",
    "                \"method\": \"stepwise\"\n",
    "            }\n",
    "        }}]\n",
    "},\n",
    "    'optimizer': {'ds': {'label': {'name': '14d', 'type': 'number'},\n",
    "                         'test': '/Users/Chenson/dev/flow_0/filter/test/filter_result.pkl',\n",
    "                         'train': '/Users/Chenson/dev/flow_0/filter/train/filter_result.pkl'},\n",
    "                  'out': {'dst': '/Users/Chenson/dev/flow_0/optimizer'},\n",
    "                  'st': {'method': 'XGBClassifier',\n",
    "                         'n_folds': 0,\n",
    "                         'opt_method': 'BayesianOptimizer',\n",
    "                         'opt_params': {'acq': 'ucb',\n",
    "                                        'alpha': 0.0001,\n",
    "                                        'init_points': 1,\n",
    "                                        'kappa': 2.576,\n",
    "                                        'n_iter': 1},\n",
    "                         'params': {'gamma': [0, 1],\n",
    "                                    'learning_rate': [0.001, 0.8],\n",
    "                                    'max_depth': [2, 8],\n",
    "                                    'n_estimators': [100, 2000],\n",
    "                                    'reg_lambda': [0, 40]},\n",
    "                         'score_func': 'roc_auc',\n",
    "                         'test_size': 0.2}},\n",
    "    'spliter': {'ds': {'label': {'name': '14d', 'type': 'number'},\n",
    "                       'table': file_path,\n",
    "                       'test': None,\n",
    "                       'train': None},\n",
    "                'out': {'dst': '/Users/Chenson/dev/flow_0/spliter'},\n",
    "                'st': {'index_col': _INDEX_,\n",
    "                       'label_col': _TARGET_,\n",
    "                       'method': 'oot',\n",
    "                       'random_state': 42,\n",
    "                       'test_size': 0.1,\n",
    "                       'time_col': 'apply_risk_created_at'}},\n",
    "    'trainer': {'ds': {'label': {'name': '14d', 'type': 'number'},\n",
    "                       'test': '/Users/Chenson/dev/flow_0/filter/test/filter_result.pkl',\n",
    "                       'train': '/Users/Chenson/dev/flow_0/filter/train/filter_result.pkl'},\n",
    "                'out': {'dst': '/Users/Chenson/dev/flow_0/trainer'},\n",
    "                'st': {'method': 'XGBClassifier',\n",
    "                       'n_folds': 5,\n",
    "                       'oversample': False,\n",
    "                       'params': {'base_score': 0.5,\n",
    "                                  'booster': 'gbtree',\n",
    "                                  'colsample_bylevel': 0.8,\n",
    "                                  'colsample_bytree': 0.8,\n",
    "                                  'early_stopping_rounds': 30,\n",
    "                                  'eval_metric': 'auc',\n",
    "                                  'gamma': 0.5,\n",
    "                                  'learning_rate': 0.1,\n",
    "                                  'max_delta_step': 0,\n",
    "                                  'max_depth': 3,\n",
    "                                  'min_child_weight': 10,\n",
    "                                  'n_estimators': 1000,\n",
    "                                  'n_jobs': 1,\n",
    "                                  'objective': 'binary:logistic',\n",
    "                                  'random_state': 0,\n",
    "                                  'reg_alpha': 1,\n",
    "                                  'reg_lambda': 20,\n",
    "                                  'scale_pos_weight': 1,\n",
    "                                  'silent': True,\n",
    "                                  'subsample': 0.7,\n",
    "                                  'verbose': False},\n",
    "                       'random_state': 42,\n",
    "                       'test_size': 0,\n",
    "                       'verbose': True}},\n",
    "    'transformer': {'ds': {'label': {'name': '14d', 'type': 'number'},\n",
    "                           'test': '/Users/Chenson/dev/flow_0/spliter/test/spliter_result.pkl',\n",
    "                           'train': '/Users/Chenson/dev/flow_0/spliter/train/spliter_result.pkl'},\n",
    "                    'out': {'dst': '/Users/Chenson/dev/flow_0/transformer'},\n",
    "                    'st': {'cate': [{'cols': [],\n",
    "                                     'encoders': [{'method': 'BaseEncoder',\n",
    "                                                   'params': {'cate_thr': 0.5, 'missing_thr': 0.8, 'same_thr': 0.9}},\n",
    "                                                  {'method': 'CountEncoder',\n",
    "                                                   'params': {'log_transform': True,\n",
    "                                                              'smoothing': 1,\n",
    "                                                              'unseen_value': 1}}]}],\n",
    "                           'cont': [{'cols': [],\n",
    "                                     'encoders': [{'method': 'BaseEncoder',\n",
    "                                                   'params': {'cate_thr': 0.5, 'missing_thr': 0.8, 'same_thr': 0.9}},\n",
    "                                                  {'method': 'ContImputerEncoder',\n",
    "                                                   'params': {'axis': 0,\n",
    "                                                              'missing_values': 'NaN',\n",
    "                                                              'strategy': 'mean',\n",
    "                                                              'verbose': 0}},\n",
    "                                                  {'method': 'ReduceGen',\n",
    "                                                   'params': {'method': 'KMeans', 'method_params': {'n_clusters': 5}}},\n",
    "                                                  {'method': 'ContBinningEncoder',\n",
    "                                                   'params': {'binning_method': 'dt', 'bins': 10, 'diff_thr': 20}},\n",
    "                                                  {'method': 'WOEEncoder',\n",
    "                                                   'params': {'diff_thr': 20,\n",
    "                                                              'nan_thr': 0.01,\n",
    "                                                              'woe_max': 20,\n",
    "                                                              'woe_min': -20}}]}],\n",
    "                           'custom': [],\n",
    "                           'method': 'auto',\n",
    "                           'params': {'thr': 5},\n",
    "                           'verbose': True}}}"
   ]
  },
  {
   "cell_type": "code",
   "execution_count": 23,
   "metadata": {
    "ExecuteTime": {
     "end_time": "2018-11-28T11:22:41.449382Z",
     "start_time": "2018-11-28T11:21:16.899497Z"
    }
   },
   "outputs": [
    {
     "name": "stdout",
     "output_type": "stream",
     "text": [
      "start overdue_days --------------\n",
      "start apply_risk_created_at --------------\n",
      "start paydayloanlevelonechannelname --------------\n",
      "start individual_gender --------------\n",
      "start baidu_panshi_prea_score --------------\n",
      "start cn_gt_0 --------------\n",
      "start cn_gt_0_ratio --------------\n",
      "start coc_eq_0 --------------\n",
      "start coc_gt_0 --------------\n",
      "start coc_gt_0_ratio --------------\n",
      "start consumer_label_if_own_cc --------------\n",
      "start consumer_label_if_pay_ins --------------\n",
      "start equipmentos --------------\n",
      "start fbi_score --------------\n",
      "start hds_score --------------\n",
      "start i011 --------------\n",
      "start i012 --------------\n",
      "start i013 --------------\n",
      "start i031 --------------\n",
      "start xscore --------------\n",
      "start xy_score --------------\n",
      "start ym_large_code --------------\n",
      "start ym_large_score --------------\n",
      "start ym_small_code --------------\n",
      "start ym_small_score --------------\n",
      "start province --------------\n",
      "start user_gray_has_report --------------\n",
      "start 14d --------------\n"
     ]
    },
    {
     "name": "stderr",
     "output_type": "stream",
     "text": [
      "/Users/Chenson/Dropbox/Github/mlearn/mlearn/service/reporter/feature_explore.py:271: FutureWarning: Sorting because non-concatenation axis is not aligned. A future version\n",
      "of pandas will change to not sort by default.\n",
      "\n",
      "To accept the future behavior, pass 'sort=False'.\n",
      "\n",
      "To retain the current behavior and silence the warning, pass 'sort=True'.\n",
      "\n",
      "  t = pd.concat([t0, t3, t1, t2, t4], axis=1)\n"
     ]
    },
    {
     "name": "stdout",
     "output_type": "stream",
     "text": [
      "start overdue_days --------------\n",
      "start apply_risk_created_at --------------\n",
      "start paydayloanlevelonechannelname --------------\n",
      "start individual_gender --------------\n",
      "start baidu_panshi_prea_score --------------\n",
      "start cn_gt_0 --------------\n",
      "start cn_gt_0_ratio --------------\n",
      "start coc_eq_0 --------------\n",
      "start coc_gt_0 --------------\n",
      "start coc_gt_0_ratio --------------\n",
      "start consumer_label_if_own_cc --------------\n",
      "start consumer_label_if_pay_ins --------------\n",
      "start equipmentos --------------\n",
      "start fbi_score --------------\n",
      "start hds_score --------------\n",
      "start i011 --------------\n",
      "start i012 --------------\n",
      "start i013 --------------\n",
      "start i031 --------------\n",
      "start xscore --------------\n",
      "start xy_score --------------\n",
      "start ym_large_code --------------\n",
      "start ym_large_score --------------\n",
      "start ym_small_code --------------\n",
      "start ym_small_score --------------\n",
      "start province --------------\n",
      "start user_gray_has_report --------------\n",
      "start 14d --------------\n"
     ]
    },
    {
     "name": "stderr",
     "output_type": "stream",
     "text": [
      "/Users/Chenson/Dropbox/Github/mlearn/mlearn/service/reporter/feature_explore.py:271: FutureWarning: Sorting because non-concatenation axis is not aligned. A future version\n",
      "of pandas will change to not sort by default.\n",
      "\n",
      "To accept the future behavior, pass 'sort=False'.\n",
      "\n",
      "To retain the current behavior and silence the warning, pass 'sort=True'.\n",
      "\n",
      "  t = pd.concat([t0, t3, t1, t2, t4], axis=1)\n",
      "/Users/Chenson/Dropbox/Github/mlearn/mlearn/service/reporter/feature_evaluation.py:251: FutureWarning: elementwise comparison failed; returning scalar instead, but in the future will perform elementwise comparison\n",
      "  while missing in dfs.values:\n"
     ]
    },
    {
     "name": "stdout",
     "output_type": "stream",
     "text": [
      "start---- Index(['paydayloanlevelonechannelname', 'individual_gender',\n",
      "       'consumer_label_if_own_cc', 'consumer_label_if_pay_ins', 'equipmentos',\n",
      "       'ym_large_code', 'ym_small_code', 'province', 'user_gray_has_report'],\n",
      "      dtype='object')\n",
      "BaseEncoder\n",
      "start---- Index(['paydayloanlevelonechannelname', 'individual_gender',\n",
      "       'consumer_label_if_own_cc', 'consumer_label_if_pay_ins', 'equipmentos',\n",
      "       'ym_large_code', 'ym_small_code', 'province', 'user_gray_has_report'],\n",
      "      dtype='object')\n",
      "CountEncoder\n",
      "start---- Index(['baidu_panshi_prea_score', 'cn_gt_0', 'cn_gt_0_ratio', 'coc_eq_0',\n",
      "       'coc_gt_0', 'coc_gt_0_ratio', 'fbi_score', 'hds_score', 'i011', 'i012',\n",
      "       'i013', 'i031', 'xscore', 'xy_score', 'ym_large_score',\n",
      "       'ym_small_score'],\n",
      "      dtype='object')\n",
      "BaseEncoder\n",
      "start---- Index(['baidu_panshi_prea_score', 'cn_gt_0', 'cn_gt_0_ratio', 'coc_eq_0',\n",
      "       'coc_gt_0', 'coc_gt_0_ratio', 'fbi_score', 'hds_score', 'i011', 'i013',\n",
      "       'i031', 'xscore', 'xy_score', 'ym_large_score', 'ym_small_score'],\n",
      "      dtype='object')\n",
      "ContImputerEncoder\n",
      "start---- Index(['baidu_panshi_prea_score', 'cn_gt_0', 'cn_gt_0_ratio', 'coc_eq_0',\n",
      "       'coc_gt_0', 'coc_gt_0_ratio', 'fbi_score', 'hds_score', 'i011', 'i013',\n",
      "       'i031', 'xscore', 'xy_score', 'ym_large_score', 'ym_small_score'],\n",
      "      dtype='object')\n",
      "ReduceGen\n"
     ]
    },
    {
     "name": "stderr",
     "output_type": "stream",
     "text": [
      "/Users/Chenson/anaconda3/lib/python3.6/site-packages/sklearn/utils/deprecation.py:58: DeprecationWarning: Class Imputer is deprecated; Imputer was deprecated in version 0.20 and will be removed in 0.22. Import impute.SimpleImputer from sklearn instead.\n",
      "  warnings.warn(msg, category=DeprecationWarning)\n",
      "/Users/Chenson/anaconda3/lib/python3.6/site-packages/sklearn/utils/deprecation.py:58: DeprecationWarning: Class Imputer is deprecated; Imputer was deprecated in version 0.20 and will be removed in 0.22. Import impute.SimpleImputer from sklearn instead.\n",
      "  warnings.warn(msg, category=DeprecationWarning)\n"
     ]
    },
    {
     "name": "stdout",
     "output_type": "stream",
     "text": [
      "start---- Index(['baidu_panshi_prea_score', 'cn_gt_0', 'cn_gt_0_ratio', 'coc_eq_0',\n",
      "       'coc_gt_0', 'coc_gt_0_ratio', 'fbi_score', 'hds_score', 'i011', 'i013',\n",
      "       'i031', 'xscore', 'xy_score', 'ym_large_score', 'ym_small_score',\n",
      "       'KMeans_0', 'KMeans_1', 'KMeans_2', 'KMeans_3', 'KMeans_4'],\n",
      "      dtype='object')\n",
      "ContBinningEncoder\n",
      "start---- Index(['baidu_panshi_prea_score_bin', 'cn_gt_0_bin', 'cn_gt_0_ratio_bin',\n",
      "       'coc_eq_0_bin', 'coc_gt_0_bin', 'coc_gt_0_ratio_bin', 'fbi_score_bin',\n",
      "       'hds_score_bin', 'i011_bin', 'i013_bin', 'i031_bin', 'xscore_bin',\n",
      "       'xy_score_bin', 'ym_large_score_bin', 'ym_small_score_bin',\n",
      "       'KMeans_0_bin', 'KMeans_1_bin', 'KMeans_2_bin', 'KMeans_3_bin',\n",
      "       'KMeans_4_bin'],\n",
      "      dtype='object')\n",
      "WOEEncoder\n",
      "start---- Index(['paydayloanlevelonechannelname', 'individual_gender',\n",
      "       'consumer_label_if_own_cc', 'consumer_label_if_pay_ins', 'equipmentos',\n",
      "       'ym_large_code', 'ym_small_code', 'province', 'user_gray_has_report'],\n",
      "      dtype='object')\n",
      "BaseEncoder\n",
      "start---- Index(['paydayloanlevelonechannelname', 'individual_gender',\n",
      "       'consumer_label_if_own_cc', 'consumer_label_if_pay_ins', 'equipmentos',\n",
      "       'ym_large_code', 'ym_small_code', 'province', 'user_gray_has_report'],\n",
      "      dtype='object')\n",
      "CountEncoder\n",
      "start---- Index(['baidu_panshi_prea_score', 'cn_gt_0', 'cn_gt_0_ratio', 'coc_eq_0',\n",
      "       'coc_gt_0', 'coc_gt_0_ratio', 'fbi_score', 'hds_score', 'i011', 'i012',\n",
      "       'i013', 'i031', 'xscore', 'xy_score', 'ym_large_score',\n",
      "       'ym_small_score'],\n",
      "      dtype='object')\n",
      "BaseEncoder\n",
      "start---- Index(['baidu_panshi_prea_score', 'cn_gt_0', 'cn_gt_0_ratio', 'coc_eq_0',\n",
      "       'coc_gt_0', 'coc_gt_0_ratio', 'fbi_score', 'hds_score', 'i011', 'i013',\n",
      "       'i031', 'xscore', 'xy_score', 'ym_large_score', 'ym_small_score'],\n",
      "      dtype='object')\n",
      "ContImputerEncoder\n",
      "start---- Index(['baidu_panshi_prea_score', 'cn_gt_0', 'cn_gt_0_ratio', 'coc_eq_0',\n",
      "       'coc_gt_0', 'coc_gt_0_ratio', 'fbi_score', 'hds_score', 'i011', 'i013',\n",
      "       'i031', 'xscore', 'xy_score', 'ym_large_score', 'ym_small_score'],\n",
      "      dtype='object')\n",
      "ReduceGen\n",
      "start---- Index(['baidu_panshi_prea_score', 'cn_gt_0', 'cn_gt_0_ratio', 'coc_eq_0',\n",
      "       'coc_gt_0', 'coc_gt_0_ratio', 'fbi_score', 'hds_score', 'i011', 'i013',\n",
      "       'i031', 'xscore', 'xy_score', 'ym_large_score', 'ym_small_score',\n",
      "       'KMeans_0', 'KMeans_1', 'KMeans_2', 'KMeans_3', 'KMeans_4'],\n",
      "      dtype='object')\n",
      "ContBinningEncoder\n",
      "start---- Index(['baidu_panshi_prea_score_bin', 'cn_gt_0_bin', 'cn_gt_0_ratio_bin',\n",
      "       'coc_eq_0_bin', 'coc_gt_0_bin', 'coc_gt_0_ratio_bin', 'fbi_score_bin',\n",
      "       'hds_score_bin', 'i011_bin', 'i013_bin', 'i031_bin', 'xscore_bin',\n",
      "       'xy_score_bin', 'ym_large_score_bin', 'ym_small_score_bin',\n",
      "       'KMeans_0_bin', 'KMeans_1_bin', 'KMeans_2_bin', 'KMeans_3_bin',\n",
      "       'KMeans_4_bin'],\n",
      "      dtype='object')\n",
      "WOEEncoder\n",
      "best_iteration:  85\n",
      "{'train_auc': 0.8913332869984246, 'val_auc': 0.8875487654320989}\n",
      "best_iteration:  41\n",
      "{'train_auc': 0.8871870076915948, 'val_auc': 0.8689925925925925}\n",
      "best_iteration:  83\n",
      "{'train_auc': 0.8912204228832669, 'val_auc': 0.878904938271605}\n",
      "best_iteration:  86\n",
      "{'train_auc': 0.8933637213109691, 'val_auc': 0.8799802469135802}\n",
      "best_iteration:  110\n",
      "{'train_auc': 0.9005760802469135, 'val_auc': 0.86526322308931}\n",
      "[0]\tvalidation_0-auc:0.841537\tvalidation_1-auc:0.841537\n",
      "[1]\tvalidation_0-auc:0.861631\tvalidation_1-auc:0.861631\n",
      "[2]\tvalidation_0-auc:0.864989\tvalidation_1-auc:0.864989\n",
      "[3]\tvalidation_0-auc:0.864989\tvalidation_1-auc:0.864989\n",
      "[4]\tvalidation_0-auc:0.864989\tvalidation_1-auc:0.864989\n",
      "[5]\tvalidation_0-auc:0.864989\tvalidation_1-auc:0.864989\n",
      "[6]\tvalidation_0-auc:0.864989\tvalidation_1-auc:0.864989\n",
      "[7]\tvalidation_0-auc:0.870513\tvalidation_1-auc:0.870513\n",
      "[8]\tvalidation_0-auc:0.871866\tvalidation_1-auc:0.871866\n",
      "[9]\tvalidation_0-auc:0.871376\tvalidation_1-auc:0.871376\n",
      "[10]\tvalidation_0-auc:0.871376\tvalidation_1-auc:0.871376\n",
      "[11]\tvalidation_0-auc:0.871123\tvalidation_1-auc:0.871123\n",
      "[12]\tvalidation_0-auc:0.870885\tvalidation_1-auc:0.870885\n",
      "[13]\tvalidation_0-auc:0.870885\tvalidation_1-auc:0.870885\n",
      "[14]\tvalidation_0-auc:0.870825\tvalidation_1-auc:0.870825\n",
      "[15]\tvalidation_0-auc:0.870825\tvalidation_1-auc:0.870825\n",
      "[16]\tvalidation_0-auc:0.870825\tvalidation_1-auc:0.870825\n",
      "[17]\tvalidation_0-auc:0.87171\tvalidation_1-auc:0.87171\n",
      "[18]\tvalidation_0-auc:0.871709\tvalidation_1-auc:0.871709\n",
      "[19]\tvalidation_0-auc:0.871709\tvalidation_1-auc:0.871709\n",
      "[20]\tvalidation_0-auc:0.871814\tvalidation_1-auc:0.871814\n",
      "[21]\tvalidation_0-auc:0.871864\tvalidation_1-auc:0.871864\n",
      "[22]\tvalidation_0-auc:0.871864\tvalidation_1-auc:0.871864\n",
      "[23]\tvalidation_0-auc:0.873249\tvalidation_1-auc:0.873249\n",
      "[24]\tvalidation_0-auc:0.8733\tvalidation_1-auc:0.8733\n",
      "[25]\tvalidation_0-auc:0.874379\tvalidation_1-auc:0.874379\n",
      "[26]\tvalidation_0-auc:0.874333\tvalidation_1-auc:0.874333\n",
      "[27]\tvalidation_0-auc:0.874682\tvalidation_1-auc:0.874682\n",
      "[28]\tvalidation_0-auc:0.875441\tvalidation_1-auc:0.875441\n",
      "[29]\tvalidation_0-auc:0.875419\tvalidation_1-auc:0.875419\n",
      "[30]\tvalidation_0-auc:0.875696\tvalidation_1-auc:0.875696\n",
      "[31]\tvalidation_0-auc:0.87592\tvalidation_1-auc:0.87592\n",
      "[32]\tvalidation_0-auc:0.87592\tvalidation_1-auc:0.87592\n",
      "[33]\tvalidation_0-auc:0.876303\tvalidation_1-auc:0.876303\n",
      "[34]\tvalidation_0-auc:0.876564\tvalidation_1-auc:0.876564\n",
      "[35]\tvalidation_0-auc:0.876521\tvalidation_1-auc:0.876521\n",
      "[36]\tvalidation_0-auc:0.876618\tvalidation_1-auc:0.876618\n",
      "[37]\tvalidation_0-auc:0.877458\tvalidation_1-auc:0.877458\n",
      "[38]\tvalidation_0-auc:0.877425\tvalidation_1-auc:0.877425\n",
      "[39]\tvalidation_0-auc:0.877506\tvalidation_1-auc:0.877506\n",
      "[40]\tvalidation_0-auc:0.877491\tvalidation_1-auc:0.877491\n",
      "[41]\tvalidation_0-auc:0.877737\tvalidation_1-auc:0.877737\n",
      "[42]\tvalidation_0-auc:0.877973\tvalidation_1-auc:0.877973\n",
      "[43]\tvalidation_0-auc:0.878025\tvalidation_1-auc:0.878025\n",
      "[44]\tvalidation_0-auc:0.878014\tvalidation_1-auc:0.878014\n",
      "[45]\tvalidation_0-auc:0.878062\tvalidation_1-auc:0.878062\n",
      "[46]\tvalidation_0-auc:0.87811\tvalidation_1-auc:0.87811\n",
      "[47]\tvalidation_0-auc:0.878083\tvalidation_1-auc:0.878083\n",
      "[48]\tvalidation_0-auc:0.878329\tvalidation_1-auc:0.878329\n",
      "[49]\tvalidation_0-auc:0.878508\tvalidation_1-auc:0.878508\n",
      "[50]\tvalidation_0-auc:0.878556\tvalidation_1-auc:0.878556\n",
      "[51]\tvalidation_0-auc:0.87874\tvalidation_1-auc:0.87874\n",
      "[52]\tvalidation_0-auc:0.878718\tvalidation_1-auc:0.878718\n",
      "[53]\tvalidation_0-auc:0.878596\tvalidation_1-auc:0.878596\n",
      "[54]\tvalidation_0-auc:0.879258\tvalidation_1-auc:0.879258\n",
      "[55]\tvalidation_0-auc:0.879378\tvalidation_1-auc:0.879378\n",
      "[56]\tvalidation_0-auc:0.879698\tvalidation_1-auc:0.879698\n",
      "[57]\tvalidation_0-auc:0.879691\tvalidation_1-auc:0.879691\n",
      "[58]\tvalidation_0-auc:0.880009\tvalidation_1-auc:0.880009\n",
      "[59]\tvalidation_0-auc:0.880082\tvalidation_1-auc:0.880082\n",
      "[60]\tvalidation_0-auc:0.880435\tvalidation_1-auc:0.880435\n",
      "[61]\tvalidation_0-auc:0.880477\tvalidation_1-auc:0.880477\n",
      "[62]\tvalidation_0-auc:0.880838\tvalidation_1-auc:0.880838\n",
      "[63]\tvalidation_0-auc:0.881327\tvalidation_1-auc:0.881327\n",
      "[64]\tvalidation_0-auc:0.881723\tvalidation_1-auc:0.881723\n",
      "[65]\tvalidation_0-auc:0.881781\tvalidation_1-auc:0.881781\n",
      "[66]\tvalidation_0-auc:0.882209\tvalidation_1-auc:0.882209\n",
      "[67]\tvalidation_0-auc:0.882929\tvalidation_1-auc:0.882929\n",
      "[68]\tvalidation_0-auc:0.882956\tvalidation_1-auc:0.882956\n",
      "[69]\tvalidation_0-auc:0.883172\tvalidation_1-auc:0.883172\n",
      "[70]\tvalidation_0-auc:0.883185\tvalidation_1-auc:0.883185\n",
      "[71]\tvalidation_0-auc:0.883252\tvalidation_1-auc:0.883252\n",
      "[72]\tvalidation_0-auc:0.883616\tvalidation_1-auc:0.883616\n",
      "[73]\tvalidation_0-auc:0.884036\tvalidation_1-auc:0.884036\n",
      "[74]\tvalidation_0-auc:0.884404\tvalidation_1-auc:0.884404\n",
      "[75]\tvalidation_0-auc:0.884455\tvalidation_1-auc:0.884455\n",
      "[76]\tvalidation_0-auc:0.884539\tvalidation_1-auc:0.884539\n",
      "[77]\tvalidation_0-auc:0.884551\tvalidation_1-auc:0.884551\n",
      "[78]\tvalidation_0-auc:0.884982\tvalidation_1-auc:0.884982\n",
      "[79]\tvalidation_0-auc:0.885347\tvalidation_1-auc:0.885347\n",
      "[80]\tvalidation_0-auc:0.885347\tvalidation_1-auc:0.885347\n",
      "[81]\tvalidation_0-auc:0.885405\tvalidation_1-auc:0.885405\n",
      "best_iteration 82\n",
      "early_stopping_rounds None\n"
     ]
    },
    {
     "name": "stderr",
     "output_type": "stream",
     "text": [
      "/Users/Chenson/Dropbox/Github/mlearn/mlearn/service/reporter/data_reporter.py:132: FutureWarning: Sorting because non-concatenation axis is not aligned. A future version\n",
      "of pandas will change to not sort by default.\n",
      "\n",
      "To accept the future behavior, pass 'sort=False'.\n",
      "\n",
      "To retain the current behavior and silence the warning, pass 'sort=True'.\n",
      "\n",
      "  t = pd.concat([t, pd.DataFrame({'mcc': {'All_Dataset': mcc}})], axis=0)\n"
     ]
    },
    {
     "name": "stdout",
     "output_type": "stream",
     "text": [
      "Traceback (most recent call last):\n",
      "  File \"/Users/Chenson/Dropbox/Github/mlearn/mlearn/interface/transformer.py\", line 47, in transformer_ui\n",
      "    transformer_report(df_train, df_test, label, report_dst)\n",
      "  File \"/Users/Chenson/Dropbox/Github/mlearn/mlearn/service/reporter/data_reporter.py\", line 136, in transformer_report\n",
      "    d_tr = wr.fit_transform(df_train, label)\n",
      "  File \"/Users/Chenson/Dropbox/Github/mlearn/mlearn/service/reporter/feature_evaluation.py\", line 247, in fit_transform\n",
      "    return self.fit(X, y, **kwargs).transform(X, y)\n",
      "  File \"/Users/Chenson/Dropbox/Github/mlearn/mlearn/service/reporter/feature_evaluation.py\", line 227, in fit\n",
      "    self.enc.fit(df, y_data)\n",
      "  File \"/Users/Chenson/Dropbox/Github/mlearn/mlearn/service/transformer/base_encoding.py\", line 199, in fit\n",
      "    self.cate_bin_enc.fit(df[self.cate_cols], y)\n",
      "  File \"/Users/Chenson/Dropbox/Github/mlearn/mlearn/service/transformer/category_encoding.py\", line 321, in fit\n",
      "    tmp = woe_enc.fit_transform(df[self.bin_cols], target)\n",
      "  File \"/Users/Chenson/anaconda3/lib/python3.6/site-packages/pandas/core/frame.py\", line 2682, in __getitem__\n",
      "    return self._getitem_array(key)\n",
      "  File \"/Users/Chenson/anaconda3/lib/python3.6/site-packages/pandas/core/frame.py\", line 2726, in _getitem_array\n",
      "    indexer = self.loc._convert_to_indexer(key, axis=1)\n",
      "  File \"/Users/Chenson/anaconda3/lib/python3.6/site-packages/pandas/core/indexing.py\", line 1327, in _convert_to_indexer\n",
      "    .format(mask=objarr[mask]))\n",
      "KeyError: '[33889201 33888993 33888601 ... 28759321 28759318 28758899] not in index'\n",
      "\n",
      "consumer_label_if_own_cc_count enters: pvalue: 0.0\n",
      "xy_score_bin_woe enters: pvalue: 3.991913870901457e-145\n",
      "coc_gt_0_ratio_bin_woe enters: pvalue: 3.0630237579461928e-61\n",
      "KMeans_2_bin_woe enters: pvalue: 2.1083720055704201e-41\n",
      "ym_large_score_bin_woe enters: pvalue: 3.968050135326743e-30\n",
      "paydayloanlevelonechannelname_count enters: pvalue: 6.149105754786535e-27\n",
      "i011_bin_woe enters: pvalue: 1.32703922507418e-15\n",
      "baidu_panshi_prea_score_bin_woe enters: pvalue: 5.113081364519262e-08\n",
      "i031_bin_woe enters: pvalue: 0.0002249721529850799\n",
      "cn_gt_0_ratio_bin_woe enters: pvalue: 0.0008160581768336345\n",
      "coc_gt_0_bin_woe enters: pvalue: 0.002455999506090172\n",
      "hds_score_bin_woe enters: pvalue: 0.004041564682196842\n",
      "coc_eq_0_bin_woe enters: pvalue: 0.018609197424319143\n",
      "cn_gt_0_bin_woe enters: pvalue: 0.0188996963649585\n",
      "ym_small_score_bin_woe enters: pvalue: 0.018252785399317215\n",
      "ym_small_code_count enters: pvalue: 0.030601824046693468\n",
      ">>> type(X): <class 'pandas.core.frame.DataFrame'>\n",
      ">>> shape  : (13500, 27)\n",
      ">>> len    : 27\n"
     ]
    },
    {
     "name": "stderr",
     "output_type": "stream",
     "text": [
      "/Users/Chenson/anaconda3/lib/python3.6/site-packages/sklearn/linear_model/logistic.py:432: FutureWarning: Default solver will be changed to 'lbfgs' in 0.22. Specify a solver to silence this warning.\n",
      "  FutureWarning)\n",
      "/Users/Chenson/Dropbox/Github/mlearn/mlearn/service/filter/base_filter.py:81: SettingWithCopyWarning: \n",
      "A value is trying to be set on a copy of a slice from a DataFrame\n",
      "\n",
      "See the caveats in the documentation: http://pandas.pydata.org/pandas-docs/stable/indexing.html#indexing-view-versus-copy\n",
      "  df[indicator + '_feature_importances'][enc.get_support()] = get_feature_importances(enc.estimator_)\n",
      "/Users/Chenson/Dropbox/Github/mlearn/mlearn/service/reporter/data_reporter.py:162: FutureWarning: Sorting because non-concatenation axis is not aligned. A future version\n",
      "of pandas will change to not sort by default.\n",
      "\n",
      "To accept the future behavior, pass 'sort=False'.\n",
      "\n",
      "To retain the current behavior and silence the warning, pass 'sort=True'.\n",
      "\n",
      "  df = pd.concat([df, t], axis=1)\n"
     ]
    },
    {
     "name": "stdout",
     "output_type": "stream",
     "text": [
      "best_iteration:  127\n",
      "{'train_auc': 0.7465262999616405, 'val_auc': 0.7260263100767111}\n",
      "best_iteration:  104\n",
      "{'train_auc': 0.7433952479398324, 'val_auc': 0.7349384653570503}\n",
      "best_iteration:  129\n",
      "{'train_auc': 0.7533803544709778, 'val_auc': 0.6990801510413465}\n",
      "best_iteration:  107\n",
      "{'train_auc': 0.7441250162424692, 'val_auc': 0.7292125573154915}\n",
      "best_iteration:  154\n",
      "{'train_auc': 0.7513626653522261, 'val_auc': 0.7200802047290289}\n",
      "[0]\tvalidation_0-auc:0.662758\tvalidation_1-auc:0.662758\n",
      "[1]\tvalidation_0-auc:0.686638\tvalidation_1-auc:0.686638\n",
      "[2]\tvalidation_0-auc:0.690166\tvalidation_1-auc:0.690166\n",
      "[3]\tvalidation_0-auc:0.69543\tvalidation_1-auc:0.69543\n",
      "[4]\tvalidation_0-auc:0.698334\tvalidation_1-auc:0.698334\n",
      "[5]\tvalidation_0-auc:0.700574\tvalidation_1-auc:0.700574\n",
      "[6]\tvalidation_0-auc:0.705323\tvalidation_1-auc:0.705323\n",
      "[7]\tvalidation_0-auc:0.709088\tvalidation_1-auc:0.709088\n",
      "[8]\tvalidation_0-auc:0.711589\tvalidation_1-auc:0.711589\n",
      "[9]\tvalidation_0-auc:0.712159\tvalidation_1-auc:0.712159\n",
      "[10]\tvalidation_0-auc:0.713502\tvalidation_1-auc:0.713502\n",
      "[11]\tvalidation_0-auc:0.714314\tvalidation_1-auc:0.714314\n",
      "[12]\tvalidation_0-auc:0.71519\tvalidation_1-auc:0.71519\n",
      "[13]\tvalidation_0-auc:0.716685\tvalidation_1-auc:0.716685\n",
      "[14]\tvalidation_0-auc:0.717849\tvalidation_1-auc:0.717849\n",
      "[15]\tvalidation_0-auc:0.718698\tvalidation_1-auc:0.718698\n",
      "[16]\tvalidation_0-auc:0.720216\tvalidation_1-auc:0.720216\n",
      "[17]\tvalidation_0-auc:0.721831\tvalidation_1-auc:0.721831\n",
      "[18]\tvalidation_0-auc:0.722267\tvalidation_1-auc:0.722267\n",
      "[19]\tvalidation_0-auc:0.722736\tvalidation_1-auc:0.722736\n",
      "[20]\tvalidation_0-auc:0.723352\tvalidation_1-auc:0.723352\n",
      "[21]\tvalidation_0-auc:0.723621\tvalidation_1-auc:0.723621\n",
      "[22]\tvalidation_0-auc:0.723842\tvalidation_1-auc:0.723842\n",
      "[23]\tvalidation_0-auc:0.724433\tvalidation_1-auc:0.724433\n",
      "[24]\tvalidation_0-auc:0.725029\tvalidation_1-auc:0.725029\n",
      "[25]\tvalidation_0-auc:0.725564\tvalidation_1-auc:0.725564\n",
      "[26]\tvalidation_0-auc:0.726007\tvalidation_1-auc:0.726007\n",
      "[27]\tvalidation_0-auc:0.725982\tvalidation_1-auc:0.725982\n",
      "[28]\tvalidation_0-auc:0.726368\tvalidation_1-auc:0.726368\n",
      "[29]\tvalidation_0-auc:0.726433\tvalidation_1-auc:0.726433\n",
      "[30]\tvalidation_0-auc:0.726925\tvalidation_1-auc:0.726925\n",
      "[31]\tvalidation_0-auc:0.727432\tvalidation_1-auc:0.727432\n",
      "[32]\tvalidation_0-auc:0.727637\tvalidation_1-auc:0.727637\n",
      "[33]\tvalidation_0-auc:0.728115\tvalidation_1-auc:0.728115\n",
      "[34]\tvalidation_0-auc:0.728261\tvalidation_1-auc:0.728261\n",
      "[35]\tvalidation_0-auc:0.728513\tvalidation_1-auc:0.728513\n",
      "[36]\tvalidation_0-auc:0.729226\tvalidation_1-auc:0.729226\n",
      "[37]\tvalidation_0-auc:0.729481\tvalidation_1-auc:0.729481\n",
      "[38]\tvalidation_0-auc:0.729815\tvalidation_1-auc:0.729815\n",
      "[39]\tvalidation_0-auc:0.730149\tvalidation_1-auc:0.730149\n",
      "[40]\tvalidation_0-auc:0.730466\tvalidation_1-auc:0.730466\n",
      "[41]\tvalidation_0-auc:0.730617\tvalidation_1-auc:0.730617\n",
      "[42]\tvalidation_0-auc:0.731024\tvalidation_1-auc:0.731024\n",
      "[43]\tvalidation_0-auc:0.731417\tvalidation_1-auc:0.731417\n",
      "[44]\tvalidation_0-auc:0.731583\tvalidation_1-auc:0.731583\n",
      "[45]\tvalidation_0-auc:0.731728\tvalidation_1-auc:0.731728\n",
      "[46]\tvalidation_0-auc:0.731867\tvalidation_1-auc:0.731867\n",
      "[47]\tvalidation_0-auc:0.732277\tvalidation_1-auc:0.732277\n",
      "[48]\tvalidation_0-auc:0.732526\tvalidation_1-auc:0.732526\n",
      "[49]\tvalidation_0-auc:0.732621\tvalidation_1-auc:0.732621\n",
      "[50]\tvalidation_0-auc:0.732762\tvalidation_1-auc:0.732762\n",
      "[51]\tvalidation_0-auc:0.732913\tvalidation_1-auc:0.732913\n",
      "[52]\tvalidation_0-auc:0.733099\tvalidation_1-auc:0.733099\n",
      "[53]\tvalidation_0-auc:0.733374\tvalidation_1-auc:0.733374\n",
      "[54]\tvalidation_0-auc:0.733585\tvalidation_1-auc:0.733585\n",
      "[55]\tvalidation_0-auc:0.733901\tvalidation_1-auc:0.733901\n",
      "[56]\tvalidation_0-auc:0.733994\tvalidation_1-auc:0.733994\n",
      "[57]\tvalidation_0-auc:0.73416\tvalidation_1-auc:0.73416\n",
      "[58]\tvalidation_0-auc:0.734304\tvalidation_1-auc:0.734304\n",
      "[59]\tvalidation_0-auc:0.734452\tvalidation_1-auc:0.734452\n",
      "[60]\tvalidation_0-auc:0.734553\tvalidation_1-auc:0.734553\n",
      "[61]\tvalidation_0-auc:0.734642\tvalidation_1-auc:0.734642\n",
      "[62]\tvalidation_0-auc:0.734814\tvalidation_1-auc:0.734814\n",
      "[63]\tvalidation_0-auc:0.735032\tvalidation_1-auc:0.735032\n",
      "[64]\tvalidation_0-auc:0.735129\tvalidation_1-auc:0.735129\n",
      "[65]\tvalidation_0-auc:0.735241\tvalidation_1-auc:0.735241\n",
      "[66]\tvalidation_0-auc:0.735364\tvalidation_1-auc:0.735364\n",
      "[67]\tvalidation_0-auc:0.735488\tvalidation_1-auc:0.735488\n",
      "[68]\tvalidation_0-auc:0.735733\tvalidation_1-auc:0.735733\n",
      "[69]\tvalidation_0-auc:0.735838\tvalidation_1-auc:0.735838\n",
      "[70]\tvalidation_0-auc:0.73598\tvalidation_1-auc:0.73598\n",
      "[71]\tvalidation_0-auc:0.736044\tvalidation_1-auc:0.736044\n",
      "[72]\tvalidation_0-auc:0.736098\tvalidation_1-auc:0.736098\n",
      "[73]\tvalidation_0-auc:0.736385\tvalidation_1-auc:0.736385\n",
      "[74]\tvalidation_0-auc:0.736509\tvalidation_1-auc:0.736509\n",
      "[75]\tvalidation_0-auc:0.736612\tvalidation_1-auc:0.736612\n",
      "[76]\tvalidation_0-auc:0.736741\tvalidation_1-auc:0.736741\n",
      "[77]\tvalidation_0-auc:0.736808\tvalidation_1-auc:0.736808\n",
      "[78]\tvalidation_0-auc:0.736948\tvalidation_1-auc:0.736948\n",
      "[79]\tvalidation_0-auc:0.737089\tvalidation_1-auc:0.737089\n",
      "[80]\tvalidation_0-auc:0.737138\tvalidation_1-auc:0.737138\n",
      "[81]\tvalidation_0-auc:0.737179\tvalidation_1-auc:0.737179\n",
      "[82]\tvalidation_0-auc:0.737289\tvalidation_1-auc:0.737289\n",
      "[83]\tvalidation_0-auc:0.73744\tvalidation_1-auc:0.73744\n",
      "[84]\tvalidation_0-auc:0.737479\tvalidation_1-auc:0.737479\n",
      "[85]\tvalidation_0-auc:0.737644\tvalidation_1-auc:0.737644\n",
      "[86]\tvalidation_0-auc:0.737771\tvalidation_1-auc:0.737771\n",
      "[87]\tvalidation_0-auc:0.73793\tvalidation_1-auc:0.73793\n",
      "[88]\tvalidation_0-auc:0.738065\tvalidation_1-auc:0.738065\n",
      "[89]\tvalidation_0-auc:0.738187\tvalidation_1-auc:0.738187\n",
      "[90]\tvalidation_0-auc:0.738231\tvalidation_1-auc:0.738231\n",
      "[91]\tvalidation_0-auc:0.738313\tvalidation_1-auc:0.738313\n",
      "[92]\tvalidation_0-auc:0.7384\tvalidation_1-auc:0.7384\n",
      "[93]\tvalidation_0-auc:0.738502\tvalidation_1-auc:0.738502\n",
      "[94]\tvalidation_0-auc:0.738605\tvalidation_1-auc:0.738605\n",
      "[95]\tvalidation_0-auc:0.738801\tvalidation_1-auc:0.738801\n",
      "[96]\tvalidation_0-auc:0.738922\tvalidation_1-auc:0.738922\n",
      "[97]\tvalidation_0-auc:0.739067\tvalidation_1-auc:0.739067\n",
      "[98]\tvalidation_0-auc:0.73918\tvalidation_1-auc:0.73918\n",
      "[99]\tvalidation_0-auc:0.739275\tvalidation_1-auc:0.739275\n",
      "[100]\tvalidation_0-auc:0.739398\tvalidation_1-auc:0.739398\n",
      "[101]\tvalidation_0-auc:0.739461\tvalidation_1-auc:0.739461\n",
      "[102]\tvalidation_0-auc:0.739513\tvalidation_1-auc:0.739513\n",
      "[103]\tvalidation_0-auc:0.739666\tvalidation_1-auc:0.739666\n",
      "[104]\tvalidation_0-auc:0.739804\tvalidation_1-auc:0.739804\n",
      "[105]\tvalidation_0-auc:0.739948\tvalidation_1-auc:0.739948\n",
      "[106]\tvalidation_0-auc:0.740046\tvalidation_1-auc:0.740046\n",
      "[107]\tvalidation_0-auc:0.740071\tvalidation_1-auc:0.740071\n",
      "[108]\tvalidation_0-auc:0.740128\tvalidation_1-auc:0.740128\n",
      "[109]\tvalidation_0-auc:0.740189\tvalidation_1-auc:0.740189\n",
      "[110]\tvalidation_0-auc:0.740362\tvalidation_1-auc:0.740362\n",
      "[111]\tvalidation_0-auc:0.740408\tvalidation_1-auc:0.740408\n",
      "[112]\tvalidation_0-auc:0.740512\tvalidation_1-auc:0.740512\n",
      "[113]\tvalidation_0-auc:0.74061\tvalidation_1-auc:0.74061\n",
      "[114]\tvalidation_0-auc:0.74073\tvalidation_1-auc:0.74073\n",
      "[115]\tvalidation_0-auc:0.740758\tvalidation_1-auc:0.740758\n",
      "[116]\tvalidation_0-auc:0.740804\tvalidation_1-auc:0.740804\n",
      "[117]\tvalidation_0-auc:0.740944\tvalidation_1-auc:0.740944\n",
      "[118]\tvalidation_0-auc:0.741005\tvalidation_1-auc:0.741005\n",
      "[119]\tvalidation_0-auc:0.741158\tvalidation_1-auc:0.741158\n",
      "[120]\tvalidation_0-auc:0.741226\tvalidation_1-auc:0.741226\n",
      "[121]\tvalidation_0-auc:0.741329\tvalidation_1-auc:0.741329\n",
      "[122]\tvalidation_0-auc:0.741507\tvalidation_1-auc:0.741507\n",
      "[123]\tvalidation_0-auc:0.741673\tvalidation_1-auc:0.741673\n",
      "[124]\tvalidation_0-auc:0.741889\tvalidation_1-auc:0.741889\n",
      "best_iteration 125\n",
      "early_stopping_rounds None\n"
     ]
    },
    {
     "name": "stderr",
     "output_type": "stream",
     "text": [
      "/Users/Chenson/Dropbox/Github/mlearn/mlearn/service/reporter/visualize.py:720: SettingWithCopyWarning: \n",
      "A value is trying to be set on a copy of a slice from a DataFrame.\n",
      "Try using .loc[row_indexer,col_indexer] = value instead\n",
      "\n",
      "See the caveats in the documentation: http://pandas.pydata.org/pandas-docs/stable/indexing.html#indexing-view-versus-copy\n",
      "  final_df['count'] = tmp.sum()['count'].tolist()\n",
      "/Users/Chenson/Dropbox/Github/mlearn/mlearn/service/reporter/visualize.py:724: SettingWithCopyWarning: \n",
      "A value is trying to be set on a copy of a slice from a DataFrame.\n",
      "Try using .loc[row_indexer,col_indexer] = value instead\n",
      "\n",
      "See the caveats in the documentation: http://pandas.pydata.org/pandas-docs/stable/indexing.html#indexing-view-versus-copy\n",
      "  final_df['acc_overdue_rate'] = acc_overdue['y_true'] / acc_overdue['count']\n",
      "/Users/Chenson/Dropbox/Github/mlearn/mlearn/service/reporter/visualize.py:720: SettingWithCopyWarning: \n",
      "A value is trying to be set on a copy of a slice from a DataFrame.\n",
      "Try using .loc[row_indexer,col_indexer] = value instead\n",
      "\n",
      "See the caveats in the documentation: http://pandas.pydata.org/pandas-docs/stable/indexing.html#indexing-view-versus-copy\n",
      "  final_df['count'] = tmp.sum()['count'].tolist()\n",
      "/Users/Chenson/Dropbox/Github/mlearn/mlearn/service/reporter/visualize.py:724: SettingWithCopyWarning: \n",
      "A value is trying to be set on a copy of a slice from a DataFrame.\n",
      "Try using .loc[row_indexer,col_indexer] = value instead\n",
      "\n",
      "See the caveats in the documentation: http://pandas.pydata.org/pandas-docs/stable/indexing.html#indexing-view-versus-copy\n",
      "  final_df['acc_overdue_rate'] = acc_overdue['y_true'] / acc_overdue['count']\n",
      "/Users/Chenson/Dropbox/Github/mlearn/mlearn/service/reporter/visualize.py:720: SettingWithCopyWarning: \n",
      "A value is trying to be set on a copy of a slice from a DataFrame.\n",
      "Try using .loc[row_indexer,col_indexer] = value instead\n",
      "\n",
      "See the caveats in the documentation: http://pandas.pydata.org/pandas-docs/stable/indexing.html#indexing-view-versus-copy\n",
      "  final_df['count'] = tmp.sum()['count'].tolist()\n",
      "/Users/Chenson/Dropbox/Github/mlearn/mlearn/service/reporter/visualize.py:724: SettingWithCopyWarning: \n",
      "A value is trying to be set on a copy of a slice from a DataFrame.\n",
      "Try using .loc[row_indexer,col_indexer] = value instead\n",
      "\n",
      "See the caveats in the documentation: http://pandas.pydata.org/pandas-docs/stable/indexing.html#indexing-view-versus-copy\n",
      "  final_df['acc_overdue_rate'] = acc_overdue['y_true'] / acc_overdue['count']\n"
     ]
    },
    {
     "data": {
      "text/plain": [
       "'{\"code\": 1, \"msg\": \"succ\", \"result\": {\"ds\": {\"train\": \"/Users/Chenson/dev/flow_0/trainer/train/result\", \"test\": \"/Users/Chenson/dev/flow_0/trainer/test/trainer_result.pkl\"}, \"meta\": \"/Users/Chenson/dev/flow_0/trainer/train/trainer_enc.pkl\", \"report\": \"/Users/Chenson/dev/flow_0/trainer/report\"}}'"
      ]
     },
     "execution_count": 23,
     "metadata": {},
     "output_type": "execute_result"
    }
   ],
   "source": [
    "mlearn.chaintest(file_path, app_f=False, optimizer_f=False, custom_params=params, sampler_f=False)"
   ]
  },
  {
   "cell_type": "code",
   "execution_count": 19,
   "metadata": {
    "ExecuteTime": {
     "end_time": "2018-11-27T11:31:45.961976Z",
     "start_time": "2018-11-27T11:31:45.950772Z"
    }
   },
   "outputs": [],
   "source": [
    "col_i = df.columns[df.columns.astype(str).str.startswith('i')].tolist()"
   ]
  },
  {
   "cell_type": "code",
   "execution_count": 20,
   "metadata": {
    "ExecuteTime": {
     "end_time": "2018-11-27T11:31:54.585732Z",
     "start_time": "2018-11-27T11:31:54.547227Z"
    }
   },
   "outputs": [
    {
     "data": {
      "text/plain": [
       "individual_gender    1.000000\n",
       "i011                 0.981799\n",
       "i012                 0.981799\n",
       "i013                 0.981799\n",
       "i031                 0.981799\n",
       "i032                 0.981799\n",
       "i033                 0.981799\n",
       "i061                 0.981799\n",
       "i062                 0.981799\n",
       "i063                 0.981799\n",
       "i101                 0.981799\n",
       "i102                 0.981799\n",
       "i103                 0.981799\n",
       "i104                 0.981799\n",
       "i105                 0.981799\n",
       "i106                 0.981799\n",
       "i107                 0.981799\n",
       "i114                 0.981799\n",
       "i301                 0.981799\n",
       "i302                 0.981799\n",
       "i303                 0.981799\n",
       "i304                 0.981799\n",
       "i305                 0.981799\n",
       "i306                 0.981799\n",
       "i307                 0.981799\n",
       "i314                 0.981799\n",
       "i321                 0.981799\n",
       "i601                 0.981799\n",
       "i602                 0.981799\n",
       "i603                 0.981799\n",
       "i604                 0.981799\n",
       "i605                 0.981799\n",
       "i606                 0.981799\n",
       "i607                 0.981799\n",
       "i614                 0.981799\n",
       "i621                 0.981799\n",
       "i630                 0.981799\n",
       "dtype: float64"
      ]
     },
     "execution_count": 20,
     "metadata": {},
     "output_type": "execute_result"
    }
   ],
   "source": [
    "df[col_i].notnull().mean()"
   ]
  },
  {
   "cell_type": "code",
   "execution_count": 33,
   "metadata": {
    "ExecuteTime": {
     "end_time": "2018-11-16T04:21:19.574569Z",
     "start_time": "2018-11-16T04:21:19.566659Z"
    }
   },
   "outputs": [
    {
     "data": {
      "text/plain": [
       "Index(['individual_gender', 'i011', 'i012', 'i013', 'i031', 'i032', 'i033',\n",
       "       'i061', 'i062', 'i063', 'i101', 'i102', 'i103', 'i104', 'i105', 'i106',\n",
       "       'i107', 'i114', 'i301', 'i302', 'i303', 'i304', 'i305', 'i306', 'i307',\n",
       "       'i314', 'i321', 'i601', 'i602', 'i603', 'i604', 'i605', 'i606', 'i607',\n",
       "       'i614', 'i621', 'i630'],\n",
       "      dtype='object')"
      ]
     },
     "execution_count": 33,
     "metadata": {},
     "output_type": "execute_result"
    }
   ],
   "source": [
    "df.columns[df.columns.str.startswith('i')]"
   ]
  },
  {
   "cell_type": "code",
   "execution_count": 10,
   "metadata": {
    "ExecuteTime": {
     "end_time": "2018-11-16T03:59:26.134363Z",
     "start_time": "2018-11-16T03:59:18.099498Z"
    }
   },
   "outputs": [
    {
     "name": "stdout",
     "output_type": "stream",
     "text": [
      "start baitiao_cnt --------------\n",
      "start buzu_cnt --------------\n",
      "start chushen_cnt --------------\n",
      "start cnt_daoqi_dai --------------\n",
      "start cnt_daoqi_fenqi --------------\n",
      "start cnt_daoqi_finance --------------\n",
      "start cnt_daoqi_jiekuan --------------\n",
      "start cnt_daoqi_jinrong --------------\n",
      "start cnt_daoqi_loan --------------\n",
      "start cnt_daoqi_qianbao --------------\n",
      "start cnt_daoqi_xianjin --------------\n",
      "start cnt_daoqi_xiaofei --------------\n",
      "start cnt_daoqi_yinhang --------------\n",
      "start cnt_failure_dai --------------\n",
      "start cnt_failure_fenqi --------------\n",
      "start cnt_failure_finance --------------\n",
      "start cnt_failure_jiekuan --------------\n",
      "start cnt_failure_jinrong --------------\n",
      "start cnt_failure_loan --------------\n",
      "start cnt_failure_qianbao --------------\n",
      "start cnt_failure_xianjin --------------\n",
      "start cnt_failure_xiaofei --------------\n",
      "start cnt_failure_yinhang --------------\n",
      "start cnt_finance_message --------------\n",
      "start cnt_loan_message --------------\n",
      "start cnt_title_dai --------------\n",
      "start cnt_title_fenqi --------------\n",
      "start cnt_title_finance --------------\n",
      "start cnt_title_jiekuan --------------\n",
      "start cnt_title_jinrong --------------\n",
      "start cnt_title_loan --------------\n",
      "start cnt_title_qianbao --------------\n",
      "start cnt_title_xianjin --------------\n",
      "start cnt_title_xiaofei --------------\n",
      "start cnt_title_yinhang --------------\n",
      "start cnt_yuqi_dai --------------\n",
      "start cnt_yuqi_fenqi --------------\n",
      "start cnt_yuqi_finance --------------\n",
      "start cnt_yuqi_jiekuan --------------\n",
      "start cnt_yuqi_jinrong --------------\n",
      "start cnt_yuqi_loan --------------\n",
      "start cnt_yuqi_qianbao --------------\n",
      "start cnt_yuqi_xianjin --------------\n",
      "start cnt_yuqi_xiaofei --------------\n",
      "start cnt_yuqi_yinhang --------------\n",
      "start csqb_apply_pass_cnt --------------\n",
      "start csqb_apply_refuse_cnt --------------\n",
      "start csqb_apply_times --------------\n",
      "start csqb_gongzhai_feature --------------\n",
      "start csqb_overdue_days --------------\n",
      "start dai_cnt --------------\n",
      "start dai_fenqi_cnt --------------\n",
      "start dai_jiekuan_cnt --------------\n",
      "start dai_xiaofei_cnt --------------\n",
      "start daikou_cnt --------------\n",
      "start daikuan_cnt --------------\n",
      "start danqi_num --------------\n",
      "start daoqi_dai_cnt --------------\n",
      "start daoqi_fenqi_cnt --------------\n",
      "start daoqi_jiekuan_cnt --------------\n",
      "start daoqi_jinrong_cnt --------------\n",
      "start daoqi_qianbao_cnt --------------\n",
      "start daoqi_xianjin_cnt --------------\n",
      "start daoqi_xiaofei_cnt --------------\n",
      "start daozhang_cnt --------------\n",
      "start duoqi_num --------------\n",
      "start edu_cnt --------------\n",
      "start enter_type_bangdingshoukuanyinhangka_d1 --------------\n",
      "start enter_type_bangdingshoukuanyinhangka_d14 --------------\n",
      "start enter_type_bangdingshoukuanyinhangka_d3 --------------\n",
      "start enter_type_bangdingshoukuanyinhangka_d30 --------------\n",
      "start enter_type_bangdingshoukuanyinhangka_d7 --------------\n",
      "start enter_type_beiju_d1 --------------\n",
      "start enter_type_beiju_d14 --------------\n",
      "start enter_type_beiju_d3 --------------\n",
      "start enter_type_beiju_d30 --------------\n",
      "start enter_type_beiju_d7 --------------\n",
      "start enter_type_beijuyonghu_d1 --------------\n",
      "start enter_type_beijuyonghu_d14 --------------\n",
      "start enter_type_beijuyonghu_d3 --------------\n",
      "start enter_type_beijuyonghu_d30 --------------\n",
      "start enter_type_beijuyonghu_d7 --------------\n",
      "start enter_type_dianjixiazaiapp_d1 --------------\n",
      "start enter_type_dianjixiazaiapp_d14 --------------\n",
      "start enter_type_dianjixiazaiapp_d3 --------------\n",
      "start enter_type_dianjixiazaiapp_d30 --------------\n",
      "start enter_type_dianjixiazaiapp_d7 --------------\n",
      "start enter_type_eduhuifuzhong_d1 --------------\n",
      "start enter_type_eduhuifuzhong_d14 --------------\n",
      "start enter_type_eduhuifuzhong_d3 --------------\n",
      "start enter_type_eduhuifuzhong_d30 --------------\n",
      "start enter_type_eduhuifuzhong_d7 --------------\n",
      "start enter_type_huankuanchenggong_d1 --------------\n",
      "start enter_type_huankuanchenggong_d14 --------------\n",
      "start enter_type_huankuanchenggong_d3 --------------\n",
      "start enter_type_huankuanchenggong_d30 --------------\n",
      "start enter_type_huankuanchenggong_d7 --------------\n",
      "start enter_type_lijihuankuan_d1 --------------\n",
      "start enter_type_lijihuankuan_d14 --------------\n",
      "start enter_type_lijihuankuan_d3 --------------\n",
      "start enter_type_lijihuankuan_d30 --------------\n",
      "start enter_type_lijihuankuan_d7 --------------\n",
      "start enter_type_querendingdan_d1 --------------\n",
      "start enter_type_querendingdan_d14 --------------\n",
      "start enter_type_querendingdan_d3 --------------\n",
      "start enter_type_querendingdan_d30 --------------\n",
      "start enter_type_querendingdan_d7 --------------\n",
      "start enter_type_querenjiekuan_d1 --------------\n",
      "start enter_type_querenjiekuan_d14 --------------\n",
      "start enter_type_querenjiekuan_d3 --------------\n",
      "start enter_type_querenjiekuan_d30 --------------\n",
      "start enter_type_querenjiekuan_d7 --------------\n",
      "start enter_type_shenfenrenzheng_d1 --------------\n",
      "start enter_type_shenfenrenzheng_d14 --------------\n",
      "start enter_type_shenfenrenzheng_d3 --------------\n",
      "start enter_type_shenfenrenzheng_d30 --------------\n",
      "start enter_type_shenfenrenzheng_d7 --------------\n",
      "start enter_type_tixian_d1 --------------\n",
      "start enter_type_tixian_d14 --------------\n",
      "start enter_type_tixian_d3 --------------\n",
      "start enter_type_tixian_d30 --------------\n",
      "start enter_type_tixian_d7 --------------\n",
      "start enter_type_tixianxinyongdaitisheng_d1 --------------\n",
      "start enter_type_tixianxinyongdaitisheng_d14 --------------\n",
      "start enter_type_tixianxinyongdaitisheng_d3 --------------\n",
      "start enter_type_tixianxinyongdaitisheng_d30 --------------\n",
      "start enter_type_tixianxinyongdaitisheng_d7 --------------\n",
      "start enter_type_tongyi_d1 --------------\n",
      "start enter_type_tongyi_d14 --------------\n",
      "start enter_type_tongyi_d3 --------------\n",
      "start enter_type_tongyi_d30 --------------\n",
      "start enter_type_tongyi_d7 --------------\n",
      "start enter_type_wangjimima_d1 --------------\n",
      "start enter_type_wangjimima_d14 --------------\n",
      "start enter_type_wangjimima_d3 --------------\n",
      "start enter_type_wangjimima_d30 --------------\n",
      "start enter_type_wangjimima_d7 --------------\n",
      "start enter_type_woyaohuankuan_d1 --------------\n",
      "start enter_type_woyaohuankuan_d14 --------------\n",
      "start enter_type_woyaohuankuan_d3 --------------\n",
      "start enter_type_woyaohuankuan_d30 --------------\n",
      "start enter_type_woyaohuankuan_d7 --------------\n",
      "start enter_type_xuanzechanpin_d1 --------------\n",
      "start enter_type_xuanzechanpin_d14 --------------\n",
      "start enter_type_xuanzechanpin_d3 --------------\n",
      "start enter_type_xuanzechanpin_d30 --------------\n",
      "start enter_type_xuanzechanpin_d7 --------------\n",
      "start enter_type_yixiazaiapp_d1 --------------\n",
      "start enter_type_yixiazaiapp_d14 --------------\n",
      "start enter_type_yixiazaiapp_d3 --------------\n",
      "start enter_type_yixiazaiapp_d30 --------------\n",
      "start enter_type_yixiazaiapp_d7 --------------\n",
      "start enter_type_yuqi_d1 --------------\n",
      "start enter_type_yuqi_d14 --------------\n",
      "start enter_type_yuqi_d3 --------------\n",
      "start enter_type_yuqi_d30 --------------\n",
      "start enter_type_yuqi_d7 --------------\n",
      "start farest_created_span --------------\n",
      "start farest_yuqi_day --------------\n",
      "start fenqi_cnt --------------\n",
      "start fenqi_jinrong_cnt --------------\n",
      "start fenqi_qianbao_cnt --------------\n",
      "start first_last_created_span --------------\n",
      "start gongzi_cnt --------------\n",
      "start hit_type_bangdingshoukuanyinhangka_d1 --------------\n",
      "start hit_type_bangdingshoukuanyinhangka_d14 --------------\n",
      "start hit_type_bangdingshoukuanyinhangka_d3 --------------\n",
      "start hit_type_bangdingshoukuanyinhangka_d30 --------------\n",
      "start hit_type_bangdingshoukuanyinhangka_d7 --------------\n",
      "start hit_type_beiju_d1 --------------\n",
      "start hit_type_beiju_d14 --------------\n",
      "start hit_type_beiju_d3 --------------\n",
      "start hit_type_beiju_d30 --------------\n",
      "start hit_type_beiju_d7 --------------\n",
      "start hit_type_beijuyonghu_d1 --------------\n",
      "start hit_type_beijuyonghu_d14 --------------\n",
      "start hit_type_beijuyonghu_d3 --------------\n",
      "start hit_type_beijuyonghu_d30 --------------\n",
      "start hit_type_beijuyonghu_d7 --------------\n",
      "start hit_type_dianjixiazaiapp_d1 --------------\n",
      "start hit_type_dianjixiazaiapp_d14 --------------\n",
      "start hit_type_dianjixiazaiapp_d3 --------------\n",
      "start hit_type_dianjixiazaiapp_d30 --------------\n",
      "start hit_type_dianjixiazaiapp_d7 --------------\n",
      "start hit_type_eduhuifuzhong_d1 --------------\n",
      "start hit_type_eduhuifuzhong_d14 --------------\n",
      "start hit_type_eduhuifuzhong_d3 --------------\n",
      "start hit_type_eduhuifuzhong_d30 --------------\n",
      "start hit_type_eduhuifuzhong_d7 --------------\n",
      "start hit_type_huankuanchenggong_d1 --------------\n",
      "start hit_type_huankuanchenggong_d14 --------------\n",
      "start hit_type_huankuanchenggong_d3 --------------\n",
      "start hit_type_huankuanchenggong_d30 --------------\n",
      "start hit_type_huankuanchenggong_d7 --------------\n",
      "start hit_type_lijihuankuan_d1 --------------\n",
      "start hit_type_lijihuankuan_d14 --------------\n",
      "start hit_type_lijihuankuan_d3 --------------\n",
      "start hit_type_lijihuankuan_d30 --------------\n",
      "start hit_type_lijihuankuan_d7 --------------\n",
      "start hit_type_querendingdan_d1 --------------\n",
      "start hit_type_querendingdan_d14 --------------\n",
      "start hit_type_querendingdan_d3 --------------\n",
      "start hit_type_querendingdan_d30 --------------\n",
      "start hit_type_querendingdan_d7 --------------\n",
      "start hit_type_querenjiekuan_d1 --------------\n",
      "start hit_type_querenjiekuan_d14 --------------\n",
      "start hit_type_querenjiekuan_d3 --------------\n",
      "start hit_type_querenjiekuan_d30 --------------\n",
      "start hit_type_querenjiekuan_d7 --------------\n",
      "start hit_type_shenfenrenzheng_d1 --------------\n",
      "start hit_type_shenfenrenzheng_d14 --------------\n",
      "start hit_type_shenfenrenzheng_d3 --------------\n",
      "start hit_type_shenfenrenzheng_d30 --------------\n",
      "start hit_type_shenfenrenzheng_d7 --------------\n",
      "start hit_type_tixian_d1 --------------\n",
      "start hit_type_tixian_d14 --------------\n",
      "start hit_type_tixian_d3 --------------\n",
      "start hit_type_tixian_d30 --------------\n",
      "start hit_type_tixian_d7 --------------\n",
      "start hit_type_tixianxinyongdaitisheng_d1 --------------\n",
      "start hit_type_tixianxinyongdaitisheng_d14 --------------\n",
      "start hit_type_tixianxinyongdaitisheng_d3 --------------\n",
      "start hit_type_tixianxinyongdaitisheng_d30 --------------\n",
      "start hit_type_tixianxinyongdaitisheng_d7 --------------\n",
      "start hit_type_tongyi_d1 --------------\n",
      "start hit_type_tongyi_d14 --------------\n",
      "start hit_type_tongyi_d3 --------------\n",
      "start hit_type_tongyi_d30 --------------\n",
      "start hit_type_tongyi_d7 --------------\n",
      "start hit_type_wangjimima_d1 --------------\n",
      "start hit_type_wangjimima_d14 --------------\n",
      "start hit_type_wangjimima_d3 --------------\n",
      "start hit_type_wangjimima_d30 --------------\n",
      "start hit_type_wangjimima_d7 --------------\n",
      "start hit_type_woyaohuankuan_d1 --------------\n",
      "start hit_type_woyaohuankuan_d14 --------------\n",
      "start hit_type_woyaohuankuan_d3 --------------\n",
      "start hit_type_woyaohuankuan_d30 --------------\n",
      "start hit_type_woyaohuankuan_d7 --------------\n",
      "start hit_type_xuanzechanpin_d1 --------------\n",
      "start hit_type_xuanzechanpin_d14 --------------\n",
      "start hit_type_xuanzechanpin_d3 --------------\n",
      "start hit_type_xuanzechanpin_d30 --------------\n",
      "start hit_type_xuanzechanpin_d7 --------------\n",
      "start hit_type_yixiazaiapp_d1 --------------\n",
      "start hit_type_yixiazaiapp_d14 --------------\n",
      "start hit_type_yixiazaiapp_d3 --------------\n",
      "start hit_type_yixiazaiapp_d30 --------------\n",
      "start hit_type_yixiazaiapp_d7 --------------\n",
      "start hit_type_yuqi_d1 --------------\n",
      "start hit_type_yuqi_d14 --------------\n",
      "start hit_type_yuqi_d3 --------------\n",
      "start hit_type_yuqi_d30 --------------\n",
      "start hit_type_yuqi_d7 --------------\n",
      "start huabei_cnt --------------\n",
      "start huafei_cnt --------------\n",
      "start huandai_cnt --------------\n",
      "start huankuan_cnt --------------\n",
      "start jiebei_cnt --------------\n",
      "start jiekuan_fenqi_cnt --------------\n",
      "start jiekuan_jinrong_cnt --------------\n",
      "start jiekuan_qianbao_cnt --------------\n",
      "start jiekuan_xianjin_cnt --------------\n",
      "start jiekuan_xiaofei_cnt --------------\n",
      "start jieqing_cnt --------------\n",
      "start jine_cnt --------------\n",
      "start koukuan_cnt --------------\n",
      "start kuaidi_cnt --------------\n",
      "start last_latest_created_span --------------\n",
      "start latest_borrow_span --------------\n",
      "start latest_yuqi_day --------------\n",
      "start lianjie_cnt --------------\n",
      "start max_yuqi_day --------------\n",
      "start mean_created_span --------------\n",
      "start mean_first_last_created_span --------------\n",
      "start mean_yuqi_day --------------\n",
      "start min_yuqi_day --------------\n",
      "start qian_cnt --------------\n",
      "start qianbao_cnt --------------\n",
      "start qianbao_jinrong_cnt --------------\n",
      "start qiankuan_cnt --------------\n",
      "start quit_type_bangdingshoukuanyinhangka_d1 --------------\n",
      "start quit_type_bangdingshoukuanyinhangka_d14 --------------\n",
      "start quit_type_bangdingshoukuanyinhangka_d3 --------------\n",
      "start quit_type_bangdingshoukuanyinhangka_d30 --------------\n",
      "start quit_type_bangdingshoukuanyinhangka_d7 --------------\n",
      "start quit_type_beiju_d1 --------------\n",
      "start quit_type_beiju_d14 --------------\n",
      "start quit_type_beiju_d3 --------------\n",
      "start quit_type_beiju_d30 --------------\n",
      "start quit_type_beiju_d7 --------------\n",
      "start quit_type_beijuyonghu_d1 --------------\n",
      "start quit_type_beijuyonghu_d14 --------------\n",
      "start quit_type_beijuyonghu_d3 --------------\n",
      "start quit_type_beijuyonghu_d30 --------------\n",
      "start quit_type_beijuyonghu_d7 --------------\n",
      "start quit_type_dianjixiazaiapp_d1 --------------\n",
      "start quit_type_dianjixiazaiapp_d14 --------------\n",
      "start quit_type_dianjixiazaiapp_d3 --------------\n",
      "start quit_type_dianjixiazaiapp_d30 --------------\n",
      "start quit_type_dianjixiazaiapp_d7 --------------\n",
      "start quit_type_eduhuifuzhong_d1 --------------\n",
      "start quit_type_eduhuifuzhong_d14 --------------\n",
      "start quit_type_eduhuifuzhong_d3 --------------\n",
      "start quit_type_eduhuifuzhong_d30 --------------\n",
      "start quit_type_eduhuifuzhong_d7 --------------\n",
      "start quit_type_huankuanchenggong_d1 --------------\n",
      "start quit_type_huankuanchenggong_d14 --------------\n",
      "start quit_type_huankuanchenggong_d3 --------------\n",
      "start quit_type_huankuanchenggong_d30 --------------\n",
      "start quit_type_huankuanchenggong_d7 --------------\n",
      "start quit_type_lijihuankuan_d1 --------------\n",
      "start quit_type_lijihuankuan_d14 --------------\n",
      "start quit_type_lijihuankuan_d3 --------------\n",
      "start quit_type_lijihuankuan_d30 --------------\n",
      "start quit_type_lijihuankuan_d7 --------------\n",
      "start quit_type_querendingdan_d1 --------------\n",
      "start quit_type_querendingdan_d14 --------------\n",
      "start quit_type_querendingdan_d3 --------------\n",
      "start quit_type_querendingdan_d30 --------------\n",
      "start quit_type_querendingdan_d7 --------------\n",
      "start quit_type_querenjiekuan_d1 --------------\n",
      "start quit_type_querenjiekuan_d14 --------------\n",
      "start quit_type_querenjiekuan_d3 --------------\n",
      "start quit_type_querenjiekuan_d30 --------------\n",
      "start quit_type_querenjiekuan_d7 --------------\n",
      "start quit_type_shenfenrenzheng_d1 --------------\n",
      "start quit_type_shenfenrenzheng_d14 --------------\n",
      "start quit_type_shenfenrenzheng_d3 --------------\n",
      "start quit_type_shenfenrenzheng_d30 --------------\n",
      "start quit_type_shenfenrenzheng_d7 --------------\n",
      "start quit_type_tixian_d1 --------------\n",
      "start quit_type_tixian_d14 --------------\n",
      "start quit_type_tixian_d3 --------------\n",
      "start quit_type_tixian_d30 --------------\n",
      "start quit_type_tixian_d7 --------------\n",
      "start quit_type_tixianxinyongdaitisheng_d1 --------------\n",
      "start quit_type_tixianxinyongdaitisheng_d14 --------------\n",
      "start quit_type_tixianxinyongdaitisheng_d3 --------------\n",
      "start quit_type_tixianxinyongdaitisheng_d30 --------------\n",
      "start quit_type_tixianxinyongdaitisheng_d7 --------------\n",
      "start quit_type_tongyi_d1 --------------\n",
      "start quit_type_tongyi_d14 --------------\n",
      "start quit_type_tongyi_d3 --------------\n",
      "start quit_type_tongyi_d30 --------------\n",
      "start quit_type_tongyi_d7 --------------\n",
      "start quit_type_wangjimima_d1 --------------\n",
      "start quit_type_wangjimima_d14 --------------\n",
      "start quit_type_wangjimima_d3 --------------\n",
      "start quit_type_wangjimima_d30 --------------\n",
      "start quit_type_wangjimima_d7 --------------\n",
      "start quit_type_woyaohuankuan_d1 --------------\n",
      "start quit_type_woyaohuankuan_d14 --------------\n",
      "start quit_type_woyaohuankuan_d3 --------------\n",
      "start quit_type_woyaohuankuan_d30 --------------\n",
      "start quit_type_woyaohuankuan_d7 --------------\n",
      "start quit_type_xuanzechanpin_d1 --------------\n",
      "start quit_type_xuanzechanpin_d14 --------------\n",
      "start quit_type_xuanzechanpin_d3 --------------\n",
      "start quit_type_xuanzechanpin_d30 --------------\n",
      "start quit_type_xuanzechanpin_d7 --------------\n",
      "start quit_type_yixiazaiapp_d1 --------------\n",
      "start quit_type_yixiazaiapp_d14 --------------\n",
      "start quit_type_yixiazaiapp_d3 --------------\n",
      "start quit_type_yixiazaiapp_d30 --------------\n",
      "start quit_type_yixiazaiapp_d7 --------------\n",
      "start quit_type_yuqi_d1 --------------\n",
      "start quit_type_yuqi_d14 --------------\n",
      "start quit_type_yuqi_d3 --------------\n",
      "start quit_type_yuqi_d30 --------------\n",
      "start quit_type_yuqi_d7 --------------\n",
      "start ruzhang_cnt --------------\n",
      "start shenhe_cnt --------------\n",
      "start shixiao_cnt --------------\n",
      "start std_yuqi_day --------------\n",
      "start successful_apply_times --------------\n",
      "start tixian_cnt --------------\n",
      "start tongguo_cnt --------------\n",
      "start touzhi_cnt --------------\n",
      "start weihuan_cnt --------------\n",
      "start weiyue_cnt --------------\n",
      "start xiakuan_cnt --------------\n",
      "start xianjin_fenqi_cnt --------------\n"
     ]
    },
    {
     "name": "stdout",
     "output_type": "stream",
     "text": [
      "start xianjin_xiaofei_cnt --------------\n",
      "start xiaofei_cnt --------------\n",
      "start xiaofei_jinrong_cnt --------------\n",
      "start xiaofei_qianbao_cnt --------------\n",
      "start xinyong_cnt --------------\n",
      "start xinyongka_cnt --------------\n",
      "start yanzhengma_cnt --------------\n",
      "start yinhang_cnt --------------\n",
      "start yiyuqi_cnt --------------\n",
      "start yue_cnt --------------\n",
      "start yuqi_cnt --------------\n",
      "start yuqi_dai_cnt --------------\n",
      "start yuqi_fenqi_cnt --------------\n",
      "start yuqi_jiekuan_cnt --------------\n",
      "start yuqi_jinrong_cnt --------------\n",
      "start yuqi_qianbao_cnt --------------\n",
      "start yuqi_xianjin_cnt --------------\n",
      "start zhangdan_cnt --------------\n",
      "start zhengxin_cnt --------------\n",
      "start zhichu_cnt --------------\n",
      "start zhifubao_cnt --------------\n",
      "start anti_fraud --------------\n",
      "start anti_fraud_old --------------\n",
      "start anti_fraud_version_two_point_zero --------------\n",
      "start apply_risk_created_at --------------\n",
      "start apply_risk_id --------------\n",
      "start baidu_panshi_black_count_level1 --------------\n",
      "start baidu_panshi_black_count_level2 --------------\n",
      "start baidu_panshi_black_count_level3 --------------\n",
      "start baidu_panshi_black_score --------------\n",
      "start baidu_panshi_duotou_identity_score --------------\n",
      "start baidu_panshi_duotou_name_score --------------\n",
      "start baidu_panshi_duotou_phone_score --------------\n",
      "start baidu_panshi_prea_score --------------\n",
      "start equipment_app_name --------------\n",
      "start fbi_desc --------------\n",
      "start fbi_score --------------\n",
      "start i011 --------------\n",
      "start i012 --------------\n",
      "start i031 --------------\n",
      "start i032 --------------\n",
      "start i061 --------------\n",
      "start i062 --------------\n",
      "start i101 --------------\n",
      "start i102 --------------\n",
      "start i103 --------------\n",
      "start i104 --------------\n",
      "start i105 --------------\n",
      "start i106 --------------\n",
      "start i107 --------------\n",
      "start i114 --------------\n",
      "start i301 --------------\n",
      "start i302 --------------\n",
      "start i303 --------------\n",
      "start i304 --------------\n",
      "start i305 --------------\n",
      "start i306 --------------\n",
      "start i307 --------------\n",
      "start i314 --------------\n",
      "start i321 --------------\n",
      "start i601 --------------\n",
      "start i602 --------------\n",
      "start i603 --------------\n",
      "start i604 --------------\n",
      "start i605 --------------\n",
      "start i606 --------------\n",
      "start i607 --------------\n",
      "start i614 --------------\n",
      "start i621 --------------\n",
      "start i630 --------------\n",
      "start jd_ss_score_payday_sort_score --------------\n",
      "start overdue_days --------------\n",
      "start td_score_final_score --------------\n",
      "start level --------------\n"
     ]
    },
    {
     "name": "stderr",
     "output_type": "stream",
     "text": [
      "/Users/Chenson/Dropbox/Github/mlearn/mlearn/service/reporter/feature_explore.py:169: FutureWarning: Sorting because non-concatenation axis is not aligned. A future version\n",
      "of pandas will change to not sort by default.\n",
      "\n",
      "To accept the future behavior, pass 'sort=False'.\n",
      "\n",
      "To retain the current behavior and silence the warning, pass 'sort=True'.\n",
      "\n",
      "  t = pd.concat([t0, t1, t2, t3, t4], axis=1)\n"
     ]
    }
   ],
   "source": [
    "df_stats = mlearn.service.reporter.data_stats(df.iloc[:, 1:])"
   ]
  },
  {
   "cell_type": "code",
   "execution_count": 11,
   "metadata": {
    "ExecuteTime": {
     "end_time": "2018-11-16T03:59:26.304087Z",
     "start_time": "2018-11-16T03:59:26.138039Z"
    }
   },
   "outputs": [
    {
     "data": {
      "text/html": [
       "<div>\n",
       "<style scoped>\n",
       "    .dataframe tbody tr th:only-of-type {\n",
       "        vertical-align: middle;\n",
       "    }\n",
       "\n",
       "    .dataframe tbody tr th {\n",
       "        vertical-align: top;\n",
       "    }\n",
       "\n",
       "    .dataframe thead th {\n",
       "        text-align: right;\n",
       "    }\n",
       "</style>\n",
       "<table border=\"1\" class=\"dataframe\">\n",
       "  <thead>\n",
       "    <tr style=\"text-align: right;\">\n",
       "      <th></th>\n",
       "      <th>type</th>\n",
       "      <th>count</th>\n",
       "      <th>unique</th>\n",
       "      <th>top</th>\n",
       "      <th>freq</th>\n",
       "      <th>freq_ratio</th>\n",
       "      <th>mean</th>\n",
       "      <th>std</th>\n",
       "      <th>min</th>\n",
       "      <th>25%</th>\n",
       "      <th>50%</th>\n",
       "      <th>75%</th>\n",
       "      <th>max</th>\n",
       "      <th>missing</th>\n",
       "      <th>cover</th>\n",
       "      <th>saturation</th>\n",
       "      <th>distribution</th>\n",
       "    </tr>\n",
       "  </thead>\n",
       "  <tbody>\n",
       "    <tr>\n",
       "      <th>anti_fraud</th>\n",
       "      <td>float64</td>\n",
       "      <td>10000</td>\n",
       "      <td>1</td>\n",
       "      <td>nan</td>\n",
       "      <td>10000</td>\n",
       "      <td>1</td>\n",
       "      <td>NaN</td>\n",
       "      <td>NaN</td>\n",
       "      <td>NaN</td>\n",
       "      <td>NaN</td>\n",
       "      <td>NaN</td>\n",
       "      <td>NaN</td>\n",
       "      <td>NaN</td>\n",
       "      <td>1.0</td>\n",
       "      <td>0.0</td>\n",
       "      <td>0.0</td>\n",
       "      <td>{\"missing\":10000}</td>\n",
       "    </tr>\n",
       "    <tr>\n",
       "      <th>anti_fraud_old</th>\n",
       "      <td>float64</td>\n",
       "      <td>10000</td>\n",
       "      <td>1</td>\n",
       "      <td>nan</td>\n",
       "      <td>10000</td>\n",
       "      <td>1</td>\n",
       "      <td>NaN</td>\n",
       "      <td>NaN</td>\n",
       "      <td>NaN</td>\n",
       "      <td>NaN</td>\n",
       "      <td>NaN</td>\n",
       "      <td>NaN</td>\n",
       "      <td>NaN</td>\n",
       "      <td>1.0</td>\n",
       "      <td>0.0</td>\n",
       "      <td>0.0</td>\n",
       "      <td>{\"missing\":10000}</td>\n",
       "    </tr>\n",
       "    <tr>\n",
       "      <th>anti_fraud_version_two_point_zero</th>\n",
       "      <td>float64</td>\n",
       "      <td>10000</td>\n",
       "      <td>1</td>\n",
       "      <td>nan</td>\n",
       "      <td>10000</td>\n",
       "      <td>1</td>\n",
       "      <td>NaN</td>\n",
       "      <td>NaN</td>\n",
       "      <td>NaN</td>\n",
       "      <td>NaN</td>\n",
       "      <td>NaN</td>\n",
       "      <td>NaN</td>\n",
       "      <td>NaN</td>\n",
       "      <td>1.0</td>\n",
       "      <td>0.0</td>\n",
       "      <td>0.0</td>\n",
       "      <td>{\"missing\":10000}</td>\n",
       "    </tr>\n",
       "    <tr>\n",
       "      <th>apply_risk_created_at</th>\n",
       "      <td>object</td>\n",
       "      <td>10000</td>\n",
       "      <td>5216</td>\n",
       "      <td>2018-09-21 00:00:00.0</td>\n",
       "      <td>3942</td>\n",
       "      <td>0.3942</td>\n",
       "      <td>NaN</td>\n",
       "      <td>NaN</td>\n",
       "      <td>NaN</td>\n",
       "      <td>NaN</td>\n",
       "      <td>NaN</td>\n",
       "      <td>NaN</td>\n",
       "      <td>NaN</td>\n",
       "      <td>0.0</td>\n",
       "      <td>1.0</td>\n",
       "      <td>1.0</td>\n",
       "      <td>{\"2018-09-21 00:00:00.0\":3942,\"2018-09-22 00:0...</td>\n",
       "    </tr>\n",
       "    <tr>\n",
       "      <th>apply_risk_id</th>\n",
       "      <td>int64</td>\n",
       "      <td>10000</td>\n",
       "      <td>10000</td>\n",
       "      <td>39328822</td>\n",
       "      <td>1</td>\n",
       "      <td>0.0001</td>\n",
       "      <td>3.922702e+07</td>\n",
       "      <td>123701.76874</td>\n",
       "      <td>39086949.0</td>\n",
       "      <td>39112656.5</td>\n",
       "      <td>39136705.5</td>\n",
       "      <td>39356961.0</td>\n",
       "      <td>39393881.0</td>\n",
       "      <td>0.0</td>\n",
       "      <td>1.0</td>\n",
       "      <td>1.0</td>\n",
       "      <td>{\"(39094158.185, 39109091.75]\":1612,\"(39109091...</td>\n",
       "    </tr>\n",
       "  </tbody>\n",
       "</table>\n",
       "</div>"
      ],
      "text/plain": [
       "                                      type  count unique  \\\n",
       "anti_fraud                         float64  10000      1   \n",
       "anti_fraud_old                     float64  10000      1   \n",
       "anti_fraud_version_two_point_zero  float64  10000      1   \n",
       "apply_risk_created_at               object  10000   5216   \n",
       "apply_risk_id                        int64  10000  10000   \n",
       "\n",
       "                                                     top   freq freq_ratio  \\\n",
       "anti_fraud                                           nan  10000          1   \n",
       "anti_fraud_old                                       nan  10000          1   \n",
       "anti_fraud_version_two_point_zero                    nan  10000          1   \n",
       "apply_risk_created_at              2018-09-21 00:00:00.0   3942     0.3942   \n",
       "apply_risk_id                                   39328822      1     0.0001   \n",
       "\n",
       "                                           mean           std         min  \\\n",
       "anti_fraud                                  NaN           NaN         NaN   \n",
       "anti_fraud_old                              NaN           NaN         NaN   \n",
       "anti_fraud_version_two_point_zero           NaN           NaN         NaN   \n",
       "apply_risk_created_at                       NaN           NaN         NaN   \n",
       "apply_risk_id                      3.922702e+07  123701.76874  39086949.0   \n",
       "\n",
       "                                          25%         50%         75%  \\\n",
       "anti_fraud                                NaN         NaN         NaN   \n",
       "anti_fraud_old                            NaN         NaN         NaN   \n",
       "anti_fraud_version_two_point_zero         NaN         NaN         NaN   \n",
       "apply_risk_created_at                     NaN         NaN         NaN   \n",
       "apply_risk_id                      39112656.5  39136705.5  39356961.0   \n",
       "\n",
       "                                          max  missing  cover  saturation  \\\n",
       "anti_fraud                                NaN      1.0    0.0         0.0   \n",
       "anti_fraud_old                            NaN      1.0    0.0         0.0   \n",
       "anti_fraud_version_two_point_zero         NaN      1.0    0.0         0.0   \n",
       "apply_risk_created_at                     NaN      0.0    1.0         1.0   \n",
       "apply_risk_id                      39393881.0      0.0    1.0         1.0   \n",
       "\n",
       "                                                                        distribution  \n",
       "anti_fraud                                                         {\"missing\":10000}  \n",
       "anti_fraud_old                                                     {\"missing\":10000}  \n",
       "anti_fraud_version_two_point_zero                                  {\"missing\":10000}  \n",
       "apply_risk_created_at              {\"2018-09-21 00:00:00.0\":3942,\"2018-09-22 00:0...  \n",
       "apply_risk_id                      {\"(39094158.185, 39109091.75]\":1612,\"(39109091...  "
      ]
     },
     "execution_count": 11,
     "metadata": {},
     "output_type": "execute_result"
    }
   ],
   "source": [
    "df_stats.head()"
   ]
  },
  {
   "cell_type": "code",
   "execution_count": 9,
   "metadata": {
    "ExecuteTime": {
     "end_time": "2018-11-16T07:44:58.561783Z",
     "start_time": "2018-11-16T07:44:56.757467Z"
    },
    "scrolled": true
   },
   "outputs": [
    {
     "data": {
      "text/html": [
       "<div>\n",
       "<style scoped>\n",
       "    .dataframe tbody tr th:only-of-type {\n",
       "        vertical-align: middle;\n",
       "    }\n",
       "\n",
       "    .dataframe tbody tr th {\n",
       "        vertical-align: top;\n",
       "    }\n",
       "\n",
       "    .dataframe thead th {\n",
       "        text-align: right;\n",
       "    }\n",
       "</style>\n",
       "<table border=\"1\" class=\"dataframe\">\n",
       "  <thead>\n",
       "    <tr style=\"text-align: right;\">\n",
       "      <th></th>\n",
       "      <th>null_num</th>\n",
       "      <th>notnull_num</th>\n",
       "      <th>notnull_ratio</th>\n",
       "      <th>diff_values_num</th>\n",
       "      <th>most_value_num</th>\n",
       "      <th>same_ratio</th>\n",
       "    </tr>\n",
       "  </thead>\n",
       "  <tbody>\n",
       "    <tr>\n",
       "      <th>baitiao_cnt</th>\n",
       "      <td>5295</td>\n",
       "      <td>4705</td>\n",
       "      <td>0.4705</td>\n",
       "      <td>94</td>\n",
       "      <td>3572</td>\n",
       "      <td>0.3572</td>\n",
       "    </tr>\n",
       "    <tr>\n",
       "      <th>buzu_cnt</th>\n",
       "      <td>5295</td>\n",
       "      <td>4705</td>\n",
       "      <td>0.4705</td>\n",
       "      <td>144</td>\n",
       "      <td>2149</td>\n",
       "      <td>0.2149</td>\n",
       "    </tr>\n",
       "    <tr>\n",
       "      <th>chushen_cnt</th>\n",
       "      <td>5295</td>\n",
       "      <td>4705</td>\n",
       "      <td>0.4705</td>\n",
       "      <td>68</td>\n",
       "      <td>3040</td>\n",
       "      <td>0.3040</td>\n",
       "    </tr>\n",
       "    <tr>\n",
       "      <th>cnt_daoqi_dai</th>\n",
       "      <td>6450</td>\n",
       "      <td>3550</td>\n",
       "      <td>0.3550</td>\n",
       "      <td>82</td>\n",
       "      <td>2186</td>\n",
       "      <td>0.2186</td>\n",
       "    </tr>\n",
       "    <tr>\n",
       "      <th>cnt_daoqi_fenqi</th>\n",
       "      <td>8232</td>\n",
       "      <td>1768</td>\n",
       "      <td>0.1768</td>\n",
       "      <td>79</td>\n",
       "      <td>945</td>\n",
       "      <td>0.0945</td>\n",
       "    </tr>\n",
       "    <tr>\n",
       "      <th>cnt_daoqi_finance</th>\n",
       "      <td>6060</td>\n",
       "      <td>3940</td>\n",
       "      <td>0.3940</td>\n",
       "      <td>67</td>\n",
       "      <td>2772</td>\n",
       "      <td>0.2772</td>\n",
       "    </tr>\n",
       "    <tr>\n",
       "      <th>cnt_daoqi_jiekuan</th>\n",
       "      <td>8970</td>\n",
       "      <td>1030</td>\n",
       "      <td>0.1030</td>\n",
       "      <td>31</td>\n",
       "      <td>555</td>\n",
       "      <td>0.0555</td>\n",
       "    </tr>\n",
       "    <tr>\n",
       "      <th>cnt_daoqi_jinrong</th>\n",
       "      <td>7319</td>\n",
       "      <td>2681</td>\n",
       "      <td>0.2681</td>\n",
       "      <td>45</td>\n",
       "      <td>2226</td>\n",
       "      <td>0.2226</td>\n",
       "    </tr>\n",
       "    <tr>\n",
       "      <th>cnt_daoqi_loan</th>\n",
       "      <td>6243</td>\n",
       "      <td>3757</td>\n",
       "      <td>0.3757</td>\n",
       "      <td>122</td>\n",
       "      <td>1675</td>\n",
       "      <td>0.1675</td>\n",
       "    </tr>\n",
       "    <tr>\n",
       "      <th>cnt_daoqi_qianbao</th>\n",
       "      <td>7912</td>\n",
       "      <td>2088</td>\n",
       "      <td>0.2088</td>\n",
       "      <td>39</td>\n",
       "      <td>1758</td>\n",
       "      <td>0.1758</td>\n",
       "    </tr>\n",
       "    <tr>\n",
       "      <th>cnt_daoqi_xianjin</th>\n",
       "      <td>8271</td>\n",
       "      <td>1729</td>\n",
       "      <td>0.1729</td>\n",
       "      <td>53</td>\n",
       "      <td>1003</td>\n",
       "      <td>0.1003</td>\n",
       "    </tr>\n",
       "    <tr>\n",
       "      <th>cnt_daoqi_xiaofei</th>\n",
       "      <td>8371</td>\n",
       "      <td>1629</td>\n",
       "      <td>0.1629</td>\n",
       "      <td>39</td>\n",
       "      <td>1293</td>\n",
       "      <td>0.1293</td>\n",
       "    </tr>\n",
       "    <tr>\n",
       "      <th>cnt_daoqi_yinhang</th>\n",
       "      <td>6252</td>\n",
       "      <td>3748</td>\n",
       "      <td>0.3748</td>\n",
       "      <td>45</td>\n",
       "      <td>3128</td>\n",
       "      <td>0.3128</td>\n",
       "    </tr>\n",
       "    <tr>\n",
       "      <th>cnt_failure_dai</th>\n",
       "      <td>6450</td>\n",
       "      <td>3550</td>\n",
       "      <td>0.3550</td>\n",
       "      <td>40</td>\n",
       "      <td>2994</td>\n",
       "      <td>0.2994</td>\n",
       "    </tr>\n",
       "    <tr>\n",
       "      <th>cnt_failure_fenqi</th>\n",
       "      <td>8232</td>\n",
       "      <td>1768</td>\n",
       "      <td>0.1768</td>\n",
       "      <td>22</td>\n",
       "      <td>1593</td>\n",
       "      <td>0.1593</td>\n",
       "    </tr>\n",
       "    <tr>\n",
       "      <th>cnt_failure_finance</th>\n",
       "      <td>6060</td>\n",
       "      <td>3940</td>\n",
       "      <td>0.3940</td>\n",
       "      <td>72</td>\n",
       "      <td>2785</td>\n",
       "      <td>0.2785</td>\n",
       "    </tr>\n",
       "    <tr>\n",
       "      <th>cnt_failure_jiekuan</th>\n",
       "      <td>8970</td>\n",
       "      <td>1030</td>\n",
       "      <td>0.1030</td>\n",
       "      <td>13</td>\n",
       "      <td>995</td>\n",
       "      <td>0.0995</td>\n",
       "    </tr>\n",
       "    <tr>\n",
       "      <th>cnt_failure_jinrong</th>\n",
       "      <td>7319</td>\n",
       "      <td>2681</td>\n",
       "      <td>0.2681</td>\n",
       "      <td>47</td>\n",
       "      <td>1982</td>\n",
       "      <td>0.1982</td>\n",
       "    </tr>\n",
       "    <tr>\n",
       "      <th>cnt_failure_loan</th>\n",
       "      <td>6243</td>\n",
       "      <td>3757</td>\n",
       "      <td>0.3757</td>\n",
       "      <td>50</td>\n",
       "      <td>2854</td>\n",
       "      <td>0.2854</td>\n",
       "    </tr>\n",
       "    <tr>\n",
       "      <th>cnt_failure_qianbao</th>\n",
       "      <td>7912</td>\n",
       "      <td>2088</td>\n",
       "      <td>0.2088</td>\n",
       "      <td>19</td>\n",
       "      <td>2002</td>\n",
       "      <td>0.2002</td>\n",
       "    </tr>\n",
       "    <tr>\n",
       "      <th>cnt_failure_xianjin</th>\n",
       "      <td>8271</td>\n",
       "      <td>1729</td>\n",
       "      <td>0.1729</td>\n",
       "      <td>25</td>\n",
       "      <td>1525</td>\n",
       "      <td>0.1525</td>\n",
       "    </tr>\n",
       "    <tr>\n",
       "      <th>cnt_failure_xiaofei</th>\n",
       "      <td>8371</td>\n",
       "      <td>1629</td>\n",
       "      <td>0.1629</td>\n",
       "      <td>29</td>\n",
       "      <td>1466</td>\n",
       "      <td>0.1466</td>\n",
       "    </tr>\n",
       "    <tr>\n",
       "      <th>cnt_failure_yinhang</th>\n",
       "      <td>6252</td>\n",
       "      <td>3748</td>\n",
       "      <td>0.3748</td>\n",
       "      <td>52</td>\n",
       "      <td>3185</td>\n",
       "      <td>0.3185</td>\n",
       "    </tr>\n",
       "    <tr>\n",
       "      <th>cnt_finance_message</th>\n",
       "      <td>5295</td>\n",
       "      <td>4705</td>\n",
       "      <td>0.4705</td>\n",
       "      <td>614</td>\n",
       "      <td>765</td>\n",
       "      <td>0.0765</td>\n",
       "    </tr>\n",
       "    <tr>\n",
       "      <th>cnt_loan_message</th>\n",
       "      <td>5295</td>\n",
       "      <td>4705</td>\n",
       "      <td>0.4705</td>\n",
       "      <td>375</td>\n",
       "      <td>948</td>\n",
       "      <td>0.0948</td>\n",
       "    </tr>\n",
       "    <tr>\n",
       "      <th>cnt_title_dai</th>\n",
       "      <td>5295</td>\n",
       "      <td>4705</td>\n",
       "      <td>0.4705</td>\n",
       "      <td>36</td>\n",
       "      <td>1155</td>\n",
       "      <td>0.1155</td>\n",
       "    </tr>\n",
       "    <tr>\n",
       "      <th>cnt_title_fenqi</th>\n",
       "      <td>5295</td>\n",
       "      <td>4705</td>\n",
       "      <td>0.4705</td>\n",
       "      <td>7</td>\n",
       "      <td>2937</td>\n",
       "      <td>0.2937</td>\n",
       "    </tr>\n",
       "    <tr>\n",
       "      <th>cnt_title_finance</th>\n",
       "      <td>5295</td>\n",
       "      <td>4705</td>\n",
       "      <td>0.4705</td>\n",
       "      <td>39</td>\n",
       "      <td>765</td>\n",
       "      <td>0.0765</td>\n",
       "    </tr>\n",
       "    <tr>\n",
       "      <th>cnt_title_jiekuan</th>\n",
       "      <td>5295</td>\n",
       "      <td>4705</td>\n",
       "      <td>0.4705</td>\n",
       "      <td>5</td>\n",
       "      <td>3675</td>\n",
       "      <td>0.3675</td>\n",
       "    </tr>\n",
       "    <tr>\n",
       "      <th>cnt_title_jinrong</th>\n",
       "      <td>5295</td>\n",
       "      <td>4705</td>\n",
       "      <td>0.4705</td>\n",
       "      <td>10</td>\n",
       "      <td>2024</td>\n",
       "      <td>0.2024</td>\n",
       "    </tr>\n",
       "    <tr>\n",
       "      <th>...</th>\n",
       "      <td>...</td>\n",
       "      <td>...</td>\n",
       "      <td>...</td>\n",
       "      <td>...</td>\n",
       "      <td>...</td>\n",
       "      <td>...</td>\n",
       "    </tr>\n",
       "    <tr>\n",
       "      <th>i102</th>\n",
       "      <td>26</td>\n",
       "      <td>9974</td>\n",
       "      <td>0.9974</td>\n",
       "      <td>9</td>\n",
       "      <td>7101</td>\n",
       "      <td>0.7101</td>\n",
       "    </tr>\n",
       "    <tr>\n",
       "      <th>i103</th>\n",
       "      <td>26</td>\n",
       "      <td>9974</td>\n",
       "      <td>0.9974</td>\n",
       "      <td>7</td>\n",
       "      <td>8207</td>\n",
       "      <td>0.8207</td>\n",
       "    </tr>\n",
       "    <tr>\n",
       "      <th>i104</th>\n",
       "      <td>26</td>\n",
       "      <td>9974</td>\n",
       "      <td>0.9974</td>\n",
       "      <td>6</td>\n",
       "      <td>8725</td>\n",
       "      <td>0.8725</td>\n",
       "    </tr>\n",
       "    <tr>\n",
       "      <th>i105</th>\n",
       "      <td>26</td>\n",
       "      <td>9974</td>\n",
       "      <td>0.9974</td>\n",
       "      <td>5</td>\n",
       "      <td>9015</td>\n",
       "      <td>0.9015</td>\n",
       "    </tr>\n",
       "    <tr>\n",
       "      <th>i106</th>\n",
       "      <td>26</td>\n",
       "      <td>9974</td>\n",
       "      <td>0.9974</td>\n",
       "      <td>5</td>\n",
       "      <td>9197</td>\n",
       "      <td>0.9197</td>\n",
       "    </tr>\n",
       "    <tr>\n",
       "      <th>i107</th>\n",
       "      <td>26</td>\n",
       "      <td>9974</td>\n",
       "      <td>0.9974</td>\n",
       "      <td>4</td>\n",
       "      <td>9322</td>\n",
       "      <td>0.9322</td>\n",
       "    </tr>\n",
       "    <tr>\n",
       "      <th>i114</th>\n",
       "      <td>26</td>\n",
       "      <td>9974</td>\n",
       "      <td>0.9974</td>\n",
       "      <td>3</td>\n",
       "      <td>9676</td>\n",
       "      <td>0.9676</td>\n",
       "    </tr>\n",
       "    <tr>\n",
       "      <th>i301</th>\n",
       "      <td>26</td>\n",
       "      <td>9974</td>\n",
       "      <td>0.9974</td>\n",
       "      <td>41</td>\n",
       "      <td>2038</td>\n",
       "      <td>0.2038</td>\n",
       "    </tr>\n",
       "    <tr>\n",
       "      <th>i302</th>\n",
       "      <td>26</td>\n",
       "      <td>9974</td>\n",
       "      <td>0.9974</td>\n",
       "      <td>21</td>\n",
       "      <td>5414</td>\n",
       "      <td>0.5414</td>\n",
       "    </tr>\n",
       "    <tr>\n",
       "      <th>i303</th>\n",
       "      <td>26</td>\n",
       "      <td>9974</td>\n",
       "      <td>0.9974</td>\n",
       "      <td>15</td>\n",
       "      <td>6971</td>\n",
       "      <td>0.6971</td>\n",
       "    </tr>\n",
       "    <tr>\n",
       "      <th>i304</th>\n",
       "      <td>26</td>\n",
       "      <td>9974</td>\n",
       "      <td>0.9974</td>\n",
       "      <td>12</td>\n",
       "      <td>7714</td>\n",
       "      <td>0.7714</td>\n",
       "    </tr>\n",
       "    <tr>\n",
       "      <th>i305</th>\n",
       "      <td>26</td>\n",
       "      <td>9974</td>\n",
       "      <td>0.9974</td>\n",
       "      <td>11</td>\n",
       "      <td>8186</td>\n",
       "      <td>0.8186</td>\n",
       "    </tr>\n",
       "    <tr>\n",
       "      <th>i306</th>\n",
       "      <td>26</td>\n",
       "      <td>9974</td>\n",
       "      <td>0.9974</td>\n",
       "      <td>9</td>\n",
       "      <td>8508</td>\n",
       "      <td>0.8508</td>\n",
       "    </tr>\n",
       "    <tr>\n",
       "      <th>i307</th>\n",
       "      <td>26</td>\n",
       "      <td>9974</td>\n",
       "      <td>0.9974</td>\n",
       "      <td>8</td>\n",
       "      <td>8702</td>\n",
       "      <td>0.8702</td>\n",
       "    </tr>\n",
       "    <tr>\n",
       "      <th>i314</th>\n",
       "      <td>26</td>\n",
       "      <td>9974</td>\n",
       "      <td>0.9974</td>\n",
       "      <td>5</td>\n",
       "      <td>9340</td>\n",
       "      <td>0.9340</td>\n",
       "    </tr>\n",
       "    <tr>\n",
       "      <th>i321</th>\n",
       "      <td>26</td>\n",
       "      <td>9974</td>\n",
       "      <td>0.9974</td>\n",
       "      <td>4</td>\n",
       "      <td>9609</td>\n",
       "      <td>0.9609</td>\n",
       "    </tr>\n",
       "    <tr>\n",
       "      <th>i601</th>\n",
       "      <td>26</td>\n",
       "      <td>9974</td>\n",
       "      <td>0.9974</td>\n",
       "      <td>69</td>\n",
       "      <td>1220</td>\n",
       "      <td>0.1220</td>\n",
       "    </tr>\n",
       "    <tr>\n",
       "      <th>i602</th>\n",
       "      <td>26</td>\n",
       "      <td>9974</td>\n",
       "      <td>0.9974</td>\n",
       "      <td>35</td>\n",
       "      <td>4280</td>\n",
       "      <td>0.4280</td>\n",
       "    </tr>\n",
       "    <tr>\n",
       "      <th>i603</th>\n",
       "      <td>26</td>\n",
       "      <td>9974</td>\n",
       "      <td>0.9974</td>\n",
       "      <td>23</td>\n",
       "      <td>5984</td>\n",
       "      <td>0.5984</td>\n",
       "    </tr>\n",
       "    <tr>\n",
       "      <th>i604</th>\n",
       "      <td>26</td>\n",
       "      <td>9974</td>\n",
       "      <td>0.9974</td>\n",
       "      <td>18</td>\n",
       "      <td>6958</td>\n",
       "      <td>0.6958</td>\n",
       "    </tr>\n",
       "    <tr>\n",
       "      <th>i605</th>\n",
       "      <td>26</td>\n",
       "      <td>9974</td>\n",
       "      <td>0.9974</td>\n",
       "      <td>15</td>\n",
       "      <td>7550</td>\n",
       "      <td>0.7550</td>\n",
       "    </tr>\n",
       "    <tr>\n",
       "      <th>i606</th>\n",
       "      <td>26</td>\n",
       "      <td>9974</td>\n",
       "      <td>0.9974</td>\n",
       "      <td>13</td>\n",
       "      <td>7972</td>\n",
       "      <td>0.7972</td>\n",
       "    </tr>\n",
       "    <tr>\n",
       "      <th>i607</th>\n",
       "      <td>26</td>\n",
       "      <td>9974</td>\n",
       "      <td>0.9974</td>\n",
       "      <td>12</td>\n",
       "      <td>8248</td>\n",
       "      <td>0.8248</td>\n",
       "    </tr>\n",
       "    <tr>\n",
       "      <th>i614</th>\n",
       "      <td>26</td>\n",
       "      <td>9974</td>\n",
       "      <td>0.9974</td>\n",
       "      <td>6</td>\n",
       "      <td>9134</td>\n",
       "      <td>0.9134</td>\n",
       "    </tr>\n",
       "    <tr>\n",
       "      <th>i621</th>\n",
       "      <td>26</td>\n",
       "      <td>9974</td>\n",
       "      <td>0.9974</td>\n",
       "      <td>5</td>\n",
       "      <td>9499</td>\n",
       "      <td>0.9499</td>\n",
       "    </tr>\n",
       "    <tr>\n",
       "      <th>i630</th>\n",
       "      <td>26</td>\n",
       "      <td>9974</td>\n",
       "      <td>0.9974</td>\n",
       "      <td>4</td>\n",
       "      <td>9763</td>\n",
       "      <td>0.9763</td>\n",
       "    </tr>\n",
       "    <tr>\n",
       "      <th>jd_ss_score_payday_sort_score</th>\n",
       "      <td>3</td>\n",
       "      <td>9997</td>\n",
       "      <td>0.9997</td>\n",
       "      <td>285</td>\n",
       "      <td>5794</td>\n",
       "      <td>0.5794</td>\n",
       "    </tr>\n",
       "    <tr>\n",
       "      <th>overdue_days</th>\n",
       "      <td>0</td>\n",
       "      <td>10000</td>\n",
       "      <td>1.0000</td>\n",
       "      <td>53</td>\n",
       "      <td>4499</td>\n",
       "      <td>0.4499</td>\n",
       "    </tr>\n",
       "    <tr>\n",
       "      <th>td_score_final_score</th>\n",
       "      <td>3</td>\n",
       "      <td>9997</td>\n",
       "      <td>0.9997</td>\n",
       "      <td>93</td>\n",
       "      <td>1884</td>\n",
       "      <td>0.1884</td>\n",
       "    </tr>\n",
       "    <tr>\n",
       "      <th>level</th>\n",
       "      <td>0</td>\n",
       "      <td>10000</td>\n",
       "      <td>1.0000</td>\n",
       "      <td>4</td>\n",
       "      <td>2566</td>\n",
       "      <td>0.2566</td>\n",
       "    </tr>\n",
       "  </tbody>\n",
       "</table>\n",
       "<p>457 rows × 6 columns</p>\n",
       "</div>"
      ],
      "text/plain": [
       "                               null_num  notnull_num  notnull_ratio  \\\n",
       "baitiao_cnt                        5295         4705         0.4705   \n",
       "buzu_cnt                           5295         4705         0.4705   \n",
       "chushen_cnt                        5295         4705         0.4705   \n",
       "cnt_daoqi_dai                      6450         3550         0.3550   \n",
       "cnt_daoqi_fenqi                    8232         1768         0.1768   \n",
       "cnt_daoqi_finance                  6060         3940         0.3940   \n",
       "cnt_daoqi_jiekuan                  8970         1030         0.1030   \n",
       "cnt_daoqi_jinrong                  7319         2681         0.2681   \n",
       "cnt_daoqi_loan                     6243         3757         0.3757   \n",
       "cnt_daoqi_qianbao                  7912         2088         0.2088   \n",
       "cnt_daoqi_xianjin                  8271         1729         0.1729   \n",
       "cnt_daoqi_xiaofei                  8371         1629         0.1629   \n",
       "cnt_daoqi_yinhang                  6252         3748         0.3748   \n",
       "cnt_failure_dai                    6450         3550         0.3550   \n",
       "cnt_failure_fenqi                  8232         1768         0.1768   \n",
       "cnt_failure_finance                6060         3940         0.3940   \n",
       "cnt_failure_jiekuan                8970         1030         0.1030   \n",
       "cnt_failure_jinrong                7319         2681         0.2681   \n",
       "cnt_failure_loan                   6243         3757         0.3757   \n",
       "cnt_failure_qianbao                7912         2088         0.2088   \n",
       "cnt_failure_xianjin                8271         1729         0.1729   \n",
       "cnt_failure_xiaofei                8371         1629         0.1629   \n",
       "cnt_failure_yinhang                6252         3748         0.3748   \n",
       "cnt_finance_message                5295         4705         0.4705   \n",
       "cnt_loan_message                   5295         4705         0.4705   \n",
       "cnt_title_dai                      5295         4705         0.4705   \n",
       "cnt_title_fenqi                    5295         4705         0.4705   \n",
       "cnt_title_finance                  5295         4705         0.4705   \n",
       "cnt_title_jiekuan                  5295         4705         0.4705   \n",
       "cnt_title_jinrong                  5295         4705         0.4705   \n",
       "...                                 ...          ...            ...   \n",
       "i102                                 26         9974         0.9974   \n",
       "i103                                 26         9974         0.9974   \n",
       "i104                                 26         9974         0.9974   \n",
       "i105                                 26         9974         0.9974   \n",
       "i106                                 26         9974         0.9974   \n",
       "i107                                 26         9974         0.9974   \n",
       "i114                                 26         9974         0.9974   \n",
       "i301                                 26         9974         0.9974   \n",
       "i302                                 26         9974         0.9974   \n",
       "i303                                 26         9974         0.9974   \n",
       "i304                                 26         9974         0.9974   \n",
       "i305                                 26         9974         0.9974   \n",
       "i306                                 26         9974         0.9974   \n",
       "i307                                 26         9974         0.9974   \n",
       "i314                                 26         9974         0.9974   \n",
       "i321                                 26         9974         0.9974   \n",
       "i601                                 26         9974         0.9974   \n",
       "i602                                 26         9974         0.9974   \n",
       "i603                                 26         9974         0.9974   \n",
       "i604                                 26         9974         0.9974   \n",
       "i605                                 26         9974         0.9974   \n",
       "i606                                 26         9974         0.9974   \n",
       "i607                                 26         9974         0.9974   \n",
       "i614                                 26         9974         0.9974   \n",
       "i621                                 26         9974         0.9974   \n",
       "i630                                 26         9974         0.9974   \n",
       "jd_ss_score_payday_sort_score         3         9997         0.9997   \n",
       "overdue_days                          0        10000         1.0000   \n",
       "td_score_final_score                  3         9997         0.9997   \n",
       "level                                 0        10000         1.0000   \n",
       "\n",
       "                               diff_values_num  most_value_num  same_ratio  \n",
       "baitiao_cnt                                 94            3572      0.3572  \n",
       "buzu_cnt                                   144            2149      0.2149  \n",
       "chushen_cnt                                 68            3040      0.3040  \n",
       "cnt_daoqi_dai                               82            2186      0.2186  \n",
       "cnt_daoqi_fenqi                             79             945      0.0945  \n",
       "cnt_daoqi_finance                           67            2772      0.2772  \n",
       "cnt_daoqi_jiekuan                           31             555      0.0555  \n",
       "cnt_daoqi_jinrong                           45            2226      0.2226  \n",
       "cnt_daoqi_loan                             122            1675      0.1675  \n",
       "cnt_daoqi_qianbao                           39            1758      0.1758  \n",
       "cnt_daoqi_xianjin                           53            1003      0.1003  \n",
       "cnt_daoqi_xiaofei                           39            1293      0.1293  \n",
       "cnt_daoqi_yinhang                           45            3128      0.3128  \n",
       "cnt_failure_dai                             40            2994      0.2994  \n",
       "cnt_failure_fenqi                           22            1593      0.1593  \n",
       "cnt_failure_finance                         72            2785      0.2785  \n",
       "cnt_failure_jiekuan                         13             995      0.0995  \n",
       "cnt_failure_jinrong                         47            1982      0.1982  \n",
       "cnt_failure_loan                            50            2854      0.2854  \n",
       "cnt_failure_qianbao                         19            2002      0.2002  \n",
       "cnt_failure_xianjin                         25            1525      0.1525  \n",
       "cnt_failure_xiaofei                         29            1466      0.1466  \n",
       "cnt_failure_yinhang                         52            3185      0.3185  \n",
       "cnt_finance_message                        614             765      0.0765  \n",
       "cnt_loan_message                           375             948      0.0948  \n",
       "cnt_title_dai                               36            1155      0.1155  \n",
       "cnt_title_fenqi                              7            2937      0.2937  \n",
       "cnt_title_finance                           39             765      0.0765  \n",
       "cnt_title_jiekuan                            5            3675      0.3675  \n",
       "cnt_title_jinrong                           10            2024      0.2024  \n",
       "...                                        ...             ...         ...  \n",
       "i102                                         9            7101      0.7101  \n",
       "i103                                         7            8207      0.8207  \n",
       "i104                                         6            8725      0.8725  \n",
       "i105                                         5            9015      0.9015  \n",
       "i106                                         5            9197      0.9197  \n",
       "i107                                         4            9322      0.9322  \n",
       "i114                                         3            9676      0.9676  \n",
       "i301                                        41            2038      0.2038  \n",
       "i302                                        21            5414      0.5414  \n",
       "i303                                        15            6971      0.6971  \n",
       "i304                                        12            7714      0.7714  \n",
       "i305                                        11            8186      0.8186  \n",
       "i306                                         9            8508      0.8508  \n",
       "i307                                         8            8702      0.8702  \n",
       "i314                                         5            9340      0.9340  \n",
       "i321                                         4            9609      0.9609  \n",
       "i601                                        69            1220      0.1220  \n",
       "i602                                        35            4280      0.4280  \n",
       "i603                                        23            5984      0.5984  \n",
       "i604                                        18            6958      0.6958  \n",
       "i605                                        15            7550      0.7550  \n",
       "i606                                        13            7972      0.7972  \n",
       "i607                                        12            8248      0.8248  \n",
       "i614                                         6            9134      0.9134  \n",
       "i621                                         5            9499      0.9499  \n",
       "i630                                         4            9763      0.9763  \n",
       "jd_ss_score_payday_sort_score              285            5794      0.5794  \n",
       "overdue_days                                53            4499      0.4499  \n",
       "td_score_final_score                        93            1884      0.1884  \n",
       "level                                        4            2566      0.2566  \n",
       "\n",
       "[457 rows x 6 columns]"
      ]
     },
     "execution_count": 9,
     "metadata": {},
     "output_type": "execute_result"
    }
   ],
   "source": [
    "mlearn.reporter.feature_explore.desc_df(df)"
   ]
  },
  {
   "cell_type": "code",
   "execution_count": 52,
   "metadata": {
    "ExecuteTime": {
     "end_time": "2018-11-12T11:32:22.091657Z",
     "start_time": "2018-11-12T11:32:22.075972Z"
    }
   },
   "outputs": [
    {
     "data": {
      "text/html": [
       "<div>\n",
       "<style scoped>\n",
       "    .dataframe tbody tr th:only-of-type {\n",
       "        vertical-align: middle;\n",
       "    }\n",
       "\n",
       "    .dataframe tbody tr th {\n",
       "        vertical-align: top;\n",
       "    }\n",
       "\n",
       "    .dataframe thead th {\n",
       "        text-align: right;\n",
       "    }\n",
       "</style>\n",
       "<table border=\"1\" class=\"dataframe\">\n",
       "  <thead>\n",
       "    <tr style=\"text-align: right;\">\n",
       "      <th></th>\n",
       "      <th>覆盖率</th>\n",
       "      <th>饱和度</th>\n",
       "    </tr>\n",
       "  </thead>\n",
       "  <tbody>\n",
       "    <tr>\n",
       "      <th>数据集</th>\n",
       "      <td>1.0000</td>\n",
       "      <td>NaN</td>\n",
       "    </tr>\n",
       "    <tr>\n",
       "      <th>baitiao_cnt</th>\n",
       "      <td>0.4705</td>\n",
       "      <td>0.4705</td>\n",
       "    </tr>\n",
       "    <tr>\n",
       "      <th>buzu_cnt</th>\n",
       "      <td>0.4705</td>\n",
       "      <td>0.4705</td>\n",
       "    </tr>\n",
       "    <tr>\n",
       "      <th>chushen_cnt</th>\n",
       "      <td>0.4705</td>\n",
       "      <td>0.4705</td>\n",
       "    </tr>\n",
       "    <tr>\n",
       "      <th>cnt_daoqi_dai</th>\n",
       "      <td>0.3550</td>\n",
       "      <td>0.3550</td>\n",
       "    </tr>\n",
       "  </tbody>\n",
       "</table>\n",
       "</div>"
      ],
      "text/plain": [
       "                  覆盖率     饱和度\n",
       "数据集            1.0000     NaN\n",
       "baitiao_cnt    0.4705  0.4705\n",
       "buzu_cnt       0.4705  0.4705\n",
       "chushen_cnt    0.4705  0.4705\n",
       "cnt_daoqi_dai  0.3550  0.3550"
      ]
     },
     "execution_count": 52,
     "metadata": {},
     "output_type": "execute_result"
    }
   ],
   "source": [
    "df_cov_stats.head()"
   ]
  },
  {
   "cell_type": "code",
   "execution_count": 55,
   "metadata": {
    "ExecuteTime": {
     "end_time": "2018-11-12T11:36:12.231006Z",
     "start_time": "2018-11-12T11:36:11.869682Z"
    }
   },
   "outputs": [],
   "source": [
    "params_trans = {'ds': {'label': {'name': '01d', 'type': 'number'},\n",
    "                       'test': '/Users/Chenson/dev/flow_0/spliter/test/spliter_result.pkl',    # path or df\n",
    "                       'train': '/Users/Chenson/dev/flow_0/spliter/train/spliter_result.pkl'}, # path or df\n",
    "                'out': {'dst': '/Users/Chenson/dev/flow_0/transformer'},\n",
    "                'st': {'cate': [{'cols': [],\n",
    "                                 'encoders': [{'method': 'BaseEncoder',\n",
    "                                                         'params': {'cate_thr': 0.5, 'missing_thr': 0.8, 'same_thr': 0.9}},\n",
    "                                              {'method': 'CountEncoder',\n",
    "                                                         'params': {'log_transform': True,\n",
    "                                                                    'smoothing': 1,\n",
    "                                                                    'unseen_value': 1}}]}],\n",
    "                       'cont': [{'cols': [],\n",
    "                                 'encoders': [{'method': 'BaseEncoder',\n",
    "                                                         'params': {'cate_thr': 0.5, 'missing_thr': 0.8, 'same_thr': 0.9}},\n",
    "                                              {'method': 'ContImputerEncoder',\n",
    "                                                         'params': {'axis': 0,\n",
    "                                                                    'missing_values': 'NaN',\n",
    "                                                                    'strategy': 'mean',\n",
    "                                                                    'verbose': 0}},\n",
    "                                              {'method': 'ReduceGen',\n",
    "                                                         'params': {'method': 'KMeans', 'method_params': {'n_clusters': 5}}},\n",
    "                                              {'method': 'ContBinningEncoder',\n",
    "                                                         'params': {'binning_method': 'dt', 'bins': 10, 'diff_thr': 20}},\n",
    "                                              {'method': 'WOEEncoder',\n",
    "                                                         'params': {'diff_thr': 20,\n",
    "                                                                    'nan_thr': 0.01,\n",
    "                                                                    'woe_max': 20,\n",
    "                                                                    'woe_min': -20}}]}],\n",
    "                       'custom': [],\n",
    "                       'method': 'auto',\n",
    "                                 'params': {'thr': 5},\n",
    "                                 'verbose': True}}"
   ]
  },
  {
   "cell_type": "code",
   "execution_count": 56,
   "metadata": {
    "ExecuteTime": {
     "end_time": "2018-11-12T11:40:18.457058Z",
     "start_time": "2018-11-12T11:36:12.236177Z"
    }
   },
   "outputs": [
    {
     "name": "stdout",
     "output_type": "stream",
     "text": [
      "start---- Index(['csqb_gongzhai_feature', 'enter_type_bangdingshoukuanyinhangka_d1',\n",
      "       'enter_type_bangdingshoukuanyinhangka_d14',\n",
      "       'enter_type_bangdingshoukuanyinhangka_d3',\n",
      "       'enter_type_bangdingshoukuanyinhangka_d30',\n",
      "       'enter_type_bangdingshoukuanyinhangka_d7',\n",
      "       'enter_type_dianjixiazaiapp_d1', 'enter_type_dianjixiazaiapp_d14',\n",
      "       'enter_type_dianjixiazaiapp_d3', 'enter_type_dianjixiazaiapp_d30',\n",
      "       ...\n",
      "       'baidu_panshi_black_count_level3', 'baidu_panshi_black_score',\n",
      "       'baidu_panshi_duotou_name_score', 'equipment_app_name', 'fbi_desc',\n",
      "       'i012', 'i107', 'i114', 'i321', 'i630'],\n",
      "      dtype='object', length=228)\n",
      "BaseEncoder\n",
      "start---- Index(['enter_type_bangdingshoukuanyinhangka_d1',\n",
      "       'enter_type_bangdingshoukuanyinhangka_d14',\n",
      "       'enter_type_bangdingshoukuanyinhangka_d3',\n",
      "       'enter_type_bangdingshoukuanyinhangka_d7',\n",
      "       'enter_type_dianjixiazaiapp_d1', 'enter_type_dianjixiazaiapp_d14',\n",
      "       'enter_type_dianjixiazaiapp_d3', 'enter_type_dianjixiazaiapp_d7',\n",
      "       'enter_type_eduhuifuzhong_d1', 'enter_type_eduhuifuzhong_d14',\n",
      "       ...\n",
      "       'quit_type_xuanzechanpin_d7', 'quit_type_yixiazaiapp_d1',\n",
      "       'quit_type_yixiazaiapp_d14', 'quit_type_yixiazaiapp_d3',\n",
      "       'quit_type_yixiazaiapp_d7', 'quit_type_yuqi_d1', 'quit_type_yuqi_d14',\n",
      "       'quit_type_yuqi_d3', 'quit_type_yuqi_d7', 'fbi_desc'],\n",
      "      dtype='object', length=171)\n",
      "CountEncoder\n",
      "start---- Index(['baitiao_cnt', 'buzu_cnt', 'chushen_cnt', 'cnt_daoqi_dai',\n",
      "       'cnt_daoqi_fenqi', 'cnt_daoqi_finance', 'cnt_daoqi_jiekuan',\n",
      "       'cnt_daoqi_jinrong', 'cnt_daoqi_loan', 'cnt_daoqi_qianbao',\n",
      "       ...\n",
      "       'i602', 'i603', 'i604', 'i605', 'i606', 'i607', 'i614', 'i621',\n",
      "       'jd_ss_score_payday_sort_score', 'td_score_final_score'],\n",
      "      dtype='object', length=225)\n",
      "BaseEncoder\n",
      "start---- Index(['baitiao_cnt', 'buzu_cnt', 'chushen_cnt', 'cnt_daoqi_dai',\n",
      "       'cnt_daoqi_finance', 'cnt_daoqi_jinrong', 'cnt_daoqi_loan',\n",
      "       'cnt_daoqi_qianbao', 'cnt_daoqi_yinhang', 'cnt_failure_dai',\n",
      "       ...\n",
      "       'i307', 'i601', 'i602', 'i603', 'i604', 'i605', 'i606', 'i607',\n",
      "       'jd_ss_score_payday_sort_score', 'td_score_final_score'],\n",
      "      dtype='object', length=198)\n",
      "ContImputerEncoder\n"
     ]
    },
    {
     "name": "stderr",
     "output_type": "stream",
     "text": [
      "/Users/Chenson/anaconda3/lib/python3.6/site-packages/sklearn/utils/deprecation.py:58: DeprecationWarning: Class Imputer is deprecated; Imputer was deprecated in version 0.20 and will be removed in 0.22. Import impute.SimpleImputer from sklearn instead.\n",
      "  warnings.warn(msg, category=DeprecationWarning)\n",
      "/Users/Chenson/anaconda3/lib/python3.6/site-packages/sklearn/utils/deprecation.py:58: DeprecationWarning: Class Imputer is deprecated; Imputer was deprecated in version 0.20 and will be removed in 0.22. Import impute.SimpleImputer from sklearn instead.\n",
      "  warnings.warn(msg, category=DeprecationWarning)\n"
     ]
    },
    {
     "name": "stdout",
     "output_type": "stream",
     "text": [
      "start---- Index(['baitiao_cnt', 'buzu_cnt', 'chushen_cnt', 'cnt_daoqi_dai',\n",
      "       'cnt_daoqi_finance', 'cnt_daoqi_jinrong', 'cnt_daoqi_loan',\n",
      "       'cnt_daoqi_qianbao', 'cnt_daoqi_yinhang', 'cnt_failure_dai',\n",
      "       ...\n",
      "       'i307', 'i601', 'i602', 'i603', 'i604', 'i605', 'i606', 'i607',\n",
      "       'jd_ss_score_payday_sort_score', 'td_score_final_score'],\n",
      "      dtype='object', length=198)\n",
      "ReduceGen\n",
      "start---- Index(['baitiao_cnt', 'buzu_cnt', 'chushen_cnt', 'cnt_daoqi_dai',\n",
      "       'cnt_daoqi_finance', 'cnt_daoqi_jinrong', 'cnt_daoqi_loan',\n",
      "       'cnt_daoqi_qianbao', 'cnt_daoqi_yinhang', 'cnt_failure_dai',\n",
      "       ...\n",
      "       'i605', 'i606', 'i607', 'jd_ss_score_payday_sort_score',\n",
      "       'td_score_final_score', 'KMeans_0', 'KMeans_1', 'KMeans_2', 'KMeans_3',\n",
      "       'KMeans_4'],\n",
      "      dtype='object', length=203)\n",
      "ContBinningEncoder\n",
      "start---- Index(['cnt_failure_qianbao', 'cnt_title_fenqi', 'cnt_title_jiekuan',\n",
      "       'cnt_title_jinrong', 'cnt_title_xianjin', 'cnt_title_xiaofei',\n",
      "       'cnt_title_yinhang', 'duoqi_num', 'enter_type_beiju_d1',\n",
      "       'enter_type_beiju_d14',\n",
      "       ...\n",
      "       'i601_bin', 'i602_bin', 'i603_bin', 'jd_ss_score_payday_sort_score_bin',\n",
      "       'td_score_final_score_bin', 'KMeans_0_bin', 'KMeans_1_bin',\n",
      "       'KMeans_2_bin', 'KMeans_3_bin', 'KMeans_4_bin'],\n",
      "      dtype='object', length=203)\n",
      "WOEEncoder\n",
      "start---- Index(['csqb_gongzhai_feature', 'enter_type_bangdingshoukuanyinhangka_d1',\n",
      "       'enter_type_bangdingshoukuanyinhangka_d14',\n",
      "       'enter_type_bangdingshoukuanyinhangka_d3',\n",
      "       'enter_type_bangdingshoukuanyinhangka_d30',\n",
      "       'enter_type_bangdingshoukuanyinhangka_d7',\n",
      "       'enter_type_dianjixiazaiapp_d1', 'enter_type_dianjixiazaiapp_d14',\n",
      "       'enter_type_dianjixiazaiapp_d3', 'enter_type_dianjixiazaiapp_d30',\n",
      "       ...\n",
      "       'baidu_panshi_black_count_level3', 'baidu_panshi_black_score',\n",
      "       'baidu_panshi_duotou_name_score', 'equipment_app_name', 'fbi_desc',\n",
      "       'i012', 'i107', 'i114', 'i321', 'i630'],\n",
      "      dtype='object', length=228)\n",
      "BaseEncoder\n",
      "start---- Index(['enter_type_bangdingshoukuanyinhangka_d1',\n",
      "       'enter_type_bangdingshoukuanyinhangka_d14',\n",
      "       'enter_type_bangdingshoukuanyinhangka_d3',\n",
      "       'enter_type_bangdingshoukuanyinhangka_d7',\n",
      "       'enter_type_dianjixiazaiapp_d1', 'enter_type_dianjixiazaiapp_d14',\n",
      "       'enter_type_dianjixiazaiapp_d3', 'enter_type_dianjixiazaiapp_d7',\n",
      "       'enter_type_eduhuifuzhong_d1', 'enter_type_eduhuifuzhong_d14',\n",
      "       ...\n",
      "       'quit_type_xuanzechanpin_d7', 'quit_type_yixiazaiapp_d1',\n",
      "       'quit_type_yixiazaiapp_d14', 'quit_type_yixiazaiapp_d3',\n",
      "       'quit_type_yixiazaiapp_d7', 'quit_type_yuqi_d1', 'quit_type_yuqi_d14',\n",
      "       'quit_type_yuqi_d3', 'quit_type_yuqi_d7', 'fbi_desc'],\n",
      "      dtype='object', length=171)\n",
      "CountEncoder\n",
      "start---- Index(['baitiao_cnt', 'buzu_cnt', 'chushen_cnt', 'cnt_daoqi_dai',\n",
      "       'cnt_daoqi_fenqi', 'cnt_daoqi_finance', 'cnt_daoqi_jiekuan',\n",
      "       'cnt_daoqi_jinrong', 'cnt_daoqi_loan', 'cnt_daoqi_qianbao',\n",
      "       ...\n",
      "       'i602', 'i603', 'i604', 'i605', 'i606', 'i607', 'i614', 'i621',\n",
      "       'jd_ss_score_payday_sort_score', 'td_score_final_score'],\n",
      "      dtype='object', length=225)\n",
      "BaseEncoder\n",
      "start---- Index(['baitiao_cnt', 'buzu_cnt', 'chushen_cnt', 'cnt_daoqi_dai',\n",
      "       'cnt_daoqi_finance', 'cnt_daoqi_jinrong', 'cnt_daoqi_loan',\n",
      "       'cnt_daoqi_qianbao', 'cnt_daoqi_yinhang', 'cnt_failure_dai',\n",
      "       ...\n",
      "       'i307', 'i601', 'i602', 'i603', 'i604', 'i605', 'i606', 'i607',\n",
      "       'jd_ss_score_payday_sort_score', 'td_score_final_score'],\n",
      "      dtype='object', length=198)\n",
      "ContImputerEncoder\n",
      "start---- Index(['baitiao_cnt', 'buzu_cnt', 'chushen_cnt', 'cnt_daoqi_dai',\n",
      "       'cnt_daoqi_finance', 'cnt_daoqi_jinrong', 'cnt_daoqi_loan',\n",
      "       'cnt_daoqi_qianbao', 'cnt_daoqi_yinhang', 'cnt_failure_dai',\n",
      "       ...\n",
      "       'i307', 'i601', 'i602', 'i603', 'i604', 'i605', 'i606', 'i607',\n",
      "       'jd_ss_score_payday_sort_score', 'td_score_final_score'],\n",
      "      dtype='object', length=198)\n",
      "ReduceGen\n",
      "start---- Index(['baitiao_cnt', 'buzu_cnt', 'chushen_cnt', 'cnt_daoqi_dai',\n",
      "       'cnt_daoqi_finance', 'cnt_daoqi_jinrong', 'cnt_daoqi_loan',\n",
      "       'cnt_daoqi_qianbao', 'cnt_daoqi_yinhang', 'cnt_failure_dai',\n",
      "       ...\n",
      "       'i605', 'i606', 'i607', 'jd_ss_score_payday_sort_score',\n",
      "       'td_score_final_score', 'KMeans_0', 'KMeans_1', 'KMeans_2', 'KMeans_3',\n",
      "       'KMeans_4'],\n",
      "      dtype='object', length=203)\n",
      "ContBinningEncoder\n",
      "start---- Index(['cnt_failure_qianbao', 'cnt_title_fenqi', 'cnt_title_jiekuan',\n",
      "       'cnt_title_jinrong', 'cnt_title_xianjin', 'cnt_title_xiaofei',\n",
      "       'cnt_title_yinhang', 'duoqi_num', 'enter_type_beiju_d1',\n",
      "       'enter_type_beiju_d14',\n",
      "       ...\n",
      "       'i601_bin', 'i602_bin', 'i603_bin', 'jd_ss_score_payday_sort_score_bin',\n",
      "       'td_score_final_score_bin', 'KMeans_0_bin', 'KMeans_1_bin',\n",
      "       'KMeans_2_bin', 'KMeans_3_bin', 'KMeans_4_bin'],\n",
      "      dtype='object', length=203)\n",
      "WOEEncoder\n"
     ]
    }
   ],
   "source": [
    "js_str = mlearn.transformer_ui(json.dumps(params_trans))"
   ]
  },
  {
   "cell_type": "code",
   "execution_count": 57,
   "metadata": {
    "ExecuteTime": {
     "end_time": "2018-11-12T11:40:18.476034Z",
     "start_time": "2018-11-12T11:40:18.461947Z"
    }
   },
   "outputs": [
    {
     "data": {
      "text/plain": [
       "{'cate': [{'cols': [],\n",
       "   'encoders': [{'method': 'BaseEncoder',\n",
       "     'params': {'cate_thr': 0.5, 'missing_thr': 0.8, 'same_thr': 0.9}},\n",
       "    {'method': 'CountEncoder',\n",
       "     'params': {'log_transform': True, 'smoothing': 1, 'unseen_value': 1}}]}],\n",
       " 'cont': [{'cols': [],\n",
       "   'encoders': [{'method': 'BaseEncoder',\n",
       "     'params': {'cate_thr': 0.5, 'missing_thr': 0.8, 'same_thr': 0.9}},\n",
       "    {'method': 'ContImputerEncoder',\n",
       "     'params': {'axis': 0,\n",
       "      'missing_values': 'NaN',\n",
       "      'strategy': 'mean',\n",
       "      'verbose': 0}},\n",
       "    {'method': 'ReduceGen',\n",
       "     'params': {'method': 'KMeans', 'method_params': {'n_clusters': 5}}},\n",
       "    {'method': 'ContBinningEncoder',\n",
       "     'params': {'binning_method': 'dt', 'bins': 10, 'diff_thr': 20}},\n",
       "    {'method': 'WOEEncoder',\n",
       "     'params': {'diff_thr': 20,\n",
       "      'nan_thr': 0.01,\n",
       "      'woe_max': 20,\n",
       "      'woe_min': -20}}]}],\n",
       " 'custom': [],\n",
       " 'method': 'auto',\n",
       " 'params': {'thr': 5},\n",
       " 'verbose': True}"
      ]
     },
     "execution_count": 57,
     "metadata": {},
     "output_type": "execute_result"
    }
   ],
   "source": [
    "params['transformer']['st'] "
   ]
  },
  {
   "cell_type": "code",
   "execution_count": 6,
   "metadata": {
    "ExecuteTime": {
     "end_time": "2018-11-13T03:22:10.846298Z",
     "start_time": "2018-11-13T03:22:10.837030Z"
    }
   },
   "outputs": [],
   "source": [
    "import dill"
   ]
  },
  {
   "cell_type": "code",
   "execution_count": 7,
   "metadata": {
    "ExecuteTime": {
     "end_time": "2018-11-13T03:22:11.361839Z",
     "start_time": "2018-11-13T03:22:11.351203Z"
    }
   },
   "outputs": [
    {
     "data": {
      "text/plain": [
       "'01d'"
      ]
     },
     "execution_count": 7,
     "metadata": {},
     "output_type": "execute_result"
    }
   ],
   "source": [
    "params['transformer']['ds']['label']['name']"
   ]
  },
  {
   "cell_type": "code",
   "execution_count": 8,
   "metadata": {
    "ExecuteTime": {
     "end_time": "2018-11-13T03:22:13.819308Z",
     "start_time": "2018-11-13T03:22:13.400029Z"
    }
   },
   "outputs": [
    {
     "name": "stdout",
     "output_type": "stream",
     "text": [
      "BaseEncoder_0_0.pkl         WOEEncoder_1_4.pkl\r\n",
      "BaseEncoder_1_0.pkl         ds_0_0.pkl\r\n",
      "ContBinningEncoder_1_2.pkl  ds_0_1.pkl\r\n",
      "ContBinningEncoder_1_3.pkl  ds_1_0.pkl\r\n",
      "ContImputerEncoder_1_0.pkl  ds_1_1.pkl\r\n",
      "ContImputerEncoder_1_1.pkl  ds_1_2.pkl\r\n",
      "CountEncoder_0_0.pkl        ds_1_3.pkl\r\n",
      "CountEncoder_0_1.pkl        ds_1_4.pkl\r\n",
      "ReduceGen_1_1.pkl           transformer_enc.pkl\r\n",
      "ReduceGen_1_2.pkl           transformer_result.pkl\r\n",
      "WOEEncoder_1_3.pkl\r\n"
     ]
    }
   ],
   "source": [
    "ls /Users/Chenson/dev/flow_0/transformer/train"
   ]
  },
  {
   "cell_type": "code",
   "execution_count": 9,
   "metadata": {
    "ExecuteTime": {
     "end_time": "2018-11-13T03:22:14.535647Z",
     "start_time": "2018-11-13T03:22:14.384116Z"
    }
   },
   "outputs": [
    {
     "name": "stdout",
     "output_type": "stream",
     "text": [
      "ds_0_0.pkl              ds_1_1.pkl              ds_1_4.pkl\r\n",
      "ds_0_1.pkl              ds_1_2.pkl              transformer_result.pkl\r\n",
      "ds_1_0.pkl              ds_1_3.pkl\r\n"
     ]
    }
   ],
   "source": [
    "ls /Users/Chenson/dev/flow_0/transformer/test"
   ]
  },
  {
   "cell_type": "code",
   "execution_count": 10,
   "metadata": {
    "ExecuteTime": {
     "end_time": "2018-11-13T03:22:17.477780Z",
     "start_time": "2018-11-13T03:22:17.387535Z"
    }
   },
   "outputs": [],
   "source": [
    "df['01d'] = df.overdue_days.map(lambda x : 1 if x > 1 else 0)"
   ]
  },
  {
   "cell_type": "code",
   "execution_count": 11,
   "metadata": {
    "ExecuteTime": {
     "end_time": "2018-11-13T03:22:20.775331Z",
     "start_time": "2018-11-13T03:22:18.993145Z"
    }
   },
   "outputs": [],
   "source": [
    "enc = pd.read_pickle('/Users/Chenson/dev/flow_0/transformer/train/transformer_enc.pkl')"
   ]
  },
  {
   "cell_type": "code",
   "execution_count": 12,
   "metadata": {
    "ExecuteTime": {
     "end_time": "2018-11-13T03:22:42.001370Z",
     "start_time": "2018-11-13T03:22:21.630919Z"
    }
   },
   "outputs": [
    {
     "name": "stdout",
     "output_type": "stream",
     "text": [
      "start---- Index(['csqb_gongzhai_feature', 'enter_type_bangdingshoukuanyinhangka_d1',\n",
      "       'enter_type_bangdingshoukuanyinhangka_d14',\n",
      "       'enter_type_bangdingshoukuanyinhangka_d3',\n",
      "       'enter_type_bangdingshoukuanyinhangka_d30',\n",
      "       'enter_type_bangdingshoukuanyinhangka_d7',\n",
      "       'enter_type_dianjixiazaiapp_d1', 'enter_type_dianjixiazaiapp_d14',\n",
      "       'enter_type_dianjixiazaiapp_d3', 'enter_type_dianjixiazaiapp_d30',\n",
      "       ...\n",
      "       'baidu_panshi_black_score', 'baidu_panshi_duotou_name_score',\n",
      "       'equipment_app_name', 'fbi_desc', 'i012', 'i107', 'i114', 'i321',\n",
      "       'i630', 'level'],\n",
      "      dtype='object', length=230)\n",
      "BaseEncoder\n",
      "start---- Index(['enter_type_bangdingshoukuanyinhangka_d1',\n",
      "       'enter_type_bangdingshoukuanyinhangka_d14',\n",
      "       'enter_type_bangdingshoukuanyinhangka_d3',\n",
      "       'enter_type_bangdingshoukuanyinhangka_d7',\n",
      "       'enter_type_dianjixiazaiapp_d1', 'enter_type_dianjixiazaiapp_d14',\n",
      "       'enter_type_dianjixiazaiapp_d3', 'enter_type_dianjixiazaiapp_d7',\n",
      "       'enter_type_eduhuifuzhong_d1', 'enter_type_eduhuifuzhong_d14',\n",
      "       ...\n",
      "       'quit_type_yixiazaiapp_d1', 'quit_type_yixiazaiapp_d14',\n",
      "       'quit_type_yixiazaiapp_d3', 'quit_type_yixiazaiapp_d7',\n",
      "       'quit_type_yuqi_d1', 'quit_type_yuqi_d14', 'quit_type_yuqi_d3',\n",
      "       'quit_type_yuqi_d7', 'fbi_desc', 'level'],\n",
      "      dtype='object', length=172)\n",
      "CountEncoder\n",
      "start---- Index(['Unnamed: 0', 'baitiao_cnt', 'buzu_cnt', 'chushen_cnt', 'cnt_daoqi_dai',\n",
      "       'cnt_daoqi_fenqi', 'cnt_daoqi_finance', 'cnt_daoqi_jiekuan',\n",
      "       'cnt_daoqi_jinrong', 'cnt_daoqi_loan',\n",
      "       ...\n",
      "       'i603', 'i604', 'i605', 'i606', 'i607', 'i614', 'i621',\n",
      "       'jd_ss_score_payday_sort_score', 'overdue_days',\n",
      "       'td_score_final_score'],\n",
      "      dtype='object', length=228)\n",
      "BaseEncoder\n",
      "start---- Index(['Unnamed: 0', 'baitiao_cnt', 'buzu_cnt', 'chushen_cnt', 'cnt_daoqi_dai',\n",
      "       'cnt_daoqi_finance', 'cnt_daoqi_jinrong', 'cnt_daoqi_loan',\n",
      "       'cnt_daoqi_qianbao', 'cnt_daoqi_yinhang',\n",
      "       ...\n",
      "       'i601', 'i602', 'i603', 'i604', 'i605', 'i606', 'i607',\n",
      "       'jd_ss_score_payday_sort_score', 'overdue_days',\n",
      "       'td_score_final_score'],\n",
      "      dtype='object', length=201)\n",
      "ContImputerEncoder\n"
     ]
    },
    {
     "name": "stderr",
     "output_type": "stream",
     "text": [
      "/Users/Chenson/anaconda3/lib/python3.6/site-packages/sklearn/utils/deprecation.py:58: DeprecationWarning: Class Imputer is deprecated; Imputer was deprecated in version 0.20 and will be removed in 0.22. Import impute.SimpleImputer from sklearn instead.\n",
      "  warnings.warn(msg, category=DeprecationWarning)\n",
      "/Users/Chenson/anaconda3/lib/python3.6/site-packages/sklearn/utils/deprecation.py:58: DeprecationWarning: Class Imputer is deprecated; Imputer was deprecated in version 0.20 and will be removed in 0.22. Import impute.SimpleImputer from sklearn instead.\n",
      "  warnings.warn(msg, category=DeprecationWarning)\n"
     ]
    },
    {
     "name": "stdout",
     "output_type": "stream",
     "text": [
      "start---- Index(['Unnamed: 0', 'baitiao_cnt', 'buzu_cnt', 'chushen_cnt', 'cnt_daoqi_dai',\n",
      "       'cnt_daoqi_finance', 'cnt_daoqi_jinrong', 'cnt_daoqi_loan',\n",
      "       'cnt_daoqi_qianbao', 'cnt_daoqi_yinhang',\n",
      "       ...\n",
      "       'i601', 'i602', 'i603', 'i604', 'i605', 'i606', 'i607',\n",
      "       'jd_ss_score_payday_sort_score', 'overdue_days',\n",
      "       'td_score_final_score'],\n",
      "      dtype='object', length=201)\n",
      "ReduceGen\n",
      "start---- Index(['Unnamed: 0', 'baitiao_cnt', 'buzu_cnt', 'chushen_cnt', 'cnt_daoqi_dai',\n",
      "       'cnt_daoqi_finance', 'cnt_daoqi_jinrong', 'cnt_daoqi_loan',\n",
      "       'cnt_daoqi_qianbao', 'cnt_daoqi_yinhang',\n",
      "       ...\n",
      "       'i606', 'i607', 'jd_ss_score_payday_sort_score', 'overdue_days',\n",
      "       'td_score_final_score', 'KMeans_0', 'KMeans_1', 'KMeans_2', 'KMeans_3',\n",
      "       'KMeans_4'],\n",
      "      dtype='object', length=206)\n",
      "ContBinningEncoder\n",
      "start---- Index(['cnt_failure_qianbao', 'cnt_title_fenqi', 'cnt_title_jiekuan',\n",
      "       'cnt_title_jinrong', 'cnt_title_xianjin', 'cnt_title_xiaofei',\n",
      "       'cnt_title_yinhang', 'duoqi_num', 'enter_type_beiju_d1',\n",
      "       'enter_type_beiju_d14',\n",
      "       ...\n",
      "       'i602_bin', 'i603_bin', 'jd_ss_score_payday_sort_score_bin',\n",
      "       'overdue_days_bin', 'td_score_final_score_bin', 'KMeans_0_bin',\n",
      "       'KMeans_1_bin', 'KMeans_2_bin', 'KMeans_3_bin', 'KMeans_4_bin'],\n",
      "      dtype='object', length=206)\n",
      "WOEEncoder\n"
     ]
    },
    {
     "data": {
      "text/plain": [
       "FeatureTransformer(dst='/Users/Chenson/dev/flow_0/transformer/train',\n",
       "          st={'cate': [{'cols': ['csqb_gongzhai_feature', 'enter_type_bangdingshoukuanyinhangka_d1', 'enter_type_bangdingshoukuanyinhangka_d14', 'enter_type_bangdingshoukuanyinhangka_d3', 'enter_type_bangdingshoukuanyinhangka_d30', 'enter_type_bangdingshoukuanyinhangka_d7', 'enter_type_dianjixiazaiapp_d1', 'e...woe_max=20, woe_min=-20)}]}], 'custom': [], 'method': 'auto', 'params': {'thr': 5}, 'verbose': True})"
      ]
     },
     "execution_count": 12,
     "metadata": {},
     "output_type": "execute_result"
    }
   ],
   "source": [
    "enc.fit(df, '01d')"
   ]
  },
  {
   "cell_type": "code",
   "execution_count": 13,
   "metadata": {
    "ExecuteTime": {
     "end_time": "2018-11-13T03:25:41.278904Z",
     "start_time": "2018-11-13T03:25:27.274766Z"
    }
   },
   "outputs": [
    {
     "name": "stdout",
     "output_type": "stream",
     "text": [
      "start---- Index(['csqb_gongzhai_feature', 'enter_type_bangdingshoukuanyinhangka_d1',\n",
      "       'enter_type_bangdingshoukuanyinhangka_d14',\n",
      "       'enter_type_bangdingshoukuanyinhangka_d3',\n",
      "       'enter_type_bangdingshoukuanyinhangka_d30',\n",
      "       'enter_type_bangdingshoukuanyinhangka_d7',\n",
      "       'enter_type_dianjixiazaiapp_d1', 'enter_type_dianjixiazaiapp_d14',\n",
      "       'enter_type_dianjixiazaiapp_d3', 'enter_type_dianjixiazaiapp_d30',\n",
      "       ...\n",
      "       'baidu_panshi_black_score', 'baidu_panshi_duotou_name_score',\n",
      "       'equipment_app_name', 'fbi_desc', 'i012', 'i107', 'i114', 'i321',\n",
      "       'i630', 'level'],\n",
      "      dtype='object', length=230)\n",
      "BaseEncoder\n",
      "start---- Index(['enter_type_bangdingshoukuanyinhangka_d1',\n",
      "       'enter_type_bangdingshoukuanyinhangka_d14',\n",
      "       'enter_type_bangdingshoukuanyinhangka_d3',\n",
      "       'enter_type_bangdingshoukuanyinhangka_d7',\n",
      "       'enter_type_dianjixiazaiapp_d1', 'enter_type_dianjixiazaiapp_d14',\n",
      "       'enter_type_dianjixiazaiapp_d3', 'enter_type_dianjixiazaiapp_d7',\n",
      "       'enter_type_eduhuifuzhong_d1', 'enter_type_eduhuifuzhong_d14',\n",
      "       ...\n",
      "       'quit_type_yixiazaiapp_d1', 'quit_type_yixiazaiapp_d14',\n",
      "       'quit_type_yixiazaiapp_d3', 'quit_type_yixiazaiapp_d7',\n",
      "       'quit_type_yuqi_d1', 'quit_type_yuqi_d14', 'quit_type_yuqi_d3',\n",
      "       'quit_type_yuqi_d7', 'fbi_desc', 'level'],\n",
      "      dtype='object', length=172)\n",
      "CountEncoder\n",
      "start---- Index(['Unnamed: 0', 'baitiao_cnt', 'buzu_cnt', 'chushen_cnt', 'cnt_daoqi_dai',\n",
      "       'cnt_daoqi_fenqi', 'cnt_daoqi_finance', 'cnt_daoqi_jiekuan',\n",
      "       'cnt_daoqi_jinrong', 'cnt_daoqi_loan',\n",
      "       ...\n",
      "       'i603', 'i604', 'i605', 'i606', 'i607', 'i614', 'i621',\n",
      "       'jd_ss_score_payday_sort_score', 'overdue_days',\n",
      "       'td_score_final_score'],\n",
      "      dtype='object', length=228)\n",
      "BaseEncoder\n",
      "start---- Index(['Unnamed: 0', 'baitiao_cnt', 'buzu_cnt', 'chushen_cnt', 'cnt_daoqi_dai',\n",
      "       'cnt_daoqi_finance', 'cnt_daoqi_jinrong', 'cnt_daoqi_loan',\n",
      "       'cnt_daoqi_qianbao', 'cnt_daoqi_yinhang',\n",
      "       ...\n",
      "       'i601', 'i602', 'i603', 'i604', 'i605', 'i606', 'i607',\n",
      "       'jd_ss_score_payday_sort_score', 'overdue_days',\n",
      "       'td_score_final_score'],\n",
      "      dtype='object', length=201)\n",
      "ContImputerEncoder\n",
      "start---- Index(['Unnamed: 0', 'baitiao_cnt', 'buzu_cnt', 'chushen_cnt', 'cnt_daoqi_dai',\n",
      "       'cnt_daoqi_finance', 'cnt_daoqi_jinrong', 'cnt_daoqi_loan',\n",
      "       'cnt_daoqi_qianbao', 'cnt_daoqi_yinhang',\n",
      "       ...\n",
      "       'i601', 'i602', 'i603', 'i604', 'i605', 'i606', 'i607',\n",
      "       'jd_ss_score_payday_sort_score', 'overdue_days',\n",
      "       'td_score_final_score'],\n",
      "      dtype='object', length=201)\n",
      "ReduceGen\n",
      "start---- Index(['Unnamed: 0', 'baitiao_cnt', 'buzu_cnt', 'chushen_cnt', 'cnt_daoqi_dai',\n",
      "       'cnt_daoqi_finance', 'cnt_daoqi_jinrong', 'cnt_daoqi_loan',\n",
      "       'cnt_daoqi_qianbao', 'cnt_daoqi_yinhang',\n",
      "       ...\n",
      "       'i606', 'i607', 'jd_ss_score_payday_sort_score', 'overdue_days',\n",
      "       'td_score_final_score', 'KMeans_0', 'KMeans_1', 'KMeans_2', 'KMeans_3',\n",
      "       'KMeans_4'],\n",
      "      dtype='object', length=206)\n",
      "ContBinningEncoder\n",
      "start---- Index(['cnt_failure_qianbao', 'cnt_title_fenqi', 'cnt_title_jiekuan',\n",
      "       'cnt_title_jinrong', 'cnt_title_xianjin', 'cnt_title_xiaofei',\n",
      "       'cnt_title_yinhang', 'duoqi_num', 'enter_type_beiju_d1',\n",
      "       'enter_type_beiju_d14',\n",
      "       ...\n",
      "       'i602_bin', 'i603_bin', 'jd_ss_score_payday_sort_score_bin',\n",
      "       'overdue_days_bin', 'td_score_final_score_bin', 'KMeans_0_bin',\n",
      "       'KMeans_1_bin', 'KMeans_2_bin', 'KMeans_3_bin', 'KMeans_4_bin'],\n",
      "      dtype='object', length=206)\n",
      "WOEEncoder\n"
     ]
    }
   ],
   "source": [
    "df_trans = enc.transform(df)"
   ]
  },
  {
   "cell_type": "code",
   "execution_count": 14,
   "metadata": {
    "ExecuteTime": {
     "end_time": "2018-11-13T03:26:16.049901Z",
     "start_time": "2018-11-13T03:26:16.022911Z"
    },
    "scrolled": false
   },
   "outputs": [
    {
     "data": {
      "text/plain": [
       "['01d',\n",
       " 'KMeans_0_bin_woe',\n",
       " 'KMeans_1_bin_woe',\n",
       " 'KMeans_2_bin_woe',\n",
       " 'KMeans_3_bin_woe',\n",
       " 'KMeans_4_bin_woe',\n",
       " 'Unnamed: 0_bin_woe',\n",
       " 'apply_risk_id_bin_woe',\n",
       " 'baidu_panshi_duotou_identity_score_bin_woe',\n",
       " 'baidu_panshi_duotou_phone_score_bin_woe',\n",
       " 'baidu_panshi_prea_score_bin_woe',\n",
       " 'baitiao_cnt_bin_woe',\n",
       " 'buzu_cnt_bin_woe',\n",
       " 'chushen_cnt_bin_woe',\n",
       " 'cnt_daoqi_dai_bin_woe',\n",
       " 'cnt_daoqi_finance_bin_woe',\n",
       " 'cnt_daoqi_jinrong_bin_woe',\n",
       " 'cnt_daoqi_loan_bin_woe',\n",
       " 'cnt_daoqi_qianbao_bin_woe',\n",
       " 'cnt_daoqi_yinhang_bin_woe',\n",
       " 'cnt_failure_dai_bin_woe',\n",
       " 'cnt_failure_finance_bin_woe',\n",
       " 'cnt_failure_jinrong_bin_woe',\n",
       " 'cnt_failure_loan_bin_woe',\n",
       " 'cnt_failure_qianbao_woe',\n",
       " 'cnt_failure_yinhang_bin_woe',\n",
       " 'cnt_finance_message_bin_woe',\n",
       " 'cnt_loan_message_bin_woe',\n",
       " 'cnt_title_dai_bin_woe',\n",
       " 'cnt_title_fenqi_woe',\n",
       " 'cnt_title_finance_bin_woe',\n",
       " 'cnt_title_jiekuan_woe',\n",
       " 'cnt_title_jinrong_woe',\n",
       " 'cnt_title_loan_bin_woe',\n",
       " 'cnt_title_qianbao_bin_woe',\n",
       " 'cnt_title_xianjin_woe',\n",
       " 'cnt_title_xiaofei_woe',\n",
       " 'cnt_title_yinhang_woe',\n",
       " 'cnt_yuqi_dai_bin_woe',\n",
       " 'cnt_yuqi_finance_bin_woe',\n",
       " 'cnt_yuqi_jinrong_bin_woe',\n",
       " 'cnt_yuqi_loan_bin_woe',\n",
       " 'cnt_yuqi_qianbao_bin_woe',\n",
       " 'cnt_yuqi_yinhang_bin_woe',\n",
       " 'dai_cnt_bin_woe',\n",
       " 'dai_fenqi_cnt_bin_woe',\n",
       " 'dai_jiekuan_cnt_bin_woe',\n",
       " 'dai_xiaofei_cnt_bin_woe',\n",
       " 'daikou_cnt_bin_woe',\n",
       " 'daikuan_cnt_bin_woe',\n",
       " 'danqi_num_bin_woe',\n",
       " 'daoqi_dai_cnt_bin_woe',\n",
       " 'daoqi_fenqi_cnt_bin_woe',\n",
       " 'daoqi_jiekuan_cnt_bin_woe',\n",
       " 'daoqi_jinrong_cnt_bin_woe',\n",
       " 'daoqi_qianbao_cnt_bin_woe',\n",
       " 'daoqi_xianjin_cnt_bin_woe',\n",
       " 'daoqi_xiaofei_cnt_bin_woe',\n",
       " 'daozhang_cnt_bin_woe',\n",
       " 'duoqi_num_woe',\n",
       " 'edu_cnt_bin_woe',\n",
       " 'enter_type_bangdingshoukuanyinhangka_d14_count',\n",
       " 'enter_type_bangdingshoukuanyinhangka_d1_count',\n",
       " 'enter_type_bangdingshoukuanyinhangka_d3_count',\n",
       " 'enter_type_bangdingshoukuanyinhangka_d7_count',\n",
       " 'enter_type_beiju_d14_woe',\n",
       " 'enter_type_beiju_d1_woe',\n",
       " 'enter_type_beiju_d3_woe',\n",
       " 'enter_type_beiju_d7_woe',\n",
       " 'enter_type_beijuyonghu_d14_woe',\n",
       " 'enter_type_beijuyonghu_d1_woe',\n",
       " 'enter_type_beijuyonghu_d3_woe',\n",
       " 'enter_type_beijuyonghu_d7_woe',\n",
       " 'enter_type_dianjixiazaiapp_d14_count',\n",
       " 'enter_type_dianjixiazaiapp_d1_count',\n",
       " 'enter_type_dianjixiazaiapp_d3_count',\n",
       " 'enter_type_dianjixiazaiapp_d7_count',\n",
       " 'enter_type_eduhuifuzhong_d14_count',\n",
       " 'enter_type_eduhuifuzhong_d1_count',\n",
       " 'enter_type_eduhuifuzhong_d3_count',\n",
       " 'enter_type_eduhuifuzhong_d7_count',\n",
       " 'enter_type_huankuanchenggong_d14_count',\n",
       " 'enter_type_huankuanchenggong_d1_count',\n",
       " 'enter_type_huankuanchenggong_d3_count',\n",
       " 'enter_type_huankuanchenggong_d7_count',\n",
       " 'enter_type_lijihuankuan_d14_count',\n",
       " 'enter_type_lijihuankuan_d1_count',\n",
       " 'enter_type_lijihuankuan_d3_count',\n",
       " 'enter_type_lijihuankuan_d7_count',\n",
       " 'enter_type_querendingdan_d14_count',\n",
       " 'enter_type_querendingdan_d1_count',\n",
       " 'enter_type_querendingdan_d3_count',\n",
       " 'enter_type_querendingdan_d7_count',\n",
       " 'enter_type_querenjiekuan_d14_bin_woe',\n",
       " 'enter_type_querenjiekuan_d1_woe',\n",
       " 'enter_type_querenjiekuan_d30_bin_woe',\n",
       " 'enter_type_querenjiekuan_d3_woe',\n",
       " 'enter_type_querenjiekuan_d7_woe',\n",
       " 'enter_type_shenfenrenzheng_d14_woe',\n",
       " 'enter_type_shenfenrenzheng_d1_woe',\n",
       " 'enter_type_shenfenrenzheng_d30_bin_woe',\n",
       " 'enter_type_shenfenrenzheng_d3_woe',\n",
       " 'enter_type_shenfenrenzheng_d7_woe',\n",
       " 'enter_type_tixian_d14_count',\n",
       " 'enter_type_tixian_d1_count',\n",
       " 'enter_type_tixian_d3_count',\n",
       " 'enter_type_tixian_d7_count',\n",
       " 'enter_type_tixianxinyongdaitisheng_d14_count',\n",
       " 'enter_type_tixianxinyongdaitisheng_d1_count',\n",
       " 'enter_type_tixianxinyongdaitisheng_d3_count',\n",
       " 'enter_type_tixianxinyongdaitisheng_d7_count',\n",
       " 'enter_type_tongyi_d14_count',\n",
       " 'enter_type_tongyi_d1_count',\n",
       " 'enter_type_tongyi_d3_count',\n",
       " 'enter_type_tongyi_d7_count',\n",
       " 'enter_type_wangjimima_d14_count',\n",
       " 'enter_type_wangjimima_d1_count',\n",
       " 'enter_type_wangjimima_d3_count',\n",
       " 'enter_type_wangjimima_d7_count',\n",
       " 'enter_type_woyaohuankuan_d14_count',\n",
       " 'enter_type_woyaohuankuan_d1_count',\n",
       " 'enter_type_woyaohuankuan_d3_count',\n",
       " 'enter_type_woyaohuankuan_d7_count',\n",
       " 'enter_type_xuanzechanpin_d14_count',\n",
       " 'enter_type_xuanzechanpin_d1_count',\n",
       " 'enter_type_xuanzechanpin_d3_count',\n",
       " 'enter_type_xuanzechanpin_d7_count',\n",
       " 'enter_type_yixiazaiapp_d14_count',\n",
       " 'enter_type_yixiazaiapp_d1_count',\n",
       " 'enter_type_yixiazaiapp_d3_count',\n",
       " 'enter_type_yixiazaiapp_d7_count',\n",
       " 'enter_type_yuqi_d14_bin_woe',\n",
       " 'enter_type_yuqi_d1_bin_woe',\n",
       " 'enter_type_yuqi_d30_bin_woe',\n",
       " 'enter_type_yuqi_d3_bin_woe',\n",
       " 'enter_type_yuqi_d7_bin_woe',\n",
       " 'farest_created_span_bin_woe',\n",
       " 'farest_yuqi_day_bin_woe',\n",
       " 'fbi_desc_count',\n",
       " 'fbi_score_bin_woe',\n",
       " 'fenqi_cnt_bin_woe',\n",
       " 'fenqi_jinrong_cnt_bin_woe',\n",
       " 'fenqi_qianbao_cnt_bin_woe',\n",
       " 'first_last_created_span_bin_woe',\n",
       " 'gongzi_cnt_bin_woe',\n",
       " 'hit_type_bangdingshoukuanyinhangka_d14_bin_woe',\n",
       " 'hit_type_bangdingshoukuanyinhangka_d1_woe',\n",
       " 'hit_type_bangdingshoukuanyinhangka_d30_bin_woe',\n",
       " 'hit_type_bangdingshoukuanyinhangka_d3_woe',\n",
       " 'hit_type_bangdingshoukuanyinhangka_d7_woe',\n",
       " 'hit_type_beiju_d14_woe',\n",
       " 'hit_type_beiju_d1_woe',\n",
       " 'hit_type_beiju_d3_woe',\n",
       " 'hit_type_beiju_d7_woe',\n",
       " 'hit_type_beijuyonghu_d14_count',\n",
       " 'hit_type_beijuyonghu_d1_count',\n",
       " 'hit_type_beijuyonghu_d3_count',\n",
       " 'hit_type_beijuyonghu_d7_count',\n",
       " 'hit_type_dianjixiazaiapp_d14_woe',\n",
       " 'hit_type_dianjixiazaiapp_d1_count',\n",
       " 'hit_type_dianjixiazaiapp_d3_count',\n",
       " 'hit_type_dianjixiazaiapp_d7_count',\n",
       " 'hit_type_eduhuifuzhong_d14_count',\n",
       " 'hit_type_eduhuifuzhong_d1_count',\n",
       " 'hit_type_eduhuifuzhong_d3_count',\n",
       " 'hit_type_eduhuifuzhong_d7_count',\n",
       " 'hit_type_huankuanchenggong_d14_count',\n",
       " 'hit_type_huankuanchenggong_d1_count',\n",
       " 'hit_type_huankuanchenggong_d3_count',\n",
       " 'hit_type_huankuanchenggong_d7_count',\n",
       " 'hit_type_lijihuankuan_d14_bin_woe',\n",
       " 'hit_type_lijihuankuan_d1_woe',\n",
       " 'hit_type_lijihuankuan_d30_bin_woe',\n",
       " 'hit_type_lijihuankuan_d3_bin_woe',\n",
       " 'hit_type_lijihuankuan_d7_bin_woe',\n",
       " 'hit_type_querendingdan_d14_count',\n",
       " 'hit_type_querendingdan_d1_count',\n",
       " 'hit_type_querendingdan_d3_count',\n",
       " 'hit_type_querendingdan_d7_count',\n",
       " 'hit_type_querenjiekuan_d14_bin_woe',\n",
       " 'hit_type_querenjiekuan_d1_woe',\n",
       " 'hit_type_querenjiekuan_d30_bin_woe',\n",
       " 'hit_type_querenjiekuan_d3_woe',\n",
       " 'hit_type_querenjiekuan_d7_bin_woe',\n",
       " 'hit_type_shenfenrenzheng_d14_bin_woe',\n",
       " 'hit_type_shenfenrenzheng_d1_woe',\n",
       " 'hit_type_shenfenrenzheng_d30_bin_woe',\n",
       " 'hit_type_shenfenrenzheng_d3_bin_woe',\n",
       " 'hit_type_shenfenrenzheng_d7_bin_woe',\n",
       " 'hit_type_tixian_d14_count',\n",
       " 'hit_type_tixian_d1_count',\n",
       " 'hit_type_tixian_d3_count',\n",
       " 'hit_type_tixian_d7_count',\n",
       " 'hit_type_tixianxinyongdaitisheng_d14_count',\n",
       " 'hit_type_tixianxinyongdaitisheng_d1_count',\n",
       " 'hit_type_tixianxinyongdaitisheng_d3_count',\n",
       " 'hit_type_tixianxinyongdaitisheng_d7_count',\n",
       " 'hit_type_tongyi_d14_count',\n",
       " 'hit_type_tongyi_d1_count',\n",
       " 'hit_type_tongyi_d3_count',\n",
       " 'hit_type_tongyi_d7_count',\n",
       " 'hit_type_wangjimima_d14_count',\n",
       " 'hit_type_wangjimima_d1_count',\n",
       " 'hit_type_wangjimima_d3_count',\n",
       " 'hit_type_wangjimima_d7_count',\n",
       " 'hit_type_woyaohuankuan_d14_bin_woe',\n",
       " 'hit_type_woyaohuankuan_d1_woe',\n",
       " 'hit_type_woyaohuankuan_d30_bin_woe',\n",
       " 'hit_type_woyaohuankuan_d3_woe',\n",
       " 'hit_type_woyaohuankuan_d7_woe',\n",
       " 'hit_type_xuanzechanpin_d14_count',\n",
       " 'hit_type_xuanzechanpin_d1_count',\n",
       " 'hit_type_xuanzechanpin_d3_count',\n",
       " 'hit_type_xuanzechanpin_d7_count',\n",
       " 'hit_type_yixiazaiapp_d14_count',\n",
       " 'hit_type_yixiazaiapp_d1_count',\n",
       " 'hit_type_yixiazaiapp_d3_count',\n",
       " 'hit_type_yixiazaiapp_d7_count',\n",
       " 'hit_type_yuqi_d14_count',\n",
       " 'hit_type_yuqi_d1_count',\n",
       " 'hit_type_yuqi_d3_count',\n",
       " 'hit_type_yuqi_d7_count',\n",
       " 'huabei_cnt_bin_woe',\n",
       " 'huafei_cnt_bin_woe',\n",
       " 'huandai_cnt_bin_woe',\n",
       " 'huankuan_cnt_bin_woe',\n",
       " 'i011_bin_woe',\n",
       " 'i031_bin_woe',\n",
       " 'i061_bin_woe',\n",
       " 'i101_woe',\n",
       " 'i102_woe',\n",
       " 'i103_woe',\n",
       " 'i104_woe',\n",
       " 'i301_bin_woe',\n",
       " 'i302_bin_woe',\n",
       " 'i303_woe',\n",
       " 'i304_woe',\n",
       " 'i305_woe',\n",
       " 'i306_woe',\n",
       " 'i307_woe',\n",
       " 'i601_bin_woe',\n",
       " 'i602_bin_woe',\n",
       " 'i603_bin_woe',\n",
       " 'i604_woe',\n",
       " 'i605_woe',\n",
       " 'i606_woe',\n",
       " 'i607_woe',\n",
       " 'jd_ss_score_payday_sort_score_bin_woe',\n",
       " 'jiebei_cnt_bin_woe',\n",
       " 'jiekuan_fenqi_cnt_bin_woe',\n",
       " 'jiekuan_jinrong_cnt_bin_woe',\n",
       " 'jiekuan_qianbao_cnt_bin_woe',\n",
       " 'jiekuan_xianjin_cnt_bin_woe',\n",
       " 'jiekuan_xiaofei_cnt_bin_woe',\n",
       " 'jieqing_cnt_bin_woe',\n",
       " 'jine_cnt_bin_woe',\n",
       " 'koukuan_cnt_bin_woe',\n",
       " 'kuaidi_cnt_bin_woe',\n",
       " 'last_latest_created_span_bin_woe',\n",
       " 'latest_borrow_span_bin_woe',\n",
       " 'latest_yuqi_day_bin_woe',\n",
       " 'level_count',\n",
       " 'lianjie_cnt_bin_woe',\n",
       " 'max_yuqi_day_bin_woe',\n",
       " 'mean_created_span_bin_woe',\n",
       " 'mean_first_last_created_span_bin_woe',\n",
       " 'mean_yuqi_day_bin_woe',\n",
       " 'min_yuqi_day_bin_woe',\n",
       " 'overdue_days_bin_woe',\n",
       " 'qian_cnt_bin_woe',\n",
       " 'qianbao_cnt_bin_woe',\n",
       " 'qianbao_jinrong_cnt_bin_woe',\n",
       " 'qiankuan_cnt_bin_woe',\n",
       " 'quit_type_bangdingshoukuanyinhangka_d14_count',\n",
       " 'quit_type_bangdingshoukuanyinhangka_d1_count',\n",
       " 'quit_type_bangdingshoukuanyinhangka_d3_count',\n",
       " 'quit_type_bangdingshoukuanyinhangka_d7_count',\n",
       " 'quit_type_beiju_d14_count',\n",
       " 'quit_type_beiju_d1_count',\n",
       " 'quit_type_beiju_d3_count',\n",
       " 'quit_type_beiju_d7_count',\n",
       " 'quit_type_beijuyonghu_d14_count',\n",
       " 'quit_type_beijuyonghu_d1_count',\n",
       " 'quit_type_beijuyonghu_d3_count',\n",
       " 'quit_type_beijuyonghu_d7_count',\n",
       " 'quit_type_dianjixiazaiapp_d14_count',\n",
       " 'quit_type_dianjixiazaiapp_d1_count',\n",
       " 'quit_type_dianjixiazaiapp_d3_count',\n",
       " 'quit_type_dianjixiazaiapp_d7_count',\n",
       " 'quit_type_eduhuifuzhong_d14_count',\n",
       " 'quit_type_eduhuifuzhong_d1_count',\n",
       " 'quit_type_eduhuifuzhong_d3_count',\n",
       " 'quit_type_eduhuifuzhong_d7_count',\n",
       " 'quit_type_huankuanchenggong_d14_count',\n",
       " 'quit_type_huankuanchenggong_d1_count',\n",
       " 'quit_type_huankuanchenggong_d3_count',\n",
       " 'quit_type_huankuanchenggong_d7_count',\n",
       " 'quit_type_lijihuankuan_d14_count',\n",
       " 'quit_type_lijihuankuan_d1_count',\n",
       " 'quit_type_lijihuankuan_d3_count',\n",
       " 'quit_type_lijihuankuan_d7_count',\n",
       " 'quit_type_querendingdan_d14_count',\n",
       " 'quit_type_querendingdan_d1_count',\n",
       " 'quit_type_querendingdan_d3_count',\n",
       " 'quit_type_querendingdan_d7_count',\n",
       " 'quit_type_querenjiekuan_d14_count',\n",
       " 'quit_type_querenjiekuan_d1_count',\n",
       " 'quit_type_querenjiekuan_d3_count',\n",
       " 'quit_type_querenjiekuan_d7_count',\n",
       " 'quit_type_shenfenrenzheng_d14_woe',\n",
       " 'quit_type_shenfenrenzheng_d1_count',\n",
       " 'quit_type_shenfenrenzheng_d30_woe',\n",
       " 'quit_type_shenfenrenzheng_d3_count',\n",
       " 'quit_type_shenfenrenzheng_d7_count',\n",
       " 'quit_type_tixian_d14_count',\n",
       " 'quit_type_tixian_d1_count',\n",
       " 'quit_type_tixian_d3_count',\n",
       " 'quit_type_tixian_d7_count',\n",
       " 'quit_type_tixianxinyongdaitisheng_d14_count',\n",
       " 'quit_type_tixianxinyongdaitisheng_d1_count',\n",
       " 'quit_type_tixianxinyongdaitisheng_d3_count',\n",
       " 'quit_type_tixianxinyongdaitisheng_d7_count',\n",
       " 'quit_type_tongyi_d14_count',\n",
       " 'quit_type_tongyi_d1_count',\n",
       " 'quit_type_tongyi_d3_count',\n",
       " 'quit_type_tongyi_d7_count',\n",
       " 'quit_type_wangjimima_d14_count',\n",
       " 'quit_type_wangjimima_d1_count',\n",
       " 'quit_type_wangjimima_d3_count',\n",
       " 'quit_type_wangjimima_d7_count',\n",
       " 'quit_type_woyaohuankuan_d14_count',\n",
       " 'quit_type_woyaohuankuan_d1_count',\n",
       " 'quit_type_woyaohuankuan_d3_count',\n",
       " 'quit_type_woyaohuankuan_d7_count',\n",
       " 'quit_type_xuanzechanpin_d14_count',\n",
       " 'quit_type_xuanzechanpin_d1_count',\n",
       " 'quit_type_xuanzechanpin_d3_count',\n",
       " 'quit_type_xuanzechanpin_d7_count',\n",
       " 'quit_type_yixiazaiapp_d14_count',\n",
       " 'quit_type_yixiazaiapp_d1_count',\n",
       " 'quit_type_yixiazaiapp_d3_count',\n",
       " 'quit_type_yixiazaiapp_d7_count',\n",
       " 'quit_type_yuqi_d14_count',\n",
       " 'quit_type_yuqi_d1_count',\n",
       " 'quit_type_yuqi_d3_count',\n",
       " 'quit_type_yuqi_d7_count',\n",
       " 'ruzhang_cnt_bin_woe',\n",
       " 'shenhe_cnt_bin_woe',\n",
       " 'shixiao_cnt_bin_woe',\n",
       " 'std_yuqi_day_bin_woe',\n",
       " 'td_score_final_score_bin_woe',\n",
       " 'tixian_cnt_bin_woe',\n",
       " 'tongguo_cnt_bin_woe',\n",
       " 'touzhi_cnt_bin_woe',\n",
       " 'weihuan_cnt_bin_woe',\n",
       " 'weiyue_cnt_bin_woe',\n",
       " 'xiakuan_cnt_bin_woe',\n",
       " 'xianjin_fenqi_cnt_bin_woe',\n",
       " 'xianjin_xiaofei_cnt_bin_woe',\n",
       " 'xiaofei_cnt_bin_woe',\n",
       " 'xiaofei_jinrong_cnt_bin_woe',\n",
       " 'xiaofei_qianbao_cnt_bin_woe',\n",
       " 'xinyong_cnt_bin_woe',\n",
       " 'xinyongka_cnt_bin_woe',\n",
       " 'yanzhengma_cnt_bin_woe',\n",
       " 'yinhang_cnt_bin_woe',\n",
       " 'yiyuqi_cnt_bin_woe',\n",
       " 'yue_cnt_bin_woe',\n",
       " 'yuqi_cnt_bin_woe',\n",
       " 'yuqi_dai_cnt_bin_woe',\n",
       " 'yuqi_fenqi_cnt_bin_woe',\n",
       " 'yuqi_jiekuan_cnt_bin_woe',\n",
       " 'yuqi_jinrong_cnt_bin_woe',\n",
       " 'yuqi_qianbao_cnt_bin_woe',\n",
       " 'yuqi_xianjin_cnt_bin_woe',\n",
       " 'zhangdan_cnt_bin_woe',\n",
       " 'zhengxin_cnt_bin_woe',\n",
       " 'zhichu_cnt_bin_woe',\n",
       " 'zhifubao_cnt_bin_woe']"
      ]
     },
     "execution_count": 14,
     "metadata": {},
     "output_type": "execute_result"
    }
   ],
   "source": [
    "sorted(df_trans.columns)"
   ]
  },
  {
   "cell_type": "code",
   "execution_count": 15,
   "metadata": {
    "ExecuteTime": {
     "end_time": "2018-11-13T03:26:37.689548Z",
     "start_time": "2018-11-13T03:26:37.604731Z"
    }
   },
   "outputs": [
    {
     "data": {
      "text/html": [
       "<div>\n",
       "<style scoped>\n",
       "    .dataframe tbody tr th:only-of-type {\n",
       "        vertical-align: middle;\n",
       "    }\n",
       "\n",
       "    .dataframe tbody tr th {\n",
       "        vertical-align: top;\n",
       "    }\n",
       "\n",
       "    .dataframe thead th {\n",
       "        text-align: right;\n",
       "    }\n",
       "</style>\n",
       "<table border=\"1\" class=\"dataframe\">\n",
       "  <thead>\n",
       "    <tr style=\"text-align: right;\">\n",
       "      <th></th>\n",
       "      <th>enter_type_bangdingshoukuanyinhangka_d1_count</th>\n",
       "      <th>enter_type_bangdingshoukuanyinhangka_d14_count</th>\n",
       "      <th>enter_type_bangdingshoukuanyinhangka_d3_count</th>\n",
       "      <th>enter_type_bangdingshoukuanyinhangka_d7_count</th>\n",
       "      <th>enter_type_dianjixiazaiapp_d1_count</th>\n",
       "      <th>enter_type_dianjixiazaiapp_d14_count</th>\n",
       "      <th>enter_type_dianjixiazaiapp_d3_count</th>\n",
       "      <th>enter_type_dianjixiazaiapp_d7_count</th>\n",
       "      <th>enter_type_eduhuifuzhong_d1_count</th>\n",
       "      <th>enter_type_eduhuifuzhong_d14_count</th>\n",
       "      <th>...</th>\n",
       "      <th>i603_bin_woe</th>\n",
       "      <th>jd_ss_score_payday_sort_score_bin_woe</th>\n",
       "      <th>overdue_days_bin_woe</th>\n",
       "      <th>td_score_final_score_bin_woe</th>\n",
       "      <th>KMeans_0_bin_woe</th>\n",
       "      <th>KMeans_1_bin_woe</th>\n",
       "      <th>KMeans_2_bin_woe</th>\n",
       "      <th>KMeans_3_bin_woe</th>\n",
       "      <th>KMeans_4_bin_woe</th>\n",
       "      <th>01d</th>\n",
       "    </tr>\n",
       "  </thead>\n",
       "  <tbody>\n",
       "    <tr>\n",
       "      <th>0</th>\n",
       "      <td>7.830426</td>\n",
       "      <td>8.970178</td>\n",
       "      <td>8.423542</td>\n",
       "      <td>8.717846</td>\n",
       "      <td>7.830426</td>\n",
       "      <td>8.970178</td>\n",
       "      <td>8.423542</td>\n",
       "      <td>8.717846</td>\n",
       "      <td>7.830426</td>\n",
       "      <td>8.970178</td>\n",
       "      <td>...</td>\n",
       "      <td>-0.0878</td>\n",
       "      <td>0.031811</td>\n",
       "      <td>-20</td>\n",
       "      <td>-0.278599</td>\n",
       "      <td>0.388560</td>\n",
       "      <td>0.379187</td>\n",
       "      <td>0.378805</td>\n",
       "      <td>0.284307</td>\n",
       "      <td>0.378805</td>\n",
       "      <td>0</td>\n",
       "    </tr>\n",
       "    <tr>\n",
       "      <th>1</th>\n",
       "      <td>8.920790</td>\n",
       "      <td>8.970178</td>\n",
       "      <td>8.603187</td>\n",
       "      <td>8.266421</td>\n",
       "      <td>8.920790</td>\n",
       "      <td>8.970178</td>\n",
       "      <td>8.603187</td>\n",
       "      <td>8.266421</td>\n",
       "      <td>8.920790</td>\n",
       "      <td>8.970178</td>\n",
       "      <td>...</td>\n",
       "      <td>-0.0878</td>\n",
       "      <td>0.031811</td>\n",
       "      <td>-20</td>\n",
       "      <td>0.071198</td>\n",
       "      <td>0.110182</td>\n",
       "      <td>0.082883</td>\n",
       "      <td>0.110182</td>\n",
       "      <td>0.123662</td>\n",
       "      <td>0.090239</td>\n",
       "      <td>0</td>\n",
       "    </tr>\n",
       "    <tr>\n",
       "      <th>2</th>\n",
       "      <td>7.830426</td>\n",
       "      <td>8.970178</td>\n",
       "      <td>8.423542</td>\n",
       "      <td>8.717846</td>\n",
       "      <td>7.830426</td>\n",
       "      <td>8.970178</td>\n",
       "      <td>8.423542</td>\n",
       "      <td>8.717846</td>\n",
       "      <td>7.830426</td>\n",
       "      <td>8.970178</td>\n",
       "      <td>...</td>\n",
       "      <td>-0.0878</td>\n",
       "      <td>-0.116908</td>\n",
       "      <td>20</td>\n",
       "      <td>0.192242</td>\n",
       "      <td>0.215421</td>\n",
       "      <td>0.082883</td>\n",
       "      <td>0.215421</td>\n",
       "      <td>0.289231</td>\n",
       "      <td>0.215421</td>\n",
       "      <td>1</td>\n",
       "    </tr>\n",
       "    <tr>\n",
       "      <th>3</th>\n",
       "      <td>8.920790</td>\n",
       "      <td>8.970178</td>\n",
       "      <td>8.603187</td>\n",
       "      <td>8.266421</td>\n",
       "      <td>8.920790</td>\n",
       "      <td>8.970178</td>\n",
       "      <td>8.603187</td>\n",
       "      <td>8.266421</td>\n",
       "      <td>8.920790</td>\n",
       "      <td>8.970178</td>\n",
       "      <td>...</td>\n",
       "      <td>-0.0878</td>\n",
       "      <td>-0.554771</td>\n",
       "      <td>20</td>\n",
       "      <td>0.192242</td>\n",
       "      <td>0.463299</td>\n",
       "      <td>0.466818</td>\n",
       "      <td>0.453208</td>\n",
       "      <td>0.540203</td>\n",
       "      <td>0.453208</td>\n",
       "      <td>1</td>\n",
       "    </tr>\n",
       "    <tr>\n",
       "      <th>4</th>\n",
       "      <td>8.920790</td>\n",
       "      <td>8.970178</td>\n",
       "      <td>8.423542</td>\n",
       "      <td>8.717846</td>\n",
       "      <td>8.920790</td>\n",
       "      <td>8.970178</td>\n",
       "      <td>8.423542</td>\n",
       "      <td>8.717846</td>\n",
       "      <td>8.920790</td>\n",
       "      <td>8.970178</td>\n",
       "      <td>...</td>\n",
       "      <td>-0.0878</td>\n",
       "      <td>-0.116908</td>\n",
       "      <td>20</td>\n",
       "      <td>0.192242</td>\n",
       "      <td>0.215421</td>\n",
       "      <td>0.082883</td>\n",
       "      <td>0.215421</td>\n",
       "      <td>0.289231</td>\n",
       "      <td>0.215421</td>\n",
       "      <td>1</td>\n",
       "    </tr>\n",
       "  </tbody>\n",
       "</table>\n",
       "<p>5 rows × 379 columns</p>\n",
       "</div>"
      ],
      "text/plain": [
       "   enter_type_bangdingshoukuanyinhangka_d1_count  \\\n",
       "0                                       7.830426   \n",
       "1                                       8.920790   \n",
       "2                                       7.830426   \n",
       "3                                       8.920790   \n",
       "4                                       8.920790   \n",
       "\n",
       "   enter_type_bangdingshoukuanyinhangka_d14_count  \\\n",
       "0                                        8.970178   \n",
       "1                                        8.970178   \n",
       "2                                        8.970178   \n",
       "3                                        8.970178   \n",
       "4                                        8.970178   \n",
       "\n",
       "   enter_type_bangdingshoukuanyinhangka_d3_count  \\\n",
       "0                                       8.423542   \n",
       "1                                       8.603187   \n",
       "2                                       8.423542   \n",
       "3                                       8.603187   \n",
       "4                                       8.423542   \n",
       "\n",
       "   enter_type_bangdingshoukuanyinhangka_d7_count  \\\n",
       "0                                       8.717846   \n",
       "1                                       8.266421   \n",
       "2                                       8.717846   \n",
       "3                                       8.266421   \n",
       "4                                       8.717846   \n",
       "\n",
       "   enter_type_dianjixiazaiapp_d1_count  enter_type_dianjixiazaiapp_d14_count  \\\n",
       "0                             7.830426                              8.970178   \n",
       "1                             8.920790                              8.970178   \n",
       "2                             7.830426                              8.970178   \n",
       "3                             8.920790                              8.970178   \n",
       "4                             8.920790                              8.970178   \n",
       "\n",
       "   enter_type_dianjixiazaiapp_d3_count  enter_type_dianjixiazaiapp_d7_count  \\\n",
       "0                             8.423542                             8.717846   \n",
       "1                             8.603187                             8.266421   \n",
       "2                             8.423542                             8.717846   \n",
       "3                             8.603187                             8.266421   \n",
       "4                             8.423542                             8.717846   \n",
       "\n",
       "   enter_type_eduhuifuzhong_d1_count  enter_type_eduhuifuzhong_d14_count ...   \\\n",
       "0                           7.830426                            8.970178 ...    \n",
       "1                           8.920790                            8.970178 ...    \n",
       "2                           7.830426                            8.970178 ...    \n",
       "3                           8.920790                            8.970178 ...    \n",
       "4                           8.920790                            8.970178 ...    \n",
       "\n",
       "   i603_bin_woe  jd_ss_score_payday_sort_score_bin_woe  overdue_days_bin_woe  \\\n",
       "0       -0.0878                               0.031811                   -20   \n",
       "1       -0.0878                               0.031811                   -20   \n",
       "2       -0.0878                              -0.116908                    20   \n",
       "3       -0.0878                              -0.554771                    20   \n",
       "4       -0.0878                              -0.116908                    20   \n",
       "\n",
       "   td_score_final_score_bin_woe  KMeans_0_bin_woe  KMeans_1_bin_woe  \\\n",
       "0                     -0.278599          0.388560          0.379187   \n",
       "1                      0.071198          0.110182          0.082883   \n",
       "2                      0.192242          0.215421          0.082883   \n",
       "3                      0.192242          0.463299          0.466818   \n",
       "4                      0.192242          0.215421          0.082883   \n",
       "\n",
       "   KMeans_2_bin_woe  KMeans_3_bin_woe  KMeans_4_bin_woe  01d  \n",
       "0          0.378805          0.284307          0.378805    0  \n",
       "1          0.110182          0.123662          0.090239    0  \n",
       "2          0.215421          0.289231          0.215421    1  \n",
       "3          0.453208          0.540203          0.453208    1  \n",
       "4          0.215421          0.289231          0.215421    1  \n",
       "\n",
       "[5 rows x 379 columns]"
      ]
     },
     "execution_count": 15,
     "metadata": {},
     "output_type": "execute_result"
    }
   ],
   "source": [
    "df_trans.head()"
   ]
  },
  {
   "cell_type": "code",
   "execution_count": 16,
   "metadata": {
    "ExecuteTime": {
     "end_time": "2018-11-13T03:26:50.577902Z",
     "start_time": "2018-11-13T03:26:40.934642Z"
    }
   },
   "outputs": [
    {
     "name": "stdout",
     "output_type": "stream",
     "text": [
      "start baitiao_cnt --------------\n",
      "start buzu_cnt --------------\n",
      "start chushen_cnt --------------\n",
      "start cnt_daoqi_dai --------------\n",
      "start cnt_daoqi_fenqi --------------\n",
      "start cnt_daoqi_finance --------------\n",
      "start cnt_daoqi_jiekuan --------------\n",
      "start cnt_daoqi_jinrong --------------\n",
      "start cnt_daoqi_loan --------------\n",
      "start cnt_daoqi_qianbao --------------\n",
      "start cnt_daoqi_xianjin --------------\n",
      "start cnt_daoqi_xiaofei --------------\n",
      "start cnt_daoqi_yinhang --------------\n",
      "start cnt_failure_dai --------------\n",
      "start cnt_failure_fenqi --------------\n",
      "start cnt_failure_finance --------------\n",
      "start cnt_failure_jiekuan --------------\n",
      "start cnt_failure_jinrong --------------\n",
      "start cnt_failure_loan --------------\n",
      "start cnt_failure_qianbao --------------\n",
      "start cnt_failure_xianjin --------------\n",
      "start cnt_failure_xiaofei --------------\n",
      "start cnt_failure_yinhang --------------\n",
      "start cnt_finance_message --------------\n",
      "start cnt_loan_message --------------\n",
      "start cnt_title_dai --------------\n",
      "start cnt_title_fenqi --------------\n",
      "start cnt_title_finance --------------\n",
      "start cnt_title_jiekuan --------------\n",
      "start cnt_title_jinrong --------------\n",
      "start cnt_title_loan --------------\n",
      "start cnt_title_qianbao --------------\n",
      "start cnt_title_xianjin --------------\n",
      "start cnt_title_xiaofei --------------\n",
      "start cnt_title_yinhang --------------\n",
      "start cnt_yuqi_dai --------------\n",
      "start cnt_yuqi_fenqi --------------\n",
      "start cnt_yuqi_finance --------------\n",
      "start cnt_yuqi_jiekuan --------------\n",
      "start cnt_yuqi_jinrong --------------\n",
      "start cnt_yuqi_loan --------------\n",
      "start cnt_yuqi_qianbao --------------\n",
      "start cnt_yuqi_xianjin --------------\n",
      "start cnt_yuqi_xiaofei --------------\n",
      "start cnt_yuqi_yinhang --------------\n",
      "start csqb_apply_pass_cnt --------------\n",
      "start csqb_apply_refuse_cnt --------------\n",
      "start csqb_apply_times --------------\n",
      "start csqb_gongzhai_feature --------------\n",
      "start csqb_overdue_days --------------\n",
      "start dai_cnt --------------\n",
      "start dai_fenqi_cnt --------------\n",
      "start dai_jiekuan_cnt --------------\n",
      "start dai_xiaofei_cnt --------------\n",
      "start daikou_cnt --------------\n",
      "start daikuan_cnt --------------\n",
      "start danqi_num --------------\n",
      "start daoqi_dai_cnt --------------\n",
      "start daoqi_fenqi_cnt --------------\n",
      "start daoqi_jiekuan_cnt --------------\n",
      "start daoqi_jinrong_cnt --------------\n",
      "start daoqi_qianbao_cnt --------------\n",
      "start daoqi_xianjin_cnt --------------\n",
      "start daoqi_xiaofei_cnt --------------\n",
      "start daozhang_cnt --------------\n",
      "start duoqi_num --------------\n",
      "start edu_cnt --------------\n",
      "start enter_type_bangdingshoukuanyinhangka_d1 --------------\n",
      "start enter_type_bangdingshoukuanyinhangka_d14 --------------\n",
      "start enter_type_bangdingshoukuanyinhangka_d3 --------------\n",
      "start enter_type_bangdingshoukuanyinhangka_d30 --------------\n",
      "start enter_type_bangdingshoukuanyinhangka_d7 --------------\n",
      "start enter_type_beiju_d1 --------------\n",
      "start enter_type_beiju_d14 --------------\n",
      "start enter_type_beiju_d3 --------------\n",
      "start enter_type_beiju_d30 --------------\n",
      "start enter_type_beiju_d7 --------------\n",
      "start enter_type_beijuyonghu_d1 --------------\n",
      "start enter_type_beijuyonghu_d14 --------------\n",
      "start enter_type_beijuyonghu_d3 --------------\n",
      "start enter_type_beijuyonghu_d30 --------------\n",
      "start enter_type_beijuyonghu_d7 --------------\n",
      "start enter_type_dianjixiazaiapp_d1 --------------\n",
      "start enter_type_dianjixiazaiapp_d14 --------------\n",
      "start enter_type_dianjixiazaiapp_d3 --------------\n",
      "start enter_type_dianjixiazaiapp_d30 --------------\n",
      "start enter_type_dianjixiazaiapp_d7 --------------\n",
      "start enter_type_eduhuifuzhong_d1 --------------\n",
      "start enter_type_eduhuifuzhong_d14 --------------\n",
      "start enter_type_eduhuifuzhong_d3 --------------\n",
      "start enter_type_eduhuifuzhong_d30 --------------\n",
      "start enter_type_eduhuifuzhong_d7 --------------\n",
      "start enter_type_huankuanchenggong_d1 --------------\n",
      "start enter_type_huankuanchenggong_d14 --------------\n",
      "start enter_type_huankuanchenggong_d3 --------------\n",
      "start enter_type_huankuanchenggong_d30 --------------\n",
      "start enter_type_huankuanchenggong_d7 --------------\n",
      "start enter_type_lijihuankuan_d1 --------------\n",
      "start enter_type_lijihuankuan_d14 --------------\n",
      "start enter_type_lijihuankuan_d3 --------------\n",
      "start enter_type_lijihuankuan_d30 --------------\n",
      "start enter_type_lijihuankuan_d7 --------------\n",
      "start enter_type_querendingdan_d1 --------------\n",
      "start enter_type_querendingdan_d14 --------------\n",
      "start enter_type_querendingdan_d3 --------------\n",
      "start enter_type_querendingdan_d30 --------------\n",
      "start enter_type_querendingdan_d7 --------------\n",
      "start enter_type_querenjiekuan_d1 --------------\n",
      "start enter_type_querenjiekuan_d14 --------------\n",
      "start enter_type_querenjiekuan_d3 --------------\n",
      "start enter_type_querenjiekuan_d30 --------------\n",
      "start enter_type_querenjiekuan_d7 --------------\n",
      "start enter_type_shenfenrenzheng_d1 --------------\n",
      "start enter_type_shenfenrenzheng_d14 --------------\n",
      "start enter_type_shenfenrenzheng_d3 --------------\n",
      "start enter_type_shenfenrenzheng_d30 --------------\n",
      "start enter_type_shenfenrenzheng_d7 --------------\n",
      "start enter_type_tixian_d1 --------------\n",
      "start enter_type_tixian_d14 --------------\n",
      "start enter_type_tixian_d3 --------------\n",
      "start enter_type_tixian_d30 --------------\n",
      "start enter_type_tixian_d7 --------------\n",
      "start enter_type_tixianxinyongdaitisheng_d1 --------------\n",
      "start enter_type_tixianxinyongdaitisheng_d14 --------------\n",
      "start enter_type_tixianxinyongdaitisheng_d3 --------------\n",
      "start enter_type_tixianxinyongdaitisheng_d30 --------------\n",
      "start enter_type_tixianxinyongdaitisheng_d7 --------------\n",
      "start enter_type_tongyi_d1 --------------\n",
      "start enter_type_tongyi_d14 --------------\n",
      "start enter_type_tongyi_d3 --------------\n",
      "start enter_type_tongyi_d30 --------------\n",
      "start enter_type_tongyi_d7 --------------\n",
      "start enter_type_wangjimima_d1 --------------\n",
      "start enter_type_wangjimima_d14 --------------\n",
      "start enter_type_wangjimima_d3 --------------\n",
      "start enter_type_wangjimima_d30 --------------\n",
      "start enter_type_wangjimima_d7 --------------\n",
      "start enter_type_woyaohuankuan_d1 --------------\n",
      "start enter_type_woyaohuankuan_d14 --------------\n",
      "start enter_type_woyaohuankuan_d3 --------------\n",
      "start enter_type_woyaohuankuan_d30 --------------\n",
      "start enter_type_woyaohuankuan_d7 --------------\n",
      "start enter_type_xuanzechanpin_d1 --------------\n",
      "start enter_type_xuanzechanpin_d14 --------------\n",
      "start enter_type_xuanzechanpin_d3 --------------\n",
      "start enter_type_xuanzechanpin_d30 --------------\n",
      "start enter_type_xuanzechanpin_d7 --------------\n",
      "start enter_type_yixiazaiapp_d1 --------------\n",
      "start enter_type_yixiazaiapp_d14 --------------\n",
      "start enter_type_yixiazaiapp_d3 --------------\n",
      "start enter_type_yixiazaiapp_d30 --------------\n",
      "start enter_type_yixiazaiapp_d7 --------------\n",
      "start enter_type_yuqi_d1 --------------\n",
      "start enter_type_yuqi_d14 --------------\n",
      "start enter_type_yuqi_d3 --------------\n",
      "start enter_type_yuqi_d30 --------------\n",
      "start enter_type_yuqi_d7 --------------\n",
      "start farest_created_span --------------\n",
      "start farest_yuqi_day --------------\n",
      "start fenqi_cnt --------------\n",
      "start fenqi_jinrong_cnt --------------\n",
      "start fenqi_qianbao_cnt --------------\n",
      "start first_last_created_span --------------\n",
      "start gongzi_cnt --------------\n",
      "start hit_type_bangdingshoukuanyinhangka_d1 --------------\n",
      "start hit_type_bangdingshoukuanyinhangka_d14 --------------\n",
      "start hit_type_bangdingshoukuanyinhangka_d3 --------------\n",
      "start hit_type_bangdingshoukuanyinhangka_d30 --------------\n",
      "start hit_type_bangdingshoukuanyinhangka_d7 --------------\n",
      "start hit_type_beiju_d1 --------------\n",
      "start hit_type_beiju_d14 --------------\n",
      "start hit_type_beiju_d3 --------------\n",
      "start hit_type_beiju_d30 --------------\n",
      "start hit_type_beiju_d7 --------------\n",
      "start hit_type_beijuyonghu_d1 --------------\n",
      "start hit_type_beijuyonghu_d14 --------------\n",
      "start hit_type_beijuyonghu_d3 --------------\n",
      "start hit_type_beijuyonghu_d30 --------------\n",
      "start hit_type_beijuyonghu_d7 --------------\n",
      "start hit_type_dianjixiazaiapp_d1 --------------\n",
      "start hit_type_dianjixiazaiapp_d14 --------------\n",
      "start hit_type_dianjixiazaiapp_d3 --------------\n",
      "start hit_type_dianjixiazaiapp_d30 --------------\n",
      "start hit_type_dianjixiazaiapp_d7 --------------\n",
      "start hit_type_eduhuifuzhong_d1 --------------\n",
      "start hit_type_eduhuifuzhong_d14 --------------\n",
      "start hit_type_eduhuifuzhong_d3 --------------\n",
      "start hit_type_eduhuifuzhong_d30 --------------\n",
      "start hit_type_eduhuifuzhong_d7 --------------\n",
      "start hit_type_huankuanchenggong_d1 --------------\n",
      "start hit_type_huankuanchenggong_d14 --------------\n",
      "start hit_type_huankuanchenggong_d3 --------------\n",
      "start hit_type_huankuanchenggong_d30 --------------\n",
      "start hit_type_huankuanchenggong_d7 --------------\n",
      "start hit_type_lijihuankuan_d1 --------------\n",
      "start hit_type_lijihuankuan_d14 --------------\n",
      "start hit_type_lijihuankuan_d3 --------------\n",
      "start hit_type_lijihuankuan_d30 --------------\n",
      "start hit_type_lijihuankuan_d7 --------------\n",
      "start hit_type_querendingdan_d1 --------------\n",
      "start hit_type_querendingdan_d14 --------------\n",
      "start hit_type_querendingdan_d3 --------------\n",
      "start hit_type_querendingdan_d30 --------------\n",
      "start hit_type_querendingdan_d7 --------------\n",
      "start hit_type_querenjiekuan_d1 --------------\n",
      "start hit_type_querenjiekuan_d14 --------------\n",
      "start hit_type_querenjiekuan_d3 --------------\n"
     ]
    },
    {
     "name": "stdout",
     "output_type": "stream",
     "text": [
      "start hit_type_querenjiekuan_d30 --------------\n",
      "start hit_type_querenjiekuan_d7 --------------\n",
      "start hit_type_shenfenrenzheng_d1 --------------\n",
      "start hit_type_shenfenrenzheng_d14 --------------\n",
      "start hit_type_shenfenrenzheng_d3 --------------\n",
      "start hit_type_shenfenrenzheng_d30 --------------\n",
      "start hit_type_shenfenrenzheng_d7 --------------\n",
      "start hit_type_tixian_d1 --------------\n",
      "start hit_type_tixian_d14 --------------\n",
      "start hit_type_tixian_d3 --------------\n",
      "start hit_type_tixian_d30 --------------\n",
      "start hit_type_tixian_d7 --------------\n",
      "start hit_type_tixianxinyongdaitisheng_d1 --------------\n",
      "start hit_type_tixianxinyongdaitisheng_d14 --------------\n",
      "start hit_type_tixianxinyongdaitisheng_d3 --------------\n",
      "start hit_type_tixianxinyongdaitisheng_d30 --------------\n",
      "start hit_type_tixianxinyongdaitisheng_d7 --------------\n",
      "start hit_type_tongyi_d1 --------------\n",
      "start hit_type_tongyi_d14 --------------\n",
      "start hit_type_tongyi_d3 --------------\n",
      "start hit_type_tongyi_d30 --------------\n",
      "start hit_type_tongyi_d7 --------------\n",
      "start hit_type_wangjimima_d1 --------------\n",
      "start hit_type_wangjimima_d14 --------------\n",
      "start hit_type_wangjimima_d3 --------------\n",
      "start hit_type_wangjimima_d30 --------------\n",
      "start hit_type_wangjimima_d7 --------------\n",
      "start hit_type_woyaohuankuan_d1 --------------\n",
      "start hit_type_woyaohuankuan_d14 --------------\n",
      "start hit_type_woyaohuankuan_d3 --------------\n",
      "start hit_type_woyaohuankuan_d30 --------------\n",
      "start hit_type_woyaohuankuan_d7 --------------\n",
      "start hit_type_xuanzechanpin_d1 --------------\n",
      "start hit_type_xuanzechanpin_d14 --------------\n",
      "start hit_type_xuanzechanpin_d3 --------------\n",
      "start hit_type_xuanzechanpin_d30 --------------\n",
      "start hit_type_xuanzechanpin_d7 --------------\n",
      "start hit_type_yixiazaiapp_d1 --------------\n",
      "start hit_type_yixiazaiapp_d14 --------------\n",
      "start hit_type_yixiazaiapp_d3 --------------\n",
      "start hit_type_yixiazaiapp_d30 --------------\n",
      "start hit_type_yixiazaiapp_d7 --------------\n",
      "start hit_type_yuqi_d1 --------------\n",
      "start hit_type_yuqi_d14 --------------\n",
      "start hit_type_yuqi_d3 --------------\n",
      "start hit_type_yuqi_d30 --------------\n",
      "start hit_type_yuqi_d7 --------------\n",
      "start huabei_cnt --------------\n",
      "start huafei_cnt --------------\n",
      "start huandai_cnt --------------\n",
      "start huankuan_cnt --------------\n",
      "start jiebei_cnt --------------\n",
      "start jiekuan_fenqi_cnt --------------\n",
      "start jiekuan_jinrong_cnt --------------\n",
      "start jiekuan_qianbao_cnt --------------\n",
      "start jiekuan_xianjin_cnt --------------\n",
      "start jiekuan_xiaofei_cnt --------------\n",
      "start jieqing_cnt --------------\n",
      "start jine_cnt --------------\n",
      "start koukuan_cnt --------------\n",
      "start kuaidi_cnt --------------\n",
      "start last_latest_created_span --------------\n",
      "start latest_borrow_span --------------\n",
      "start latest_yuqi_day --------------\n",
      "start lianjie_cnt --------------\n",
      "start max_yuqi_day --------------\n",
      "start mean_created_span --------------\n",
      "start mean_first_last_created_span --------------\n",
      "start mean_yuqi_day --------------\n",
      "start min_yuqi_day --------------\n",
      "start qian_cnt --------------\n",
      "start qianbao_cnt --------------\n",
      "start qianbao_jinrong_cnt --------------\n",
      "start qiankuan_cnt --------------\n",
      "start quit_type_bangdingshoukuanyinhangka_d1 --------------\n",
      "start quit_type_bangdingshoukuanyinhangka_d14 --------------\n",
      "start quit_type_bangdingshoukuanyinhangka_d3 --------------\n",
      "start quit_type_bangdingshoukuanyinhangka_d30 --------------\n",
      "start quit_type_bangdingshoukuanyinhangka_d7 --------------\n",
      "start quit_type_beiju_d1 --------------\n",
      "start quit_type_beiju_d14 --------------\n",
      "start quit_type_beiju_d3 --------------\n",
      "start quit_type_beiju_d30 --------------\n",
      "start quit_type_beiju_d7 --------------\n",
      "start quit_type_beijuyonghu_d1 --------------\n",
      "start quit_type_beijuyonghu_d14 --------------\n",
      "start quit_type_beijuyonghu_d3 --------------\n",
      "start quit_type_beijuyonghu_d30 --------------\n",
      "start quit_type_beijuyonghu_d7 --------------\n",
      "start quit_type_dianjixiazaiapp_d1 --------------\n",
      "start quit_type_dianjixiazaiapp_d14 --------------\n",
      "start quit_type_dianjixiazaiapp_d3 --------------\n",
      "start quit_type_dianjixiazaiapp_d30 --------------\n",
      "start quit_type_dianjixiazaiapp_d7 --------------\n",
      "start quit_type_eduhuifuzhong_d1 --------------\n",
      "start quit_type_eduhuifuzhong_d14 --------------\n",
      "start quit_type_eduhuifuzhong_d3 --------------\n",
      "start quit_type_eduhuifuzhong_d30 --------------\n",
      "start quit_type_eduhuifuzhong_d7 --------------\n",
      "start quit_type_huankuanchenggong_d1 --------------\n",
      "start quit_type_huankuanchenggong_d14 --------------\n",
      "start quit_type_huankuanchenggong_d3 --------------\n",
      "start quit_type_huankuanchenggong_d30 --------------\n",
      "start quit_type_huankuanchenggong_d7 --------------\n",
      "start quit_type_lijihuankuan_d1 --------------\n",
      "start quit_type_lijihuankuan_d14 --------------\n",
      "start quit_type_lijihuankuan_d3 --------------\n",
      "start quit_type_lijihuankuan_d30 --------------\n",
      "start quit_type_lijihuankuan_d7 --------------\n",
      "start quit_type_querendingdan_d1 --------------\n",
      "start quit_type_querendingdan_d14 --------------\n",
      "start quit_type_querendingdan_d3 --------------\n",
      "start quit_type_querendingdan_d30 --------------\n",
      "start quit_type_querendingdan_d7 --------------\n",
      "start quit_type_querenjiekuan_d1 --------------\n",
      "start quit_type_querenjiekuan_d14 --------------\n",
      "start quit_type_querenjiekuan_d3 --------------\n",
      "start quit_type_querenjiekuan_d30 --------------\n",
      "start quit_type_querenjiekuan_d7 --------------\n",
      "start quit_type_shenfenrenzheng_d1 --------------\n",
      "start quit_type_shenfenrenzheng_d14 --------------\n",
      "start quit_type_shenfenrenzheng_d3 --------------\n",
      "start quit_type_shenfenrenzheng_d30 --------------\n",
      "start quit_type_shenfenrenzheng_d7 --------------\n",
      "start quit_type_tixian_d1 --------------\n",
      "start quit_type_tixian_d14 --------------\n",
      "start quit_type_tixian_d3 --------------\n",
      "start quit_type_tixian_d30 --------------\n",
      "start quit_type_tixian_d7 --------------\n",
      "start quit_type_tixianxinyongdaitisheng_d1 --------------\n",
      "start quit_type_tixianxinyongdaitisheng_d14 --------------\n",
      "start quit_type_tixianxinyongdaitisheng_d3 --------------\n",
      "start quit_type_tixianxinyongdaitisheng_d30 --------------\n",
      "start quit_type_tixianxinyongdaitisheng_d7 --------------\n",
      "start quit_type_tongyi_d1 --------------\n",
      "start quit_type_tongyi_d14 --------------\n",
      "start quit_type_tongyi_d3 --------------\n",
      "start quit_type_tongyi_d30 --------------\n",
      "start quit_type_tongyi_d7 --------------\n",
      "start quit_type_wangjimima_d1 --------------\n",
      "start quit_type_wangjimima_d14 --------------\n",
      "start quit_type_wangjimima_d3 --------------\n",
      "start quit_type_wangjimima_d30 --------------\n",
      "start quit_type_wangjimima_d7 --------------\n",
      "start quit_type_woyaohuankuan_d1 --------------\n",
      "start quit_type_woyaohuankuan_d14 --------------\n",
      "start quit_type_woyaohuankuan_d3 --------------\n",
      "start quit_type_woyaohuankuan_d30 --------------\n",
      "start quit_type_woyaohuankuan_d7 --------------\n",
      "start quit_type_xuanzechanpin_d1 --------------\n",
      "start quit_type_xuanzechanpin_d14 --------------\n",
      "start quit_type_xuanzechanpin_d3 --------------\n",
      "start quit_type_xuanzechanpin_d30 --------------\n",
      "start quit_type_xuanzechanpin_d7 --------------\n",
      "start quit_type_yixiazaiapp_d1 --------------\n",
      "start quit_type_yixiazaiapp_d14 --------------\n",
      "start quit_type_yixiazaiapp_d3 --------------\n",
      "start quit_type_yixiazaiapp_d30 --------------\n",
      "start quit_type_yixiazaiapp_d7 --------------\n",
      "start quit_type_yuqi_d1 --------------\n",
      "start quit_type_yuqi_d14 --------------\n",
      "start quit_type_yuqi_d3 --------------\n",
      "start quit_type_yuqi_d30 --------------\n",
      "start quit_type_yuqi_d7 --------------\n",
      "start ruzhang_cnt --------------\n",
      "start shenhe_cnt --------------\n",
      "start shixiao_cnt --------------\n",
      "start std_yuqi_day --------------\n",
      "start successful_apply_times --------------\n",
      "start tixian_cnt --------------\n",
      "start tongguo_cnt --------------\n",
      "start touzhi_cnt --------------\n",
      "start weihuan_cnt --------------\n",
      "start weiyue_cnt --------------\n",
      "start xiakuan_cnt --------------\n",
      "start xianjin_fenqi_cnt --------------\n",
      "start xianjin_xiaofei_cnt --------------\n",
      "start xiaofei_cnt --------------\n",
      "start xiaofei_jinrong_cnt --------------\n",
      "start xiaofei_qianbao_cnt --------------\n",
      "start xinyong_cnt --------------\n",
      "start xinyongka_cnt --------------\n",
      "start yanzhengma_cnt --------------\n",
      "start yinhang_cnt --------------\n",
      "start yiyuqi_cnt --------------\n",
      "start yue_cnt --------------\n",
      "start yuqi_cnt --------------\n",
      "start yuqi_dai_cnt --------------\n",
      "start yuqi_fenqi_cnt --------------\n",
      "start yuqi_jiekuan_cnt --------------\n",
      "start yuqi_jinrong_cnt --------------\n"
     ]
    },
    {
     "name": "stdout",
     "output_type": "stream",
     "text": [
      "start yuqi_qianbao_cnt --------------\n",
      "start yuqi_xianjin_cnt --------------\n",
      "start zhangdan_cnt --------------\n",
      "start zhengxin_cnt --------------\n",
      "start zhichu_cnt --------------\n",
      "start zhifubao_cnt --------------\n",
      "start anti_fraud --------------\n",
      "start anti_fraud_old --------------\n",
      "start anti_fraud_version_two_point_zero --------------\n",
      "start apply_risk_created_at --------------\n",
      "start apply_risk_id --------------\n",
      "start baidu_panshi_black_count_level1 --------------\n",
      "start baidu_panshi_black_count_level2 --------------\n",
      "start baidu_panshi_black_count_level3 --------------\n",
      "start baidu_panshi_black_score --------------\n",
      "start baidu_panshi_duotou_identity_score --------------\n",
      "start baidu_panshi_duotou_name_score --------------\n",
      "start baidu_panshi_duotou_phone_score --------------\n",
      "start baidu_panshi_prea_score --------------\n",
      "start equipment_app_name --------------\n",
      "start fbi_desc --------------\n",
      "start fbi_score --------------\n",
      "start i011 --------------\n",
      "start i012 --------------\n",
      "start i031 --------------\n",
      "start i032 --------------\n",
      "start i061 --------------\n",
      "start i062 --------------\n",
      "start i101 --------------\n",
      "start i102 --------------\n",
      "start i103 --------------\n",
      "start i104 --------------\n",
      "start i105 --------------\n",
      "start i106 --------------\n",
      "start i107 --------------\n",
      "start i114 --------------\n",
      "start i301 --------------\n",
      "start i302 --------------\n",
      "start i303 --------------\n",
      "start i304 --------------\n",
      "start i305 --------------\n",
      "start i306 --------------\n",
      "start i307 --------------\n",
      "start i314 --------------\n",
      "start i321 --------------\n",
      "start i601 --------------\n",
      "start i602 --------------\n",
      "start i603 --------------\n",
      "start i604 --------------\n",
      "start i605 --------------\n",
      "start i606 --------------\n",
      "start i607 --------------\n",
      "start i614 --------------\n",
      "start i621 --------------\n",
      "start i630 --------------\n",
      "start jd_ss_score_payday_sort_score --------------\n",
      "start overdue_days --------------\n",
      "start td_score_final_score --------------\n",
      "start level --------------\n",
      "start 01d --------------\n"
     ]
    },
    {
     "name": "stderr",
     "output_type": "stream",
     "text": [
      "/Users/Chenson/Dropbox/Github/mlearn/mlearn/service/reporter/feature_explore.py:169: FutureWarning: Sorting because non-concatenation axis is not aligned. A future version\n",
      "of pandas will change to not sort by default.\n",
      "\n",
      "To accept the future behavior, pass 'sort=False'.\n",
      "\n",
      "To retain the current behavior and silence the warning, pass 'sort=True'.\n",
      "\n",
      "  t = pd.concat([t0, t1, t2, t3, t4], axis=1)\n"
     ]
    }
   ],
   "source": [
    "df_stats = mlearn.service.reporter.data_stats(df.iloc[:, 1:])"
   ]
  },
  {
   "cell_type": "code",
   "execution_count": 17,
   "metadata": {
    "ExecuteTime": {
     "end_time": "2018-11-13T03:27:05.328277Z",
     "start_time": "2018-11-13T03:27:05.227626Z"
    }
   },
   "outputs": [
    {
     "data": {
      "text/html": [
       "<div>\n",
       "<style scoped>\n",
       "    .dataframe tbody tr th:only-of-type {\n",
       "        vertical-align: middle;\n",
       "    }\n",
       "\n",
       "    .dataframe tbody tr th {\n",
       "        vertical-align: top;\n",
       "    }\n",
       "\n",
       "    .dataframe thead th {\n",
       "        text-align: right;\n",
       "    }\n",
       "</style>\n",
       "<table border=\"1\" class=\"dataframe\">\n",
       "  <thead>\n",
       "    <tr style=\"text-align: right;\">\n",
       "      <th></th>\n",
       "      <th>apply_risk_created_at</th>\n",
       "      <th>equipment_app_name</th>\n",
       "      <th>fbi_desc</th>\n",
       "    </tr>\n",
       "  </thead>\n",
       "  <tbody>\n",
       "    <tr>\n",
       "      <th>0</th>\n",
       "      <td>2018-08-18 11:56:06</td>\n",
       "      <td>铃声多多|优酷|小米有品|QQ音乐|快视频|WPSOffice|小米PPTV播放器插件|弓箭...</td>\n",
       "      <td>101</td>\n",
       "    </tr>\n",
       "    <tr>\n",
       "      <th>1</th>\n",
       "      <td>2018-08-18 20:13:02</td>\n",
       "      <td>NaN</td>\n",
       "      <td>000</td>\n",
       "    </tr>\n",
       "    <tr>\n",
       "      <th>2</th>\n",
       "      <td>2018-08-18 18:57:46</td>\n",
       "      <td>闪银|分七云|平安普惠|36借条分期贷款|魔借|薄荷好借|高德地图|快易花|惠花花|现金巴士...</td>\n",
       "      <td>000</td>\n",
       "    </tr>\n",
       "    <tr>\n",
       "      <th>3</th>\n",
       "      <td>2018-08-18 09:06:41</td>\n",
       "      <td>QQ浏览器|高德地图|滴滴出行|平安金管家|5收款宝|QQ邮箱|拍拍贷借款-借钱借贷|点融魔...</td>\n",
       "      <td>000</td>\n",
       "    </tr>\n",
       "    <tr>\n",
       "      <th>4</th>\n",
       "      <td>2018-08-18 17:37:51</td>\n",
       "      <td>NaN</td>\n",
       "      <td>000</td>\n",
       "    </tr>\n",
       "  </tbody>\n",
       "</table>\n",
       "</div>"
      ],
      "text/plain": [
       "  apply_risk_created_at                                 equipment_app_name  \\\n",
       "0   2018-08-18 11:56:06  铃声多多|优酷|小米有品|QQ音乐|快视频|WPSOffice|小米PPTV播放器插件|弓箭...   \n",
       "1   2018-08-18 20:13:02                                                NaN   \n",
       "2   2018-08-18 18:57:46  闪银|分七云|平安普惠|36借条分期贷款|魔借|薄荷好借|高德地图|快易花|惠花花|现金巴士...   \n",
       "3   2018-08-18 09:06:41  QQ浏览器|高德地图|滴滴出行|平安金管家|5收款宝|QQ邮箱|拍拍贷借款-借钱借贷|点融魔...   \n",
       "4   2018-08-18 17:37:51                                                NaN   \n",
       "\n",
       "  fbi_desc  \n",
       "0      101  \n",
       "1      000  \n",
       "2      000  \n",
       "3      000  \n",
       "4      000  "
      ]
     },
     "execution_count": 17,
     "metadata": {},
     "output_type": "execute_result"
    }
   ],
   "source": [
    "col_obj = df.select_dtypes(include=['object'])\n",
    "col_obj.head()"
   ]
  },
  {
   "cell_type": "code",
   "execution_count": 7,
   "metadata": {
    "ExecuteTime": {
     "end_time": "2018-11-13T08:45:22.780421Z",
     "start_time": "2018-11-13T08:45:22.635210Z"
    }
   },
   "outputs": [
    {
     "name": "stdout",
     "output_type": "stream",
     "text": [
      "0515_yf_training_data.pkl\r\n",
      "0627_train_data_mf.csv\r\n",
      "1025_fan_cx_1015_yf_v4_call_agg_prov.pkl\r\n",
      "all_blind.csv\r\n",
      "fanchangxun.p12\r\n",
      "final_whole_data.csv\r\n",
      "mf_data_for_yfv2.csv\r\n"
     ]
    }
   ],
   "source": [
    "ls /Users/Chenson/Dropbox/KNJK/Data/"
   ]
  },
  {
   "cell_type": "markdown",
   "metadata": {},
   "source": [
    "## Trainer Test"
   ]
  },
  {
   "cell_type": "code",
   "execution_count": 20,
   "metadata": {
    "ExecuteTime": {
     "end_time": "2018-12-12T07:57:49.904958Z",
     "start_time": "2018-12-12T07:57:49.834898Z"
    }
   },
   "outputs": [],
   "source": [
    "X['14d'] = y"
   ]
  },
  {
   "cell_type": "code",
   "execution_count": 35,
   "metadata": {
    "ExecuteTime": {
     "end_time": "2018-12-12T08:03:03.682711Z",
     "start_time": "2018-12-12T08:03:03.652976Z"
    }
   },
   "outputs": [],
   "source": [
    "X.to_pickle('/Users/Chenson/dev/flow_0/training_data.pkl')"
   ]
  },
  {
   "cell_type": "code",
   "execution_count": 38,
   "metadata": {
    "ExecuteTime": {
     "end_time": "2018-12-12T08:03:24.467405Z",
     "start_time": "2018-12-12T08:03:24.391492Z"
    }
   },
   "outputs": [
    {
     "name": "stdout",
     "output_type": "stream",
     "text": [
      "Traceback (most recent call last):\n",
      "  File \"/Users/Chenson/Dropbox/Github/mlearn/mlearn/interface/trainer.py\", line 48, in trainer_ui\n",
      "    enc = ModelTrainer(**dic_p)\n",
      "TypeError: __init__() got an unexpected keyword argument 'estimator'\n",
      "\n"
     ]
    },
    {
     "data": {
      "text/plain": [
       "'{\"code\": 2, \"msg\": \"Traceback (most recent call last):\\\\n  File \\\\\"/Users/Chenson/Dropbox/Github/mlearn/mlearn/interface/trainer.py\\\\\", line 48, in trainer_ui\\\\n    enc = ModelTrainer(**dic_p)\\\\nTypeError: __init__() got an unexpected keyword argument \\'estimator\\'\\\\n\", \"result\": {\"ds\": {\"train\": \"/Users/Chenson/dev/flow_0/trainer/train/result\", \"test\": \"/Users/Chenson/dev/flow_0/trainer/test/trainer_result.pkl\"}, \"meta\": \"/Users/Chenson/dev/flow_0/trainer/train/trainer_enc.pkl\", \"report\": \"/Users/Chenson/dev/flow_0/trainer/report\"}}'"
      ]
     },
     "execution_count": 38,
     "metadata": {},
     "output_type": "execute_result"
    }
   ],
   "source": [
    "params = {}\n",
    "params['trainer'] = {'ds': {'label': {'name': '14d', 'type': 'number'},\n",
    "                            'test': '/Users/Chenson/dev/flow_0/training_data.pkl',\n",
    "                            'train': '/Users/Chenson/dev/flow_0/training_data.pkl'},\n",
    "                     'out': {'dst': '/Users/Chenson/dev/flow_0/trainer'},\n",
    "                     'st': {'cut_off_sample_ratio': 1,\n",
    "                            'cut_off_use_weights': True,\n",
    "                            'n_folds': 5,\n",
    "                            'oversample': False,\n",
    "                            'estimator': {\n",
    "                                'method': 'XGBClassifier',\n",
    "                                'params': {'base_score': 0.5,\n",
    "                                           'booster': 'gbtree',\n",
    "                                           'colsample_bylevel': 0.8,\n",
    "                                           'colsample_bytree': 0.8,\n",
    "                                           'early_stopping_rounds': 300,\n",
    "                                           'eval_metric': 'auc',\n",
    "                                           'gamma': 0.5,\n",
    "                                           'learning_rate': 0.1,\n",
    "                                           'max_delta_step': 0,\n",
    "                                           'max_depth': 3,\n",
    "                                           'min_child_weight': 10,\n",
    "                                           'n_estimators': 1000,\n",
    "                                           'n_jobs': 1,\n",
    "                                           'objective': 'binary:logistic',\n",
    "                                           'random_state': 0,\n",
    "                                           'reg_alpha': 1,\n",
    "                                           'reg_lambda': 20,\n",
    "                                           'scale_pos_weight': 1,\n",
    "                                           'silent': True,\n",
    "                                           'subsample': 0.7,\n",
    "                                           'verbose': False}},\n",
    "                            'random_state': 7,\n",
    "                            'reweight': False,\n",
    "                            'reweight_with_label': False,\n",
    "                            'shift_thr': 0.1,\n",
    "                            'test_size': 0,\n",
    "                            'verbose': True}}\n",
    "mlearn.trainer_ui(json.dumps(params['trainer']))"
   ]
  },
  {
   "cell_type": "code",
   "execution_count": 43,
   "metadata": {
    "ExecuteTime": {
     "end_time": "2018-12-12T08:09:15.744557Z",
     "start_time": "2018-12-12T08:09:15.710556Z"
    }
   },
   "outputs": [
    {
     "ename": "TypeError",
     "evalue": "__init__() got an unexpected keyword argument 'estimator'",
     "output_type": "error",
     "traceback": [
      "\u001b[0;31m---------------------------------------------------------------------------\u001b[0m",
      "\u001b[0;31mTypeError\u001b[0m                                 Traceback (most recent call last)",
      "\u001b[0;32m<ipython-input-43-ba0c251aa8b6>\u001b[0m in \u001b[0;36m<module>\u001b[0;34m()\u001b[0m\n\u001b[1;32m      1\u001b[0m \u001b[0mdic_p\u001b[0m \u001b[0;34m=\u001b[0m \u001b[0mparams\u001b[0m\u001b[0;34m[\u001b[0m\u001b[0;34m'trainer'\u001b[0m\u001b[0;34m]\u001b[0m\u001b[0;34m[\u001b[0m\u001b[0;34m'st'\u001b[0m\u001b[0;34m]\u001b[0m\u001b[0;34m\u001b[0m\u001b[0m\n\u001b[0;32m----> 2\u001b[0;31m \u001b[0mmlearn\u001b[0m\u001b[0;34m.\u001b[0m\u001b[0mservice\u001b[0m\u001b[0;34m.\u001b[0m\u001b[0mtrainer\u001b[0m\u001b[0;34m.\u001b[0m\u001b[0mModelTrainer\u001b[0m\u001b[0;34m(\u001b[0m\u001b[0;34m**\u001b[0m\u001b[0mdic_p\u001b[0m\u001b[0;34m)\u001b[0m\u001b[0;34m\u001b[0m\u001b[0m\n\u001b[0m",
      "\u001b[0;31mTypeError\u001b[0m: __init__() got an unexpected keyword argument 'estimator'"
     ]
    }
   ],
   "source": [
    "dic_p = params['trainer']['st']\n",
    "mlearn.service.trainer.ModelTrainer(**dic_p)"
   ]
  },
  {
   "cell_type": "markdown",
   "metadata": {},
   "source": [
    "# RFE - Test"
   ]
  },
  {
   "cell_type": "code",
   "execution_count": 13,
   "metadata": {
    "ExecuteTime": {
     "end_time": "2018-11-28T09:50:38.738531Z",
     "start_time": "2018-11-28T09:50:38.733459Z"
    }
   },
   "outputs": [],
   "source": [
    "from mlearn.service.filter import RFEFilter"
   ]
  },
  {
   "cell_type": "markdown",
   "metadata": {},
   "source": [
    "## original features test"
   ]
  },
  {
   "cell_type": "code",
   "execution_count": 14,
   "metadata": {
    "ExecuteTime": {
     "end_time": "2018-11-28T09:50:40.121688Z",
     "start_time": "2018-11-28T09:50:40.117972Z"
    }
   },
   "outputs": [],
   "source": [
    "from sklearn.datasets import make_friedman1\n",
    "# from sklearn.feature_selection import RFE\n",
    "from sklearn.svm import SVR"
   ]
  },
  {
   "cell_type": "code",
   "execution_count": 19,
   "metadata": {
    "ExecuteTime": {
     "end_time": "2018-11-28T09:51:02.384180Z",
     "start_time": "2018-11-28T09:51:02.343875Z"
    }
   },
   "outputs": [
    {
     "data": {
      "text/plain": [
       "['f0', 'f1', 'f2', 'f3', 'f4', 'f5', 'f6', 'f7', 'f8', 'f9']"
      ]
     },
     "execution_count": 19,
     "metadata": {},
     "output_type": "execute_result"
    },
    {
     "data": {
      "text/html": [
       "<div>\n",
       "<style scoped>\n",
       "    .dataframe tbody tr th:only-of-type {\n",
       "        vertical-align: middle;\n",
       "    }\n",
       "\n",
       "    .dataframe tbody tr th {\n",
       "        vertical-align: top;\n",
       "    }\n",
       "\n",
       "    .dataframe thead th {\n",
       "        text-align: right;\n",
       "    }\n",
       "</style>\n",
       "<table border=\"1\" class=\"dataframe\">\n",
       "  <thead>\n",
       "    <tr style=\"text-align: right;\">\n",
       "      <th></th>\n",
       "      <th>f0</th>\n",
       "      <th>f1</th>\n",
       "      <th>f2</th>\n",
       "      <th>f3</th>\n",
       "      <th>f4</th>\n",
       "      <th>f5</th>\n",
       "      <th>f6</th>\n",
       "      <th>f7</th>\n",
       "      <th>f8</th>\n",
       "      <th>f9</th>\n",
       "    </tr>\n",
       "  </thead>\n",
       "  <tbody>\n",
       "    <tr>\n",
       "      <th>0</th>\n",
       "      <td>0.548814</td>\n",
       "      <td>0.715189</td>\n",
       "      <td>0.602763</td>\n",
       "      <td>0.544883</td>\n",
       "      <td>0.423655</td>\n",
       "      <td>0.645894</td>\n",
       "      <td>0.437587</td>\n",
       "      <td>0.891773</td>\n",
       "      <td>0.963663</td>\n",
       "      <td>0.383442</td>\n",
       "    </tr>\n",
       "    <tr>\n",
       "      <th>1</th>\n",
       "      <td>0.791725</td>\n",
       "      <td>0.528895</td>\n",
       "      <td>0.568045</td>\n",
       "      <td>0.925597</td>\n",
       "      <td>0.071036</td>\n",
       "      <td>0.087129</td>\n",
       "      <td>0.020218</td>\n",
       "      <td>0.832620</td>\n",
       "      <td>0.778157</td>\n",
       "      <td>0.870012</td>\n",
       "    </tr>\n",
       "    <tr>\n",
       "      <th>2</th>\n",
       "      <td>0.978618</td>\n",
       "      <td>0.799159</td>\n",
       "      <td>0.461479</td>\n",
       "      <td>0.780529</td>\n",
       "      <td>0.118274</td>\n",
       "      <td>0.639921</td>\n",
       "      <td>0.143353</td>\n",
       "      <td>0.944669</td>\n",
       "      <td>0.521848</td>\n",
       "      <td>0.414662</td>\n",
       "    </tr>\n",
       "    <tr>\n",
       "      <th>3</th>\n",
       "      <td>0.264556</td>\n",
       "      <td>0.774234</td>\n",
       "      <td>0.456150</td>\n",
       "      <td>0.568434</td>\n",
       "      <td>0.018790</td>\n",
       "      <td>0.617635</td>\n",
       "      <td>0.612096</td>\n",
       "      <td>0.616934</td>\n",
       "      <td>0.943748</td>\n",
       "      <td>0.681820</td>\n",
       "    </tr>\n",
       "    <tr>\n",
       "      <th>4</th>\n",
       "      <td>0.359508</td>\n",
       "      <td>0.437032</td>\n",
       "      <td>0.697631</td>\n",
       "      <td>0.060225</td>\n",
       "      <td>0.666767</td>\n",
       "      <td>0.670638</td>\n",
       "      <td>0.210383</td>\n",
       "      <td>0.128926</td>\n",
       "      <td>0.315428</td>\n",
       "      <td>0.363711</td>\n",
       "    </tr>\n",
       "  </tbody>\n",
       "</table>\n",
       "</div>"
      ],
      "text/plain": [
       "         f0        f1        f2        f3        f4        f5        f6  \\\n",
       "0  0.548814  0.715189  0.602763  0.544883  0.423655  0.645894  0.437587   \n",
       "1  0.791725  0.528895  0.568045  0.925597  0.071036  0.087129  0.020218   \n",
       "2  0.978618  0.799159  0.461479  0.780529  0.118274  0.639921  0.143353   \n",
       "3  0.264556  0.774234  0.456150  0.568434  0.018790  0.617635  0.612096   \n",
       "4  0.359508  0.437032  0.697631  0.060225  0.666767  0.670638  0.210383   \n",
       "\n",
       "         f7        f8        f9  \n",
       "0  0.891773  0.963663  0.383442  \n",
       "1  0.832620  0.778157  0.870012  \n",
       "2  0.944669  0.521848  0.414662  \n",
       "3  0.616934  0.943748  0.681820  \n",
       "4  0.128926  0.315428  0.363711  "
      ]
     },
     "execution_count": 19,
     "metadata": {},
     "output_type": "execute_result"
    }
   ],
   "source": [
    "X, y = make_friedman1(n_samples=50, n_features=10, random_state=0)\n",
    "col = X.shape[1]\n",
    "col = [f'f{i}' for i in range(col)]\n",
    "col\n",
    "X = pd.DataFrame(X, columns=col)\n",
    "X.head()\n",
    "\n",
    "y = pd.Series(y)"
   ]
  },
  {
   "cell_type": "code",
   "execution_count": 20,
   "metadata": {
    "ExecuteTime": {
     "end_time": "2018-11-28T09:51:03.687184Z",
     "start_time": "2018-11-28T09:51:03.664903Z"
    }
   },
   "outputs": [
    {
     "data": {
      "text/plain": [
       "array([ True,  True,  True,  True,  True,  True,  True,  True,  True,\n",
       "        True])"
      ]
     },
     "execution_count": 20,
     "metadata": {},
     "output_type": "execute_result"
    },
    {
     "data": {
      "text/plain": [
       "array([1, 1, 1, 1, 1, 1, 1, 1, 1, 1])"
      ]
     },
     "execution_count": 20,
     "metadata": {},
     "output_type": "execute_result"
    }
   ],
   "source": [
    "estimator = SVR(kernel=\"linear\")\n",
    "\n",
    "selector = RFEFilter(estimator, by='RFE', step=1)\n",
    "selector = selector.fit(X, y)\n",
    "selector.support_ \n",
    "selector.ranking_"
   ]
  },
  {
   "cell_type": "markdown",
   "metadata": {
    "ExecuteTime": {
     "end_time": "2018-11-28T02:59:08.591338Z",
     "start_time": "2018-11-28T02:59:08.562110Z"
    }
   },
   "source": [
    "## LR coef test"
   ]
  },
  {
   "cell_type": "code",
   "execution_count": 21,
   "metadata": {
    "ExecuteTime": {
     "end_time": "2018-11-28T09:51:06.243467Z",
     "start_time": "2018-11-28T09:51:05.311325Z"
    }
   },
   "outputs": [
    {
     "data": {
      "text/plain": [
       "(14999, 60)"
      ]
     },
     "execution_count": 21,
     "metadata": {},
     "output_type": "execute_result"
    },
    {
     "data": {
      "text/html": [
       "<div>\n",
       "<style scoped>\n",
       "    .dataframe tbody tr th:only-of-type {\n",
       "        vertical-align: middle;\n",
       "    }\n",
       "\n",
       "    .dataframe tbody tr th {\n",
       "        vertical-align: top;\n",
       "    }\n",
       "\n",
       "    .dataframe thead th {\n",
       "        text-align: right;\n",
       "    }\n",
       "</style>\n",
       "<table border=\"1\" class=\"dataframe\">\n",
       "  <thead>\n",
       "    <tr style=\"text-align: right;\">\n",
       "      <th></th>\n",
       "      <th>apply_risk_id_2</th>\n",
       "      <th>14d</th>\n",
       "      <th>apply_risk_created_at</th>\n",
       "      <th>paydayloanlevelonechannelname</th>\n",
       "      <th>individual_gender</th>\n",
       "      <th>baidu_panshi_prea_score</th>\n",
       "      <th>cn_gt_0</th>\n",
       "      <th>cn_gt_0_ratio</th>\n",
       "      <th>coc_eq_0</th>\n",
       "      <th>coc_gt_0</th>\n",
       "      <th>...</th>\n",
       "      <th>i621</th>\n",
       "      <th>i630</th>\n",
       "      <th>xscore</th>\n",
       "      <th>xy_score</th>\n",
       "      <th>ym_large_code</th>\n",
       "      <th>ym_large_score</th>\n",
       "      <th>ym_small_code</th>\n",
       "      <th>ym_small_score</th>\n",
       "      <th>province</th>\n",
       "      <th>user_gray_has_report</th>\n",
       "    </tr>\n",
       "  </thead>\n",
       "  <tbody>\n",
       "    <tr>\n",
       "      <th>0</th>\n",
       "      <td>28762247</td>\n",
       "      <td>0</td>\n",
       "      <td>2018-03-01 17:47:39.0</td>\n",
       "      <td>垂直渠道</td>\n",
       "      <td>1</td>\n",
       "      <td>NaN</td>\n",
       "      <td>NaN</td>\n",
       "      <td>NaN</td>\n",
       "      <td>NaN</td>\n",
       "      <td>NaN</td>\n",
       "      <td>...</td>\n",
       "      <td>NaN</td>\n",
       "      <td>NaN</td>\n",
       "      <td>NaN</td>\n",
       "      <td>NaN</td>\n",
       "      <td>code0</td>\n",
       "      <td>559.0</td>\n",
       "      <td>code0</td>\n",
       "      <td>406.0</td>\n",
       "      <td>湖南省</td>\n",
       "      <td>True</td>\n",
       "    </tr>\n",
       "    <tr>\n",
       "      <th>1</th>\n",
       "      <td>28811909</td>\n",
       "      <td>0</td>\n",
       "      <td>2018-03-03 00:34:43.0</td>\n",
       "      <td>垂直渠道</td>\n",
       "      <td>1</td>\n",
       "      <td>541.0</td>\n",
       "      <td>93.0</td>\n",
       "      <td>0.444976</td>\n",
       "      <td>49.0</td>\n",
       "      <td>160.0</td>\n",
       "      <td>...</td>\n",
       "      <td>0.0</td>\n",
       "      <td>0.0</td>\n",
       "      <td>NaN</td>\n",
       "      <td>0.205521</td>\n",
       "      <td>code0</td>\n",
       "      <td>649.0</td>\n",
       "      <td>code0</td>\n",
       "      <td>479.0</td>\n",
       "      <td>四川省</td>\n",
       "      <td>True</td>\n",
       "    </tr>\n",
       "    <tr>\n",
       "      <th>2</th>\n",
       "      <td>28820305</td>\n",
       "      <td>0</td>\n",
       "      <td>2018-03-03 10:20:14.0</td>\n",
       "      <td>垂直渠道</td>\n",
       "      <td>1</td>\n",
       "      <td>528.0</td>\n",
       "      <td>16.0</td>\n",
       "      <td>0.470588</td>\n",
       "      <td>7.0</td>\n",
       "      <td>27.0</td>\n",
       "      <td>...</td>\n",
       "      <td>0.0</td>\n",
       "      <td>0.0</td>\n",
       "      <td>NaN</td>\n",
       "      <td>NaN</td>\n",
       "      <td>code0</td>\n",
       "      <td>534.0</td>\n",
       "      <td>code0</td>\n",
       "      <td>453.0</td>\n",
       "      <td>河南省</td>\n",
       "      <td>True</td>\n",
       "    </tr>\n",
       "    <tr>\n",
       "      <th>3</th>\n",
       "      <td>28832375</td>\n",
       "      <td>0</td>\n",
       "      <td>2018-03-03 15:15:45.0</td>\n",
       "      <td>APP_iOS</td>\n",
       "      <td>1</td>\n",
       "      <td>514.0</td>\n",
       "      <td>77.0</td>\n",
       "      <td>0.083605</td>\n",
       "      <td>350.0</td>\n",
       "      <td>571.0</td>\n",
       "      <td>...</td>\n",
       "      <td>0.0</td>\n",
       "      <td>0.0</td>\n",
       "      <td>NaN</td>\n",
       "      <td>0.069139</td>\n",
       "      <td>code0</td>\n",
       "      <td>355.0</td>\n",
       "      <td>code0</td>\n",
       "      <td>453.0</td>\n",
       "      <td>江苏省</td>\n",
       "      <td>True</td>\n",
       "    </tr>\n",
       "    <tr>\n",
       "      <th>4</th>\n",
       "      <td>28837776</td>\n",
       "      <td>0</td>\n",
       "      <td>2018-03-03 17:37:27.0</td>\n",
       "      <td>APP_iOS</td>\n",
       "      <td>1</td>\n",
       "      <td>NaN</td>\n",
       "      <td>13.0</td>\n",
       "      <td>0.245283</td>\n",
       "      <td>35.0</td>\n",
       "      <td>18.0</td>\n",
       "      <td>...</td>\n",
       "      <td>0.0</td>\n",
       "      <td>0.0</td>\n",
       "      <td>NaN</td>\n",
       "      <td>0.098113</td>\n",
       "      <td>code108</td>\n",
       "      <td>NaN</td>\n",
       "      <td>code108</td>\n",
       "      <td>NaN</td>\n",
       "      <td>青海省</td>\n",
       "      <td>True</td>\n",
       "    </tr>\n",
       "  </tbody>\n",
       "</table>\n",
       "<p>5 rows × 60 columns</p>\n",
       "</div>"
      ],
      "text/plain": [
       "  apply_risk_id_2  14d  apply_risk_created_at paydayloanlevelonechannelname  \\\n",
       "0        28762247    0  2018-03-01 17:47:39.0                          垂直渠道   \n",
       "1        28811909    0  2018-03-03 00:34:43.0                          垂直渠道   \n",
       "2        28820305    0  2018-03-03 10:20:14.0                          垂直渠道   \n",
       "3        28832375    0  2018-03-03 15:15:45.0                       APP_iOS   \n",
       "4        28837776    0  2018-03-03 17:37:27.0                       APP_iOS   \n",
       "\n",
       "   individual_gender  baidu_panshi_prea_score  cn_gt_0  cn_gt_0_ratio  \\\n",
       "0                  1                      NaN      NaN            NaN   \n",
       "1                  1                    541.0     93.0       0.444976   \n",
       "2                  1                    528.0     16.0       0.470588   \n",
       "3                  1                    514.0     77.0       0.083605   \n",
       "4                  1                      NaN     13.0       0.245283   \n",
       "\n",
       "   coc_eq_0  coc_gt_0          ...           i621  i630  xscore  xy_score  \\\n",
       "0       NaN       NaN          ...            NaN   NaN     NaN       NaN   \n",
       "1      49.0     160.0          ...            0.0   0.0     NaN  0.205521   \n",
       "2       7.0      27.0          ...            0.0   0.0     NaN       NaN   \n",
       "3     350.0     571.0          ...            0.0   0.0     NaN  0.069139   \n",
       "4      35.0      18.0          ...            0.0   0.0     NaN  0.098113   \n",
       "\n",
       "   ym_large_code  ym_large_score  ym_small_code  ym_small_score  province  \\\n",
       "0          code0           559.0          code0           406.0       湖南省   \n",
       "1          code0           649.0          code0           479.0       四川省   \n",
       "2          code0           534.0          code0           453.0       河南省   \n",
       "3          code0           355.0          code0           453.0       江苏省   \n",
       "4        code108             NaN        code108             NaN       青海省   \n",
       "\n",
       "   user_gray_has_report  \n",
       "0                  True  \n",
       "1                  True  \n",
       "2                  True  \n",
       "3                  True  \n",
       "4                  True  \n",
       "\n",
       "[5 rows x 60 columns]"
      ]
     },
     "execution_count": 21,
     "metadata": {},
     "output_type": "execute_result"
    }
   ],
   "source": [
    "df = pd.read_pickle('/Users/Chenson/Dropbox/Github/mlearn/mlearn/data/20181115_chaintest_data.pkl')\n",
    "df.shape\n",
    "df.head()\n",
    "\n",
    "X = df[fea_in].apply(pd.to_numeric, errors='ignore')\n",
    "X = X.fillna(X.mean())\n",
    "y = df['14d']"
   ]
  },
  {
   "cell_type": "code",
   "execution_count": 22,
   "metadata": {
    "ExecuteTime": {
     "end_time": "2018-11-28T09:51:29.336447Z",
     "start_time": "2018-11-28T09:51:08.406459Z"
    }
   },
   "outputs": [
    {
     "name": "stderr",
     "output_type": "stream",
     "text": [
      "/Users/Chenson/anaconda3/lib/python3.6/site-packages/sklearn/linear_model/logistic.py:432: FutureWarning: Default solver will be changed to 'lbfgs' in 0.22. Specify a solver to silence this warning.\n",
      "  FutureWarning)\n",
      "/Users/Chenson/anaconda3/lib/python3.6/site-packages/sklearn/linear_model/logistic.py:432: FutureWarning: Default solver will be changed to 'lbfgs' in 0.22. Specify a solver to silence this warning.\n",
      "  FutureWarning)\n",
      "/Users/Chenson/anaconda3/lib/python3.6/site-packages/sklearn/linear_model/logistic.py:432: FutureWarning: Default solver will be changed to 'lbfgs' in 0.22. Specify a solver to silence this warning.\n",
      "  FutureWarning)\n",
      "/Users/Chenson/anaconda3/lib/python3.6/site-packages/sklearn/linear_model/logistic.py:432: FutureWarning: Default solver will be changed to 'lbfgs' in 0.22. Specify a solver to silence this warning.\n",
      "  FutureWarning)\n",
      "/Users/Chenson/anaconda3/lib/python3.6/site-packages/sklearn/linear_model/logistic.py:432: FutureWarning: Default solver will be changed to 'lbfgs' in 0.22. Specify a solver to silence this warning.\n",
      "  FutureWarning)\n",
      "/Users/Chenson/anaconda3/lib/python3.6/site-packages/sklearn/linear_model/logistic.py:432: FutureWarning: Default solver will be changed to 'lbfgs' in 0.22. Specify a solver to silence this warning.\n",
      "  FutureWarning)\n",
      "/Users/Chenson/anaconda3/lib/python3.6/site-packages/sklearn/linear_model/logistic.py:432: FutureWarning: Default solver will be changed to 'lbfgs' in 0.22. Specify a solver to silence this warning.\n",
      "  FutureWarning)\n",
      "/Users/Chenson/anaconda3/lib/python3.6/site-packages/sklearn/linear_model/logistic.py:432: FutureWarning: Default solver will be changed to 'lbfgs' in 0.22. Specify a solver to silence this warning.\n",
      "  FutureWarning)\n",
      "/Users/Chenson/anaconda3/lib/python3.6/site-packages/sklearn/linear_model/logistic.py:432: FutureWarning: Default solver will be changed to 'lbfgs' in 0.22. Specify a solver to silence this warning.\n",
      "  FutureWarning)\n",
      "/Users/Chenson/anaconda3/lib/python3.6/site-packages/sklearn/linear_model/logistic.py:432: FutureWarning: Default solver will be changed to 'lbfgs' in 0.22. Specify a solver to silence this warning.\n",
      "  FutureWarning)\n",
      "/Users/Chenson/anaconda3/lib/python3.6/site-packages/sklearn/linear_model/logistic.py:432: FutureWarning: Default solver will be changed to 'lbfgs' in 0.22. Specify a solver to silence this warning.\n",
      "  FutureWarning)\n",
      "/Users/Chenson/anaconda3/lib/python3.6/site-packages/sklearn/linear_model/logistic.py:432: FutureWarning: Default solver will be changed to 'lbfgs' in 0.22. Specify a solver to silence this warning.\n",
      "  FutureWarning)\n",
      "/Users/Chenson/anaconda3/lib/python3.6/site-packages/sklearn/linear_model/logistic.py:432: FutureWarning: Default solver will be changed to 'lbfgs' in 0.22. Specify a solver to silence this warning.\n",
      "  FutureWarning)\n",
      "/Users/Chenson/anaconda3/lib/python3.6/site-packages/sklearn/linear_model/logistic.py:432: FutureWarning: Default solver will be changed to 'lbfgs' in 0.22. Specify a solver to silence this warning.\n",
      "  FutureWarning)\n",
      "/Users/Chenson/anaconda3/lib/python3.6/site-packages/sklearn/linear_model/logistic.py:432: FutureWarning: Default solver will be changed to 'lbfgs' in 0.22. Specify a solver to silence this warning.\n",
      "  FutureWarning)\n",
      "/Users/Chenson/anaconda3/lib/python3.6/site-packages/sklearn/linear_model/logistic.py:432: FutureWarning: Default solver will be changed to 'lbfgs' in 0.22. Specify a solver to silence this warning.\n",
      "  FutureWarning)\n",
      "/Users/Chenson/anaconda3/lib/python3.6/site-packages/sklearn/linear_model/logistic.py:432: FutureWarning: Default solver will be changed to 'lbfgs' in 0.22. Specify a solver to silence this warning.\n",
      "  FutureWarning)\n",
      "/Users/Chenson/anaconda3/lib/python3.6/site-packages/sklearn/linear_model/logistic.py:432: FutureWarning: Default solver will be changed to 'lbfgs' in 0.22. Specify a solver to silence this warning.\n",
      "  FutureWarning)\n",
      "/Users/Chenson/anaconda3/lib/python3.6/site-packages/sklearn/linear_model/logistic.py:432: FutureWarning: Default solver will be changed to 'lbfgs' in 0.22. Specify a solver to silence this warning.\n",
      "  FutureWarning)\n",
      "/Users/Chenson/anaconda3/lib/python3.6/site-packages/sklearn/linear_model/logistic.py:432: FutureWarning: Default solver will be changed to 'lbfgs' in 0.22. Specify a solver to silence this warning.\n",
      "  FutureWarning)\n",
      "/Users/Chenson/anaconda3/lib/python3.6/site-packages/sklearn/linear_model/logistic.py:432: FutureWarning: Default solver will be changed to 'lbfgs' in 0.22. Specify a solver to silence this warning.\n",
      "  FutureWarning)\n",
      "/Users/Chenson/anaconda3/lib/python3.6/site-packages/sklearn/linear_model/logistic.py:432: FutureWarning: Default solver will be changed to 'lbfgs' in 0.22. Specify a solver to silence this warning.\n",
      "  FutureWarning)\n",
      "/Users/Chenson/anaconda3/lib/python3.6/site-packages/sklearn/linear_model/logistic.py:432: FutureWarning: Default solver will be changed to 'lbfgs' in 0.22. Specify a solver to silence this warning.\n",
      "  FutureWarning)\n",
      "/Users/Chenson/anaconda3/lib/python3.6/site-packages/sklearn/linear_model/logistic.py:432: FutureWarning: Default solver will be changed to 'lbfgs' in 0.22. Specify a solver to silence this warning.\n",
      "  FutureWarning)\n",
      "/Users/Chenson/anaconda3/lib/python3.6/site-packages/sklearn/linear_model/logistic.py:432: FutureWarning: Default solver will be changed to 'lbfgs' in 0.22. Specify a solver to silence this warning.\n",
      "  FutureWarning)\n",
      "/Users/Chenson/anaconda3/lib/python3.6/site-packages/sklearn/linear_model/logistic.py:432: FutureWarning: Default solver will be changed to 'lbfgs' in 0.22. Specify a solver to silence this warning.\n",
      "  FutureWarning)\n",
      "/Users/Chenson/anaconda3/lib/python3.6/site-packages/sklearn/linear_model/logistic.py:432: FutureWarning: Default solver will be changed to 'lbfgs' in 0.22. Specify a solver to silence this warning.\n",
      "  FutureWarning)\n",
      "/Users/Chenson/anaconda3/lib/python3.6/site-packages/sklearn/linear_model/logistic.py:432: FutureWarning: Default solver will be changed to 'lbfgs' in 0.22. Specify a solver to silence this warning.\n",
      "  FutureWarning)\n",
      "/Users/Chenson/anaconda3/lib/python3.6/site-packages/sklearn/linear_model/logistic.py:432: FutureWarning: Default solver will be changed to 'lbfgs' in 0.22. Specify a solver to silence this warning.\n",
      "  FutureWarning)\n",
      "/Users/Chenson/anaconda3/lib/python3.6/site-packages/sklearn/linear_model/logistic.py:432: FutureWarning: Default solver will be changed to 'lbfgs' in 0.22. Specify a solver to silence this warning.\n",
      "  FutureWarning)\n",
      "/Users/Chenson/anaconda3/lib/python3.6/site-packages/sklearn/linear_model/logistic.py:432: FutureWarning: Default solver will be changed to 'lbfgs' in 0.22. Specify a solver to silence this warning.\n",
      "  FutureWarning)\n",
      "/Users/Chenson/anaconda3/lib/python3.6/site-packages/sklearn/linear_model/logistic.py:432: FutureWarning: Default solver will be changed to 'lbfgs' in 0.22. Specify a solver to silence this warning.\n",
      "  FutureWarning)\n",
      "/Users/Chenson/anaconda3/lib/python3.6/site-packages/sklearn/linear_model/logistic.py:432: FutureWarning: Default solver will be changed to 'lbfgs' in 0.22. Specify a solver to silence this warning.\n",
      "  FutureWarning)\n",
      "/Users/Chenson/anaconda3/lib/python3.6/site-packages/sklearn/linear_model/logistic.py:432: FutureWarning: Default solver will be changed to 'lbfgs' in 0.22. Specify a solver to silence this warning.\n",
      "  FutureWarning)\n"
     ]
    }
   ],
   "source": [
    "from sklearn.linear_model import LogisticRegression\n",
    "lr = LogisticRegression()\n",
    "rfe = RFEFilter(lr, by='coef')\n",
    "rfe = rfe.fit(X, y)"
   ]
  },
  {
   "cell_type": "code",
   "execution_count": 23,
   "metadata": {
    "ExecuteTime": {
     "end_time": "2018-11-28T09:51:51.825184Z",
     "start_time": "2018-11-28T09:51:29.339790Z"
    }
   },
   "outputs": [
    {
     "name": "stderr",
     "output_type": "stream",
     "text": [
      "/Users/Chenson/anaconda3/lib/python3.6/site-packages/sklearn/linear_model/logistic.py:432: FutureWarning: Default solver will be changed to 'lbfgs' in 0.22. Specify a solver to silence this warning.\n",
      "  FutureWarning)\n",
      "/Users/Chenson/anaconda3/lib/python3.6/site-packages/sklearn/linear_model/logistic.py:432: FutureWarning: Default solver will be changed to 'lbfgs' in 0.22. Specify a solver to silence this warning.\n",
      "  FutureWarning)\n",
      "/Users/Chenson/anaconda3/lib/python3.6/site-packages/sklearn/linear_model/logistic.py:432: FutureWarning: Default solver will be changed to 'lbfgs' in 0.22. Specify a solver to silence this warning.\n",
      "  FutureWarning)\n",
      "/Users/Chenson/anaconda3/lib/python3.6/site-packages/sklearn/linear_model/logistic.py:432: FutureWarning: Default solver will be changed to 'lbfgs' in 0.22. Specify a solver to silence this warning.\n",
      "  FutureWarning)\n",
      "/Users/Chenson/anaconda3/lib/python3.6/site-packages/sklearn/linear_model/logistic.py:432: FutureWarning: Default solver will be changed to 'lbfgs' in 0.22. Specify a solver to silence this warning.\n",
      "  FutureWarning)\n",
      "/Users/Chenson/anaconda3/lib/python3.6/site-packages/sklearn/linear_model/logistic.py:432: FutureWarning: Default solver will be changed to 'lbfgs' in 0.22. Specify a solver to silence this warning.\n",
      "  FutureWarning)\n",
      "/Users/Chenson/anaconda3/lib/python3.6/site-packages/sklearn/linear_model/logistic.py:432: FutureWarning: Default solver will be changed to 'lbfgs' in 0.22. Specify a solver to silence this warning.\n",
      "  FutureWarning)\n",
      "/Users/Chenson/anaconda3/lib/python3.6/site-packages/sklearn/linear_model/logistic.py:432: FutureWarning: Default solver will be changed to 'lbfgs' in 0.22. Specify a solver to silence this warning.\n",
      "  FutureWarning)\n",
      "/Users/Chenson/anaconda3/lib/python3.6/site-packages/sklearn/linear_model/logistic.py:432: FutureWarning: Default solver will be changed to 'lbfgs' in 0.22. Specify a solver to silence this warning.\n",
      "  FutureWarning)\n",
      "/Users/Chenson/anaconda3/lib/python3.6/site-packages/sklearn/linear_model/logistic.py:432: FutureWarning: Default solver will be changed to 'lbfgs' in 0.22. Specify a solver to silence this warning.\n",
      "  FutureWarning)\n",
      "/Users/Chenson/anaconda3/lib/python3.6/site-packages/sklearn/linear_model/logistic.py:432: FutureWarning: Default solver will be changed to 'lbfgs' in 0.22. Specify a solver to silence this warning.\n",
      "  FutureWarning)\n",
      "/Users/Chenson/anaconda3/lib/python3.6/site-packages/sklearn/linear_model/logistic.py:432: FutureWarning: Default solver will be changed to 'lbfgs' in 0.22. Specify a solver to silence this warning.\n",
      "  FutureWarning)\n",
      "/Users/Chenson/anaconda3/lib/python3.6/site-packages/sklearn/linear_model/logistic.py:432: FutureWarning: Default solver will be changed to 'lbfgs' in 0.22. Specify a solver to silence this warning.\n",
      "  FutureWarning)\n",
      "/Users/Chenson/anaconda3/lib/python3.6/site-packages/sklearn/linear_model/logistic.py:432: FutureWarning: Default solver will be changed to 'lbfgs' in 0.22. Specify a solver to silence this warning.\n",
      "  FutureWarning)\n",
      "/Users/Chenson/anaconda3/lib/python3.6/site-packages/sklearn/linear_model/logistic.py:432: FutureWarning: Default solver will be changed to 'lbfgs' in 0.22. Specify a solver to silence this warning.\n",
      "  FutureWarning)\n",
      "/Users/Chenson/anaconda3/lib/python3.6/site-packages/sklearn/linear_model/logistic.py:432: FutureWarning: Default solver will be changed to 'lbfgs' in 0.22. Specify a solver to silence this warning.\n",
      "  FutureWarning)\n",
      "/Users/Chenson/anaconda3/lib/python3.6/site-packages/sklearn/linear_model/logistic.py:432: FutureWarning: Default solver will be changed to 'lbfgs' in 0.22. Specify a solver to silence this warning.\n",
      "  FutureWarning)\n",
      "/Users/Chenson/anaconda3/lib/python3.6/site-packages/sklearn/linear_model/logistic.py:432: FutureWarning: Default solver will be changed to 'lbfgs' in 0.22. Specify a solver to silence this warning.\n",
      "  FutureWarning)\n",
      "/Users/Chenson/anaconda3/lib/python3.6/site-packages/sklearn/linear_model/logistic.py:432: FutureWarning: Default solver will be changed to 'lbfgs' in 0.22. Specify a solver to silence this warning.\n",
      "  FutureWarning)\n",
      "/Users/Chenson/anaconda3/lib/python3.6/site-packages/sklearn/linear_model/logistic.py:432: FutureWarning: Default solver will be changed to 'lbfgs' in 0.22. Specify a solver to silence this warning.\n",
      "  FutureWarning)\n",
      "/Users/Chenson/anaconda3/lib/python3.6/site-packages/sklearn/linear_model/logistic.py:432: FutureWarning: Default solver will be changed to 'lbfgs' in 0.22. Specify a solver to silence this warning.\n",
      "  FutureWarning)\n",
      "/Users/Chenson/anaconda3/lib/python3.6/site-packages/sklearn/linear_model/logistic.py:432: FutureWarning: Default solver will be changed to 'lbfgs' in 0.22. Specify a solver to silence this warning.\n",
      "  FutureWarning)\n",
      "/Users/Chenson/anaconda3/lib/python3.6/site-packages/sklearn/linear_model/logistic.py:432: FutureWarning: Default solver will be changed to 'lbfgs' in 0.22. Specify a solver to silence this warning.\n",
      "  FutureWarning)\n",
      "/Users/Chenson/anaconda3/lib/python3.6/site-packages/sklearn/linear_model/logistic.py:432: FutureWarning: Default solver will be changed to 'lbfgs' in 0.22. Specify a solver to silence this warning.\n",
      "  FutureWarning)\n",
      "/Users/Chenson/anaconda3/lib/python3.6/site-packages/sklearn/linear_model/logistic.py:432: FutureWarning: Default solver will be changed to 'lbfgs' in 0.22. Specify a solver to silence this warning.\n",
      "  FutureWarning)\n",
      "/Users/Chenson/anaconda3/lib/python3.6/site-packages/sklearn/linear_model/logistic.py:432: FutureWarning: Default solver will be changed to 'lbfgs' in 0.22. Specify a solver to silence this warning.\n",
      "  FutureWarning)\n",
      "/Users/Chenson/anaconda3/lib/python3.6/site-packages/sklearn/linear_model/logistic.py:432: FutureWarning: Default solver will be changed to 'lbfgs' in 0.22. Specify a solver to silence this warning.\n",
      "  FutureWarning)\n",
      "/Users/Chenson/anaconda3/lib/python3.6/site-packages/sklearn/linear_model/logistic.py:432: FutureWarning: Default solver will be changed to 'lbfgs' in 0.22. Specify a solver to silence this warning.\n",
      "  FutureWarning)\n",
      "/Users/Chenson/anaconda3/lib/python3.6/site-packages/sklearn/linear_model/logistic.py:432: FutureWarning: Default solver will be changed to 'lbfgs' in 0.22. Specify a solver to silence this warning.\n",
      "  FutureWarning)\n",
      "/Users/Chenson/anaconda3/lib/python3.6/site-packages/sklearn/linear_model/logistic.py:432: FutureWarning: Default solver will be changed to 'lbfgs' in 0.22. Specify a solver to silence this warning.\n",
      "  FutureWarning)\n",
      "/Users/Chenson/anaconda3/lib/python3.6/site-packages/sklearn/linear_model/logistic.py:432: FutureWarning: Default solver will be changed to 'lbfgs' in 0.22. Specify a solver to silence this warning.\n",
      "  FutureWarning)\n",
      "/Users/Chenson/anaconda3/lib/python3.6/site-packages/sklearn/linear_model/logistic.py:432: FutureWarning: Default solver will be changed to 'lbfgs' in 0.22. Specify a solver to silence this warning.\n",
      "  FutureWarning)\n",
      "/Users/Chenson/anaconda3/lib/python3.6/site-packages/sklearn/linear_model/logistic.py:432: FutureWarning: Default solver will be changed to 'lbfgs' in 0.22. Specify a solver to silence this warning.\n",
      "  FutureWarning)\n",
      "/Users/Chenson/anaconda3/lib/python3.6/site-packages/sklearn/linear_model/logistic.py:432: FutureWarning: Default solver will be changed to 'lbfgs' in 0.22. Specify a solver to silence this warning.\n",
      "  FutureWarning)\n"
     ]
    }
   ],
   "source": [
    "rfe = rfe.fit(X, y)"
   ]
  },
  {
   "cell_type": "code",
   "execution_count": 24,
   "metadata": {
    "ExecuteTime": {
     "end_time": "2018-11-28T09:52:03.952375Z",
     "start_time": "2018-11-28T09:52:03.932747Z"
    }
   },
   "outputs": [
    {
     "data": {
      "text/plain": [
       "(14999, 20)"
      ]
     },
     "execution_count": 24,
     "metadata": {},
     "output_type": "execute_result"
    },
    {
     "data": {
      "text/plain": [
       "(14999, 53)"
      ]
     },
     "execution_count": 24,
     "metadata": {},
     "output_type": "execute_result"
    }
   ],
   "source": [
    "X2 = rfe.transform(X)\n",
    "\n",
    "X2.shape\n",
    "X.shape"
   ]
  },
  {
   "cell_type": "code",
   "execution_count": 25,
   "metadata": {
    "ExecuteTime": {
     "end_time": "2018-11-28T09:52:09.889711Z",
     "start_time": "2018-11-28T09:52:09.851507Z"
    }
   },
   "outputs": [
    {
     "data": {
      "text/plain": [
       "array([0, 0, 0, ..., 0, 0, 0])"
      ]
     },
     "execution_count": 25,
     "metadata": {},
     "output_type": "execute_result"
    },
    {
     "data": {
      "text/plain": [
       "array([[-0.2447499 , -1.52739866],\n",
       "       [-0.46423321, -0.99052124],\n",
       "       [-0.4536668 , -1.00866477],\n",
       "       ...,\n",
       "       [-0.22694567, -1.59437236],\n",
       "       [-0.16764262, -1.8685714 ],\n",
       "       [-0.05110297, -2.99935532]])"
      ]
     },
     "execution_count": 25,
     "metadata": {},
     "output_type": "execute_result"
    },
    {
     "data": {
      "text/plain": [
       "array([[0.78290032, 0.21709968],\n",
       "       [0.62861694, 0.37138306],\n",
       "       [0.63529438, 0.36470562],\n",
       "       ...,\n",
       "       [0.79696408, 0.20303592],\n",
       "       [0.845656  , 0.154344  ],\n",
       "       [0.95018082, 0.04981918]])"
      ]
     },
     "execution_count": 25,
     "metadata": {},
     "output_type": "execute_result"
    }
   ],
   "source": [
    "rfe.predict(X)\n",
    "rfe.predict_log_proba(X)\n",
    "rfe.predict_proba(X)"
   ]
  },
  {
   "cell_type": "code",
   "execution_count": 26,
   "metadata": {
    "ExecuteTime": {
     "end_time": "2018-11-28T09:52:13.919666Z",
     "start_time": "2018-11-28T09:52:13.738524Z"
    }
   },
   "outputs": [
    {
     "name": "stderr",
     "output_type": "stream",
     "text": [
      "/Users/Chenson/anaconda3/lib/python3.6/site-packages/sklearn/linear_model/logistic.py:432: FutureWarning: Default solver will be changed to 'lbfgs' in 0.22. Specify a solver to silence this warning.\n",
      "  FutureWarning)\n"
     ]
    },
    {
     "data": {
      "text/plain": [
       "LogisticRegression(C=1.0, class_weight=None, dual=False, fit_intercept=True,\n",
       "          intercept_scaling=1, max_iter=100, multi_class='warn',\n",
       "          n_jobs=None, penalty='l2', random_state=None, solver='warn',\n",
       "          tol=0.0001, verbose=0, warm_start=False)"
      ]
     },
     "execution_count": 26,
     "metadata": {},
     "output_type": "execute_result"
    },
    {
     "data": {
      "text/plain": [
       "array([[ 0.14409119,  1.05969089,  1.75910081,  0.10825488, -0.14634348,\n",
       "        -0.41182669, -0.18664043,  0.12635456,  0.42901655, -0.148551  ,\n",
       "        -0.45693321, -0.14732505,  0.3342509 ,  0.10930086,  0.20414925,\n",
       "        -0.11860175, -0.13938077,  0.09971722,  0.10837521,  5.499833  ]])"
      ]
     },
     "execution_count": 26,
     "metadata": {},
     "output_type": "execute_result"
    },
    {
     "data": {
      "text/plain": [
       "array([[-0.24474985, -1.52739884],\n",
       "       [-0.46423332, -0.99052105],\n",
       "       [-0.45366645, -1.00866537],\n",
       "       ...,\n",
       "       [-0.22694508, -1.59437467],\n",
       "       [-0.16764225, -1.86857345],\n",
       "       [-0.05110287, -2.99935726]])"
      ]
     },
     "execution_count": 26,
     "metadata": {},
     "output_type": "execute_result"
    }
   ],
   "source": [
    "lr.fit(X2, y)\n",
    "lr.coef_\n",
    "lr.predict_log_proba(X2)"
   ]
  },
  {
   "cell_type": "markdown",
   "metadata": {
    "ExecuteTime": {
     "end_time": "2018-11-28T03:16:21.588024Z",
     "start_time": "2018-11-28T03:16:21.575582Z"
    }
   },
   "source": [
    "## LR stepwise test"
   ]
  },
  {
   "cell_type": "code",
   "execution_count": 27,
   "metadata": {
    "ExecuteTime": {
     "end_time": "2018-11-28T09:52:40.471478Z",
     "start_time": "2018-11-28T09:52:18.439274Z"
    }
   },
   "outputs": [
    {
     "name": "stderr",
     "output_type": "stream",
     "text": [
      "/Users/Chenson/anaconda3/lib/python3.6/site-packages/sklearn/linear_model/logistic.py:432: FutureWarning: Default solver will be changed to 'lbfgs' in 0.22. Specify a solver to silence this warning.\n",
      "  FutureWarning)\n",
      "/Users/Chenson/anaconda3/lib/python3.6/site-packages/sklearn/linear_model/logistic.py:432: FutureWarning: Default solver will be changed to 'lbfgs' in 0.22. Specify a solver to silence this warning.\n",
      "  FutureWarning)\n",
      "/Users/Chenson/anaconda3/lib/python3.6/site-packages/sklearn/linear_model/logistic.py:432: FutureWarning: Default solver will be changed to 'lbfgs' in 0.22. Specify a solver to silence this warning.\n",
      "  FutureWarning)\n",
      "/Users/Chenson/anaconda3/lib/python3.6/site-packages/sklearn/linear_model/logistic.py:432: FutureWarning: Default solver will be changed to 'lbfgs' in 0.22. Specify a solver to silence this warning.\n",
      "  FutureWarning)\n",
      "/Users/Chenson/anaconda3/lib/python3.6/site-packages/sklearn/linear_model/logistic.py:432: FutureWarning: Default solver will be changed to 'lbfgs' in 0.22. Specify a solver to silence this warning.\n",
      "  FutureWarning)\n",
      "/Users/Chenson/anaconda3/lib/python3.6/site-packages/sklearn/linear_model/logistic.py:432: FutureWarning: Default solver will be changed to 'lbfgs' in 0.22. Specify a solver to silence this warning.\n",
      "  FutureWarning)\n",
      "/Users/Chenson/anaconda3/lib/python3.6/site-packages/sklearn/linear_model/logistic.py:432: FutureWarning: Default solver will be changed to 'lbfgs' in 0.22. Specify a solver to silence this warning.\n",
      "  FutureWarning)\n",
      "/Users/Chenson/anaconda3/lib/python3.6/site-packages/sklearn/linear_model/logistic.py:432: FutureWarning: Default solver will be changed to 'lbfgs' in 0.22. Specify a solver to silence this warning.\n",
      "  FutureWarning)\n",
      "/Users/Chenson/anaconda3/lib/python3.6/site-packages/sklearn/linear_model/logistic.py:432: FutureWarning: Default solver will be changed to 'lbfgs' in 0.22. Specify a solver to silence this warning.\n",
      "  FutureWarning)\n",
      "/Users/Chenson/anaconda3/lib/python3.6/site-packages/sklearn/linear_model/logistic.py:432: FutureWarning: Default solver will be changed to 'lbfgs' in 0.22. Specify a solver to silence this warning.\n",
      "  FutureWarning)\n",
      "/Users/Chenson/anaconda3/lib/python3.6/site-packages/sklearn/linear_model/logistic.py:432: FutureWarning: Default solver will be changed to 'lbfgs' in 0.22. Specify a solver to silence this warning.\n",
      "  FutureWarning)\n",
      "/Users/Chenson/anaconda3/lib/python3.6/site-packages/sklearn/linear_model/logistic.py:432: FutureWarning: Default solver will be changed to 'lbfgs' in 0.22. Specify a solver to silence this warning.\n",
      "  FutureWarning)\n",
      "/Users/Chenson/anaconda3/lib/python3.6/site-packages/sklearn/linear_model/logistic.py:432: FutureWarning: Default solver will be changed to 'lbfgs' in 0.22. Specify a solver to silence this warning.\n",
      "  FutureWarning)\n",
      "/Users/Chenson/anaconda3/lib/python3.6/site-packages/sklearn/linear_model/logistic.py:432: FutureWarning: Default solver will be changed to 'lbfgs' in 0.22. Specify a solver to silence this warning.\n",
      "  FutureWarning)\n",
      "/Users/Chenson/anaconda3/lib/python3.6/site-packages/sklearn/linear_model/logistic.py:432: FutureWarning: Default solver will be changed to 'lbfgs' in 0.22. Specify a solver to silence this warning.\n",
      "  FutureWarning)\n",
      "/Users/Chenson/anaconda3/lib/python3.6/site-packages/sklearn/linear_model/logistic.py:432: FutureWarning: Default solver will be changed to 'lbfgs' in 0.22. Specify a solver to silence this warning.\n",
      "  FutureWarning)\n",
      "/Users/Chenson/anaconda3/lib/python3.6/site-packages/sklearn/linear_model/logistic.py:432: FutureWarning: Default solver will be changed to 'lbfgs' in 0.22. Specify a solver to silence this warning.\n",
      "  FutureWarning)\n",
      "/Users/Chenson/anaconda3/lib/python3.6/site-packages/sklearn/linear_model/logistic.py:432: FutureWarning: Default solver will be changed to 'lbfgs' in 0.22. Specify a solver to silence this warning.\n",
      "  FutureWarning)\n",
      "/Users/Chenson/anaconda3/lib/python3.6/site-packages/sklearn/linear_model/logistic.py:432: FutureWarning: Default solver will be changed to 'lbfgs' in 0.22. Specify a solver to silence this warning.\n",
      "  FutureWarning)\n",
      "/Users/Chenson/anaconda3/lib/python3.6/site-packages/sklearn/linear_model/logistic.py:432: FutureWarning: Default solver will be changed to 'lbfgs' in 0.22. Specify a solver to silence this warning.\n",
      "  FutureWarning)\n",
      "/Users/Chenson/anaconda3/lib/python3.6/site-packages/sklearn/linear_model/logistic.py:432: FutureWarning: Default solver will be changed to 'lbfgs' in 0.22. Specify a solver to silence this warning.\n",
      "  FutureWarning)\n",
      "/Users/Chenson/anaconda3/lib/python3.6/site-packages/sklearn/linear_model/logistic.py:432: FutureWarning: Default solver will be changed to 'lbfgs' in 0.22. Specify a solver to silence this warning.\n",
      "  FutureWarning)\n",
      "/Users/Chenson/anaconda3/lib/python3.6/site-packages/sklearn/linear_model/logistic.py:432: FutureWarning: Default solver will be changed to 'lbfgs' in 0.22. Specify a solver to silence this warning.\n",
      "  FutureWarning)\n",
      "/Users/Chenson/anaconda3/lib/python3.6/site-packages/sklearn/linear_model/logistic.py:432: FutureWarning: Default solver will be changed to 'lbfgs' in 0.22. Specify a solver to silence this warning.\n",
      "  FutureWarning)\n",
      "/Users/Chenson/anaconda3/lib/python3.6/site-packages/sklearn/linear_model/logistic.py:432: FutureWarning: Default solver will be changed to 'lbfgs' in 0.22. Specify a solver to silence this warning.\n",
      "  FutureWarning)\n",
      "/Users/Chenson/anaconda3/lib/python3.6/site-packages/sklearn/linear_model/logistic.py:432: FutureWarning: Default solver will be changed to 'lbfgs' in 0.22. Specify a solver to silence this warning.\n",
      "  FutureWarning)\n",
      "/Users/Chenson/anaconda3/lib/python3.6/site-packages/sklearn/linear_model/logistic.py:432: FutureWarning: Default solver will be changed to 'lbfgs' in 0.22. Specify a solver to silence this warning.\n",
      "  FutureWarning)\n",
      "/Users/Chenson/anaconda3/lib/python3.6/site-packages/sklearn/linear_model/logistic.py:432: FutureWarning: Default solver will be changed to 'lbfgs' in 0.22. Specify a solver to silence this warning.\n",
      "  FutureWarning)\n",
      "/Users/Chenson/anaconda3/lib/python3.6/site-packages/sklearn/linear_model/logistic.py:432: FutureWarning: Default solver will be changed to 'lbfgs' in 0.22. Specify a solver to silence this warning.\n",
      "  FutureWarning)\n",
      "/Users/Chenson/anaconda3/lib/python3.6/site-packages/sklearn/linear_model/logistic.py:432: FutureWarning: Default solver will be changed to 'lbfgs' in 0.22. Specify a solver to silence this warning.\n",
      "  FutureWarning)\n",
      "/Users/Chenson/anaconda3/lib/python3.6/site-packages/sklearn/linear_model/logistic.py:432: FutureWarning: Default solver will be changed to 'lbfgs' in 0.22. Specify a solver to silence this warning.\n",
      "  FutureWarning)\n",
      "/Users/Chenson/anaconda3/lib/python3.6/site-packages/sklearn/linear_model/logistic.py:432: FutureWarning: Default solver will be changed to 'lbfgs' in 0.22. Specify a solver to silence this warning.\n",
      "  FutureWarning)\n",
      "/Users/Chenson/anaconda3/lib/python3.6/site-packages/sklearn/linear_model/logistic.py:432: FutureWarning: Default solver will be changed to 'lbfgs' in 0.22. Specify a solver to silence this warning.\n",
      "  FutureWarning)\n",
      "/Users/Chenson/anaconda3/lib/python3.6/site-packages/sklearn/linear_model/logistic.py:432: FutureWarning: Default solver will be changed to 'lbfgs' in 0.22. Specify a solver to silence this warning.\n",
      "  FutureWarning)\n"
     ]
    }
   ],
   "source": [
    "from sklearn.linear_model import LogisticRegression\n",
    "lr = LogisticRegression()\n",
    "rfe = RFEFilter(lr, by='stepwise', verbose=False)\n",
    "rfe = rfe.fit(X, y)"
   ]
  },
  {
   "cell_type": "code",
   "execution_count": 30,
   "metadata": {
    "ExecuteTime": {
     "end_time": "2018-11-28T09:53:09.449738Z",
     "start_time": "2018-11-28T09:53:09.408181Z"
    }
   },
   "outputs": [
    {
     "data": {
      "text/plain": [
       "array([0, 0])"
      ]
     },
     "execution_count": 30,
     "metadata": {},
     "output_type": "execute_result"
    },
    {
     "data": {
      "text/plain": [
       "array([[0.78515816, 0.21484184],\n",
       "       [0.63104209, 0.36895791]])"
      ]
     },
     "execution_count": 30,
     "metadata": {},
     "output_type": "execute_result"
    },
    {
     "data": {
      "text/plain": [
       "array([[-0.24187011, -1.53785313],\n",
       "       [-0.46038271, -0.99707271]])"
      ]
     },
     "execution_count": 30,
     "metadata": {},
     "output_type": "execute_result"
    }
   ],
   "source": [
    "rfe.predict(X)[:2]\n",
    "rfe.predict_proba(X)[:2]\n",
    "rfe.predict_log_proba(X)[:2]"
   ]
  },
  {
   "cell_type": "markdown",
   "metadata": {},
   "source": [
    "## LR stepwise_coef test"
   ]
  },
  {
   "cell_type": "code",
   "execution_count": 31,
   "metadata": {
    "ExecuteTime": {
     "end_time": "2018-11-28T09:53:39.616634Z",
     "start_time": "2018-11-28T09:53:14.108433Z"
    }
   },
   "outputs": [
    {
     "name": "stdout",
     "output_type": "stream",
     "text": [
      "Fitting estimator with 53 features.\n"
     ]
    },
    {
     "name": "stderr",
     "output_type": "stream",
     "text": [
      "/Users/Chenson/anaconda3/lib/python3.6/site-packages/sklearn/linear_model/logistic.py:432: FutureWarning: Default solver will be changed to 'lbfgs' in 0.22. Specify a solver to silence this warning.\n",
      "  FutureWarning)\n"
     ]
    },
    {
     "name": "stdout",
     "output_type": "stream",
     "text": [
      "Fitting estimator with 52 features.\n"
     ]
    },
    {
     "name": "stderr",
     "output_type": "stream",
     "text": [
      "/Users/Chenson/anaconda3/lib/python3.6/site-packages/sklearn/linear_model/logistic.py:432: FutureWarning: Default solver will be changed to 'lbfgs' in 0.22. Specify a solver to silence this warning.\n",
      "  FutureWarning)\n"
     ]
    },
    {
     "name": "stdout",
     "output_type": "stream",
     "text": [
      "Fitting estimator with 51 features.\n"
     ]
    },
    {
     "name": "stderr",
     "output_type": "stream",
     "text": [
      "/Users/Chenson/anaconda3/lib/python3.6/site-packages/sklearn/linear_model/logistic.py:432: FutureWarning: Default solver will be changed to 'lbfgs' in 0.22. Specify a solver to silence this warning.\n",
      "  FutureWarning)\n"
     ]
    },
    {
     "name": "stdout",
     "output_type": "stream",
     "text": [
      "Fitting estimator with 50 features.\n"
     ]
    },
    {
     "name": "stderr",
     "output_type": "stream",
     "text": [
      "/Users/Chenson/anaconda3/lib/python3.6/site-packages/sklearn/linear_model/logistic.py:432: FutureWarning: Default solver will be changed to 'lbfgs' in 0.22. Specify a solver to silence this warning.\n",
      "  FutureWarning)\n"
     ]
    },
    {
     "name": "stdout",
     "output_type": "stream",
     "text": [
      "Fitting estimator with 49 features.\n"
     ]
    },
    {
     "name": "stderr",
     "output_type": "stream",
     "text": [
      "/Users/Chenson/anaconda3/lib/python3.6/site-packages/sklearn/linear_model/logistic.py:432: FutureWarning: Default solver will be changed to 'lbfgs' in 0.22. Specify a solver to silence this warning.\n",
      "  FutureWarning)\n"
     ]
    },
    {
     "name": "stdout",
     "output_type": "stream",
     "text": [
      "Fitting estimator with 48 features.\n"
     ]
    },
    {
     "name": "stderr",
     "output_type": "stream",
     "text": [
      "/Users/Chenson/anaconda3/lib/python3.6/site-packages/sklearn/linear_model/logistic.py:432: FutureWarning: Default solver will be changed to 'lbfgs' in 0.22. Specify a solver to silence this warning.\n",
      "  FutureWarning)\n"
     ]
    },
    {
     "name": "stdout",
     "output_type": "stream",
     "text": [
      "Fitting estimator with 47 features.\n"
     ]
    },
    {
     "name": "stderr",
     "output_type": "stream",
     "text": [
      "/Users/Chenson/anaconda3/lib/python3.6/site-packages/sklearn/linear_model/logistic.py:432: FutureWarning: Default solver will be changed to 'lbfgs' in 0.22. Specify a solver to silence this warning.\n",
      "  FutureWarning)\n"
     ]
    },
    {
     "name": "stdout",
     "output_type": "stream",
     "text": [
      "Fitting estimator with 46 features.\n"
     ]
    },
    {
     "name": "stderr",
     "output_type": "stream",
     "text": [
      "/Users/Chenson/anaconda3/lib/python3.6/site-packages/sklearn/linear_model/logistic.py:432: FutureWarning: Default solver will be changed to 'lbfgs' in 0.22. Specify a solver to silence this warning.\n",
      "  FutureWarning)\n"
     ]
    },
    {
     "name": "stdout",
     "output_type": "stream",
     "text": [
      "Fitting estimator with 45 features.\n"
     ]
    },
    {
     "name": "stderr",
     "output_type": "stream",
     "text": [
      "/Users/Chenson/anaconda3/lib/python3.6/site-packages/sklearn/linear_model/logistic.py:432: FutureWarning: Default solver will be changed to 'lbfgs' in 0.22. Specify a solver to silence this warning.\n",
      "  FutureWarning)\n"
     ]
    },
    {
     "name": "stdout",
     "output_type": "stream",
     "text": [
      "Fitting estimator with 44 features.\n"
     ]
    },
    {
     "name": "stderr",
     "output_type": "stream",
     "text": [
      "/Users/Chenson/anaconda3/lib/python3.6/site-packages/sklearn/linear_model/logistic.py:432: FutureWarning: Default solver will be changed to 'lbfgs' in 0.22. Specify a solver to silence this warning.\n",
      "  FutureWarning)\n"
     ]
    },
    {
     "name": "stdout",
     "output_type": "stream",
     "text": [
      "Fitting estimator with 43 features.\n"
     ]
    },
    {
     "name": "stderr",
     "output_type": "stream",
     "text": [
      "/Users/Chenson/anaconda3/lib/python3.6/site-packages/sklearn/linear_model/logistic.py:432: FutureWarning: Default solver will be changed to 'lbfgs' in 0.22. Specify a solver to silence this warning.\n",
      "  FutureWarning)\n"
     ]
    },
    {
     "name": "stdout",
     "output_type": "stream",
     "text": [
      "Fitting estimator with 42 features.\n"
     ]
    },
    {
     "name": "stderr",
     "output_type": "stream",
     "text": [
      "/Users/Chenson/anaconda3/lib/python3.6/site-packages/sklearn/linear_model/logistic.py:432: FutureWarning: Default solver will be changed to 'lbfgs' in 0.22. Specify a solver to silence this warning.\n",
      "  FutureWarning)\n"
     ]
    },
    {
     "name": "stdout",
     "output_type": "stream",
     "text": [
      "Fitting estimator with 41 features.\n"
     ]
    },
    {
     "name": "stderr",
     "output_type": "stream",
     "text": [
      "/Users/Chenson/anaconda3/lib/python3.6/site-packages/sklearn/linear_model/logistic.py:432: FutureWarning: Default solver will be changed to 'lbfgs' in 0.22. Specify a solver to silence this warning.\n",
      "  FutureWarning)\n"
     ]
    },
    {
     "name": "stdout",
     "output_type": "stream",
     "text": [
      "Fitting estimator with 40 features.\n"
     ]
    },
    {
     "name": "stderr",
     "output_type": "stream",
     "text": [
      "/Users/Chenson/anaconda3/lib/python3.6/site-packages/sklearn/linear_model/logistic.py:432: FutureWarning: Default solver will be changed to 'lbfgs' in 0.22. Specify a solver to silence this warning.\n",
      "  FutureWarning)\n"
     ]
    },
    {
     "name": "stdout",
     "output_type": "stream",
     "text": [
      "Fitting estimator with 39 features.\n"
     ]
    },
    {
     "name": "stderr",
     "output_type": "stream",
     "text": [
      "/Users/Chenson/anaconda3/lib/python3.6/site-packages/sklearn/linear_model/logistic.py:432: FutureWarning: Default solver will be changed to 'lbfgs' in 0.22. Specify a solver to silence this warning.\n",
      "  FutureWarning)\n"
     ]
    },
    {
     "name": "stdout",
     "output_type": "stream",
     "text": [
      "Fitting estimator with 38 features.\n"
     ]
    },
    {
     "name": "stderr",
     "output_type": "stream",
     "text": [
      "/Users/Chenson/anaconda3/lib/python3.6/site-packages/sklearn/linear_model/logistic.py:432: FutureWarning: Default solver will be changed to 'lbfgs' in 0.22. Specify a solver to silence this warning.\n",
      "  FutureWarning)\n"
     ]
    },
    {
     "name": "stdout",
     "output_type": "stream",
     "text": [
      "Fitting estimator with 37 features.\n"
     ]
    },
    {
     "name": "stderr",
     "output_type": "stream",
     "text": [
      "/Users/Chenson/anaconda3/lib/python3.6/site-packages/sklearn/linear_model/logistic.py:432: FutureWarning: Default solver will be changed to 'lbfgs' in 0.22. Specify a solver to silence this warning.\n",
      "  FutureWarning)\n"
     ]
    },
    {
     "name": "stdout",
     "output_type": "stream",
     "text": [
      "Fitting estimator with 36 features.\n"
     ]
    },
    {
     "name": "stderr",
     "output_type": "stream",
     "text": [
      "/Users/Chenson/anaconda3/lib/python3.6/site-packages/sklearn/linear_model/logistic.py:432: FutureWarning: Default solver will be changed to 'lbfgs' in 0.22. Specify a solver to silence this warning.\n",
      "  FutureWarning)\n"
     ]
    },
    {
     "name": "stdout",
     "output_type": "stream",
     "text": [
      "Fitting estimator with 35 features.\n"
     ]
    },
    {
     "name": "stderr",
     "output_type": "stream",
     "text": [
      "/Users/Chenson/anaconda3/lib/python3.6/site-packages/sklearn/linear_model/logistic.py:432: FutureWarning: Default solver will be changed to 'lbfgs' in 0.22. Specify a solver to silence this warning.\n",
      "  FutureWarning)\n"
     ]
    },
    {
     "name": "stdout",
     "output_type": "stream",
     "text": [
      "Fitting estimator with 34 features.\n"
     ]
    },
    {
     "name": "stderr",
     "output_type": "stream",
     "text": [
      "/Users/Chenson/anaconda3/lib/python3.6/site-packages/sklearn/linear_model/logistic.py:432: FutureWarning: Default solver will be changed to 'lbfgs' in 0.22. Specify a solver to silence this warning.\n",
      "  FutureWarning)\n"
     ]
    },
    {
     "name": "stdout",
     "output_type": "stream",
     "text": [
      "Fitting estimator with 33 features.\n"
     ]
    },
    {
     "name": "stderr",
     "output_type": "stream",
     "text": [
      "/Users/Chenson/anaconda3/lib/python3.6/site-packages/sklearn/linear_model/logistic.py:432: FutureWarning: Default solver will be changed to 'lbfgs' in 0.22. Specify a solver to silence this warning.\n",
      "  FutureWarning)\n"
     ]
    },
    {
     "name": "stdout",
     "output_type": "stream",
     "text": [
      "Fitting estimator with 32 features.\n"
     ]
    },
    {
     "name": "stderr",
     "output_type": "stream",
     "text": [
      "/Users/Chenson/anaconda3/lib/python3.6/site-packages/sklearn/linear_model/logistic.py:432: FutureWarning: Default solver will be changed to 'lbfgs' in 0.22. Specify a solver to silence this warning.\n",
      "  FutureWarning)\n"
     ]
    },
    {
     "name": "stdout",
     "output_type": "stream",
     "text": [
      "Fitting estimator with 31 features.\n"
     ]
    },
    {
     "name": "stderr",
     "output_type": "stream",
     "text": [
      "/Users/Chenson/anaconda3/lib/python3.6/site-packages/sklearn/linear_model/logistic.py:432: FutureWarning: Default solver will be changed to 'lbfgs' in 0.22. Specify a solver to silence this warning.\n",
      "  FutureWarning)\n"
     ]
    },
    {
     "name": "stdout",
     "output_type": "stream",
     "text": [
      "Fitting estimator with 30 features.\n"
     ]
    },
    {
     "name": "stderr",
     "output_type": "stream",
     "text": [
      "/Users/Chenson/anaconda3/lib/python3.6/site-packages/sklearn/linear_model/logistic.py:432: FutureWarning: Default solver will be changed to 'lbfgs' in 0.22. Specify a solver to silence this warning.\n",
      "  FutureWarning)\n"
     ]
    },
    {
     "name": "stdout",
     "output_type": "stream",
     "text": [
      "Fitting estimator with 29 features.\n"
     ]
    },
    {
     "name": "stderr",
     "output_type": "stream",
     "text": [
      "/Users/Chenson/anaconda3/lib/python3.6/site-packages/sklearn/linear_model/logistic.py:432: FutureWarning: Default solver will be changed to 'lbfgs' in 0.22. Specify a solver to silence this warning.\n",
      "  FutureWarning)\n"
     ]
    },
    {
     "name": "stdout",
     "output_type": "stream",
     "text": [
      "Fitting estimator with 28 features.\n"
     ]
    },
    {
     "name": "stderr",
     "output_type": "stream",
     "text": [
      "/Users/Chenson/anaconda3/lib/python3.6/site-packages/sklearn/linear_model/logistic.py:432: FutureWarning: Default solver will be changed to 'lbfgs' in 0.22. Specify a solver to silence this warning.\n",
      "  FutureWarning)\n"
     ]
    },
    {
     "name": "stdout",
     "output_type": "stream",
     "text": [
      "Fitting estimator with 27 features.\n",
      "Fitting estimator with 26 features.\n"
     ]
    },
    {
     "name": "stderr",
     "output_type": "stream",
     "text": [
      "/Users/Chenson/anaconda3/lib/python3.6/site-packages/sklearn/linear_model/logistic.py:432: FutureWarning: Default solver will be changed to 'lbfgs' in 0.22. Specify a solver to silence this warning.\n",
      "  FutureWarning)\n",
      "/Users/Chenson/anaconda3/lib/python3.6/site-packages/sklearn/linear_model/logistic.py:432: FutureWarning: Default solver will be changed to 'lbfgs' in 0.22. Specify a solver to silence this warning.\n",
      "  FutureWarning)\n"
     ]
    },
    {
     "name": "stdout",
     "output_type": "stream",
     "text": [
      "Fitting estimator with 25 features.\n"
     ]
    },
    {
     "name": "stderr",
     "output_type": "stream",
     "text": [
      "/Users/Chenson/anaconda3/lib/python3.6/site-packages/sklearn/linear_model/logistic.py:432: FutureWarning: Default solver will be changed to 'lbfgs' in 0.22. Specify a solver to silence this warning.\n",
      "  FutureWarning)\n"
     ]
    },
    {
     "name": "stdout",
     "output_type": "stream",
     "text": [
      "Fitting estimator with 24 features.\n"
     ]
    },
    {
     "name": "stderr",
     "output_type": "stream",
     "text": [
      "/Users/Chenson/anaconda3/lib/python3.6/site-packages/sklearn/linear_model/logistic.py:432: FutureWarning: Default solver will be changed to 'lbfgs' in 0.22. Specify a solver to silence this warning.\n",
      "  FutureWarning)\n"
     ]
    },
    {
     "name": "stdout",
     "output_type": "stream",
     "text": [
      "Fitting estimator with 23 features.\n"
     ]
    },
    {
     "name": "stderr",
     "output_type": "stream",
     "text": [
      "/Users/Chenson/anaconda3/lib/python3.6/site-packages/sklearn/linear_model/logistic.py:432: FutureWarning: Default solver will be changed to 'lbfgs' in 0.22. Specify a solver to silence this warning.\n",
      "  FutureWarning)\n"
     ]
    },
    {
     "name": "stdout",
     "output_type": "stream",
     "text": [
      "Fitting estimator with 22 features.\n"
     ]
    },
    {
     "name": "stderr",
     "output_type": "stream",
     "text": [
      "/Users/Chenson/anaconda3/lib/python3.6/site-packages/sklearn/linear_model/logistic.py:432: FutureWarning: Default solver will be changed to 'lbfgs' in 0.22. Specify a solver to silence this warning.\n",
      "  FutureWarning)\n"
     ]
    },
    {
     "name": "stdout",
     "output_type": "stream",
     "text": [
      "Fitting estimator with 21 features.\n",
      "Fitting estimator with 20 features.\n",
      "Fitting estimator with 19 features.\n"
     ]
    },
    {
     "name": "stderr",
     "output_type": "stream",
     "text": [
      "/Users/Chenson/anaconda3/lib/python3.6/site-packages/sklearn/linear_model/logistic.py:432: FutureWarning: Default solver will be changed to 'lbfgs' in 0.22. Specify a solver to silence this warning.\n",
      "  FutureWarning)\n",
      "/Users/Chenson/anaconda3/lib/python3.6/site-packages/sklearn/linear_model/logistic.py:432: FutureWarning: Default solver will be changed to 'lbfgs' in 0.22. Specify a solver to silence this warning.\n",
      "  FutureWarning)\n",
      "/Users/Chenson/anaconda3/lib/python3.6/site-packages/sklearn/linear_model/logistic.py:432: FutureWarning: Default solver will be changed to 'lbfgs' in 0.22. Specify a solver to silence this warning.\n",
      "  FutureWarning)\n"
     ]
    },
    {
     "name": "stdout",
     "output_type": "stream",
     "text": [
      "Fitting estimator with 18 features.\n",
      "Fitting estimator with 17 features.\n"
     ]
    },
    {
     "name": "stderr",
     "output_type": "stream",
     "text": [
      "/Users/Chenson/anaconda3/lib/python3.6/site-packages/sklearn/linear_model/logistic.py:432: FutureWarning: Default solver will be changed to 'lbfgs' in 0.22. Specify a solver to silence this warning.\n",
      "  FutureWarning)\n",
      "/Users/Chenson/anaconda3/lib/python3.6/site-packages/sklearn/linear_model/logistic.py:432: FutureWarning: Default solver will be changed to 'lbfgs' in 0.22. Specify a solver to silence this warning.\n",
      "  FutureWarning)\n"
     ]
    },
    {
     "name": "stdout",
     "output_type": "stream",
     "text": [
      "Fitting estimator with 16 features.\n"
     ]
    },
    {
     "name": "stderr",
     "output_type": "stream",
     "text": [
      "/Users/Chenson/anaconda3/lib/python3.6/site-packages/sklearn/linear_model/logistic.py:432: FutureWarning: Default solver will be changed to 'lbfgs' in 0.22. Specify a solver to silence this warning.\n",
      "  FutureWarning)\n"
     ]
    },
    {
     "name": "stdout",
     "output_type": "stream",
     "text": [
      "Fitting estimator with 15 features.\n"
     ]
    },
    {
     "name": "stderr",
     "output_type": "stream",
     "text": [
      "/Users/Chenson/anaconda3/lib/python3.6/site-packages/sklearn/linear_model/logistic.py:432: FutureWarning: Default solver will be changed to 'lbfgs' in 0.22. Specify a solver to silence this warning.\n",
      "  FutureWarning)\n"
     ]
    },
    {
     "name": "stdout",
     "output_type": "stream",
     "text": [
      "Fitting estimator with 14 features.\n",
      "Fitting estimator with 13 features.\n"
     ]
    },
    {
     "name": "stderr",
     "output_type": "stream",
     "text": [
      "/Users/Chenson/anaconda3/lib/python3.6/site-packages/sklearn/linear_model/logistic.py:432: FutureWarning: Default solver will be changed to 'lbfgs' in 0.22. Specify a solver to silence this warning.\n",
      "  FutureWarning)\n",
      "/Users/Chenson/anaconda3/lib/python3.6/site-packages/sklearn/linear_model/logistic.py:432: FutureWarning: Default solver will be changed to 'lbfgs' in 0.22. Specify a solver to silence this warning.\n",
      "  FutureWarning)\n"
     ]
    },
    {
     "name": "stdout",
     "output_type": "stream",
     "text": [
      "Fitting estimator with 12 features.\n"
     ]
    },
    {
     "name": "stderr",
     "output_type": "stream",
     "text": [
      "/Users/Chenson/anaconda3/lib/python3.6/site-packages/sklearn/linear_model/logistic.py:432: FutureWarning: Default solver will be changed to 'lbfgs' in 0.22. Specify a solver to silence this warning.\n",
      "  FutureWarning)\n"
     ]
    },
    {
     "name": "stdout",
     "output_type": "stream",
     "text": [
      "Fitting estimator with 11 features.\n",
      "Fitting estimator with 10 features.\n"
     ]
    },
    {
     "name": "stderr",
     "output_type": "stream",
     "text": [
      "/Users/Chenson/anaconda3/lib/python3.6/site-packages/sklearn/linear_model/logistic.py:432: FutureWarning: Default solver will be changed to 'lbfgs' in 0.22. Specify a solver to silence this warning.\n",
      "  FutureWarning)\n",
      "/Users/Chenson/anaconda3/lib/python3.6/site-packages/sklearn/linear_model/logistic.py:432: FutureWarning: Default solver will be changed to 'lbfgs' in 0.22. Specify a solver to silence this warning.\n",
      "  FutureWarning)\n"
     ]
    },
    {
     "name": "stdout",
     "output_type": "stream",
     "text": [
      "Fitting estimator with 9 features.\n",
      "Fitting estimator with 8 features.\n",
      "Fitting estimator with 7 features.\n",
      "Fitting estimator with 6 features.\n"
     ]
    },
    {
     "name": "stderr",
     "output_type": "stream",
     "text": [
      "/Users/Chenson/anaconda3/lib/python3.6/site-packages/sklearn/linear_model/logistic.py:432: FutureWarning: Default solver will be changed to 'lbfgs' in 0.22. Specify a solver to silence this warning.\n",
      "  FutureWarning)\n",
      "/Users/Chenson/anaconda3/lib/python3.6/site-packages/sklearn/linear_model/logistic.py:432: FutureWarning: Default solver will be changed to 'lbfgs' in 0.22. Specify a solver to silence this warning.\n",
      "  FutureWarning)\n",
      "/Users/Chenson/anaconda3/lib/python3.6/site-packages/sklearn/linear_model/logistic.py:432: FutureWarning: Default solver will be changed to 'lbfgs' in 0.22. Specify a solver to silence this warning.\n",
      "  FutureWarning)\n",
      "/Users/Chenson/anaconda3/lib/python3.6/site-packages/sklearn/linear_model/logistic.py:432: FutureWarning: Default solver will be changed to 'lbfgs' in 0.22. Specify a solver to silence this warning.\n",
      "  FutureWarning)\n"
     ]
    },
    {
     "name": "stdout",
     "output_type": "stream",
     "text": [
      "Fitting estimator with 5 features.\n",
      "Fitting estimator with 4 features.\n"
     ]
    },
    {
     "name": "stderr",
     "output_type": "stream",
     "text": [
      "/Users/Chenson/anaconda3/lib/python3.6/site-packages/sklearn/linear_model/logistic.py:432: FutureWarning: Default solver will be changed to 'lbfgs' in 0.22. Specify a solver to silence this warning.\n",
      "  FutureWarning)\n",
      "/Users/Chenson/anaconda3/lib/python3.6/site-packages/sklearn/linear_model/logistic.py:432: FutureWarning: Default solver will be changed to 'lbfgs' in 0.22. Specify a solver to silence this warning.\n",
      "  FutureWarning)\n",
      "/Users/Chenson/anaconda3/lib/python3.6/site-packages/sklearn/linear_model/logistic.py:432: FutureWarning: Default solver will be changed to 'lbfgs' in 0.22. Specify a solver to silence this warning.\n",
      "  FutureWarning)\n"
     ]
    }
   ],
   "source": [
    "from sklearn.linear_model import LogisticRegression\n",
    "lr = LogisticRegression()\n",
    "rfe = RFEFilter(lr, by='stepwise_coef', verbose=True, n_features_to_select=3)\n",
    "rfe = rfe.fit(X, y)"
   ]
  },
  {
   "cell_type": "code",
   "execution_count": 32,
   "metadata": {
    "ExecuteTime": {
     "end_time": "2018-11-28T09:54:16.137470Z",
     "start_time": "2018-11-28T09:54:16.119354Z"
    }
   },
   "outputs": [
    {
     "data": {
      "text/plain": [
       "['cn_gt_0_ratio', 'coc_gt_0_ratio', 'xy_score']"
      ]
     },
     "execution_count": 32,
     "metadata": {},
     "output_type": "execute_result"
    }
   ],
   "source": [
    "rfe.get_columns()"
   ]
  },
  {
   "cell_type": "code",
   "execution_count": 35,
   "metadata": {
    "ExecuteTime": {
     "end_time": "2018-11-28T09:54:25.885953Z",
     "start_time": "2018-11-28T09:54:25.872610Z"
    }
   },
   "outputs": [
    {
     "data": {
      "text/html": [
       "<div>\n",
       "<style scoped>\n",
       "    .dataframe tbody tr th:only-of-type {\n",
       "        vertical-align: middle;\n",
       "    }\n",
       "\n",
       "    .dataframe tbody tr th {\n",
       "        vertical-align: top;\n",
       "    }\n",
       "\n",
       "    .dataframe thead th {\n",
       "        text-align: right;\n",
       "    }\n",
       "</style>\n",
       "<table border=\"1\" class=\"dataframe\">\n",
       "  <thead>\n",
       "    <tr style=\"text-align: right;\">\n",
       "      <th></th>\n",
       "      <th>cn_gt_0_ratio</th>\n",
       "      <th>coc_gt_0_ratio</th>\n",
       "      <th>xy_score</th>\n",
       "    </tr>\n",
       "  </thead>\n",
       "  <tbody>\n",
       "    <tr>\n",
       "      <th>0</th>\n",
       "      <td>0.295757</td>\n",
       "      <td>0.524835</td>\n",
       "      <td>0.185242</td>\n",
       "    </tr>\n",
       "    <tr>\n",
       "      <th>1</th>\n",
       "      <td>0.444976</td>\n",
       "      <td>0.765550</td>\n",
       "      <td>0.205521</td>\n",
       "    </tr>\n",
       "  </tbody>\n",
       "</table>\n",
       "</div>"
      ],
      "text/plain": [
       "   cn_gt_0_ratio  coc_gt_0_ratio  xy_score\n",
       "0       0.295757        0.524835  0.185242\n",
       "1       0.444976        0.765550  0.205521"
      ]
     },
     "execution_count": 35,
     "metadata": {},
     "output_type": "execute_result"
    }
   ],
   "source": [
    "rfe._transform(X)[:2]"
   ]
  },
  {
   "cell_type": "code",
   "execution_count": 36,
   "metadata": {
    "ExecuteTime": {
     "end_time": "2018-11-28T09:54:53.939695Z",
     "start_time": "2018-11-28T09:54:31.945528Z"
    }
   },
   "outputs": [
    {
     "name": "stdout",
     "output_type": "stream",
     "text": [
      "Fitting estimator with 53 features.\n"
     ]
    },
    {
     "name": "stderr",
     "output_type": "stream",
     "text": [
      "/Users/Chenson/anaconda3/lib/python3.6/site-packages/sklearn/linear_model/logistic.py:432: FutureWarning: Default solver will be changed to 'lbfgs' in 0.22. Specify a solver to silence this warning.\n",
      "  FutureWarning)\n"
     ]
    },
    {
     "name": "stdout",
     "output_type": "stream",
     "text": [
      "Fitting estimator with 52 features.\n"
     ]
    },
    {
     "name": "stderr",
     "output_type": "stream",
     "text": [
      "/Users/Chenson/anaconda3/lib/python3.6/site-packages/sklearn/linear_model/logistic.py:432: FutureWarning: Default solver will be changed to 'lbfgs' in 0.22. Specify a solver to silence this warning.\n",
      "  FutureWarning)\n"
     ]
    },
    {
     "name": "stdout",
     "output_type": "stream",
     "text": [
      "Fitting estimator with 51 features.\n"
     ]
    },
    {
     "name": "stderr",
     "output_type": "stream",
     "text": [
      "/Users/Chenson/anaconda3/lib/python3.6/site-packages/sklearn/linear_model/logistic.py:432: FutureWarning: Default solver will be changed to 'lbfgs' in 0.22. Specify a solver to silence this warning.\n",
      "  FutureWarning)\n"
     ]
    },
    {
     "name": "stdout",
     "output_type": "stream",
     "text": [
      "Fitting estimator with 50 features.\n"
     ]
    },
    {
     "name": "stderr",
     "output_type": "stream",
     "text": [
      "/Users/Chenson/anaconda3/lib/python3.6/site-packages/sklearn/linear_model/logistic.py:432: FutureWarning: Default solver will be changed to 'lbfgs' in 0.22. Specify a solver to silence this warning.\n",
      "  FutureWarning)\n"
     ]
    },
    {
     "name": "stdout",
     "output_type": "stream",
     "text": [
      "Fitting estimator with 49 features.\n"
     ]
    },
    {
     "name": "stderr",
     "output_type": "stream",
     "text": [
      "/Users/Chenson/anaconda3/lib/python3.6/site-packages/sklearn/linear_model/logistic.py:432: FutureWarning: Default solver will be changed to 'lbfgs' in 0.22. Specify a solver to silence this warning.\n",
      "  FutureWarning)\n"
     ]
    },
    {
     "name": "stdout",
     "output_type": "stream",
     "text": [
      "Fitting estimator with 48 features.\n"
     ]
    },
    {
     "name": "stderr",
     "output_type": "stream",
     "text": [
      "/Users/Chenson/anaconda3/lib/python3.6/site-packages/sklearn/linear_model/logistic.py:432: FutureWarning: Default solver will be changed to 'lbfgs' in 0.22. Specify a solver to silence this warning.\n",
      "  FutureWarning)\n"
     ]
    },
    {
     "name": "stdout",
     "output_type": "stream",
     "text": [
      "Fitting estimator with 47 features.\n"
     ]
    },
    {
     "name": "stderr",
     "output_type": "stream",
     "text": [
      "/Users/Chenson/anaconda3/lib/python3.6/site-packages/sklearn/linear_model/logistic.py:432: FutureWarning: Default solver will be changed to 'lbfgs' in 0.22. Specify a solver to silence this warning.\n",
      "  FutureWarning)\n"
     ]
    },
    {
     "name": "stdout",
     "output_type": "stream",
     "text": [
      "Fitting estimator with 46 features.\n"
     ]
    },
    {
     "name": "stderr",
     "output_type": "stream",
     "text": [
      "/Users/Chenson/anaconda3/lib/python3.6/site-packages/sklearn/linear_model/logistic.py:432: FutureWarning: Default solver will be changed to 'lbfgs' in 0.22. Specify a solver to silence this warning.\n",
      "  FutureWarning)\n"
     ]
    },
    {
     "name": "stdout",
     "output_type": "stream",
     "text": [
      "Fitting estimator with 45 features.\n"
     ]
    },
    {
     "name": "stderr",
     "output_type": "stream",
     "text": [
      "/Users/Chenson/anaconda3/lib/python3.6/site-packages/sklearn/linear_model/logistic.py:432: FutureWarning: Default solver will be changed to 'lbfgs' in 0.22. Specify a solver to silence this warning.\n",
      "  FutureWarning)\n"
     ]
    },
    {
     "name": "stdout",
     "output_type": "stream",
     "text": [
      "Fitting estimator with 44 features.\n"
     ]
    },
    {
     "name": "stderr",
     "output_type": "stream",
     "text": [
      "/Users/Chenson/anaconda3/lib/python3.6/site-packages/sklearn/linear_model/logistic.py:432: FutureWarning: Default solver will be changed to 'lbfgs' in 0.22. Specify a solver to silence this warning.\n",
      "  FutureWarning)\n"
     ]
    },
    {
     "name": "stdout",
     "output_type": "stream",
     "text": [
      "Fitting estimator with 43 features.\n"
     ]
    },
    {
     "name": "stderr",
     "output_type": "stream",
     "text": [
      "/Users/Chenson/anaconda3/lib/python3.6/site-packages/sklearn/linear_model/logistic.py:432: FutureWarning: Default solver will be changed to 'lbfgs' in 0.22. Specify a solver to silence this warning.\n",
      "  FutureWarning)\n"
     ]
    },
    {
     "name": "stdout",
     "output_type": "stream",
     "text": [
      "Fitting estimator with 42 features.\n"
     ]
    },
    {
     "name": "stderr",
     "output_type": "stream",
     "text": [
      "/Users/Chenson/anaconda3/lib/python3.6/site-packages/sklearn/linear_model/logistic.py:432: FutureWarning: Default solver will be changed to 'lbfgs' in 0.22. Specify a solver to silence this warning.\n",
      "  FutureWarning)\n"
     ]
    },
    {
     "name": "stdout",
     "output_type": "stream",
     "text": [
      "Fitting estimator with 41 features.\n"
     ]
    },
    {
     "name": "stderr",
     "output_type": "stream",
     "text": [
      "/Users/Chenson/anaconda3/lib/python3.6/site-packages/sklearn/linear_model/logistic.py:432: FutureWarning: Default solver will be changed to 'lbfgs' in 0.22. Specify a solver to silence this warning.\n",
      "  FutureWarning)\n"
     ]
    },
    {
     "name": "stdout",
     "output_type": "stream",
     "text": [
      "Fitting estimator with 40 features.\n"
     ]
    },
    {
     "name": "stderr",
     "output_type": "stream",
     "text": [
      "/Users/Chenson/anaconda3/lib/python3.6/site-packages/sklearn/linear_model/logistic.py:432: FutureWarning: Default solver will be changed to 'lbfgs' in 0.22. Specify a solver to silence this warning.\n",
      "  FutureWarning)\n"
     ]
    },
    {
     "name": "stdout",
     "output_type": "stream",
     "text": [
      "Fitting estimator with 39 features.\n"
     ]
    },
    {
     "name": "stderr",
     "output_type": "stream",
     "text": [
      "/Users/Chenson/anaconda3/lib/python3.6/site-packages/sklearn/linear_model/logistic.py:432: FutureWarning: Default solver will be changed to 'lbfgs' in 0.22. Specify a solver to silence this warning.\n",
      "  FutureWarning)\n"
     ]
    },
    {
     "name": "stdout",
     "output_type": "stream",
     "text": [
      "Fitting estimator with 38 features.\n"
     ]
    },
    {
     "name": "stderr",
     "output_type": "stream",
     "text": [
      "/Users/Chenson/anaconda3/lib/python3.6/site-packages/sklearn/linear_model/logistic.py:432: FutureWarning: Default solver will be changed to 'lbfgs' in 0.22. Specify a solver to silence this warning.\n",
      "  FutureWarning)\n"
     ]
    },
    {
     "name": "stdout",
     "output_type": "stream",
     "text": [
      "Fitting estimator with 37 features.\n"
     ]
    },
    {
     "name": "stderr",
     "output_type": "stream",
     "text": [
      "/Users/Chenson/anaconda3/lib/python3.6/site-packages/sklearn/linear_model/logistic.py:432: FutureWarning: Default solver will be changed to 'lbfgs' in 0.22. Specify a solver to silence this warning.\n",
      "  FutureWarning)\n"
     ]
    },
    {
     "name": "stdout",
     "output_type": "stream",
     "text": [
      "Fitting estimator with 36 features.\n"
     ]
    },
    {
     "name": "stderr",
     "output_type": "stream",
     "text": [
      "/Users/Chenson/anaconda3/lib/python3.6/site-packages/sklearn/linear_model/logistic.py:432: FutureWarning: Default solver will be changed to 'lbfgs' in 0.22. Specify a solver to silence this warning.\n",
      "  FutureWarning)\n"
     ]
    },
    {
     "name": "stdout",
     "output_type": "stream",
     "text": [
      "Fitting estimator with 35 features.\n"
     ]
    },
    {
     "name": "stderr",
     "output_type": "stream",
     "text": [
      "/Users/Chenson/anaconda3/lib/python3.6/site-packages/sklearn/linear_model/logistic.py:432: FutureWarning: Default solver will be changed to 'lbfgs' in 0.22. Specify a solver to silence this warning.\n",
      "  FutureWarning)\n"
     ]
    },
    {
     "name": "stdout",
     "output_type": "stream",
     "text": [
      "Fitting estimator with 34 features.\n"
     ]
    },
    {
     "name": "stderr",
     "output_type": "stream",
     "text": [
      "/Users/Chenson/anaconda3/lib/python3.6/site-packages/sklearn/linear_model/logistic.py:432: FutureWarning: Default solver will be changed to 'lbfgs' in 0.22. Specify a solver to silence this warning.\n",
      "  FutureWarning)\n"
     ]
    },
    {
     "name": "stdout",
     "output_type": "stream",
     "text": [
      "Fitting estimator with 33 features.\n"
     ]
    },
    {
     "name": "stderr",
     "output_type": "stream",
     "text": [
      "/Users/Chenson/anaconda3/lib/python3.6/site-packages/sklearn/linear_model/logistic.py:432: FutureWarning: Default solver will be changed to 'lbfgs' in 0.22. Specify a solver to silence this warning.\n",
      "  FutureWarning)\n"
     ]
    },
    {
     "name": "stdout",
     "output_type": "stream",
     "text": [
      "Fitting estimator with 32 features.\n"
     ]
    },
    {
     "name": "stderr",
     "output_type": "stream",
     "text": [
      "/Users/Chenson/anaconda3/lib/python3.6/site-packages/sklearn/linear_model/logistic.py:432: FutureWarning: Default solver will be changed to 'lbfgs' in 0.22. Specify a solver to silence this warning.\n",
      "  FutureWarning)\n"
     ]
    },
    {
     "name": "stdout",
     "output_type": "stream",
     "text": [
      "Fitting estimator with 31 features.\n"
     ]
    },
    {
     "name": "stderr",
     "output_type": "stream",
     "text": [
      "/Users/Chenson/anaconda3/lib/python3.6/site-packages/sklearn/linear_model/logistic.py:432: FutureWarning: Default solver will be changed to 'lbfgs' in 0.22. Specify a solver to silence this warning.\n",
      "  FutureWarning)\n"
     ]
    },
    {
     "name": "stdout",
     "output_type": "stream",
     "text": [
      "Fitting estimator with 30 features.\n"
     ]
    },
    {
     "name": "stderr",
     "output_type": "stream",
     "text": [
      "/Users/Chenson/anaconda3/lib/python3.6/site-packages/sklearn/linear_model/logistic.py:432: FutureWarning: Default solver will be changed to 'lbfgs' in 0.22. Specify a solver to silence this warning.\n",
      "  FutureWarning)\n"
     ]
    },
    {
     "name": "stdout",
     "output_type": "stream",
     "text": [
      "Fitting estimator with 29 features.\n"
     ]
    },
    {
     "name": "stderr",
     "output_type": "stream",
     "text": [
      "/Users/Chenson/anaconda3/lib/python3.6/site-packages/sklearn/linear_model/logistic.py:432: FutureWarning: Default solver will be changed to 'lbfgs' in 0.22. Specify a solver to silence this warning.\n",
      "  FutureWarning)\n"
     ]
    },
    {
     "name": "stdout",
     "output_type": "stream",
     "text": [
      "Fitting estimator with 28 features.\n",
      "Fitting estimator with 27 features.\n"
     ]
    },
    {
     "name": "stderr",
     "output_type": "stream",
     "text": [
      "/Users/Chenson/anaconda3/lib/python3.6/site-packages/sklearn/linear_model/logistic.py:432: FutureWarning: Default solver will be changed to 'lbfgs' in 0.22. Specify a solver to silence this warning.\n",
      "  FutureWarning)\n",
      "/Users/Chenson/anaconda3/lib/python3.6/site-packages/sklearn/linear_model/logistic.py:432: FutureWarning: Default solver will be changed to 'lbfgs' in 0.22. Specify a solver to silence this warning.\n",
      "  FutureWarning)\n"
     ]
    },
    {
     "name": "stdout",
     "output_type": "stream",
     "text": [
      "Fitting estimator with 26 features.\n",
      "Fitting estimator with 25 features.\n"
     ]
    },
    {
     "name": "stderr",
     "output_type": "stream",
     "text": [
      "/Users/Chenson/anaconda3/lib/python3.6/site-packages/sklearn/linear_model/logistic.py:432: FutureWarning: Default solver will be changed to 'lbfgs' in 0.22. Specify a solver to silence this warning.\n",
      "  FutureWarning)\n",
      "/Users/Chenson/anaconda3/lib/python3.6/site-packages/sklearn/linear_model/logistic.py:432: FutureWarning: Default solver will be changed to 'lbfgs' in 0.22. Specify a solver to silence this warning.\n",
      "  FutureWarning)\n"
     ]
    },
    {
     "name": "stdout",
     "output_type": "stream",
     "text": [
      "Fitting estimator with 24 features.\n",
      "Fitting estimator with 23 features.\n"
     ]
    },
    {
     "name": "stderr",
     "output_type": "stream",
     "text": [
      "/Users/Chenson/anaconda3/lib/python3.6/site-packages/sklearn/linear_model/logistic.py:432: FutureWarning: Default solver will be changed to 'lbfgs' in 0.22. Specify a solver to silence this warning.\n",
      "  FutureWarning)\n",
      "/Users/Chenson/anaconda3/lib/python3.6/site-packages/sklearn/linear_model/logistic.py:432: FutureWarning: Default solver will be changed to 'lbfgs' in 0.22. Specify a solver to silence this warning.\n",
      "  FutureWarning)\n"
     ]
    },
    {
     "name": "stdout",
     "output_type": "stream",
     "text": [
      "Fitting estimator with 22 features.\n",
      "Fitting estimator with 21 features.\n"
     ]
    },
    {
     "name": "stderr",
     "output_type": "stream",
     "text": [
      "/Users/Chenson/anaconda3/lib/python3.6/site-packages/sklearn/linear_model/logistic.py:432: FutureWarning: Default solver will be changed to 'lbfgs' in 0.22. Specify a solver to silence this warning.\n",
      "  FutureWarning)\n",
      "/Users/Chenson/anaconda3/lib/python3.6/site-packages/sklearn/linear_model/logistic.py:432: FutureWarning: Default solver will be changed to 'lbfgs' in 0.22. Specify a solver to silence this warning.\n",
      "  FutureWarning)\n"
     ]
    },
    {
     "name": "stdout",
     "output_type": "stream",
     "text": [
      "Fitting estimator with 20 features.\n",
      "Fitting estimator with 19 features.\n",
      "Fitting estimator with 18 features.\n"
     ]
    },
    {
     "name": "stderr",
     "output_type": "stream",
     "text": [
      "/Users/Chenson/anaconda3/lib/python3.6/site-packages/sklearn/linear_model/logistic.py:432: FutureWarning: Default solver will be changed to 'lbfgs' in 0.22. Specify a solver to silence this warning.\n",
      "  FutureWarning)\n",
      "/Users/Chenson/anaconda3/lib/python3.6/site-packages/sklearn/linear_model/logistic.py:432: FutureWarning: Default solver will be changed to 'lbfgs' in 0.22. Specify a solver to silence this warning.\n",
      "  FutureWarning)\n",
      "/Users/Chenson/anaconda3/lib/python3.6/site-packages/sklearn/linear_model/logistic.py:432: FutureWarning: Default solver will be changed to 'lbfgs' in 0.22. Specify a solver to silence this warning.\n",
      "  FutureWarning)\n"
     ]
    },
    {
     "name": "stdout",
     "output_type": "stream",
     "text": [
      "Fitting estimator with 17 features.\n",
      "Fitting estimator with 16 features.\n",
      "Fitting estimator with 15 features.\n"
     ]
    },
    {
     "name": "stderr",
     "output_type": "stream",
     "text": [
      "/Users/Chenson/anaconda3/lib/python3.6/site-packages/sklearn/linear_model/logistic.py:432: FutureWarning: Default solver will be changed to 'lbfgs' in 0.22. Specify a solver to silence this warning.\n",
      "  FutureWarning)\n",
      "/Users/Chenson/anaconda3/lib/python3.6/site-packages/sklearn/linear_model/logistic.py:432: FutureWarning: Default solver will be changed to 'lbfgs' in 0.22. Specify a solver to silence this warning.\n",
      "  FutureWarning)\n",
      "/Users/Chenson/anaconda3/lib/python3.6/site-packages/sklearn/linear_model/logistic.py:432: FutureWarning: Default solver will be changed to 'lbfgs' in 0.22. Specify a solver to silence this warning.\n",
      "  FutureWarning)\n"
     ]
    },
    {
     "name": "stdout",
     "output_type": "stream",
     "text": [
      "Fitting estimator with 14 features.\n",
      "Fitting estimator with 13 features.\n",
      "Fitting estimator with 12 features.\n"
     ]
    },
    {
     "name": "stderr",
     "output_type": "stream",
     "text": [
      "/Users/Chenson/anaconda3/lib/python3.6/site-packages/sklearn/linear_model/logistic.py:432: FutureWarning: Default solver will be changed to 'lbfgs' in 0.22. Specify a solver to silence this warning.\n",
      "  FutureWarning)\n",
      "/Users/Chenson/anaconda3/lib/python3.6/site-packages/sklearn/linear_model/logistic.py:432: FutureWarning: Default solver will be changed to 'lbfgs' in 0.22. Specify a solver to silence this warning.\n",
      "  FutureWarning)\n",
      "/Users/Chenson/anaconda3/lib/python3.6/site-packages/sklearn/linear_model/logistic.py:432: FutureWarning: Default solver will be changed to 'lbfgs' in 0.22. Specify a solver to silence this warning.\n",
      "  FutureWarning)\n"
     ]
    },
    {
     "name": "stdout",
     "output_type": "stream",
     "text": [
      "Fitting estimator with 11 features.\n",
      "Fitting estimator with 10 features.\n",
      "Fitting estimator with 9 features.\n"
     ]
    },
    {
     "name": "stderr",
     "output_type": "stream",
     "text": [
      "/Users/Chenson/anaconda3/lib/python3.6/site-packages/sklearn/linear_model/logistic.py:432: FutureWarning: Default solver will be changed to 'lbfgs' in 0.22. Specify a solver to silence this warning.\n",
      "  FutureWarning)\n",
      "/Users/Chenson/anaconda3/lib/python3.6/site-packages/sklearn/linear_model/logistic.py:432: FutureWarning: Default solver will be changed to 'lbfgs' in 0.22. Specify a solver to silence this warning.\n",
      "  FutureWarning)\n",
      "/Users/Chenson/anaconda3/lib/python3.6/site-packages/sklearn/linear_model/logistic.py:432: FutureWarning: Default solver will be changed to 'lbfgs' in 0.22. Specify a solver to silence this warning.\n",
      "  FutureWarning)\n"
     ]
    },
    {
     "name": "stdout",
     "output_type": "stream",
     "text": [
      "Fitting estimator with 8 features.\n",
      "Fitting estimator with 7 features.\n",
      "Fitting estimator with 6 features.\n",
      "Fitting estimator with 5 features.\n",
      "Fitting estimator with 4 features.\n"
     ]
    },
    {
     "name": "stderr",
     "output_type": "stream",
     "text": [
      "/Users/Chenson/anaconda3/lib/python3.6/site-packages/sklearn/linear_model/logistic.py:432: FutureWarning: Default solver will be changed to 'lbfgs' in 0.22. Specify a solver to silence this warning.\n",
      "  FutureWarning)\n",
      "/Users/Chenson/anaconda3/lib/python3.6/site-packages/sklearn/linear_model/logistic.py:432: FutureWarning: Default solver will be changed to 'lbfgs' in 0.22. Specify a solver to silence this warning.\n",
      "  FutureWarning)\n",
      "/Users/Chenson/anaconda3/lib/python3.6/site-packages/sklearn/linear_model/logistic.py:432: FutureWarning: Default solver will be changed to 'lbfgs' in 0.22. Specify a solver to silence this warning.\n",
      "  FutureWarning)\n",
      "/Users/Chenson/anaconda3/lib/python3.6/site-packages/sklearn/linear_model/logistic.py:432: FutureWarning: Default solver will be changed to 'lbfgs' in 0.22. Specify a solver to silence this warning.\n",
      "  FutureWarning)\n",
      "/Users/Chenson/anaconda3/lib/python3.6/site-packages/sklearn/linear_model/logistic.py:432: FutureWarning: Default solver will be changed to 'lbfgs' in 0.22. Specify a solver to silence this warning.\n",
      "  FutureWarning)\n",
      "/Users/Chenson/anaconda3/lib/python3.6/site-packages/sklearn/linear_model/logistic.py:432: FutureWarning: Default solver will be changed to 'lbfgs' in 0.22. Specify a solver to silence this warning.\n",
      "  FutureWarning)\n"
     ]
    },
    {
     "data": {
      "text/plain": [
       "array([[0.29575682, 0.52483515, 0.18524163],\n",
       "       [0.44497608, 0.76555024, 0.205521  ],\n",
       "       [0.47058824, 0.79411765, 0.18524163],\n",
       "       ...,\n",
       "       [0.21568627, 0.24836601, 0.27832225],\n",
       "       [0.30693069, 0.28712871, 0.18524163],\n",
       "       [0.11794872, 0.27692308, 0.09621219]])"
      ]
     },
     "execution_count": 36,
     "metadata": {},
     "output_type": "execute_result"
    }
   ],
   "source": [
    "rfe.fit_transform(X, y)"
   ]
  },
  {
   "cell_type": "code",
   "execution_count": 65,
   "metadata": {
    "ExecuteTime": {
     "end_time": "2018-11-28T10:40:13.754078Z",
     "start_time": "2018-11-28T10:40:13.739066Z"
    }
   },
   "outputs": [
    {
     "data": {
      "text/plain": [
       "array([False, False, False,  True, False, False,  True, False, False,\n",
       "       False, False, False, False, False, False, False, False, False,\n",
       "       False, False, False, False, False, False, False, False, False,\n",
       "       False, False, False, False, False, False, False, False, False,\n",
       "       False, False, False, False, False, False, False, False, False,\n",
       "       False, False, False, False,  True, False, False, False])"
      ]
     },
     "execution_count": 65,
     "metadata": {},
     "output_type": "execute_result"
    }
   ],
   "source": [
    "rfe.support_"
   ]
  },
  {
   "cell_type": "code",
   "execution_count": 68,
   "metadata": {
    "ExecuteTime": {
     "end_time": "2018-11-28T10:40:49.077510Z",
     "start_time": "2018-11-28T10:40:49.056753Z"
    }
   },
   "outputs": [
    {
     "data": {
      "text/html": [
       "<div>\n",
       "<style scoped>\n",
       "    .dataframe tbody tr th:only-of-type {\n",
       "        vertical-align: middle;\n",
       "    }\n",
       "\n",
       "    .dataframe tbody tr th {\n",
       "        vertical-align: top;\n",
       "    }\n",
       "\n",
       "    .dataframe thead th {\n",
       "        text-align: right;\n",
       "    }\n",
       "</style>\n",
       "<table border=\"1\" class=\"dataframe\">\n",
       "  <thead>\n",
       "    <tr style=\"text-align: right;\">\n",
       "      <th></th>\n",
       "      <th>cn_gt_0_ratio</th>\n",
       "      <th>coc_gt_0_ratio</th>\n",
       "      <th>xy_score</th>\n",
       "    </tr>\n",
       "  </thead>\n",
       "  <tbody>\n",
       "    <tr>\n",
       "      <th>0</th>\n",
       "      <td>0.295757</td>\n",
       "      <td>0.524835</td>\n",
       "      <td>0.185242</td>\n",
       "    </tr>\n",
       "    <tr>\n",
       "      <th>1</th>\n",
       "      <td>0.444976</td>\n",
       "      <td>0.765550</td>\n",
       "      <td>0.205521</td>\n",
       "    </tr>\n",
       "    <tr>\n",
       "      <th>2</th>\n",
       "      <td>0.470588</td>\n",
       "      <td>0.794118</td>\n",
       "      <td>0.185242</td>\n",
       "    </tr>\n",
       "    <tr>\n",
       "      <th>3</th>\n",
       "      <td>0.083605</td>\n",
       "      <td>0.619978</td>\n",
       "      <td>0.069139</td>\n",
       "    </tr>\n",
       "    <tr>\n",
       "      <th>4</th>\n",
       "      <td>0.245283</td>\n",
       "      <td>0.339623</td>\n",
       "      <td>0.098113</td>\n",
       "    </tr>\n",
       "  </tbody>\n",
       "</table>\n",
       "</div>"
      ],
      "text/plain": [
       "   cn_gt_0_ratio  coc_gt_0_ratio  xy_score\n",
       "0       0.295757        0.524835  0.185242\n",
       "1       0.444976        0.765550  0.205521\n",
       "2       0.470588        0.794118  0.185242\n",
       "3       0.083605        0.619978  0.069139\n",
       "4       0.245283        0.339623  0.098113"
      ]
     },
     "execution_count": 68,
     "metadata": {},
     "output_type": "execute_result"
    }
   ],
   "source": [
    "X.loc[:, rfe.support_].head()"
   ]
  },
  {
   "cell_type": "code",
   "execution_count": 69,
   "metadata": {
    "ExecuteTime": {
     "end_time": "2018-11-28T10:40:59.533438Z",
     "start_time": "2018-11-28T10:40:58.912680Z"
    }
   },
   "outputs": [],
   "source": [
    "rfe.transform??"
   ]
  },
  {
   "cell_type": "code",
   "execution_count": null,
   "metadata": {},
   "outputs": [],
   "source": []
  },
  {
   "cell_type": "code",
   "execution_count": 70,
   "metadata": {
    "ExecuteTime": {
     "end_time": "2018-11-28T10:41:18.944457Z",
     "start_time": "2018-11-28T10:41:18.927798Z"
    }
   },
   "outputs": [
    {
     "data": {
      "text/plain": [
       "array([False, False, False,  True, False, False,  True, False, False,\n",
       "       False, False, False, False, False, False, False, False, False,\n",
       "       False, False, False, False, False, False, False, False, False,\n",
       "       False, False, False, False, False, False, False, False, False,\n",
       "       False, False, False, False, False, False, False, False, False,\n",
       "       False, False, False, False,  True, False, False, False])"
      ]
     },
     "execution_count": 70,
     "metadata": {},
     "output_type": "execute_result"
    }
   ],
   "source": [
    "rfe.get_support()"
   ]
  },
  {
   "cell_type": "code",
   "execution_count": 66,
   "metadata": {
    "ExecuteTime": {
     "end_time": "2018-11-28T10:40:23.011991Z",
     "start_time": "2018-11-28T10:40:22.975502Z"
    }
   },
   "outputs": [
    {
     "data": {
      "text/html": [
       "<div>\n",
       "<style scoped>\n",
       "    .dataframe tbody tr th:only-of-type {\n",
       "        vertical-align: middle;\n",
       "    }\n",
       "\n",
       "    .dataframe tbody tr th {\n",
       "        vertical-align: top;\n",
       "    }\n",
       "\n",
       "    .dataframe thead th {\n",
       "        text-align: right;\n",
       "    }\n",
       "</style>\n",
       "<table border=\"1\" class=\"dataframe\">\n",
       "  <thead>\n",
       "    <tr style=\"text-align: right;\">\n",
       "      <th></th>\n",
       "      <th>cn_gt_0_ratio</th>\n",
       "      <th>coc_gt_0_ratio</th>\n",
       "      <th>xy_score</th>\n",
       "    </tr>\n",
       "  </thead>\n",
       "  <tbody>\n",
       "    <tr>\n",
       "      <th>0</th>\n",
       "      <td>0.295757</td>\n",
       "      <td>0.524835</td>\n",
       "      <td>0.185242</td>\n",
       "    </tr>\n",
       "    <tr>\n",
       "      <th>1</th>\n",
       "      <td>0.444976</td>\n",
       "      <td>0.765550</td>\n",
       "      <td>0.205521</td>\n",
       "    </tr>\n",
       "    <tr>\n",
       "      <th>2</th>\n",
       "      <td>0.470588</td>\n",
       "      <td>0.794118</td>\n",
       "      <td>0.185242</td>\n",
       "    </tr>\n",
       "    <tr>\n",
       "      <th>3</th>\n",
       "      <td>0.083605</td>\n",
       "      <td>0.619978</td>\n",
       "      <td>0.069139</td>\n",
       "    </tr>\n",
       "    <tr>\n",
       "      <th>4</th>\n",
       "      <td>0.245283</td>\n",
       "      <td>0.339623</td>\n",
       "      <td>0.098113</td>\n",
       "    </tr>\n",
       "    <tr>\n",
       "      <th>5</th>\n",
       "      <td>0.392019</td>\n",
       "      <td>0.748826</td>\n",
       "      <td>0.439125</td>\n",
       "    </tr>\n",
       "    <tr>\n",
       "      <th>6</th>\n",
       "      <td>0.304688</td>\n",
       "      <td>0.296875</td>\n",
       "      <td>0.185242</td>\n",
       "    </tr>\n",
       "    <tr>\n",
       "      <th>7</th>\n",
       "      <td>0.254717</td>\n",
       "      <td>0.591195</td>\n",
       "      <td>0.172071</td>\n",
       "    </tr>\n",
       "    <tr>\n",
       "      <th>8</th>\n",
       "      <td>0.237911</td>\n",
       "      <td>0.392650</td>\n",
       "      <td>0.096085</td>\n",
       "    </tr>\n",
       "    <tr>\n",
       "      <th>9</th>\n",
       "      <td>0.295757</td>\n",
       "      <td>0.524835</td>\n",
       "      <td>0.053549</td>\n",
       "    </tr>\n",
       "    <tr>\n",
       "      <th>10</th>\n",
       "      <td>0.418750</td>\n",
       "      <td>0.581250</td>\n",
       "      <td>0.087340</td>\n",
       "    </tr>\n",
       "    <tr>\n",
       "      <th>11</th>\n",
       "      <td>0.287879</td>\n",
       "      <td>0.522727</td>\n",
       "      <td>0.069683</td>\n",
       "    </tr>\n",
       "    <tr>\n",
       "      <th>12</th>\n",
       "      <td>0.305195</td>\n",
       "      <td>0.675325</td>\n",
       "      <td>0.185242</td>\n",
       "    </tr>\n",
       "    <tr>\n",
       "      <th>13</th>\n",
       "      <td>0.185950</td>\n",
       "      <td>0.479339</td>\n",
       "      <td>0.078035</td>\n",
       "    </tr>\n",
       "    <tr>\n",
       "      <th>14</th>\n",
       "      <td>0.304762</td>\n",
       "      <td>0.809524</td>\n",
       "      <td>0.328038</td>\n",
       "    </tr>\n",
       "    <tr>\n",
       "      <th>15</th>\n",
       "      <td>0.313984</td>\n",
       "      <td>0.736148</td>\n",
       "      <td>0.185242</td>\n",
       "    </tr>\n",
       "    <tr>\n",
       "      <th>16</th>\n",
       "      <td>0.295757</td>\n",
       "      <td>0.524835</td>\n",
       "      <td>0.185242</td>\n",
       "    </tr>\n",
       "    <tr>\n",
       "      <th>17</th>\n",
       "      <td>0.224242</td>\n",
       "      <td>0.618182</td>\n",
       "      <td>0.185242</td>\n",
       "    </tr>\n",
       "    <tr>\n",
       "      <th>18</th>\n",
       "      <td>0.179104</td>\n",
       "      <td>0.313433</td>\n",
       "      <td>0.185242</td>\n",
       "    </tr>\n",
       "    <tr>\n",
       "      <th>19</th>\n",
       "      <td>0.052632</td>\n",
       "      <td>0.868421</td>\n",
       "      <td>0.185242</td>\n",
       "    </tr>\n",
       "    <tr>\n",
       "      <th>20</th>\n",
       "      <td>0.281046</td>\n",
       "      <td>0.477124</td>\n",
       "      <td>0.185242</td>\n",
       "    </tr>\n",
       "    <tr>\n",
       "      <th>21</th>\n",
       "      <td>0.155612</td>\n",
       "      <td>0.229592</td>\n",
       "      <td>0.077868</td>\n",
       "    </tr>\n",
       "    <tr>\n",
       "      <th>22</th>\n",
       "      <td>0.316901</td>\n",
       "      <td>0.577465</td>\n",
       "      <td>0.185242</td>\n",
       "    </tr>\n",
       "    <tr>\n",
       "      <th>23</th>\n",
       "      <td>0.410959</td>\n",
       "      <td>0.410959</td>\n",
       "      <td>0.198913</td>\n",
       "    </tr>\n",
       "    <tr>\n",
       "      <th>24</th>\n",
       "      <td>0.309942</td>\n",
       "      <td>0.631579</td>\n",
       "      <td>0.185242</td>\n",
       "    </tr>\n",
       "    <tr>\n",
       "      <th>25</th>\n",
       "      <td>0.295757</td>\n",
       "      <td>0.524835</td>\n",
       "      <td>0.185242</td>\n",
       "    </tr>\n",
       "    <tr>\n",
       "      <th>26</th>\n",
       "      <td>0.516129</td>\n",
       "      <td>0.741935</td>\n",
       "      <td>0.185242</td>\n",
       "    </tr>\n",
       "    <tr>\n",
       "      <th>27</th>\n",
       "      <td>0.295757</td>\n",
       "      <td>0.524835</td>\n",
       "      <td>0.171499</td>\n",
       "    </tr>\n",
       "    <tr>\n",
       "      <th>28</th>\n",
       "      <td>0.250000</td>\n",
       "      <td>0.625000</td>\n",
       "      <td>0.192352</td>\n",
       "    </tr>\n",
       "    <tr>\n",
       "      <th>29</th>\n",
       "      <td>0.295757</td>\n",
       "      <td>0.524835</td>\n",
       "      <td>0.185242</td>\n",
       "    </tr>\n",
       "    <tr>\n",
       "      <th>...</th>\n",
       "      <td>...</td>\n",
       "      <td>...</td>\n",
       "      <td>...</td>\n",
       "    </tr>\n",
       "    <tr>\n",
       "      <th>64983</th>\n",
       "      <td>0.419355</td>\n",
       "      <td>0.709677</td>\n",
       "      <td>0.317192</td>\n",
       "    </tr>\n",
       "    <tr>\n",
       "      <th>64984</th>\n",
       "      <td>0.213793</td>\n",
       "      <td>0.496552</td>\n",
       "      <td>0.185242</td>\n",
       "    </tr>\n",
       "    <tr>\n",
       "      <th>64985</th>\n",
       "      <td>0.295757</td>\n",
       "      <td>0.524835</td>\n",
       "      <td>0.185242</td>\n",
       "    </tr>\n",
       "    <tr>\n",
       "      <th>64986</th>\n",
       "      <td>0.265957</td>\n",
       "      <td>0.670213</td>\n",
       "      <td>0.276059</td>\n",
       "    </tr>\n",
       "    <tr>\n",
       "      <th>64987</th>\n",
       "      <td>0.227979</td>\n",
       "      <td>0.440415</td>\n",
       "      <td>0.346543</td>\n",
       "    </tr>\n",
       "    <tr>\n",
       "      <th>64988</th>\n",
       "      <td>0.228814</td>\n",
       "      <td>0.584746</td>\n",
       "      <td>0.185242</td>\n",
       "    </tr>\n",
       "    <tr>\n",
       "      <th>64989</th>\n",
       "      <td>0.173469</td>\n",
       "      <td>0.566327</td>\n",
       "      <td>0.346929</td>\n",
       "    </tr>\n",
       "    <tr>\n",
       "      <th>64990</th>\n",
       "      <td>0.377193</td>\n",
       "      <td>0.482456</td>\n",
       "      <td>0.185242</td>\n",
       "    </tr>\n",
       "    <tr>\n",
       "      <th>64991</th>\n",
       "      <td>0.268293</td>\n",
       "      <td>0.597561</td>\n",
       "      <td>0.185242</td>\n",
       "    </tr>\n",
       "    <tr>\n",
       "      <th>64992</th>\n",
       "      <td>0.344978</td>\n",
       "      <td>0.772926</td>\n",
       "      <td>0.185242</td>\n",
       "    </tr>\n",
       "    <tr>\n",
       "      <th>64993</th>\n",
       "      <td>0.258065</td>\n",
       "      <td>0.403226</td>\n",
       "      <td>0.185242</td>\n",
       "    </tr>\n",
       "    <tr>\n",
       "      <th>64994</th>\n",
       "      <td>0.141176</td>\n",
       "      <td>0.623529</td>\n",
       "      <td>0.185242</td>\n",
       "    </tr>\n",
       "    <tr>\n",
       "      <th>64995</th>\n",
       "      <td>0.587302</td>\n",
       "      <td>0.730159</td>\n",
       "      <td>0.185242</td>\n",
       "    </tr>\n",
       "    <tr>\n",
       "      <th>64996</th>\n",
       "      <td>0.429907</td>\n",
       "      <td>0.691589</td>\n",
       "      <td>0.185242</td>\n",
       "    </tr>\n",
       "    <tr>\n",
       "      <th>64997</th>\n",
       "      <td>0.295757</td>\n",
       "      <td>0.524835</td>\n",
       "      <td>0.208899</td>\n",
       "    </tr>\n",
       "    <tr>\n",
       "      <th>64998</th>\n",
       "      <td>0.295757</td>\n",
       "      <td>0.524835</td>\n",
       "      <td>0.185242</td>\n",
       "    </tr>\n",
       "    <tr>\n",
       "      <th>64999</th>\n",
       "      <td>0.295757</td>\n",
       "      <td>0.524835</td>\n",
       "      <td>0.114065</td>\n",
       "    </tr>\n",
       "    <tr>\n",
       "      <th>65000</th>\n",
       "      <td>0.277273</td>\n",
       "      <td>0.627273</td>\n",
       "      <td>0.329583</td>\n",
       "    </tr>\n",
       "    <tr>\n",
       "      <th>65001</th>\n",
       "      <td>0.402516</td>\n",
       "      <td>0.710692</td>\n",
       "      <td>0.185242</td>\n",
       "    </tr>\n",
       "    <tr>\n",
       "      <th>65002</th>\n",
       "      <td>0.123050</td>\n",
       "      <td>0.523397</td>\n",
       "      <td>0.317192</td>\n",
       "    </tr>\n",
       "    <tr>\n",
       "      <th>65003</th>\n",
       "      <td>0.295757</td>\n",
       "      <td>0.524835</td>\n",
       "      <td>0.185242</td>\n",
       "    </tr>\n",
       "    <tr>\n",
       "      <th>65004</th>\n",
       "      <td>0.295757</td>\n",
       "      <td>0.524835</td>\n",
       "      <td>0.112808</td>\n",
       "    </tr>\n",
       "    <tr>\n",
       "      <th>65005</th>\n",
       "      <td>0.379032</td>\n",
       "      <td>0.500000</td>\n",
       "      <td>0.185242</td>\n",
       "    </tr>\n",
       "    <tr>\n",
       "      <th>65006</th>\n",
       "      <td>0.325984</td>\n",
       "      <td>0.513386</td>\n",
       "      <td>0.185242</td>\n",
       "    </tr>\n",
       "    <tr>\n",
       "      <th>65007</th>\n",
       "      <td>0.312500</td>\n",
       "      <td>0.541667</td>\n",
       "      <td>0.185242</td>\n",
       "    </tr>\n",
       "    <tr>\n",
       "      <th>65008</th>\n",
       "      <td>0.279793</td>\n",
       "      <td>0.487047</td>\n",
       "      <td>0.100636</td>\n",
       "    </tr>\n",
       "    <tr>\n",
       "      <th>65009</th>\n",
       "      <td>0.183333</td>\n",
       "      <td>0.600000</td>\n",
       "      <td>0.185242</td>\n",
       "    </tr>\n",
       "    <tr>\n",
       "      <th>65010</th>\n",
       "      <td>0.215686</td>\n",
       "      <td>0.248366</td>\n",
       "      <td>0.278322</td>\n",
       "    </tr>\n",
       "    <tr>\n",
       "      <th>65011</th>\n",
       "      <td>0.306931</td>\n",
       "      <td>0.287129</td>\n",
       "      <td>0.185242</td>\n",
       "    </tr>\n",
       "    <tr>\n",
       "      <th>65012</th>\n",
       "      <td>0.117949</td>\n",
       "      <td>0.276923</td>\n",
       "      <td>0.096212</td>\n",
       "    </tr>\n",
       "  </tbody>\n",
       "</table>\n",
       "<p>14999 rows × 3 columns</p>\n",
       "</div>"
      ],
      "text/plain": [
       "       cn_gt_0_ratio  coc_gt_0_ratio  xy_score\n",
       "0           0.295757        0.524835  0.185242\n",
       "1           0.444976        0.765550  0.205521\n",
       "2           0.470588        0.794118  0.185242\n",
       "3           0.083605        0.619978  0.069139\n",
       "4           0.245283        0.339623  0.098113\n",
       "5           0.392019        0.748826  0.439125\n",
       "6           0.304688        0.296875  0.185242\n",
       "7           0.254717        0.591195  0.172071\n",
       "8           0.237911        0.392650  0.096085\n",
       "9           0.295757        0.524835  0.053549\n",
       "10          0.418750        0.581250  0.087340\n",
       "11          0.287879        0.522727  0.069683\n",
       "12          0.305195        0.675325  0.185242\n",
       "13          0.185950        0.479339  0.078035\n",
       "14          0.304762        0.809524  0.328038\n",
       "15          0.313984        0.736148  0.185242\n",
       "16          0.295757        0.524835  0.185242\n",
       "17          0.224242        0.618182  0.185242\n",
       "18          0.179104        0.313433  0.185242\n",
       "19          0.052632        0.868421  0.185242\n",
       "20          0.281046        0.477124  0.185242\n",
       "21          0.155612        0.229592  0.077868\n",
       "22          0.316901        0.577465  0.185242\n",
       "23          0.410959        0.410959  0.198913\n",
       "24          0.309942        0.631579  0.185242\n",
       "25          0.295757        0.524835  0.185242\n",
       "26          0.516129        0.741935  0.185242\n",
       "27          0.295757        0.524835  0.171499\n",
       "28          0.250000        0.625000  0.192352\n",
       "29          0.295757        0.524835  0.185242\n",
       "...              ...             ...       ...\n",
       "64983       0.419355        0.709677  0.317192\n",
       "64984       0.213793        0.496552  0.185242\n",
       "64985       0.295757        0.524835  0.185242\n",
       "64986       0.265957        0.670213  0.276059\n",
       "64987       0.227979        0.440415  0.346543\n",
       "64988       0.228814        0.584746  0.185242\n",
       "64989       0.173469        0.566327  0.346929\n",
       "64990       0.377193        0.482456  0.185242\n",
       "64991       0.268293        0.597561  0.185242\n",
       "64992       0.344978        0.772926  0.185242\n",
       "64993       0.258065        0.403226  0.185242\n",
       "64994       0.141176        0.623529  0.185242\n",
       "64995       0.587302        0.730159  0.185242\n",
       "64996       0.429907        0.691589  0.185242\n",
       "64997       0.295757        0.524835  0.208899\n",
       "64998       0.295757        0.524835  0.185242\n",
       "64999       0.295757        0.524835  0.114065\n",
       "65000       0.277273        0.627273  0.329583\n",
       "65001       0.402516        0.710692  0.185242\n",
       "65002       0.123050        0.523397  0.317192\n",
       "65003       0.295757        0.524835  0.185242\n",
       "65004       0.295757        0.524835  0.112808\n",
       "65005       0.379032        0.500000  0.185242\n",
       "65006       0.325984        0.513386  0.185242\n",
       "65007       0.312500        0.541667  0.185242\n",
       "65008       0.279793        0.487047  0.100636\n",
       "65009       0.183333        0.600000  0.185242\n",
       "65010       0.215686        0.248366  0.278322\n",
       "65011       0.306931        0.287129  0.185242\n",
       "65012       0.117949        0.276923  0.096212\n",
       "\n",
       "[14999 rows x 3 columns]"
      ]
     },
     "execution_count": 66,
     "metadata": {},
     "output_type": "execute_result"
    }
   ],
   "source": [
    "rfe._transform(X)"
   ]
  },
  {
   "cell_type": "markdown",
   "metadata": {
    "ExecuteTime": {
     "end_time": "2018-11-28T09:20:16.114880Z",
     "start_time": "2018-11-28T09:20:16.091480Z"
    }
   },
   "source": [
    "## RFE Source Code"
   ]
  },
  {
   "cell_type": "code",
   "execution_count": 179,
   "metadata": {
    "ExecuteTime": {
     "end_time": "2018-11-28T09:42:37.796424Z",
     "start_time": "2018-11-28T09:42:37.756039Z"
    }
   },
   "outputs": [],
   "source": [
    "\n",
    "from sklearn.feature_selection.rfe import if_delegate_has_method\n",
    "from sklearn.feature_selection.rfe import clone\n",
    "from sklearn.feature_selection import RFE\n",
    "from sklearn.utils import safe_sqr\n",
    "import statsmodels.api as sm\n",
    "\n",
    "class RFEFilter2(RFE):\n",
    "    \"\"\"Feature ranking with recursive feature elimination.\n",
    "    \"\"\"\n",
    "\n",
    "    def __init__(self, estimator, n_features_to_select=20, step=1, verbose=0, alpha=0.05, method='RFE', stepwise=False, **kwargs):\n",
    "        # TODO: 改成**kwargs入参\n",
    "        super().__init__(estimator, step=step, verbose=verbose,\n",
    "                         n_features_to_select=n_features_to_select)\n",
    "        self.n_features_to_select = n_features_to_select\n",
    "        self.method = method\n",
    "        self.stepwise = stepwise\n",
    "        self.alpha = alpha\n",
    "        self.verbose = verbose\n",
    "\n",
    "    def fit(self, X, y):\n",
    "        self.meta_columns = X.columns.tolist()\n",
    "        self.support_ = np.array([True for col in self.meta_columns])\n",
    "\n",
    "        if self.method == 'coef':\n",
    "            return self._fit_by_coef(X, y)\n",
    "        elif self.method == 'stepwise':\n",
    "            return self._fit_by_stepwise(X, y, n_features_to_select=self.n_features_to_select, alpha=self.alpha)\n",
    "        elif self.method == 'stepwise_coef':\n",
    "            self._fit_by_stepwise(X, y, n_features_to_select=self.n_features_to_select, alpha=self.alpha)\n",
    "            return self._fit_by_coef(self._transform(X), y)\n",
    "        else:\n",
    "            return self._fit(X, y)\n",
    "\n",
    "    def _fit_by_coef(self, X, y):\n",
    "        # TODO : fit多次，取coef的平均值来度量是否要删除该特征\n",
    "\n",
    "        X_copy = X.copy()\n",
    "        n_features = len(self.meta_columns)\n",
    "        support_ = np.ones(n_features, dtype=np.bool)\n",
    "        ranking_ = np.ones(n_features, dtype=np.int)\n",
    "        \n",
    "        # self.estimator_ = clone(self.estimator)\n",
    "        # self.estimator_.fit(X_copy, y)\n",
    "        estimator = clone(self.estimator)\n",
    "        estimator.fit(X_copy, y)\n",
    "        coef_map = dict(zip(X_copy.columns.tolist(), list(estimator.coef_[0])))\n",
    "\n",
    "        # Elimination by estimator coeffication\n",
    "        while np.sum(estimator.coef_ < 0) > 0:\n",
    "            # 特殊情况需要考虑\n",
    "            features_selected = [k for k, v in coef_map.items() if v > 0]\n",
    "            X_copy = X_copy[features_selected]\n",
    "            estimator.fit(X_copy, y)\n",
    "\n",
    "            # Get coefs\n",
    "            coef_map = dict(zip(X_copy.columns.tolist(), list(estimator.coef_[0])))\n",
    "            coefs = estimator.coef_\n",
    "\n",
    "            # Get ranks\n",
    "            if coefs.ndim > 1:\n",
    "                ranks = np.argsort(safe_sqr(coefs).sum(axis=0))\n",
    "            else:\n",
    "                ranks = np.argsort(safe_sqr(coefs))\n",
    "            ranks = np.ravel(ranks)\n",
    "\n",
    "            support_ = np.array([True if col in coef_map.keys() else False for col in self.meta_columns])\n",
    "            ranking_[np.logical_not(support_)] += 1\n",
    "\n",
    "        # Set final attributes\n",
    "        self.n_features_ = support_.sum()\n",
    "        self.support_ = support_\n",
    "        self.ranking_ = ranking_\n",
    "        \n",
    "        # features = np.arange(n_features)[support_]\n",
    "        self.estimator_ = clone(self.estimator)\n",
    "        self.estimator_.fit(self._transform(X), y)\n",
    "        return self\n",
    "    \n",
    "    \n",
    "    def _fit_by_stepwise(self, X, y, n_features_to_select=20, alpha=0.05, lr_type='logistic'):\n",
    "        # TODO : \n",
    "        if n_features_to_select > len(self.meta_columns):\n",
    "            n_features_to_select = len(self.meta_columns)\n",
    "        \n",
    "        n_features = len(self.meta_columns)\n",
    "        support_ = np.ones(n_features, dtype=np.bool)\n",
    "        ranking_ = np.ones(n_features, dtype=np.int)\n",
    "\n",
    "        remaining = set(X.columns)\n",
    "        selected = []\n",
    "        exclude_cols = []\n",
    "        current_score = 0\n",
    "        best_new_score = 0\n",
    "        \n",
    "        # Forford select\n",
    "        while remaining and best_new_score <= alpha and len(selected) < n_features_to_select:\n",
    "            scores_with_candidates = []\n",
    "            for candidate in remaining:\n",
    "                if candidate in exclude_cols:\n",
    "                    continue\n",
    "                x_candidates = selected + [candidate]\n",
    "                try:\n",
    "                    if lr_type == 'logistic':\n",
    "                        model_stepwise_forward = sm.Logit(y, X[x_candidates]).fit(disp=False)\n",
    "                    elif lr_type == 'linear':\n",
    "                        model_stepwise_forward = sm.OLS(y, X[x_candidates]).fit(disp=False)\n",
    "                    else:\n",
    "                        raise ValueError(f'Unexpected model type {lr_type} are found!')\n",
    "                except:\n",
    "                    exclude_cols.append(candidate)\n",
    "                    x_candidates.remove(candidate)\n",
    "                    continue\n",
    "                score = model_stepwise_forward.pvalues[candidate]\n",
    "                scores_with_candidates.append((score, candidate))\n",
    "\n",
    "            scores_with_candidates.sort(reverse=True)\n",
    "            best_new_score, best_candidate = scores_with_candidates.pop()\n",
    "            if best_new_score <= alpha:\n",
    "                remaining.remove(best_candidate)\n",
    "                selected.append(best_candidate)\n",
    "                if self.verbose:\n",
    "                    print(best_candidate + ' enters: pvalue: ' + str(best_new_score))\n",
    "                    \n",
    "            # Get supports and ranking\n",
    "            support_ = np.array([True if col in selected else False for col in self.meta_columns])\n",
    "            ranking_[np.logical_not(support_)] += 1\n",
    "    \n",
    "        if lr_type == 'logistic':\n",
    "            model_stepwise_backford = sm.Logit(y, X[selected]).fit(disp=False)\n",
    "        elif lr_type == 'linear':\n",
    "            model_stepwise_backford = sm.OLS(y, X[selected]).fit(disp=False)\n",
    "        else:\n",
    "            raise ValueError(f'Unexpected model type {lr_type} are found!')\n",
    "\n",
    "        # Backford select\n",
    "        for fea in selected:\n",
    "            if model_stepwise_backford.pvalues[fea] > alpha:\n",
    "                selected.remove(fea)\n",
    "                if self.verbose:\n",
    "                    print(fea + ' removed: pvalue: ' + str(model_stepwise_backford.pvalues[fea]))\n",
    "\n",
    "        if sum(support_) != len(selected):\n",
    "            support_ = np.array([True if col in selected else False for col in self.meta_columns])\n",
    "            ranking_[np.logical_not(support_)] += 1\n",
    "                    \n",
    "        # Set final attributesstepwise\n",
    "        self.n_features_ = support_.sum()\n",
    "        self.support_ = support_\n",
    "        self.ranking_ = ranking_\n",
    "        \n",
    "        self.estimator_ = clone(self.estimator)\n",
    "        self.estimator_.fit(self._transform(X), y)\n",
    "        return self \n",
    "    \n",
    "    def _transform(self, X):\n",
    "        # TODO: check support\n",
    "        return X.loc[:, self.support_]\n",
    "\n",
    "\n",
    "    def get_columns(self):\n",
    "        tmp = list(zip(self.meta_columns, self.support_))\n",
    "        cols = [c[0] for c in tmp if c[1]]\n",
    "        return cols"
   ]
  },
  {
   "cell_type": "code",
   "execution_count": 180,
   "metadata": {
    "ExecuteTime": {
     "end_time": "2018-11-28T09:43:01.002122Z",
     "start_time": "2018-11-28T09:42:38.380699Z"
    }
   },
   "outputs": [
    {
     "name": "stderr",
     "output_type": "stream",
     "text": [
      "/Users/Chenson/anaconda3/lib/python3.6/site-packages/sklearn/linear_model/logistic.py:432: FutureWarning: Default solver will be changed to 'lbfgs' in 0.22. Specify a solver to silence this warning.\n",
      "  FutureWarning)\n",
      "/Users/Chenson/anaconda3/lib/python3.6/site-packages/sklearn/linear_model/logistic.py:432: FutureWarning: Default solver will be changed to 'lbfgs' in 0.22. Specify a solver to silence this warning.\n",
      "  FutureWarning)\n",
      "/Users/Chenson/anaconda3/lib/python3.6/site-packages/sklearn/linear_model/logistic.py:432: FutureWarning: Default solver will be changed to 'lbfgs' in 0.22. Specify a solver to silence this warning.\n",
      "  FutureWarning)\n",
      "/Users/Chenson/anaconda3/lib/python3.6/site-packages/sklearn/linear_model/logistic.py:432: FutureWarning: Default solver will be changed to 'lbfgs' in 0.22. Specify a solver to silence this warning.\n",
      "  FutureWarning)\n",
      "/Users/Chenson/anaconda3/lib/python3.6/site-packages/sklearn/linear_model/logistic.py:432: FutureWarning: Default solver will be changed to 'lbfgs' in 0.22. Specify a solver to silence this warning.\n",
      "  FutureWarning)\n",
      "/Users/Chenson/anaconda3/lib/python3.6/site-packages/sklearn/linear_model/logistic.py:432: FutureWarning: Default solver will be changed to 'lbfgs' in 0.22. Specify a solver to silence this warning.\n",
      "  FutureWarning)\n",
      "/Users/Chenson/anaconda3/lib/python3.6/site-packages/sklearn/linear_model/logistic.py:432: FutureWarning: Default solver will be changed to 'lbfgs' in 0.22. Specify a solver to silence this warning.\n",
      "  FutureWarning)\n",
      "/Users/Chenson/anaconda3/lib/python3.6/site-packages/sklearn/linear_model/logistic.py:432: FutureWarning: Default solver will be changed to 'lbfgs' in 0.22. Specify a solver to silence this warning.\n",
      "  FutureWarning)\n",
      "/Users/Chenson/anaconda3/lib/python3.6/site-packages/sklearn/linear_model/logistic.py:432: FutureWarning: Default solver will be changed to 'lbfgs' in 0.22. Specify a solver to silence this warning.\n",
      "  FutureWarning)\n",
      "/Users/Chenson/anaconda3/lib/python3.6/site-packages/sklearn/linear_model/logistic.py:432: FutureWarning: Default solver will be changed to 'lbfgs' in 0.22. Specify a solver to silence this warning.\n",
      "  FutureWarning)\n",
      "/Users/Chenson/anaconda3/lib/python3.6/site-packages/sklearn/linear_model/logistic.py:432: FutureWarning: Default solver will be changed to 'lbfgs' in 0.22. Specify a solver to silence this warning.\n",
      "  FutureWarning)\n",
      "/Users/Chenson/anaconda3/lib/python3.6/site-packages/sklearn/linear_model/logistic.py:432: FutureWarning: Default solver will be changed to 'lbfgs' in 0.22. Specify a solver to silence this warning.\n",
      "  FutureWarning)\n",
      "/Users/Chenson/anaconda3/lib/python3.6/site-packages/sklearn/linear_model/logistic.py:432: FutureWarning: Default solver will be changed to 'lbfgs' in 0.22. Specify a solver to silence this warning.\n",
      "  FutureWarning)\n",
      "/Users/Chenson/anaconda3/lib/python3.6/site-packages/sklearn/linear_model/logistic.py:432: FutureWarning: Default solver will be changed to 'lbfgs' in 0.22. Specify a solver to silence this warning.\n",
      "  FutureWarning)\n",
      "/Users/Chenson/anaconda3/lib/python3.6/site-packages/sklearn/linear_model/logistic.py:432: FutureWarning: Default solver will be changed to 'lbfgs' in 0.22. Specify a solver to silence this warning.\n",
      "  FutureWarning)\n",
      "/Users/Chenson/anaconda3/lib/python3.6/site-packages/sklearn/linear_model/logistic.py:432: FutureWarning: Default solver will be changed to 'lbfgs' in 0.22. Specify a solver to silence this warning.\n",
      "  FutureWarning)\n",
      "/Users/Chenson/anaconda3/lib/python3.6/site-packages/sklearn/linear_model/logistic.py:432: FutureWarning: Default solver will be changed to 'lbfgs' in 0.22. Specify a solver to silence this warning.\n",
      "  FutureWarning)\n",
      "/Users/Chenson/anaconda3/lib/python3.6/site-packages/sklearn/linear_model/logistic.py:432: FutureWarning: Default solver will be changed to 'lbfgs' in 0.22. Specify a solver to silence this warning.\n",
      "  FutureWarning)\n",
      "/Users/Chenson/anaconda3/lib/python3.6/site-packages/sklearn/linear_model/logistic.py:432: FutureWarning: Default solver will be changed to 'lbfgs' in 0.22. Specify a solver to silence this warning.\n",
      "  FutureWarning)\n",
      "/Users/Chenson/anaconda3/lib/python3.6/site-packages/sklearn/linear_model/logistic.py:432: FutureWarning: Default solver will be changed to 'lbfgs' in 0.22. Specify a solver to silence this warning.\n",
      "  FutureWarning)\n",
      "/Users/Chenson/anaconda3/lib/python3.6/site-packages/sklearn/linear_model/logistic.py:432: FutureWarning: Default solver will be changed to 'lbfgs' in 0.22. Specify a solver to silence this warning.\n",
      "  FutureWarning)\n",
      "/Users/Chenson/anaconda3/lib/python3.6/site-packages/sklearn/linear_model/logistic.py:432: FutureWarning: Default solver will be changed to 'lbfgs' in 0.22. Specify a solver to silence this warning.\n",
      "  FutureWarning)\n",
      "/Users/Chenson/anaconda3/lib/python3.6/site-packages/sklearn/linear_model/logistic.py:432: FutureWarning: Default solver will be changed to 'lbfgs' in 0.22. Specify a solver to silence this warning.\n",
      "  FutureWarning)\n",
      "/Users/Chenson/anaconda3/lib/python3.6/site-packages/sklearn/linear_model/logistic.py:432: FutureWarning: Default solver will be changed to 'lbfgs' in 0.22. Specify a solver to silence this warning.\n",
      "  FutureWarning)\n",
      "/Users/Chenson/anaconda3/lib/python3.6/site-packages/sklearn/linear_model/logistic.py:432: FutureWarning: Default solver will be changed to 'lbfgs' in 0.22. Specify a solver to silence this warning.\n",
      "  FutureWarning)\n",
      "/Users/Chenson/anaconda3/lib/python3.6/site-packages/sklearn/linear_model/logistic.py:432: FutureWarning: Default solver will be changed to 'lbfgs' in 0.22. Specify a solver to silence this warning.\n",
      "  FutureWarning)\n",
      "/Users/Chenson/anaconda3/lib/python3.6/site-packages/sklearn/linear_model/logistic.py:432: FutureWarning: Default solver will be changed to 'lbfgs' in 0.22. Specify a solver to silence this warning.\n",
      "  FutureWarning)\n",
      "/Users/Chenson/anaconda3/lib/python3.6/site-packages/sklearn/linear_model/logistic.py:432: FutureWarning: Default solver will be changed to 'lbfgs' in 0.22. Specify a solver to silence this warning.\n",
      "  FutureWarning)\n",
      "/Users/Chenson/anaconda3/lib/python3.6/site-packages/sklearn/linear_model/logistic.py:432: FutureWarning: Default solver will be changed to 'lbfgs' in 0.22. Specify a solver to silence this warning.\n",
      "  FutureWarning)\n",
      "/Users/Chenson/anaconda3/lib/python3.6/site-packages/sklearn/linear_model/logistic.py:432: FutureWarning: Default solver will be changed to 'lbfgs' in 0.22. Specify a solver to silence this warning.\n",
      "  FutureWarning)\n",
      "/Users/Chenson/anaconda3/lib/python3.6/site-packages/sklearn/linear_model/logistic.py:432: FutureWarning: Default solver will be changed to 'lbfgs' in 0.22. Specify a solver to silence this warning.\n",
      "  FutureWarning)\n",
      "/Users/Chenson/anaconda3/lib/python3.6/site-packages/sklearn/linear_model/logistic.py:432: FutureWarning: Default solver will be changed to 'lbfgs' in 0.22. Specify a solver to silence this warning.\n",
      "  FutureWarning)\n",
      "/Users/Chenson/anaconda3/lib/python3.6/site-packages/sklearn/linear_model/logistic.py:432: FutureWarning: Default solver will be changed to 'lbfgs' in 0.22. Specify a solver to silence this warning.\n",
      "  FutureWarning)\n",
      "/Users/Chenson/anaconda3/lib/python3.6/site-packages/sklearn/linear_model/logistic.py:432: FutureWarning: Default solver will be changed to 'lbfgs' in 0.22. Specify a solver to silence this warning.\n",
      "  FutureWarning)\n"
     ]
    }
   ],
   "source": [
    "from sklearn.linear_model import LogisticRegression\n",
    "lr = LogisticRegression()\n",
    "rfe = RFEFilter2(lr, by='coef')\n",
    "rfe = rfe.fit(X, y)"
   ]
  },
  {
   "cell_type": "code",
   "execution_count": 181,
   "metadata": {
    "ExecuteTime": {
     "end_time": "2018-11-28T09:43:01.040760Z",
     "start_time": "2018-11-28T09:43:01.004533Z"
    }
   },
   "outputs": [
    {
     "data": {
      "text/plain": [
       "array([0, 0, 0, ..., 0, 0, 0])"
      ]
     },
     "execution_count": 181,
     "metadata": {},
     "output_type": "execute_result"
    },
    {
     "data": {
      "text/plain": [
       "array([[-0.23859708, -1.54990663],\n",
       "       [-0.44723746, -1.01996395],\n",
       "       [-0.43632211, -1.03961575],\n",
       "       ...,\n",
       "       [-0.21915049, -1.62557155],\n",
       "       [-0.16126994, -1.90422721],\n",
       "       [-0.04980184, -3.02450086]])"
      ]
     },
     "execution_count": 181,
     "metadata": {},
     "output_type": "execute_result"
    },
    {
     "data": {
      "text/plain": [
       "array([[0.78773221, 0.21226779],\n",
       "       [0.63939206, 0.36060794],\n",
       "       [0.64640948, 0.35359052],\n",
       "       ...,\n",
       "       [0.80320084, 0.19679916],\n",
       "       [0.8510623 , 0.1489377 ],\n",
       "       [0.95141794, 0.04858206]])"
      ]
     },
     "execution_count": 181,
     "metadata": {},
     "output_type": "execute_result"
    }
   ],
   "source": [
    "rfe.predict(X)\n",
    "rfe.predict_log_proba(X)\n",
    "rfe.predict_proba(X)"
   ]
  },
  {
   "cell_type": "code",
   "execution_count": 182,
   "metadata": {
    "ExecuteTime": {
     "end_time": "2018-11-28T09:43:24.122114Z",
     "start_time": "2018-11-28T09:43:01.044494Z"
    }
   },
   "outputs": [
    {
     "name": "stdout",
     "output_type": "stream",
     "text": [
      "Fitting estimator with 53 features.\n"
     ]
    },
    {
     "name": "stderr",
     "output_type": "stream",
     "text": [
      "/Users/Chenson/anaconda3/lib/python3.6/site-packages/sklearn/linear_model/logistic.py:432: FutureWarning: Default solver will be changed to 'lbfgs' in 0.22. Specify a solver to silence this warning.\n",
      "  FutureWarning)\n"
     ]
    },
    {
     "name": "stdout",
     "output_type": "stream",
     "text": [
      "Fitting estimator with 52 features.\n"
     ]
    },
    {
     "name": "stderr",
     "output_type": "stream",
     "text": [
      "/Users/Chenson/anaconda3/lib/python3.6/site-packages/sklearn/linear_model/logistic.py:432: FutureWarning: Default solver will be changed to 'lbfgs' in 0.22. Specify a solver to silence this warning.\n",
      "  FutureWarning)\n"
     ]
    },
    {
     "name": "stdout",
     "output_type": "stream",
     "text": [
      "Fitting estimator with 51 features.\n"
     ]
    },
    {
     "name": "stderr",
     "output_type": "stream",
     "text": [
      "/Users/Chenson/anaconda3/lib/python3.6/site-packages/sklearn/linear_model/logistic.py:432: FutureWarning: Default solver will be changed to 'lbfgs' in 0.22. Specify a solver to silence this warning.\n",
      "  FutureWarning)\n"
     ]
    },
    {
     "name": "stdout",
     "output_type": "stream",
     "text": [
      "Fitting estimator with 50 features.\n"
     ]
    },
    {
     "name": "stderr",
     "output_type": "stream",
     "text": [
      "/Users/Chenson/anaconda3/lib/python3.6/site-packages/sklearn/linear_model/logistic.py:432: FutureWarning: Default solver will be changed to 'lbfgs' in 0.22. Specify a solver to silence this warning.\n",
      "  FutureWarning)\n"
     ]
    },
    {
     "name": "stdout",
     "output_type": "stream",
     "text": [
      "Fitting estimator with 49 features.\n"
     ]
    },
    {
     "name": "stderr",
     "output_type": "stream",
     "text": [
      "/Users/Chenson/anaconda3/lib/python3.6/site-packages/sklearn/linear_model/logistic.py:432: FutureWarning: Default solver will be changed to 'lbfgs' in 0.22. Specify a solver to silence this warning.\n",
      "  FutureWarning)\n"
     ]
    },
    {
     "name": "stdout",
     "output_type": "stream",
     "text": [
      "Fitting estimator with 48 features.\n"
     ]
    },
    {
     "name": "stderr",
     "output_type": "stream",
     "text": [
      "/Users/Chenson/anaconda3/lib/python3.6/site-packages/sklearn/linear_model/logistic.py:432: FutureWarning: Default solver will be changed to 'lbfgs' in 0.22. Specify a solver to silence this warning.\n",
      "  FutureWarning)\n"
     ]
    },
    {
     "name": "stdout",
     "output_type": "stream",
     "text": [
      "Fitting estimator with 47 features.\n"
     ]
    },
    {
     "name": "stderr",
     "output_type": "stream",
     "text": [
      "/Users/Chenson/anaconda3/lib/python3.6/site-packages/sklearn/linear_model/logistic.py:432: FutureWarning: Default solver will be changed to 'lbfgs' in 0.22. Specify a solver to silence this warning.\n",
      "  FutureWarning)\n"
     ]
    },
    {
     "name": "stdout",
     "output_type": "stream",
     "text": [
      "Fitting estimator with 46 features.\n"
     ]
    },
    {
     "name": "stderr",
     "output_type": "stream",
     "text": [
      "/Users/Chenson/anaconda3/lib/python3.6/site-packages/sklearn/linear_model/logistic.py:432: FutureWarning: Default solver will be changed to 'lbfgs' in 0.22. Specify a solver to silence this warning.\n",
      "  FutureWarning)\n"
     ]
    },
    {
     "name": "stdout",
     "output_type": "stream",
     "text": [
      "Fitting estimator with 45 features.\n"
     ]
    },
    {
     "name": "stderr",
     "output_type": "stream",
     "text": [
      "/Users/Chenson/anaconda3/lib/python3.6/site-packages/sklearn/linear_model/logistic.py:432: FutureWarning: Default solver will be changed to 'lbfgs' in 0.22. Specify a solver to silence this warning.\n",
      "  FutureWarning)\n"
     ]
    },
    {
     "name": "stdout",
     "output_type": "stream",
     "text": [
      "Fitting estimator with 44 features.\n"
     ]
    },
    {
     "name": "stderr",
     "output_type": "stream",
     "text": [
      "/Users/Chenson/anaconda3/lib/python3.6/site-packages/sklearn/linear_model/logistic.py:432: FutureWarning: Default solver will be changed to 'lbfgs' in 0.22. Specify a solver to silence this warning.\n",
      "  FutureWarning)\n"
     ]
    },
    {
     "name": "stdout",
     "output_type": "stream",
     "text": [
      "Fitting estimator with 43 features.\n"
     ]
    },
    {
     "name": "stderr",
     "output_type": "stream",
     "text": [
      "/Users/Chenson/anaconda3/lib/python3.6/site-packages/sklearn/linear_model/logistic.py:432: FutureWarning: Default solver will be changed to 'lbfgs' in 0.22. Specify a solver to silence this warning.\n",
      "  FutureWarning)\n"
     ]
    },
    {
     "name": "stdout",
     "output_type": "stream",
     "text": [
      "Fitting estimator with 42 features.\n"
     ]
    },
    {
     "name": "stderr",
     "output_type": "stream",
     "text": [
      "/Users/Chenson/anaconda3/lib/python3.6/site-packages/sklearn/linear_model/logistic.py:432: FutureWarning: Default solver will be changed to 'lbfgs' in 0.22. Specify a solver to silence this warning.\n",
      "  FutureWarning)\n"
     ]
    },
    {
     "name": "stdout",
     "output_type": "stream",
     "text": [
      "Fitting estimator with 41 features.\n"
     ]
    },
    {
     "name": "stderr",
     "output_type": "stream",
     "text": [
      "/Users/Chenson/anaconda3/lib/python3.6/site-packages/sklearn/linear_model/logistic.py:432: FutureWarning: Default solver will be changed to 'lbfgs' in 0.22. Specify a solver to silence this warning.\n",
      "  FutureWarning)\n"
     ]
    },
    {
     "name": "stdout",
     "output_type": "stream",
     "text": [
      "Fitting estimator with 40 features.\n"
     ]
    },
    {
     "name": "stderr",
     "output_type": "stream",
     "text": [
      "/Users/Chenson/anaconda3/lib/python3.6/site-packages/sklearn/linear_model/logistic.py:432: FutureWarning: Default solver will be changed to 'lbfgs' in 0.22. Specify a solver to silence this warning.\n",
      "  FutureWarning)\n"
     ]
    },
    {
     "name": "stdout",
     "output_type": "stream",
     "text": [
      "Fitting estimator with 39 features.\n"
     ]
    },
    {
     "name": "stderr",
     "output_type": "stream",
     "text": [
      "/Users/Chenson/anaconda3/lib/python3.6/site-packages/sklearn/linear_model/logistic.py:432: FutureWarning: Default solver will be changed to 'lbfgs' in 0.22. Specify a solver to silence this warning.\n",
      "  FutureWarning)\n"
     ]
    },
    {
     "name": "stdout",
     "output_type": "stream",
     "text": [
      "Fitting estimator with 38 features.\n"
     ]
    },
    {
     "name": "stderr",
     "output_type": "stream",
     "text": [
      "/Users/Chenson/anaconda3/lib/python3.6/site-packages/sklearn/linear_model/logistic.py:432: FutureWarning: Default solver will be changed to 'lbfgs' in 0.22. Specify a solver to silence this warning.\n",
      "  FutureWarning)\n"
     ]
    },
    {
     "name": "stdout",
     "output_type": "stream",
     "text": [
      "Fitting estimator with 37 features.\n"
     ]
    },
    {
     "name": "stderr",
     "output_type": "stream",
     "text": [
      "/Users/Chenson/anaconda3/lib/python3.6/site-packages/sklearn/linear_model/logistic.py:432: FutureWarning: Default solver will be changed to 'lbfgs' in 0.22. Specify a solver to silence this warning.\n",
      "  FutureWarning)\n"
     ]
    },
    {
     "name": "stdout",
     "output_type": "stream",
     "text": [
      "Fitting estimator with 36 features.\n"
     ]
    },
    {
     "name": "stderr",
     "output_type": "stream",
     "text": [
      "/Users/Chenson/anaconda3/lib/python3.6/site-packages/sklearn/linear_model/logistic.py:432: FutureWarning: Default solver will be changed to 'lbfgs' in 0.22. Specify a solver to silence this warning.\n",
      "  FutureWarning)\n"
     ]
    },
    {
     "name": "stdout",
     "output_type": "stream",
     "text": [
      "Fitting estimator with 35 features.\n"
     ]
    },
    {
     "name": "stderr",
     "output_type": "stream",
     "text": [
      "/Users/Chenson/anaconda3/lib/python3.6/site-packages/sklearn/linear_model/logistic.py:432: FutureWarning: Default solver will be changed to 'lbfgs' in 0.22. Specify a solver to silence this warning.\n",
      "  FutureWarning)\n"
     ]
    },
    {
     "name": "stdout",
     "output_type": "stream",
     "text": [
      "Fitting estimator with 34 features.\n"
     ]
    },
    {
     "name": "stderr",
     "output_type": "stream",
     "text": [
      "/Users/Chenson/anaconda3/lib/python3.6/site-packages/sklearn/linear_model/logistic.py:432: FutureWarning: Default solver will be changed to 'lbfgs' in 0.22. Specify a solver to silence this warning.\n",
      "  FutureWarning)\n"
     ]
    },
    {
     "name": "stdout",
     "output_type": "stream",
     "text": [
      "Fitting estimator with 33 features.\n"
     ]
    },
    {
     "name": "stderr",
     "output_type": "stream",
     "text": [
      "/Users/Chenson/anaconda3/lib/python3.6/site-packages/sklearn/linear_model/logistic.py:432: FutureWarning: Default solver will be changed to 'lbfgs' in 0.22. Specify a solver to silence this warning.\n",
      "  FutureWarning)\n"
     ]
    },
    {
     "name": "stdout",
     "output_type": "stream",
     "text": [
      "Fitting estimator with 32 features.\n"
     ]
    },
    {
     "name": "stderr",
     "output_type": "stream",
     "text": [
      "/Users/Chenson/anaconda3/lib/python3.6/site-packages/sklearn/linear_model/logistic.py:432: FutureWarning: Default solver will be changed to 'lbfgs' in 0.22. Specify a solver to silence this warning.\n",
      "  FutureWarning)\n"
     ]
    },
    {
     "name": "stdout",
     "output_type": "stream",
     "text": [
      "Fitting estimator with 31 features.\n"
     ]
    },
    {
     "name": "stderr",
     "output_type": "stream",
     "text": [
      "/Users/Chenson/anaconda3/lib/python3.6/site-packages/sklearn/linear_model/logistic.py:432: FutureWarning: Default solver will be changed to 'lbfgs' in 0.22. Specify a solver to silence this warning.\n",
      "  FutureWarning)\n"
     ]
    },
    {
     "name": "stdout",
     "output_type": "stream",
     "text": [
      "Fitting estimator with 30 features.\n",
      "Fitting estimator with 29 features.\n"
     ]
    },
    {
     "name": "stderr",
     "output_type": "stream",
     "text": [
      "/Users/Chenson/anaconda3/lib/python3.6/site-packages/sklearn/linear_model/logistic.py:432: FutureWarning: Default solver will be changed to 'lbfgs' in 0.22. Specify a solver to silence this warning.\n",
      "  FutureWarning)\n",
      "/Users/Chenson/anaconda3/lib/python3.6/site-packages/sklearn/linear_model/logistic.py:432: FutureWarning: Default solver will be changed to 'lbfgs' in 0.22. Specify a solver to silence this warning.\n",
      "  FutureWarning)\n"
     ]
    },
    {
     "name": "stdout",
     "output_type": "stream",
     "text": [
      "Fitting estimator with 28 features.\n"
     ]
    },
    {
     "name": "stderr",
     "output_type": "stream",
     "text": [
      "/Users/Chenson/anaconda3/lib/python3.6/site-packages/sklearn/linear_model/logistic.py:432: FutureWarning: Default solver will be changed to 'lbfgs' in 0.22. Specify a solver to silence this warning.\n",
      "  FutureWarning)\n"
     ]
    },
    {
     "name": "stdout",
     "output_type": "stream",
     "text": [
      "Fitting estimator with 27 features.\n",
      "Fitting estimator with 26 features.\n"
     ]
    },
    {
     "name": "stderr",
     "output_type": "stream",
     "text": [
      "/Users/Chenson/anaconda3/lib/python3.6/site-packages/sklearn/linear_model/logistic.py:432: FutureWarning: Default solver will be changed to 'lbfgs' in 0.22. Specify a solver to silence this warning.\n",
      "  FutureWarning)\n",
      "/Users/Chenson/anaconda3/lib/python3.6/site-packages/sklearn/linear_model/logistic.py:432: FutureWarning: Default solver will be changed to 'lbfgs' in 0.22. Specify a solver to silence this warning.\n",
      "  FutureWarning)\n"
     ]
    },
    {
     "name": "stdout",
     "output_type": "stream",
     "text": [
      "Fitting estimator with 25 features.\n"
     ]
    },
    {
     "name": "stderr",
     "output_type": "stream",
     "text": [
      "/Users/Chenson/anaconda3/lib/python3.6/site-packages/sklearn/linear_model/logistic.py:432: FutureWarning: Default solver will be changed to 'lbfgs' in 0.22. Specify a solver to silence this warning.\n",
      "  FutureWarning)\n"
     ]
    },
    {
     "name": "stdout",
     "output_type": "stream",
     "text": [
      "Fitting estimator with 24 features.\n"
     ]
    },
    {
     "name": "stderr",
     "output_type": "stream",
     "text": [
      "/Users/Chenson/anaconda3/lib/python3.6/site-packages/sklearn/linear_model/logistic.py:432: FutureWarning: Default solver will be changed to 'lbfgs' in 0.22. Specify a solver to silence this warning.\n",
      "  FutureWarning)\n"
     ]
    },
    {
     "name": "stdout",
     "output_type": "stream",
     "text": [
      "Fitting estimator with 23 features.\n",
      "Fitting estimator with 22 features.\n"
     ]
    },
    {
     "name": "stderr",
     "output_type": "stream",
     "text": [
      "/Users/Chenson/anaconda3/lib/python3.6/site-packages/sklearn/linear_model/logistic.py:432: FutureWarning: Default solver will be changed to 'lbfgs' in 0.22. Specify a solver to silence this warning.\n",
      "  FutureWarning)\n",
      "/Users/Chenson/anaconda3/lib/python3.6/site-packages/sklearn/linear_model/logistic.py:432: FutureWarning: Default solver will be changed to 'lbfgs' in 0.22. Specify a solver to silence this warning.\n",
      "  FutureWarning)\n"
     ]
    },
    {
     "name": "stdout",
     "output_type": "stream",
     "text": [
      "Fitting estimator with 21 features.\n"
     ]
    },
    {
     "name": "stderr",
     "output_type": "stream",
     "text": [
      "/Users/Chenson/anaconda3/lib/python3.6/site-packages/sklearn/linear_model/logistic.py:432: FutureWarning: Default solver will be changed to 'lbfgs' in 0.22. Specify a solver to silence this warning.\n",
      "  FutureWarning)\n"
     ]
    },
    {
     "name": "stdout",
     "output_type": "stream",
     "text": [
      "Fitting estimator with 20 features.\n",
      "Fitting estimator with 19 features.\n"
     ]
    },
    {
     "name": "stderr",
     "output_type": "stream",
     "text": [
      "/Users/Chenson/anaconda3/lib/python3.6/site-packages/sklearn/linear_model/logistic.py:432: FutureWarning: Default solver will be changed to 'lbfgs' in 0.22. Specify a solver to silence this warning.\n",
      "  FutureWarning)\n",
      "/Users/Chenson/anaconda3/lib/python3.6/site-packages/sklearn/linear_model/logistic.py:432: FutureWarning: Default solver will be changed to 'lbfgs' in 0.22. Specify a solver to silence this warning.\n",
      "  FutureWarning)\n"
     ]
    },
    {
     "name": "stdout",
     "output_type": "stream",
     "text": [
      "Fitting estimator with 18 features.\n",
      "Fitting estimator with 17 features.\n"
     ]
    },
    {
     "name": "stderr",
     "output_type": "stream",
     "text": [
      "/Users/Chenson/anaconda3/lib/python3.6/site-packages/sklearn/linear_model/logistic.py:432: FutureWarning: Default solver will be changed to 'lbfgs' in 0.22. Specify a solver to silence this warning.\n",
      "  FutureWarning)\n",
      "/Users/Chenson/anaconda3/lib/python3.6/site-packages/sklearn/linear_model/logistic.py:432: FutureWarning: Default solver will be changed to 'lbfgs' in 0.22. Specify a solver to silence this warning.\n",
      "  FutureWarning)\n"
     ]
    },
    {
     "name": "stdout",
     "output_type": "stream",
     "text": [
      "Fitting estimator with 16 features.\n",
      "Fitting estimator with 15 features.\n"
     ]
    },
    {
     "name": "stderr",
     "output_type": "stream",
     "text": [
      "/Users/Chenson/anaconda3/lib/python3.6/site-packages/sklearn/linear_model/logistic.py:432: FutureWarning: Default solver will be changed to 'lbfgs' in 0.22. Specify a solver to silence this warning.\n",
      "  FutureWarning)\n",
      "/Users/Chenson/anaconda3/lib/python3.6/site-packages/sklearn/linear_model/logistic.py:432: FutureWarning: Default solver will be changed to 'lbfgs' in 0.22. Specify a solver to silence this warning.\n",
      "  FutureWarning)\n"
     ]
    },
    {
     "name": "stdout",
     "output_type": "stream",
     "text": [
      "Fitting estimator with 14 features.\n",
      "Fitting estimator with 13 features.\n"
     ]
    },
    {
     "name": "stderr",
     "output_type": "stream",
     "text": [
      "/Users/Chenson/anaconda3/lib/python3.6/site-packages/sklearn/linear_model/logistic.py:432: FutureWarning: Default solver will be changed to 'lbfgs' in 0.22. Specify a solver to silence this warning.\n",
      "  FutureWarning)\n",
      "/Users/Chenson/anaconda3/lib/python3.6/site-packages/sklearn/linear_model/logistic.py:432: FutureWarning: Default solver will be changed to 'lbfgs' in 0.22. Specify a solver to silence this warning.\n",
      "  FutureWarning)\n"
     ]
    },
    {
     "name": "stdout",
     "output_type": "stream",
     "text": [
      "Fitting estimator with 12 features.\n",
      "Fitting estimator with 11 features.\n",
      "Fitting estimator with 10 features.\n"
     ]
    },
    {
     "name": "stderr",
     "output_type": "stream",
     "text": [
      "/Users/Chenson/anaconda3/lib/python3.6/site-packages/sklearn/linear_model/logistic.py:432: FutureWarning: Default solver will be changed to 'lbfgs' in 0.22. Specify a solver to silence this warning.\n",
      "  FutureWarning)\n",
      "/Users/Chenson/anaconda3/lib/python3.6/site-packages/sklearn/linear_model/logistic.py:432: FutureWarning: Default solver will be changed to 'lbfgs' in 0.22. Specify a solver to silence this warning.\n",
      "  FutureWarning)\n",
      "/Users/Chenson/anaconda3/lib/python3.6/site-packages/sklearn/linear_model/logistic.py:432: FutureWarning: Default solver will be changed to 'lbfgs' in 0.22. Specify a solver to silence this warning.\n",
      "  FutureWarning)\n"
     ]
    },
    {
     "name": "stdout",
     "output_type": "stream",
     "text": [
      "Fitting estimator with 9 features.\n",
      "Fitting estimator with 8 features.\n",
      "Fitting estimator with 7 features.\n",
      "Fitting estimator with 6 features.\n"
     ]
    },
    {
     "name": "stderr",
     "output_type": "stream",
     "text": [
      "/Users/Chenson/anaconda3/lib/python3.6/site-packages/sklearn/linear_model/logistic.py:432: FutureWarning: Default solver will be changed to 'lbfgs' in 0.22. Specify a solver to silence this warning.\n",
      "  FutureWarning)\n",
      "/Users/Chenson/anaconda3/lib/python3.6/site-packages/sklearn/linear_model/logistic.py:432: FutureWarning: Default solver will be changed to 'lbfgs' in 0.22. Specify a solver to silence this warning.\n",
      "  FutureWarning)\n",
      "/Users/Chenson/anaconda3/lib/python3.6/site-packages/sklearn/linear_model/logistic.py:432: FutureWarning: Default solver will be changed to 'lbfgs' in 0.22. Specify a solver to silence this warning.\n",
      "  FutureWarning)\n",
      "/Users/Chenson/anaconda3/lib/python3.6/site-packages/sklearn/linear_model/logistic.py:432: FutureWarning: Default solver will be changed to 'lbfgs' in 0.22. Specify a solver to silence this warning.\n",
      "  FutureWarning)\n",
      "/Users/Chenson/anaconda3/lib/python3.6/site-packages/sklearn/linear_model/logistic.py:432: FutureWarning: Default solver will be changed to 'lbfgs' in 0.22. Specify a solver to silence this warning.\n",
      "  FutureWarning)\n"
     ]
    }
   ],
   "source": [
    "from sklearn.linear_model import LogisticRegression\n",
    "lr = LogisticRegression()\n",
    "rfe = RFEFilter2(lr, by='stepwise', verbose=True, n_features_to_select=5)\n",
    "rfe = rfe.fit(X, y)"
   ]
  },
  {
   "cell_type": "code",
   "execution_count": 183,
   "metadata": {
    "ExecuteTime": {
     "end_time": "2018-11-28T09:43:24.177258Z",
     "start_time": "2018-11-28T09:43:24.127492Z"
    }
   },
   "outputs": [
    {
     "data": {
      "text/plain": [
       "array([0, 0, 0, ..., 0, 0, 0])"
      ]
     },
     "execution_count": 183,
     "metadata": {},
     "output_type": "execute_result"
    },
    {
     "data": {
      "text/plain": [
       "array([[-0.23901242, -1.5483668 ],\n",
       "       [-0.46376301, -0.99131761],\n",
       "       [-0.45280285, -1.0101715 ],\n",
       "       ...,\n",
       "       [-0.23092316, -1.57891094],\n",
       "       [-0.16984463, -1.85659181],\n",
       "       [-0.05804858, -2.87535899]])"
      ]
     },
     "execution_count": 183,
     "metadata": {},
     "output_type": "execute_result"
    },
    {
     "data": {
      "text/plain": [
       "array([[0.7874051 , 0.2125949 ],\n",
       "       [0.62891258, 0.37108742],\n",
       "       [0.63584348, 0.36415652],\n",
       "       ...,\n",
       "       [0.79380046, 0.20619954],\n",
       "       [0.8437959 , 0.1562041 ],\n",
       "       [0.94360411, 0.05639589]])"
      ]
     },
     "execution_count": 183,
     "metadata": {},
     "output_type": "execute_result"
    }
   ],
   "source": [
    "rfe.predict(X)\n",
    "rfe.predict_log_proba(X)\n",
    "rfe.predict_proba(X)"
   ]
  },
  {
   "cell_type": "code",
   "execution_count": 184,
   "metadata": {
    "ExecuteTime": {
     "end_time": "2018-11-28T09:43:24.208742Z",
     "start_time": "2018-11-28T09:43:24.182487Z"
    }
   },
   "outputs": [
    {
     "data": {
      "text/plain": [
       "array([False, False, False,  True, False, False,  True, False, False,\n",
       "        True, False, False, False, False, False, False, False, False,\n",
       "       False, False, False, False, False, False, False, False, False,\n",
       "        True, False, False, False, False, False, False, False, False,\n",
       "       False, False, False, False, False, False, False, False, False,\n",
       "       False, False, False, False,  True, False, False, False])"
      ]
     },
     "execution_count": 184,
     "metadata": {},
     "output_type": "execute_result"
    },
    {
     "data": {
      "text/plain": [
       "array([ 5, 42, 45,  1, 44, 49,  1,  9,  6,  1, 46,  2, 38, 37, 27, 36,  8,\n",
       "        4, 43,  7,  3, 28, 29, 22, 18, 39, 11,  1, 14, 33, 30, 24, 35, 23,\n",
       "       10, 12, 15, 16, 34, 31, 32, 26, 25, 21, 20, 13, 19, 48, 40,  1, 41,\n",
       "       47, 17])"
      ]
     },
     "execution_count": 184,
     "metadata": {},
     "output_type": "execute_result"
    }
   ],
   "source": [
    "rfe.support_\n",
    "rfe.ranking_"
   ]
  },
  {
   "cell_type": "markdown",
   "metadata": {},
   "source": [
    "# filter_ui - Test"
   ]
  },
  {
   "cell_type": "code",
   "execution_count": 11,
   "metadata": {
    "ExecuteTime": {
     "end_time": "2018-11-28T10:58:17.257708Z",
     "start_time": "2018-11-28T10:58:08.578419Z"
    }
   },
   "outputs": [
    {
     "name": "stdout",
     "output_type": "stream",
     "text": [
      "consumer_label_if_own_cc_count enters: pvalue: 0.0\n",
      "xy_score_bin_woe enters: pvalue: 3.991913870901457e-145\n",
      "coc_gt_0_ratio_bin_woe enters: pvalue: 3.0630237579461928e-61\n",
      "KMeans_2_bin_woe enters: pvalue: 2.1083720055704201e-41\n",
      "ym_large_score_bin_woe enters: pvalue: 3.968050135326743e-30\n",
      "paydayloanlevelonechannelname_count enters: pvalue: 6.149105754786535e-27\n",
      "i011_bin_woe enters: pvalue: 1.32703922507418e-15\n",
      "baidu_panshi_prea_score_bin_woe enters: pvalue: 5.113081364519262e-08\n",
      "i031_bin_woe enters: pvalue: 0.0002249721529850799\n",
      "cn_gt_0_ratio_bin_woe enters: pvalue: 0.0008160581768336345\n",
      "coc_gt_0_bin_woe enters: pvalue: 0.002455999506090172\n",
      "hds_score_bin_woe enters: pvalue: 0.004041564682196842\n",
      "coc_eq_0_bin_woe enters: pvalue: 0.018609197424319143\n",
      "cn_gt_0_bin_woe enters: pvalue: 0.0188996963649585\n",
      "ym_small_score_bin_woe enters: pvalue: 0.018252785399317215\n",
      "ym_small_code_count enters: pvalue: 0.030601824046693468\n",
      ">>> type(X): <class 'pandas.core.frame.DataFrame'>\n",
      ">>> shape  : (13500, 27)\n",
      ">>> len    : 27\n"
     ]
    },
    {
     "name": "stderr",
     "output_type": "stream",
     "text": [
      "/Users/Chenson/anaconda3/lib/python3.6/site-packages/sklearn/linear_model/logistic.py:432: FutureWarning: Default solver will be changed to 'lbfgs' in 0.22. Specify a solver to silence this warning.\n",
      "  FutureWarning)\n",
      "/Users/Chenson/Dropbox/Github/mlearn/mlearn/service/filter/base_filter.py:81: SettingWithCopyWarning: \n",
      "A value is trying to be set on a copy of a slice from a DataFrame\n",
      "\n",
      "See the caveats in the documentation: http://pandas.pydata.org/pandas-docs/stable/indexing.html#indexing-view-versus-copy\n",
      "  df[indicator + '_feature_importances'][enc.get_support()] = get_feature_importances(enc.estimator_)\n",
      "/Users/Chenson/Dropbox/Github/mlearn/mlearn/service/reporter/data_reporter.py:162: FutureWarning: Sorting because non-concatenation axis is not aligned. A future version\n",
      "of pandas will change to not sort by default.\n",
      "\n",
      "To accept the future behavior, pass 'sort=False'.\n",
      "\n",
      "To retain the current behavior and silence the warning, pass 'sort=True'.\n",
      "\n",
      "  df = pd.concat([df, t], axis=1)\n"
     ]
    },
    {
     "data": {
      "text/plain": [
       "'{\"code\": 1, \"msg\": \"succ\", \"result\": {\"ds\": {\"train\": \"/Users/Chenson/dev/flow_0/filter/train/filter_result.pkl\", \"test\": \"/Users/Chenson/dev/flow_0/filter/test/filter_result.pkl\"}, \"meta\": \"/Users/Chenson/dev/flow_0/filter/train/filter_enc.pkl\", \"report\": \"/Users/Chenson/dev/flow_0/filter/report\"}}'"
      ]
     },
     "execution_count": 11,
     "metadata": {},
     "output_type": "execute_result"
    }
   ],
   "source": [
    "import json\n",
    "filter_jsons = {'ds': {'label': {'name': '14d', 'type': 'number'},\n",
    "                       'test': '/Users/Chenson/dev/flow_0/transformer/test/transformer_result.pkl',\n",
    "                       'train': '/Users/Chenson/dev/flow_0/transformer/train/transformer_result.pkl'},\n",
    "                'out': {'dst': '/Users/Chenson/dev/flow_0/filter'},\n",
    "                'st': [\n",
    "    {\n",
    "        \"method\": \"StableFilter\",\n",
    "        \"params\": {\n",
    "            \"indice_name\": \"psi\",\n",
    "            \"indice_thr\": 0.2\n",
    "        }},\n",
    "    {\n",
    "        \"method\": \"SklearnFilter\",\n",
    "        \"params\": {\n",
    "            # \"method\": \"SelectKBest\",\n",
    "            \"method\": \"RFE\",\n",
    "            \"params\": {\n",
    "                \"estimator\": \"lr\",\n",
    "                \"n_features_to_select\": 10}\n",
    "        }}]\n",
    "}\n",
    "\n",
    "\n",
    "filter_jsons = {'ds': {'label': {'name': '14d', \n",
    "                                 'type': 'number'},\n",
    "                       'test': '/Users/Chenson/dev/flow_0/transformer/test/transformer_result.pkl',\n",
    "                       'train': '/Users/Chenson/dev/flow_0/transformer/train/transformer_result.pkl'},\n",
    "                'out': {'dst': '/Users/Chenson/dev/flow_0/filter'},\n",
    "                'st': [\n",
    "    {\n",
    "        \"method\": \"StableFilter\",\n",
    "        \"params\": {\n",
    "            \"indice_name\": \"psi\",\n",
    "            \"indice_thr\": 0.2\n",
    "        }},\n",
    "    {\n",
    "        \"method\": \"SklearnFilter\",\n",
    "        \"params\": {\n",
    "            \"method\": \"RFEFilter\",\n",
    "            # \"method\": \"SelectFromModel\",\n",
    "            \"params\": {\n",
    "                \"estimator\": {\"estimator\": \"LogisticRegression\", \"params\": {}},\n",
    "                \"n_features_to_select\": 10,\n",
    "                # \"method\" : \"stepwise_coef\",\n",
    "                \"verbose\" : True,\n",
    "                ## \"method\" : \"coef\"\n",
    "                \"method\" : \"stepwise\"\n",
    "            }\n",
    "        }}]\n",
    "}\n",
    "\n",
    "mlearn.filter_ui(json.dumps(filter_jsons))"
   ]
  },
  {
   "cell_type": "code",
   "execution_count": 12,
   "metadata": {
    "ExecuteTime": {
     "end_time": "2018-11-28T10:58:29.951837Z",
     "start_time": "2018-11-28T10:58:29.463660Z"
    }
   },
   "outputs": [
    {
     "name": "stdout",
     "output_type": "stream",
     "text": [
      "feature_filter.report feature_indices.json  filter_scores.csv\r\n"
     ]
    }
   ],
   "source": [
    "!ls /Users/Chenson/dev/flow_0/filter/report/"
   ]
  },
  {
   "cell_type": "code",
   "execution_count": 13,
   "metadata": {
    "ExecuteTime": {
     "end_time": "2018-11-28T10:58:30.016429Z",
     "start_time": "2018-11-28T10:58:29.965323Z"
    }
   },
   "outputs": [
    {
     "data": {
      "text/html": [
       "<div>\n",
       "<style scoped>\n",
       "    .dataframe tbody tr th:only-of-type {\n",
       "        vertical-align: middle;\n",
       "    }\n",
       "\n",
       "    .dataframe tbody tr th {\n",
       "        vertical-align: top;\n",
       "    }\n",
       "\n",
       "    .dataframe thead tr th {\n",
       "        text-align: left;\n",
       "    }\n",
       "</style>\n",
       "<table border=\"1\" class=\"dataframe\">\n",
       "  <thead>\n",
       "    <tr>\n",
       "      <th></th>\n",
       "      <th colspan=\"6\" halign=\"left\">StableFilter</th>\n",
       "      <th colspan=\"3\" halign=\"left\">SklearnFilter</th>\n",
       "    </tr>\n",
       "    <tr>\n",
       "      <th></th>\n",
       "      <th>extreme_ratio(the smaller, the better)</th>\n",
       "      <th>ftest(the bigger, the better)</th>\n",
       "      <th>kstest(the bigger, the better)</th>\n",
       "      <th>null ratio</th>\n",
       "      <th>psi(the smaller, the better)</th>\n",
       "      <th>ttest(the bigger, the better)</th>\n",
       "      <th>LogisticRegression_support</th>\n",
       "      <th>LogisticRegression_ranking</th>\n",
       "      <th>LogisticRegression_feature_importances</th>\n",
       "    </tr>\n",
       "  </thead>\n",
       "  <tbody>\n",
       "    <tr>\n",
       "      <th>KMeans_0_bin_woe</th>\n",
       "      <td>0</td>\n",
       "      <td>0.0605</td>\n",
       "      <td>0</td>\n",
       "      <td>(0.0, 0.0)</td>\n",
       "      <td>0.0883</td>\n",
       "      <td>0</td>\n",
       "      <td>False</td>\n",
       "      <td>18.0</td>\n",
       "      <td>NaN</td>\n",
       "    </tr>\n",
       "    <tr>\n",
       "      <th>KMeans_1_bin_woe</th>\n",
       "      <td>0</td>\n",
       "      <td>0.0019</td>\n",
       "      <td>0</td>\n",
       "      <td>(0.0, 0.0)</td>\n",
       "      <td>0.0932</td>\n",
       "      <td>0</td>\n",
       "      <td>False</td>\n",
       "      <td>18.0</td>\n",
       "      <td>NaN</td>\n",
       "    </tr>\n",
       "    <tr>\n",
       "      <th>KMeans_2_bin_woe</th>\n",
       "      <td>0</td>\n",
       "      <td>0.2478</td>\n",
       "      <td>0</td>\n",
       "      <td>(0.0, 0.0)</td>\n",
       "      <td>0.1167</td>\n",
       "      <td>0</td>\n",
       "      <td>True</td>\n",
       "      <td>4.0</td>\n",
       "      <td>0.528145</td>\n",
       "    </tr>\n",
       "    <tr>\n",
       "      <th>KMeans_3_bin_woe</th>\n",
       "      <td>0</td>\n",
       "      <td>0.0005</td>\n",
       "      <td>0</td>\n",
       "      <td>(0.0, 0.0)</td>\n",
       "      <td>0.0968</td>\n",
       "      <td>0</td>\n",
       "      <td>False</td>\n",
       "      <td>18.0</td>\n",
       "      <td>NaN</td>\n",
       "    </tr>\n",
       "    <tr>\n",
       "      <th>KMeans_4_bin_woe</th>\n",
       "      <td>0</td>\n",
       "      <td>0.0911</td>\n",
       "      <td>0</td>\n",
       "      <td>(0.0, 0.0)</td>\n",
       "      <td>0.0865</td>\n",
       "      <td>0.0005</td>\n",
       "      <td>False</td>\n",
       "      <td>18.0</td>\n",
       "      <td>NaN</td>\n",
       "    </tr>\n",
       "  </tbody>\n",
       "</table>\n",
       "</div>"
      ],
      "text/plain": [
       "                                           StableFilter  \\\n",
       "                 extreme_ratio(the smaller, the better)   \n",
       "KMeans_0_bin_woe                                      0   \n",
       "KMeans_1_bin_woe                                      0   \n",
       "KMeans_2_bin_woe                                      0   \n",
       "KMeans_3_bin_woe                                      0   \n",
       "KMeans_4_bin_woe                                      0   \n",
       "\n",
       "                                                                               \\\n",
       "                 ftest(the bigger, the better) kstest(the bigger, the better)   \n",
       "KMeans_0_bin_woe                        0.0605                              0   \n",
       "KMeans_1_bin_woe                        0.0019                              0   \n",
       "KMeans_2_bin_woe                        0.2478                              0   \n",
       "KMeans_3_bin_woe                        0.0005                              0   \n",
       "KMeans_4_bin_woe                        0.0911                              0   \n",
       "\n",
       "                                                           \\\n",
       "                  null ratio psi(the smaller, the better)   \n",
       "KMeans_0_bin_woe  (0.0, 0.0)                       0.0883   \n",
       "KMeans_1_bin_woe  (0.0, 0.0)                       0.0932   \n",
       "KMeans_2_bin_woe  (0.0, 0.0)                       0.1167   \n",
       "KMeans_3_bin_woe  (0.0, 0.0)                       0.0968   \n",
       "KMeans_4_bin_woe  (0.0, 0.0)                       0.0865   \n",
       "\n",
       "                                                            SklearnFilter  \\\n",
       "                 ttest(the bigger, the better) LogisticRegression_support   \n",
       "KMeans_0_bin_woe                             0                      False   \n",
       "KMeans_1_bin_woe                             0                      False   \n",
       "KMeans_2_bin_woe                             0                       True   \n",
       "KMeans_3_bin_woe                             0                      False   \n",
       "KMeans_4_bin_woe                        0.0005                      False   \n",
       "\n",
       "                                             \\\n",
       "                 LogisticRegression_ranking   \n",
       "KMeans_0_bin_woe                       18.0   \n",
       "KMeans_1_bin_woe                       18.0   \n",
       "KMeans_2_bin_woe                        4.0   \n",
       "KMeans_3_bin_woe                       18.0   \n",
       "KMeans_4_bin_woe                       18.0   \n",
       "\n",
       "                                                         \n",
       "                 LogisticRegression_feature_importances  \n",
       "KMeans_0_bin_woe                                    NaN  \n",
       "KMeans_1_bin_woe                                    NaN  \n",
       "KMeans_2_bin_woe                               0.528145  \n",
       "KMeans_3_bin_woe                                    NaN  \n",
       "KMeans_4_bin_woe                                    NaN  "
      ]
     },
     "execution_count": 13,
     "metadata": {},
     "output_type": "execute_result"
    }
   ],
   "source": [
    "report = pd.read_pickle('/Users/Chenson/dev/flow_0/filter/report/feature_filter.report')\n",
    "report.head()"
   ]
  },
  {
   "cell_type": "code",
   "execution_count": 15,
   "metadata": {
    "ExecuteTime": {
     "end_time": "2018-11-28T10:59:19.280611Z",
     "start_time": "2018-11-28T10:59:19.249130Z"
    }
   },
   "outputs": [
    {
     "data": {
      "text/plain": [
       "16"
      ]
     },
     "execution_count": 15,
     "metadata": {},
     "output_type": "execute_result"
    },
    {
     "data": {
      "text/html": [
       "<div>\n",
       "<style scoped>\n",
       "    .dataframe tbody tr th:only-of-type {\n",
       "        vertical-align: middle;\n",
       "    }\n",
       "\n",
       "    .dataframe tbody tr th {\n",
       "        vertical-align: top;\n",
       "    }\n",
       "\n",
       "    .dataframe thead th {\n",
       "        text-align: right;\n",
       "    }\n",
       "</style>\n",
       "<table border=\"1\" class=\"dataframe\">\n",
       "  <thead>\n",
       "    <tr style=\"text-align: right;\">\n",
       "      <th></th>\n",
       "      <th>LogisticRegression_feature_importances</th>\n",
       "      <th>LogisticRegression_ranking</th>\n",
       "    </tr>\n",
       "  </thead>\n",
       "  <tbody>\n",
       "    <tr>\n",
       "      <th>KMeans_0_bin_woe</th>\n",
       "      <td>NaN</td>\n",
       "      <td>18.0</td>\n",
       "    </tr>\n",
       "    <tr>\n",
       "      <th>KMeans_1_bin_woe</th>\n",
       "      <td>NaN</td>\n",
       "      <td>18.0</td>\n",
       "    </tr>\n",
       "    <tr>\n",
       "      <th>KMeans_2_bin_woe</th>\n",
       "      <td>0.528145</td>\n",
       "      <td>4.0</td>\n",
       "    </tr>\n",
       "    <tr>\n",
       "      <th>KMeans_3_bin_woe</th>\n",
       "      <td>NaN</td>\n",
       "      <td>18.0</td>\n",
       "    </tr>\n",
       "    <tr>\n",
       "      <th>KMeans_4_bin_woe</th>\n",
       "      <td>NaN</td>\n",
       "      <td>18.0</td>\n",
       "    </tr>\n",
       "    <tr>\n",
       "      <th>baidu_panshi_prea_score_bin_woe</th>\n",
       "      <td>0.321077</td>\n",
       "      <td>8.0</td>\n",
       "    </tr>\n",
       "    <tr>\n",
       "      <th>cn_gt_0_bin_woe</th>\n",
       "      <td>0.523329</td>\n",
       "      <td>14.0</td>\n",
       "    </tr>\n",
       "    <tr>\n",
       "      <th>cn_gt_0_ratio_bin_woe</th>\n",
       "      <td>0.288196</td>\n",
       "      <td>10.0</td>\n",
       "    </tr>\n",
       "    <tr>\n",
       "      <th>coc_eq_0_bin_woe</th>\n",
       "      <td>0.203654</td>\n",
       "      <td>13.0</td>\n",
       "    </tr>\n",
       "    <tr>\n",
       "      <th>coc_gt_0_bin_woe</th>\n",
       "      <td>0.576050</td>\n",
       "      <td>11.0</td>\n",
       "    </tr>\n",
       "    <tr>\n",
       "      <th>coc_gt_0_ratio_bin_woe</th>\n",
       "      <td>0.540246</td>\n",
       "      <td>3.0</td>\n",
       "    </tr>\n",
       "    <tr>\n",
       "      <th>consumer_label_if_own_cc_count</th>\n",
       "      <td>0.084997</td>\n",
       "      <td>1.0</td>\n",
       "    </tr>\n",
       "    <tr>\n",
       "      <th>consumer_label_if_pay_ins_count</th>\n",
       "      <td>NaN</td>\n",
       "      <td>18.0</td>\n",
       "    </tr>\n",
       "    <tr>\n",
       "      <th>equipmentos_count</th>\n",
       "      <td>NaN</td>\n",
       "      <td>18.0</td>\n",
       "    </tr>\n",
       "    <tr>\n",
       "      <th>fbi_score_bin_woe</th>\n",
       "      <td>NaN</td>\n",
       "      <td>18.0</td>\n",
       "    </tr>\n",
       "    <tr>\n",
       "      <th>hds_score_bin_woe</th>\n",
       "      <td>0.202480</td>\n",
       "      <td>12.0</td>\n",
       "    </tr>\n",
       "    <tr>\n",
       "      <th>i011_bin_woe</th>\n",
       "      <td>0.445780</td>\n",
       "      <td>7.0</td>\n",
       "    </tr>\n",
       "    <tr>\n",
       "      <th>i013_bin_woe</th>\n",
       "      <td>NaN</td>\n",
       "      <td>18.0</td>\n",
       "    </tr>\n",
       "    <tr>\n",
       "      <th>i031_bin_woe</th>\n",
       "      <td>0.456744</td>\n",
       "      <td>9.0</td>\n",
       "    </tr>\n",
       "    <tr>\n",
       "      <th>individual_gender_count</th>\n",
       "      <td>NaN</td>\n",
       "      <td>18.0</td>\n",
       "    </tr>\n",
       "    <tr>\n",
       "      <th>paydayloanlevelonechannelname_count</th>\n",
       "      <td>0.154787</td>\n",
       "      <td>6.0</td>\n",
       "    </tr>\n",
       "    <tr>\n",
       "      <th>province_count</th>\n",
       "      <td>NaN</td>\n",
       "      <td>18.0</td>\n",
       "    </tr>\n",
       "    <tr>\n",
       "      <th>user_gray_has_report_count</th>\n",
       "      <td>NaN</td>\n",
       "      <td>NaN</td>\n",
       "    </tr>\n",
       "    <tr>\n",
       "      <th>xscore_bin_woe</th>\n",
       "      <td>NaN</td>\n",
       "      <td>NaN</td>\n",
       "    </tr>\n",
       "    <tr>\n",
       "      <th>xy_score_bin_woe</th>\n",
       "      <td>0.767493</td>\n",
       "      <td>2.0</td>\n",
       "    </tr>\n",
       "    <tr>\n",
       "      <th>ym_large_code_count</th>\n",
       "      <td>NaN</td>\n",
       "      <td>18.0</td>\n",
       "    </tr>\n",
       "    <tr>\n",
       "      <th>ym_large_score_bin_woe</th>\n",
       "      <td>0.418138</td>\n",
       "      <td>5.0</td>\n",
       "    </tr>\n",
       "    <tr>\n",
       "      <th>ym_small_code_count</th>\n",
       "      <td>0.034228</td>\n",
       "      <td>16.0</td>\n",
       "    </tr>\n",
       "    <tr>\n",
       "      <th>ym_small_score_bin_woe</th>\n",
       "      <td>0.205178</td>\n",
       "      <td>15.0</td>\n",
       "    </tr>\n",
       "  </tbody>\n",
       "</table>\n",
       "</div>"
      ],
      "text/plain": [
       "                                     LogisticRegression_feature_importances  \\\n",
       "KMeans_0_bin_woe                                                        NaN   \n",
       "KMeans_1_bin_woe                                                        NaN   \n",
       "KMeans_2_bin_woe                                                   0.528145   \n",
       "KMeans_3_bin_woe                                                        NaN   \n",
       "KMeans_4_bin_woe                                                        NaN   \n",
       "baidu_panshi_prea_score_bin_woe                                    0.321077   \n",
       "cn_gt_0_bin_woe                                                    0.523329   \n",
       "cn_gt_0_ratio_bin_woe                                              0.288196   \n",
       "coc_eq_0_bin_woe                                                   0.203654   \n",
       "coc_gt_0_bin_woe                                                   0.576050   \n",
       "coc_gt_0_ratio_bin_woe                                             0.540246   \n",
       "consumer_label_if_own_cc_count                                     0.084997   \n",
       "consumer_label_if_pay_ins_count                                         NaN   \n",
       "equipmentos_count                                                       NaN   \n",
       "fbi_score_bin_woe                                                       NaN   \n",
       "hds_score_bin_woe                                                  0.202480   \n",
       "i011_bin_woe                                                       0.445780   \n",
       "i013_bin_woe                                                            NaN   \n",
       "i031_bin_woe                                                       0.456744   \n",
       "individual_gender_count                                                 NaN   \n",
       "paydayloanlevelonechannelname_count                                0.154787   \n",
       "province_count                                                          NaN   \n",
       "user_gray_has_report_count                                              NaN   \n",
       "xscore_bin_woe                                                          NaN   \n",
       "xy_score_bin_woe                                                   0.767493   \n",
       "ym_large_code_count                                                     NaN   \n",
       "ym_large_score_bin_woe                                             0.418138   \n",
       "ym_small_code_count                                                0.034228   \n",
       "ym_small_score_bin_woe                                             0.205178   \n",
       "\n",
       "                                     LogisticRegression_ranking  \n",
       "KMeans_0_bin_woe                                           18.0  \n",
       "KMeans_1_bin_woe                                           18.0  \n",
       "KMeans_2_bin_woe                                            4.0  \n",
       "KMeans_3_bin_woe                                           18.0  \n",
       "KMeans_4_bin_woe                                           18.0  \n",
       "baidu_panshi_prea_score_bin_woe                             8.0  \n",
       "cn_gt_0_bin_woe                                            14.0  \n",
       "cn_gt_0_ratio_bin_woe                                      10.0  \n",
       "coc_eq_0_bin_woe                                           13.0  \n",
       "coc_gt_0_bin_woe                                           11.0  \n",
       "coc_gt_0_ratio_bin_woe                                      3.0  \n",
       "consumer_label_if_own_cc_count                              1.0  \n",
       "consumer_label_if_pay_ins_count                            18.0  \n",
       "equipmentos_count                                          18.0  \n",
       "fbi_score_bin_woe                                          18.0  \n",
       "hds_score_bin_woe                                          12.0  \n",
       "i011_bin_woe                                                7.0  \n",
       "i013_bin_woe                                               18.0  \n",
       "i031_bin_woe                                                9.0  \n",
       "individual_gender_count                                    18.0  \n",
       "paydayloanlevelonechannelname_count                         6.0  \n",
       "province_count                                             18.0  \n",
       "user_gray_has_report_count                                  NaN  \n",
       "xscore_bin_woe                                              NaN  \n",
       "xy_score_bin_woe                                            2.0  \n",
       "ym_large_code_count                                        18.0  \n",
       "ym_large_score_bin_woe                                      5.0  \n",
       "ym_small_code_count                                        16.0  \n",
       "ym_small_score_bin_woe                                     15.0  "
      ]
     },
     "execution_count": 15,
     "metadata": {},
     "output_type": "execute_result"
    }
   ],
   "source": [
    "report.SklearnFilter.LogisticRegression_support.sum()\n",
    "report.SklearnFilter[['LogisticRegression_feature_importances', 'LogisticRegression_ranking']]"
   ]
  },
  {
   "cell_type": "code",
   "execution_count": null,
   "metadata": {
    "ExecuteTime": {
     "end_time": "2018-11-28T10:45:14.164770Z",
     "start_time": "2018-11-28T10:42:39.243Z"
    }
   },
   "outputs": [],
   "source": [
    "report.SklearnFilter.LogisticRegression_support.sum()\n",
    "report.SklearnFilter.LogisticRegression_ranking"
   ]
  },
  {
   "cell_type": "code",
   "execution_count": 135,
   "metadata": {
    "ExecuteTime": {
     "end_time": "2018-11-28T08:53:48.647808Z",
     "start_time": "2018-11-28T08:53:48.643418Z"
    }
   },
   "outputs": [],
   "source": [
    "from sklearn.utils import safe_sqr"
   ]
  },
  {
   "cell_type": "code",
   "execution_count": 151,
   "metadata": {
    "ExecuteTime": {
     "end_time": "2018-11-28T08:57:29.796213Z",
     "start_time": "2018-11-28T08:57:29.779659Z"
    }
   },
   "outputs": [
    {
     "data": {
      "text/plain": [
       "array([[3, 1, 2, 5, 4]])"
      ]
     },
     "execution_count": 151,
     "metadata": {},
     "output_type": "execute_result"
    }
   ],
   "source": [
    "coefs = rfe.estimator_.coef_\n",
    "coefs = np.array([[3, 1, 2, 5, 4]])\n",
    "\n",
    "coefs"
   ]
  },
  {
   "cell_type": "code",
   "execution_count": 152,
   "metadata": {
    "ExecuteTime": {
     "end_time": "2018-11-28T08:57:30.942752Z",
     "start_time": "2018-11-28T08:57:30.930737Z"
    }
   },
   "outputs": [
    {
     "data": {
      "text/plain": [
       "2"
      ]
     },
     "execution_count": 152,
     "metadata": {},
     "output_type": "execute_result"
    }
   ],
   "source": [
    "coefs.ndim "
   ]
  },
  {
   "cell_type": "code",
   "execution_count": 153,
   "metadata": {
    "ExecuteTime": {
     "end_time": "2018-11-28T08:57:32.154456Z",
     "start_time": "2018-11-28T08:57:32.149396Z"
    }
   },
   "outputs": [],
   "source": [
    "if coefs.ndim > 1:\n",
    "    ranks = np.argsort(safe_sqr(coefs).sum(axis=0))\n",
    "else:\n",
    "    ranks = np.argsort(safe_sqr(coefs))"
   ]
  },
  {
   "cell_type": "code",
   "execution_count": 72,
   "metadata": {
    "ExecuteTime": {
     "end_time": "2018-11-28T10:42:02.742493Z",
     "start_time": "2018-11-28T10:42:02.730488Z"
    }
   },
   "outputs": [
    {
     "data": {
      "text/plain": [
       "pandas.core.frame.DataFrame"
      ]
     },
     "execution_count": 72,
     "metadata": {},
     "output_type": "execute_result"
    }
   ],
   "source": []
  },
  {
   "cell_type": "code",
   "execution_count": 155,
   "metadata": {
    "ExecuteTime": {
     "end_time": "2018-11-28T08:57:38.428416Z",
     "start_time": "2018-11-28T08:57:38.409225Z"
    }
   },
   "outputs": [
    {
     "data": {
      "text/plain": [
       "array([1, 2, 0, 4, 3])"
      ]
     },
     "execution_count": 155,
     "metadata": {},
     "output_type": "execute_result"
    },
    {
     "data": {
      "text/plain": [
       "array([[3, 1, 2, 5, 4]])"
      ]
     },
     "execution_count": 155,
     "metadata": {},
     "output_type": "execute_result"
    }
   ],
   "source": [
    "np.ravel(ranks)\n",
    "coefs"
   ]
  },
  {
   "cell_type": "code",
   "execution_count": 137,
   "metadata": {
    "ExecuteTime": {
     "end_time": "2018-11-28T08:54:05.783243Z",
     "start_time": "2018-11-28T08:54:05.765698Z"
    }
   },
   "outputs": [
    {
     "data": {
      "text/plain": [
       "array([1, 4, 9])"
      ]
     },
     "execution_count": 137,
     "metadata": {},
     "output_type": "execute_result"
    }
   ],
   "source": [
    "safe_sqr(coef)"
   ]
  },
  {
   "cell_type": "markdown",
   "metadata": {},
   "source": [
    "# ClusterBinEncoder - Test"
   ]
  },
  {
   "cell_type": "code",
   "execution_count": 5,
   "metadata": {
    "ExecuteTime": {
     "end_time": "2018-11-20T07:27:14.469130Z",
     "start_time": "2018-11-20T07:27:12.542774Z"
    }
   },
   "outputs": [
    {
     "data": {
      "text/plain": [
       "(14999, 63)"
      ]
     },
     "execution_count": 5,
     "metadata": {},
     "output_type": "execute_result"
    },
    {
     "data": {
      "text/html": [
       "<div>\n",
       "<style scoped>\n",
       "    .dataframe tbody tr th:only-of-type {\n",
       "        vertical-align: middle;\n",
       "    }\n",
       "\n",
       "    .dataframe tbody tr th {\n",
       "        vertical-align: top;\n",
       "    }\n",
       "\n",
       "    .dataframe thead th {\n",
       "        text-align: right;\n",
       "    }\n",
       "</style>\n",
       "<table border=\"1\" class=\"dataframe\">\n",
       "  <thead>\n",
       "    <tr style=\"text-align: right;\">\n",
       "      <th></th>\n",
       "      <th>apply_risk_id_2</th>\n",
       "      <th>individual_identity</th>\n",
       "      <th>paydayloanlevelonechannelname</th>\n",
       "      <th>individual_gender</th>\n",
       "      <th>individual_mobile</th>\n",
       "      <th>baidu_panshi_prea_score</th>\n",
       "      <th>cn_gt_0</th>\n",
       "      <th>cn_gt_0_ratio</th>\n",
       "      <th>coc_eq_0</th>\n",
       "      <th>coc_gt_0</th>\n",
       "      <th>...</th>\n",
       "      <th>xy_score</th>\n",
       "      <th>ym_large_code</th>\n",
       "      <th>ym_large_score</th>\n",
       "      <th>ym_small_code</th>\n",
       "      <th>ym_small_score</th>\n",
       "      <th>province</th>\n",
       "      <th>user_gray_has_report</th>\n",
       "      <th>1d</th>\n",
       "      <th>14d</th>\n",
       "      <th>apply_risk_created_at</th>\n",
       "    </tr>\n",
       "  </thead>\n",
       "  <tbody>\n",
       "    <tr>\n",
       "      <th>0</th>\n",
       "      <td>28762247</td>\n",
       "      <td>431129198807244811</td>\n",
       "      <td>垂直渠道</td>\n",
       "      <td>1</td>\n",
       "      <td>15581484959</td>\n",
       "      <td>NaN</td>\n",
       "      <td>NaN</td>\n",
       "      <td>NaN</td>\n",
       "      <td>NaN</td>\n",
       "      <td>NaN</td>\n",
       "      <td>...</td>\n",
       "      <td>NaN</td>\n",
       "      <td>code0</td>\n",
       "      <td>559.0</td>\n",
       "      <td>code0</td>\n",
       "      <td>406.0</td>\n",
       "      <td>湖南省</td>\n",
       "      <td>True</td>\n",
       "      <td>0</td>\n",
       "      <td>0</td>\n",
       "      <td>2018-03-01 17:47:39.0</td>\n",
       "    </tr>\n",
       "    <tr>\n",
       "      <th>1</th>\n",
       "      <td>28811909</td>\n",
       "      <td>510921198709290015</td>\n",
       "      <td>垂直渠道</td>\n",
       "      <td>1</td>\n",
       "      <td>15812783944</td>\n",
       "      <td>541.0</td>\n",
       "      <td>93.0</td>\n",
       "      <td>0.444976</td>\n",
       "      <td>49.0</td>\n",
       "      <td>160.0</td>\n",
       "      <td>...</td>\n",
       "      <td>0.205521</td>\n",
       "      <td>code0</td>\n",
       "      <td>649.0</td>\n",
       "      <td>code0</td>\n",
       "      <td>479.0</td>\n",
       "      <td>四川省</td>\n",
       "      <td>True</td>\n",
       "      <td>1</td>\n",
       "      <td>0</td>\n",
       "      <td>2018-03-03 00:34:43.0</td>\n",
       "    </tr>\n",
       "    <tr>\n",
       "      <th>2</th>\n",
       "      <td>28820305</td>\n",
       "      <td>412721198712262637</td>\n",
       "      <td>垂直渠道</td>\n",
       "      <td>1</td>\n",
       "      <td>15138254084</td>\n",
       "      <td>528.0</td>\n",
       "      <td>16.0</td>\n",
       "      <td>0.470588</td>\n",
       "      <td>7.0</td>\n",
       "      <td>27.0</td>\n",
       "      <td>...</td>\n",
       "      <td>NaN</td>\n",
       "      <td>code0</td>\n",
       "      <td>534.0</td>\n",
       "      <td>code0</td>\n",
       "      <td>453.0</td>\n",
       "      <td>河南省</td>\n",
       "      <td>True</td>\n",
       "      <td>1</td>\n",
       "      <td>0</td>\n",
       "      <td>2018-03-03 10:20:14.0</td>\n",
       "    </tr>\n",
       "    <tr>\n",
       "      <th>3</th>\n",
       "      <td>28832375</td>\n",
       "      <td>320325199804134231</td>\n",
       "      <td>APP_iOS</td>\n",
       "      <td>1</td>\n",
       "      <td>15966919652</td>\n",
       "      <td>514.0</td>\n",
       "      <td>77.0</td>\n",
       "      <td>0.083605</td>\n",
       "      <td>350.0</td>\n",
       "      <td>571.0</td>\n",
       "      <td>...</td>\n",
       "      <td>0.069139</td>\n",
       "      <td>code0</td>\n",
       "      <td>355.0</td>\n",
       "      <td>code0</td>\n",
       "      <td>453.0</td>\n",
       "      <td>江苏省</td>\n",
       "      <td>True</td>\n",
       "      <td>0</td>\n",
       "      <td>0</td>\n",
       "      <td>2018-03-03 15:15:45.0</td>\n",
       "    </tr>\n",
       "    <tr>\n",
       "      <th>4</th>\n",
       "      <td>28837776</td>\n",
       "      <td>632723199606010071</td>\n",
       "      <td>APP_iOS</td>\n",
       "      <td>1</td>\n",
       "      <td>17509766644</td>\n",
       "      <td>NaN</td>\n",
       "      <td>13.0</td>\n",
       "      <td>0.245283</td>\n",
       "      <td>35.0</td>\n",
       "      <td>18.0</td>\n",
       "      <td>...</td>\n",
       "      <td>0.098113</td>\n",
       "      <td>code108</td>\n",
       "      <td>NaN</td>\n",
       "      <td>code108</td>\n",
       "      <td>NaN</td>\n",
       "      <td>青海省</td>\n",
       "      <td>True</td>\n",
       "      <td>0</td>\n",
       "      <td>0</td>\n",
       "      <td>2018-03-03 17:37:27.0</td>\n",
       "    </tr>\n",
       "  </tbody>\n",
       "</table>\n",
       "<p>5 rows × 63 columns</p>\n",
       "</div>"
      ],
      "text/plain": [
       "  apply_risk_id_2 individual_identity paydayloanlevelonechannelname  \\\n",
       "0        28762247  431129198807244811                          垂直渠道   \n",
       "1        28811909  510921198709290015                          垂直渠道   \n",
       "2        28820305  412721198712262637                          垂直渠道   \n",
       "3        28832375  320325199804134231                       APP_iOS   \n",
       "4        28837776  632723199606010071                       APP_iOS   \n",
       "\n",
       "   individual_gender  individual_mobile  baidu_panshi_prea_score  cn_gt_0  \\\n",
       "0                  1        15581484959                      NaN      NaN   \n",
       "1                  1        15812783944                    541.0     93.0   \n",
       "2                  1        15138254084                    528.0     16.0   \n",
       "3                  1        15966919652                    514.0     77.0   \n",
       "4                  1        17509766644                      NaN     13.0   \n",
       "\n",
       "   cn_gt_0_ratio  coc_eq_0  coc_gt_0          ...            xy_score  \\\n",
       "0            NaN       NaN       NaN          ...                 NaN   \n",
       "1       0.444976      49.0     160.0          ...            0.205521   \n",
       "2       0.470588       7.0      27.0          ...                 NaN   \n",
       "3       0.083605     350.0     571.0          ...            0.069139   \n",
       "4       0.245283      35.0      18.0          ...            0.098113   \n",
       "\n",
       "   ym_large_code  ym_large_score  ym_small_code  ym_small_score  province  \\\n",
       "0          code0           559.0          code0           406.0       湖南省   \n",
       "1          code0           649.0          code0           479.0       四川省   \n",
       "2          code0           534.0          code0           453.0       河南省   \n",
       "3          code0           355.0          code0           453.0       江苏省   \n",
       "4        code108             NaN        code108             NaN       青海省   \n",
       "\n",
       "   user_gray_has_report  1d  14d  apply_risk_created_at  \n",
       "0                  True   0    0  2018-03-01 17:47:39.0  \n",
       "1                  True   1    0  2018-03-03 00:34:43.0  \n",
       "2                  True   1    0  2018-03-03 10:20:14.0  \n",
       "3                  True   0    0  2018-03-03 15:15:45.0  \n",
       "4                  True   0    0  2018-03-03 17:37:27.0  \n",
       "\n",
       "[5 rows x 63 columns]"
      ]
     },
     "execution_count": 5,
     "metadata": {},
     "output_type": "execute_result"
    }
   ],
   "source": [
    "# df2 = pd.read_csv('/Users/Chenson/Dropbox/KNJK/Data/mf_data_for_yfv2.csv')\n",
    "df2 = pd.read_pickle('mlearn/data/20181113_YF_v4_data.pkl')\n",
    "df2.shape\n",
    "df2.head()\n",
    "# df2.select_dtypes(include=['object']).head()"
   ]
  },
  {
   "cell_type": "code",
   "execution_count": 6,
   "metadata": {
    "ExecuteTime": {
     "end_time": "2018-11-20T07:27:14.868161Z",
     "start_time": "2018-11-20T07:27:14.472259Z"
    }
   },
   "outputs": [],
   "source": [
    "age_map = {1 : '10~20', 2 : '20~30', 3 : '30~40', 4 : '40~50', 5 : '50~60', 6 : '60~70'}\n",
    "df2['age'] = (pd.to_datetime(df2['apply_risk_created_at']) - pd.to_datetime(\n",
    "    df2['individual_identity'].str[6:14], format='%Y/%m/%d')).dt.days / 365\n",
    "df2['age'] = df2['age'].astype(int)\n",
    "df2['age_range'] = df2.age.map(lambda x : age_map.get(x // 10, '_ERROR_'))\n",
    "\n",
    "import random\n",
    "df2['01d'] = df2.age.map(lambda x : random.randint(0, 1)) "
   ]
  },
  {
   "cell_type": "code",
   "execution_count": 7,
   "metadata": {
    "ExecuteTime": {
     "end_time": "2018-11-20T07:27:14.901332Z",
     "start_time": "2018-11-20T07:27:14.871117Z"
    },
    "code_folding": [
     0
    ]
   },
   "outputs": [],
   "source": [
    "native_place = {'11': '北京市',\n",
    "                '12': '天津市',\n",
    "                '13': '河北省',\n",
    "                '14': '山西省',\n",
    "                '15': '内蒙古自治区',\n",
    "                '21': '辽宁省',\n",
    "                '22': '吉林省',\n",
    "                '23': '黑龙江省',\n",
    "                '31': '上海市',\n",
    "                '32': '江苏省',\n",
    "                '33': '浙江省',\n",
    "                '34': '安徽省',\n",
    "                '35': '福建省',\n",
    "                '36': '江西省',\n",
    "                '37': '山东省',\n",
    "                '41': '河南省',\n",
    "                '42': '湖北省',\n",
    "                '43': '湖南省',\n",
    "                '44': '广东省',\n",
    "                '45': '广西壮族自治区',\n",
    "                '46': '海南省',\n",
    "                '50': '重庆市',\n",
    "                '51': '四川省',\n",
    "                '52': '贵州省',\n",
    "                '53': '云南省',\n",
    "                '54': '西藏自治区',\n",
    "                '61': '陕西省',\n",
    "                '62': '甘肃省',\n",
    "                '63': '青海省',\n",
    "                '64': '宁夏回族自治区',\n",
    "                '65': '新疆维吾尔自治区',\n",
    "                '71': '台湾省',\n",
    "                '81': '香港特别行政区',\n",
    "                '91': '澳门特别行政区'}\n",
    "df2['province'] = df2.individual_identity.str[:2].map(lambda x : native_place.get(x))"
   ]
  },
  {
   "cell_type": "code",
   "execution_count": 8,
   "metadata": {
    "ExecuteTime": {
     "end_time": "2018-11-20T07:27:16.099628Z",
     "start_time": "2018-11-20T07:27:16.009721Z"
    }
   },
   "outputs": [
    {
     "data": {
      "text/plain": [
       "WOEEncoder(diff_thr=40, inplace=False, nan_thr=0.01, woe_max=20, woe_min=-20)"
      ]
     },
     "execution_count": 8,
     "metadata": {},
     "output_type": "execute_result"
    },
    {
     "data": {
      "text/html": [
       "<div>\n",
       "<style scoped>\n",
       "    .dataframe tbody tr th:only-of-type {\n",
       "        vertical-align: middle;\n",
       "    }\n",
       "\n",
       "    .dataframe tbody tr th {\n",
       "        vertical-align: top;\n",
       "    }\n",
       "\n",
       "    .dataframe thead th {\n",
       "        text-align: right;\n",
       "    }\n",
       "</style>\n",
       "<table border=\"1\" class=\"dataframe\">\n",
       "  <thead>\n",
       "    <tr style=\"text-align: right;\">\n",
       "      <th></th>\n",
       "      <th>province</th>\n",
       "    </tr>\n",
       "  </thead>\n",
       "  <tbody>\n",
       "    <tr>\n",
       "      <th>0</th>\n",
       "      <td>湖南省</td>\n",
       "    </tr>\n",
       "    <tr>\n",
       "      <th>1</th>\n",
       "      <td>四川省</td>\n",
       "    </tr>\n",
       "    <tr>\n",
       "      <th>2</th>\n",
       "      <td>河南省</td>\n",
       "    </tr>\n",
       "    <tr>\n",
       "      <th>3</th>\n",
       "      <td>江苏省</td>\n",
       "    </tr>\n",
       "    <tr>\n",
       "      <th>4</th>\n",
       "      <td>青海省</td>\n",
       "    </tr>\n",
       "  </tbody>\n",
       "</table>\n",
       "</div>"
      ],
      "text/plain": [
       "  province\n",
       "0      湖南省\n",
       "1      四川省\n",
       "2      河南省\n",
       "3      江苏省\n",
       "4      青海省"
      ]
     },
     "execution_count": 8,
     "metadata": {},
     "output_type": "execute_result"
    }
   ],
   "source": [
    "col_obj = ['first_level', 'age_range']\n",
    "col_obj = ['province']\n",
    "df_obj = df2[col_obj]\n",
    "\n",
    "woe_encoder = mlearn.service.transformer.WOEEncoder(inplace=False, diff_thr=40)\n",
    "woe_encoder.fit(df_obj, df2['01d'])\n",
    "df_obj.head()"
   ]
  },
  {
   "cell_type": "code",
   "execution_count": 9,
   "metadata": {
    "ExecuteTime": {
     "end_time": "2018-11-20T07:27:18.342793Z",
     "start_time": "2018-11-20T07:27:18.313303Z"
    }
   },
   "outputs": [
    {
     "data": {
      "text/html": [
       "<div>\n",
       "<style scoped>\n",
       "    .dataframe tbody tr th:only-of-type {\n",
       "        vertical-align: middle;\n",
       "    }\n",
       "\n",
       "    .dataframe tbody tr th {\n",
       "        vertical-align: top;\n",
       "    }\n",
       "\n",
       "    .dataframe thead th {\n",
       "        text-align: right;\n",
       "    }\n",
       "</style>\n",
       "<table border=\"1\" class=\"dataframe\">\n",
       "  <thead>\n",
       "    <tr style=\"text-align: right;\">\n",
       "      <th></th>\n",
       "      <th>province</th>\n",
       "      <th>province_woe</th>\n",
       "      <th>01d</th>\n",
       "    </tr>\n",
       "  </thead>\n",
       "  <tbody>\n",
       "    <tr>\n",
       "      <th>0</th>\n",
       "      <td>湖南省</td>\n",
       "      <td>0.069192</td>\n",
       "      <td>1</td>\n",
       "    </tr>\n",
       "    <tr>\n",
       "      <th>1</th>\n",
       "      <td>四川省</td>\n",
       "      <td>0.000888</td>\n",
       "      <td>0</td>\n",
       "    </tr>\n",
       "    <tr>\n",
       "      <th>2</th>\n",
       "      <td>河南省</td>\n",
       "      <td>0.013135</td>\n",
       "      <td>1</td>\n",
       "    </tr>\n",
       "    <tr>\n",
       "      <th>3</th>\n",
       "      <td>江苏省</td>\n",
       "      <td>0.046384</td>\n",
       "      <td>0</td>\n",
       "    </tr>\n",
       "    <tr>\n",
       "      <th>4</th>\n",
       "      <td>青海省</td>\n",
       "      <td>0.349131</td>\n",
       "      <td>1</td>\n",
       "    </tr>\n",
       "  </tbody>\n",
       "</table>\n",
       "</div>"
      ],
      "text/plain": [
       "  province  province_woe  01d\n",
       "0      湖南省      0.069192    1\n",
       "1      四川省      0.000888    0\n",
       "2      河南省      0.013135    1\n",
       "3      江苏省      0.046384    0\n",
       "4      青海省      0.349131    1"
      ]
     },
     "execution_count": 9,
     "metadata": {},
     "output_type": "execute_result"
    }
   ],
   "source": [
    "y = df2['01d']\n",
    "df_obj_woe2 = woe_encoder.transform(df_obj[col_obj])\n",
    "df_obj_woe2['01d'] = y\n",
    "df_obj_woe2.head()"
   ]
  },
  {
   "cell_type": "code",
   "execution_count": 12,
   "metadata": {
    "ExecuteTime": {
     "end_time": "2018-11-20T07:27:34.085795Z",
     "start_time": "2018-11-20T07:27:33.766200Z"
    }
   },
   "outputs": [
    {
     "name": "stderr",
     "output_type": "stream",
     "text": [
      "/Users/Chenson/Dropbox/Github/mlearn/mlearn/service/transformer/continous_encoding.py:168: SettingWithCopyWarning: \n",
      "A value is trying to be set on a copy of a slice from a DataFrame.\n",
      "Try using .loc[row_indexer,col_indexer] = value instead\n",
      "\n",
      "See the caveats in the documentation: http://pandas.pydata.org/pandas-docs/stable/indexing.html#indexing-view-versus-copy\n",
      "  df[c + '_woe'] = df[c].map(lambda x: self.map[c].get(x, nan_val))\n"
     ]
    },
    {
     "data": {
      "text/plain": [
       "ContBinningEncoder(binning_method='qcut', bins=10, diff_thr=0, inplace=False)"
      ]
     },
     "execution_count": 12,
     "metadata": {},
     "output_type": "execute_result"
    },
    {
     "data": {
      "text/html": [
       "<div>\n",
       "<style scoped>\n",
       "    .dataframe tbody tr th:only-of-type {\n",
       "        vertical-align: middle;\n",
       "    }\n",
       "\n",
       "    .dataframe tbody tr th {\n",
       "        vertical-align: top;\n",
       "    }\n",
       "\n",
       "    .dataframe thead th {\n",
       "        text-align: right;\n",
       "    }\n",
       "</style>\n",
       "<table border=\"1\" class=\"dataframe\">\n",
       "  <thead>\n",
       "    <tr style=\"text-align: right;\">\n",
       "      <th></th>\n",
       "      <th>paydayloanlevelonechannelname_woe</th>\n",
       "      <th>paydayloanlevelonechannelname_woe_bin</th>\n",
       "    </tr>\n",
       "  </thead>\n",
       "  <tbody>\n",
       "    <tr>\n",
       "      <th>0</th>\n",
       "      <td>0.036058</td>\n",
       "      <td>2</td>\n",
       "    </tr>\n",
       "    <tr>\n",
       "      <th>1</th>\n",
       "      <td>0.036058</td>\n",
       "      <td>2</td>\n",
       "    </tr>\n",
       "    <tr>\n",
       "      <th>2</th>\n",
       "      <td>0.036058</td>\n",
       "      <td>2</td>\n",
       "    </tr>\n",
       "    <tr>\n",
       "      <th>3</th>\n",
       "      <td>-0.101158</td>\n",
       "      <td>0</td>\n",
       "    </tr>\n",
       "    <tr>\n",
       "      <th>4</th>\n",
       "      <td>-0.101158</td>\n",
       "      <td>0</td>\n",
       "    </tr>\n",
       "  </tbody>\n",
       "</table>\n",
       "</div>"
      ],
      "text/plain": [
       "   paydayloanlevelonechannelname_woe  paydayloanlevelonechannelname_woe_bin\n",
       "0                           0.036058                                      2\n",
       "1                           0.036058                                      2\n",
       "2                           0.036058                                      2\n",
       "3                          -0.101158                                      0\n",
       "4                          -0.101158                                      0"
      ]
     },
     "execution_count": 12,
     "metadata": {},
     "output_type": "execute_result"
    }
   ],
   "source": [
    "col = 'paydayloanlevelonechannelname'\n",
    "# col = 'province'\n",
    "col_woe = col + '_woe'\n",
    "tmp = woe_encoder.fit_transform(df2[[col]], df2['01d'])\n",
    "\n",
    "cntbin_encoder = mlearn.service.transformer.ContBinningEncoder(diff_thr=0, bins=10, binning_method='qcut', inplace=False)\n",
    "cntbin_encoder.fit(tmp[[col_woe]], df2['01d'])\n",
    "cntbin_encoder.transform(tmp[[col_woe]]).head()"
   ]
  },
  {
   "cell_type": "code",
   "execution_count": 13,
   "metadata": {
    "ExecuteTime": {
     "end_time": "2018-11-20T07:27:38.982940Z",
     "start_time": "2018-11-20T07:27:38.936064Z"
    }
   },
   "outputs": [
    {
     "data": {
      "text/html": [
       "<div>\n",
       "<style scoped>\n",
       "    .dataframe tbody tr th:only-of-type {\n",
       "        vertical-align: middle;\n",
       "    }\n",
       "\n",
       "    .dataframe tbody tr th {\n",
       "        vertical-align: top;\n",
       "    }\n",
       "\n",
       "    .dataframe thead th {\n",
       "        text-align: right;\n",
       "    }\n",
       "</style>\n",
       "<table border=\"1\" class=\"dataframe\">\n",
       "  <thead>\n",
       "    <tr style=\"text-align: right;\">\n",
       "      <th></th>\n",
       "      <th>xscore</th>\n",
       "      <th>xscore_bin</th>\n",
       "    </tr>\n",
       "  </thead>\n",
       "  <tbody>\n",
       "    <tr>\n",
       "      <th>0</th>\n",
       "      <td>0.0</td>\n",
       "      <td>0</td>\n",
       "    </tr>\n",
       "    <tr>\n",
       "      <th>1</th>\n",
       "      <td>0.0</td>\n",
       "      <td>0</td>\n",
       "    </tr>\n",
       "    <tr>\n",
       "      <th>2</th>\n",
       "      <td>0.0</td>\n",
       "      <td>0</td>\n",
       "    </tr>\n",
       "    <tr>\n",
       "      <th>3</th>\n",
       "      <td>0.0</td>\n",
       "      <td>0</td>\n",
       "    </tr>\n",
       "    <tr>\n",
       "      <th>4</th>\n",
       "      <td>0.0</td>\n",
       "      <td>0</td>\n",
       "    </tr>\n",
       "  </tbody>\n",
       "</table>\n",
       "</div>"
      ],
      "text/plain": [
       "   xscore  xscore_bin\n",
       "0     0.0           0\n",
       "1     0.0           0\n",
       "2     0.0           0\n",
       "3     0.0           0\n",
       "4     0.0           0"
      ]
     },
     "execution_count": 13,
     "metadata": {},
     "output_type": "execute_result"
    }
   ],
   "source": [
    "cntbin_encoder = mlearn.service.transformer.ContBinningEncoder(diff_thr=10, bins=10, \n",
    "                                                               binning_method='qcut', inplace=False)\n",
    "\n",
    "cntbin_encoder.fit_transform(df2[['xscore']].fillna(0), df2['01d']).head()"
   ]
  },
  {
   "cell_type": "code",
   "execution_count": 1,
   "metadata": {
    "ExecuteTime": {
     "end_time": "2018-11-20T08:04:27.422504Z",
     "start_time": "2018-11-20T08:04:23.652923Z"
    }
   },
   "outputs": [
    {
     "ename": "NameError",
     "evalue": "name 'mlearn' is not defined",
     "output_type": "error",
     "traceback": [
      "\u001b[0;31m---------------------------------------------------------------------------\u001b[0m",
      "\u001b[0;31mNameError\u001b[0m                                 Traceback (most recent call last)",
      "\u001b[0;32m<ipython-input-1-cf2f462ec789>\u001b[0m in \u001b[0;36m<module>\u001b[0;34m()\u001b[0m\n\u001b[0;32m----> 1\u001b[0;31m cntbin_encoder = mlearn.service.transformer.ContBinningEncoder(diff_thr=200, bins=10, \n\u001b[0m\u001b[1;32m      2\u001b[0m                                                                binning_method='monot', inplace=False)\n\u001b[1;32m      3\u001b[0m \u001b[0mcntbin_encoder\u001b[0m\u001b[0;34m.\u001b[0m\u001b[0mfit_transform\u001b[0m\u001b[0;34m(\u001b[0m\u001b[0mtmp\u001b[0m\u001b[0;34m[\u001b[0m\u001b[0;34m[\u001b[0m\u001b[0;34m'paydayloanlevelonechannelname_woe'\u001b[0m\u001b[0;34m]\u001b[0m\u001b[0;34m]\u001b[0m\u001b[0;34m,\u001b[0m \u001b[0mdf2\u001b[0m\u001b[0;34m[\u001b[0m\u001b[0;34m'01d'\u001b[0m\u001b[0;34m]\u001b[0m\u001b[0;34m)\u001b[0m\u001b[0;34m.\u001b[0m\u001b[0mhead\u001b[0m\u001b[0;34m(\u001b[0m\u001b[0;34m)\u001b[0m\u001b[0;34m\u001b[0m\u001b[0m\n",
      "\u001b[0;31mNameError\u001b[0m: name 'mlearn' is not defined"
     ]
    }
   ],
   "source": [
    "cntbin_encoder = mlearn.service.transformer.ContBinningEncoder(diff_thr=200, bins=10, \n",
    "                                                               binning_method='monot', inplace=False)\n",
    "cntbin_encoder.fit_transform(tmp[['paydayloanlevelonechannelname_woe']], df2['01d']).head()"
   ]
  },
  {
   "cell_type": "code",
   "execution_count": 14,
   "metadata": {
    "ExecuteTime": {
     "end_time": "2018-11-20T07:27:48.553627Z",
     "start_time": "2018-11-20T07:27:48.545392Z"
    }
   },
   "outputs": [],
   "source": [
    "fea_be = mlearn.service.transformer.ClusterBinEncoder()\n",
    "fea_be.method = 'quct'\n",
    "fea_be.num_of_bins = 10"
   ]
  },
  {
   "cell_type": "code",
   "execution_count": 17,
   "metadata": {
    "ExecuteTime": {
     "end_time": "2018-11-20T07:28:57.280523Z",
     "start_time": "2018-11-20T07:28:57.004451Z"
    }
   },
   "outputs": [
    {
     "name": "stderr",
     "output_type": "stream",
     "text": [
      "/Users/Chenson/Dropbox/Github/mlearn/mlearn/service/transformer/continous_encoding.py:168: SettingWithCopyWarning: \n",
      "A value is trying to be set on a copy of a slice from a DataFrame.\n",
      "Try using .loc[row_indexer,col_indexer] = value instead\n",
      "\n",
      "See the caveats in the documentation: http://pandas.pydata.org/pandas-docs/stable/indexing.html#indexing-view-versus-copy\n",
      "  df[c + '_woe'] = df[c].map(lambda x: self.map[c].get(x, nan_val))\n"
     ]
    },
    {
     "data": {
      "text/html": [
       "<div>\n",
       "<style scoped>\n",
       "    .dataframe tbody tr th:only-of-type {\n",
       "        vertical-align: middle;\n",
       "    }\n",
       "\n",
       "    .dataframe tbody tr th {\n",
       "        vertical-align: top;\n",
       "    }\n",
       "\n",
       "    .dataframe thead th {\n",
       "        text-align: right;\n",
       "    }\n",
       "</style>\n",
       "<table border=\"1\" class=\"dataframe\">\n",
       "  <thead>\n",
       "    <tr style=\"text-align: right;\">\n",
       "      <th></th>\n",
       "      <th>paydayloanlevelonechannelname</th>\n",
       "      <th>paydayloanlevelonechannelname_cb_woe</th>\n",
       "    </tr>\n",
       "  </thead>\n",
       "  <tbody>\n",
       "    <tr>\n",
       "      <th>0</th>\n",
       "      <td>垂直渠道</td>\n",
       "      <td>0.035925</td>\n",
       "    </tr>\n",
       "    <tr>\n",
       "      <th>1</th>\n",
       "      <td>垂直渠道</td>\n",
       "      <td>0.035925</td>\n",
       "    </tr>\n",
       "    <tr>\n",
       "      <th>2</th>\n",
       "      <td>垂直渠道</td>\n",
       "      <td>0.035925</td>\n",
       "    </tr>\n",
       "    <tr>\n",
       "      <th>3</th>\n",
       "      <td>APP_iOS</td>\n",
       "      <td>-0.128904</td>\n",
       "    </tr>\n",
       "    <tr>\n",
       "      <th>4</th>\n",
       "      <td>APP_iOS</td>\n",
       "      <td>-0.128904</td>\n",
       "    </tr>\n",
       "    <tr>\n",
       "      <th>5</th>\n",
       "      <td>垂直渠道</td>\n",
       "      <td>0.035925</td>\n",
       "    </tr>\n",
       "    <tr>\n",
       "      <th>6</th>\n",
       "      <td>垂直渠道</td>\n",
       "      <td>0.035925</td>\n",
       "    </tr>\n",
       "    <tr>\n",
       "      <th>7</th>\n",
       "      <td>垂直渠道</td>\n",
       "      <td>0.035925</td>\n",
       "    </tr>\n",
       "    <tr>\n",
       "      <th>8</th>\n",
       "      <td>垂直渠道</td>\n",
       "      <td>0.035925</td>\n",
       "    </tr>\n",
       "    <tr>\n",
       "      <th>9</th>\n",
       "      <td>垂直渠道</td>\n",
       "      <td>0.035925</td>\n",
       "    </tr>\n",
       "    <tr>\n",
       "      <th>10</th>\n",
       "      <td>垂直渠道</td>\n",
       "      <td>0.035925</td>\n",
       "    </tr>\n",
       "    <tr>\n",
       "      <th>11</th>\n",
       "      <td>垂直渠道</td>\n",
       "      <td>0.035925</td>\n",
       "    </tr>\n",
       "    <tr>\n",
       "      <th>12</th>\n",
       "      <td>APP_Android</td>\n",
       "      <td>-0.000212</td>\n",
       "    </tr>\n",
       "    <tr>\n",
       "      <th>13</th>\n",
       "      <td>APP_iOS</td>\n",
       "      <td>-0.128904</td>\n",
       "    </tr>\n",
       "    <tr>\n",
       "      <th>14</th>\n",
       "      <td>APP_Android</td>\n",
       "      <td>-0.000212</td>\n",
       "    </tr>\n",
       "    <tr>\n",
       "      <th>15</th>\n",
       "      <td>APP_iOS</td>\n",
       "      <td>-0.128904</td>\n",
       "    </tr>\n",
       "    <tr>\n",
       "      <th>16</th>\n",
       "      <td>垂直渠道</td>\n",
       "      <td>0.035925</td>\n",
       "    </tr>\n",
       "    <tr>\n",
       "      <th>17</th>\n",
       "      <td>SEM</td>\n",
       "      <td>-0.128904</td>\n",
       "    </tr>\n",
       "    <tr>\n",
       "      <th>18</th>\n",
       "      <td>SEM</td>\n",
       "      <td>-0.128904</td>\n",
       "    </tr>\n",
       "    <tr>\n",
       "      <th>19</th>\n",
       "      <td>APP_iOS</td>\n",
       "      <td>-0.128904</td>\n",
       "    </tr>\n",
       "    <tr>\n",
       "      <th>20</th>\n",
       "      <td>垂直渠道</td>\n",
       "      <td>0.035925</td>\n",
       "    </tr>\n",
       "    <tr>\n",
       "      <th>21</th>\n",
       "      <td>垂直渠道</td>\n",
       "      <td>0.035925</td>\n",
       "    </tr>\n",
       "    <tr>\n",
       "      <th>22</th>\n",
       "      <td>SEM</td>\n",
       "      <td>-0.128904</td>\n",
       "    </tr>\n",
       "    <tr>\n",
       "      <th>23</th>\n",
       "      <td>APP_Android</td>\n",
       "      <td>-0.000212</td>\n",
       "    </tr>\n",
       "    <tr>\n",
       "      <th>24</th>\n",
       "      <td>APP_Android</td>\n",
       "      <td>-0.000212</td>\n",
       "    </tr>\n",
       "    <tr>\n",
       "      <th>25</th>\n",
       "      <td>APP_Android</td>\n",
       "      <td>-0.000212</td>\n",
       "    </tr>\n",
       "    <tr>\n",
       "      <th>26</th>\n",
       "      <td>垂直渠道</td>\n",
       "      <td>0.035925</td>\n",
       "    </tr>\n",
       "    <tr>\n",
       "      <th>27</th>\n",
       "      <td>垂直渠道</td>\n",
       "      <td>0.035925</td>\n",
       "    </tr>\n",
       "    <tr>\n",
       "      <th>28</th>\n",
       "      <td>垂直渠道</td>\n",
       "      <td>0.035925</td>\n",
       "    </tr>\n",
       "    <tr>\n",
       "      <th>29</th>\n",
       "      <td>APP_iOS</td>\n",
       "      <td>-0.128904</td>\n",
       "    </tr>\n",
       "    <tr>\n",
       "      <th>...</th>\n",
       "      <td>...</td>\n",
       "      <td>...</td>\n",
       "    </tr>\n",
       "    <tr>\n",
       "      <th>64983</th>\n",
       "      <td>垂直渠道</td>\n",
       "      <td>0.035925</td>\n",
       "    </tr>\n",
       "    <tr>\n",
       "      <th>64984</th>\n",
       "      <td>APP_Android</td>\n",
       "      <td>-0.000212</td>\n",
       "    </tr>\n",
       "    <tr>\n",
       "      <th>64985</th>\n",
       "      <td>垂直渠道</td>\n",
       "      <td>0.035925</td>\n",
       "    </tr>\n",
       "    <tr>\n",
       "      <th>64986</th>\n",
       "      <td>APP_Android</td>\n",
       "      <td>-0.000212</td>\n",
       "    </tr>\n",
       "    <tr>\n",
       "      <th>64987</th>\n",
       "      <td>垂直渠道</td>\n",
       "      <td>0.035925</td>\n",
       "    </tr>\n",
       "    <tr>\n",
       "      <th>64988</th>\n",
       "      <td>垂直渠道</td>\n",
       "      <td>0.035925</td>\n",
       "    </tr>\n",
       "    <tr>\n",
       "      <th>64989</th>\n",
       "      <td>垂直渠道</td>\n",
       "      <td>0.035925</td>\n",
       "    </tr>\n",
       "    <tr>\n",
       "      <th>64990</th>\n",
       "      <td>垂直渠道</td>\n",
       "      <td>0.035925</td>\n",
       "    </tr>\n",
       "    <tr>\n",
       "      <th>64991</th>\n",
       "      <td>垂直渠道</td>\n",
       "      <td>0.035925</td>\n",
       "    </tr>\n",
       "    <tr>\n",
       "      <th>64992</th>\n",
       "      <td>APP_Android</td>\n",
       "      <td>-0.000212</td>\n",
       "    </tr>\n",
       "    <tr>\n",
       "      <th>64993</th>\n",
       "      <td>垂直渠道</td>\n",
       "      <td>0.035925</td>\n",
       "    </tr>\n",
       "    <tr>\n",
       "      <th>64994</th>\n",
       "      <td>垂直渠道</td>\n",
       "      <td>0.035925</td>\n",
       "    </tr>\n",
       "    <tr>\n",
       "      <th>64995</th>\n",
       "      <td>APP_Android</td>\n",
       "      <td>-0.000212</td>\n",
       "    </tr>\n",
       "    <tr>\n",
       "      <th>64996</th>\n",
       "      <td>APP_Android</td>\n",
       "      <td>-0.000212</td>\n",
       "    </tr>\n",
       "    <tr>\n",
       "      <th>64997</th>\n",
       "      <td>垂直渠道</td>\n",
       "      <td>0.035925</td>\n",
       "    </tr>\n",
       "    <tr>\n",
       "      <th>64998</th>\n",
       "      <td>APP_Android</td>\n",
       "      <td>-0.000212</td>\n",
       "    </tr>\n",
       "    <tr>\n",
       "      <th>64999</th>\n",
       "      <td>垂直渠道</td>\n",
       "      <td>0.035925</td>\n",
       "    </tr>\n",
       "    <tr>\n",
       "      <th>65000</th>\n",
       "      <td>APP_Android</td>\n",
       "      <td>-0.000212</td>\n",
       "    </tr>\n",
       "    <tr>\n",
       "      <th>65001</th>\n",
       "      <td>APP_Android</td>\n",
       "      <td>-0.000212</td>\n",
       "    </tr>\n",
       "    <tr>\n",
       "      <th>65002</th>\n",
       "      <td>APP_Android</td>\n",
       "      <td>-0.000212</td>\n",
       "    </tr>\n",
       "    <tr>\n",
       "      <th>65003</th>\n",
       "      <td>垂直渠道</td>\n",
       "      <td>0.035925</td>\n",
       "    </tr>\n",
       "    <tr>\n",
       "      <th>65004</th>\n",
       "      <td>APP_Android</td>\n",
       "      <td>-0.000212</td>\n",
       "    </tr>\n",
       "    <tr>\n",
       "      <th>65005</th>\n",
       "      <td>垂直渠道</td>\n",
       "      <td>0.035925</td>\n",
       "    </tr>\n",
       "    <tr>\n",
       "      <th>65006</th>\n",
       "      <td>APP_Android</td>\n",
       "      <td>-0.000212</td>\n",
       "    </tr>\n",
       "    <tr>\n",
       "      <th>65007</th>\n",
       "      <td>垂直渠道</td>\n",
       "      <td>0.035925</td>\n",
       "    </tr>\n",
       "    <tr>\n",
       "      <th>65008</th>\n",
       "      <td>SEM</td>\n",
       "      <td>-0.128904</td>\n",
       "    </tr>\n",
       "    <tr>\n",
       "      <th>65009</th>\n",
       "      <td>APP_Android</td>\n",
       "      <td>-0.000212</td>\n",
       "    </tr>\n",
       "    <tr>\n",
       "      <th>65010</th>\n",
       "      <td>垂直渠道</td>\n",
       "      <td>0.035925</td>\n",
       "    </tr>\n",
       "    <tr>\n",
       "      <th>65011</th>\n",
       "      <td>垂直渠道</td>\n",
       "      <td>0.035925</td>\n",
       "    </tr>\n",
       "    <tr>\n",
       "      <th>65012</th>\n",
       "      <td>APP_iOS</td>\n",
       "      <td>-0.128904</td>\n",
       "    </tr>\n",
       "  </tbody>\n",
       "</table>\n",
       "<p>14999 rows × 2 columns</p>\n",
       "</div>"
      ],
      "text/plain": [
       "      paydayloanlevelonechannelname  paydayloanlevelonechannelname_cb_woe\n",
       "0                              垂直渠道                              0.035925\n",
       "1                              垂直渠道                              0.035925\n",
       "2                              垂直渠道                              0.035925\n",
       "3                           APP_iOS                             -0.128904\n",
       "4                           APP_iOS                             -0.128904\n",
       "5                              垂直渠道                              0.035925\n",
       "6                              垂直渠道                              0.035925\n",
       "7                              垂直渠道                              0.035925\n",
       "8                              垂直渠道                              0.035925\n",
       "9                              垂直渠道                              0.035925\n",
       "10                             垂直渠道                              0.035925\n",
       "11                             垂直渠道                              0.035925\n",
       "12                      APP_Android                             -0.000212\n",
       "13                          APP_iOS                             -0.128904\n",
       "14                      APP_Android                             -0.000212\n",
       "15                          APP_iOS                             -0.128904\n",
       "16                             垂直渠道                              0.035925\n",
       "17                              SEM                             -0.128904\n",
       "18                              SEM                             -0.128904\n",
       "19                          APP_iOS                             -0.128904\n",
       "20                             垂直渠道                              0.035925\n",
       "21                             垂直渠道                              0.035925\n",
       "22                              SEM                             -0.128904\n",
       "23                      APP_Android                             -0.000212\n",
       "24                      APP_Android                             -0.000212\n",
       "25                      APP_Android                             -0.000212\n",
       "26                             垂直渠道                              0.035925\n",
       "27                             垂直渠道                              0.035925\n",
       "28                             垂直渠道                              0.035925\n",
       "29                          APP_iOS                             -0.128904\n",
       "...                             ...                                   ...\n",
       "64983                          垂直渠道                              0.035925\n",
       "64984                   APP_Android                             -0.000212\n",
       "64985                          垂直渠道                              0.035925\n",
       "64986                   APP_Android                             -0.000212\n",
       "64987                          垂直渠道                              0.035925\n",
       "64988                          垂直渠道                              0.035925\n",
       "64989                          垂直渠道                              0.035925\n",
       "64990                          垂直渠道                              0.035925\n",
       "64991                          垂直渠道                              0.035925\n",
       "64992                   APP_Android                             -0.000212\n",
       "64993                          垂直渠道                              0.035925\n",
       "64994                          垂直渠道                              0.035925\n",
       "64995                   APP_Android                             -0.000212\n",
       "64996                   APP_Android                             -0.000212\n",
       "64997                          垂直渠道                              0.035925\n",
       "64998                   APP_Android                             -0.000212\n",
       "64999                          垂直渠道                              0.035925\n",
       "65000                   APP_Android                             -0.000212\n",
       "65001                   APP_Android                             -0.000212\n",
       "65002                   APP_Android                             -0.000212\n",
       "65003                          垂直渠道                              0.035925\n",
       "65004                   APP_Android                             -0.000212\n",
       "65005                          垂直渠道                              0.035925\n",
       "65006                   APP_Android                             -0.000212\n",
       "65007                          垂直渠道                              0.035925\n",
       "65008                           SEM                             -0.128904\n",
       "65009                   APP_Android                             -0.000212\n",
       "65010                          垂直渠道                              0.035925\n",
       "65011                          垂直渠道                              0.035925\n",
       "65012                       APP_iOS                             -0.128904\n",
       "\n",
       "[14999 rows x 2 columns]"
      ]
     },
     "execution_count": 17,
     "metadata": {},
     "output_type": "execute_result"
    }
   ],
   "source": [
    "fea_be.fit(df2[['paydayloanlevelonechannelname']], df2['01d'])\n",
    "fea_be.transform(df2[['paydayloanlevelonechannelname']])"
   ]
  },
  {
   "cell_type": "code",
   "execution_count": 13,
   "metadata": {
    "ExecuteTime": {
     "end_time": "2018-11-20T07:05:39.473479Z",
     "start_time": "2018-11-20T07:05:38.755047Z"
    }
   },
   "outputs": [
    {
     "name": "stderr",
     "output_type": "stream",
     "text": [
      "/Users/Chenson/Dropbox/Github/mlearn/mlearn/service/transformer/continous_encoding.py:168: SettingWithCopyWarning: \n",
      "A value is trying to be set on a copy of a slice from a DataFrame.\n",
      "Try using .loc[row_indexer,col_indexer] = value instead\n",
      "\n",
      "See the caveats in the documentation: http://pandas.pydata.org/pandas-docs/stable/indexing.html#indexing-view-versus-copy\n",
      "  df[c + '_woe'] = df[c].map(lambda x: self.map[c].get(x, nan_val))\n"
     ]
    },
    {
     "data": {
      "text/html": [
       "<div>\n",
       "<style scoped>\n",
       "    .dataframe tbody tr th:only-of-type {\n",
       "        vertical-align: middle;\n",
       "    }\n",
       "\n",
       "    .dataframe tbody tr th {\n",
       "        vertical-align: top;\n",
       "    }\n",
       "\n",
       "    .dataframe thead th {\n",
       "        text-align: right;\n",
       "    }\n",
       "</style>\n",
       "<table border=\"1\" class=\"dataframe\">\n",
       "  <thead>\n",
       "    <tr style=\"text-align: right;\">\n",
       "      <th></th>\n",
       "      <th>province</th>\n",
       "      <th>province_cb_woe</th>\n",
       "      <th>01d</th>\n",
       "    </tr>\n",
       "  </thead>\n",
       "  <tbody>\n",
       "    <tr>\n",
       "      <th>0</th>\n",
       "      <td>湖南省</td>\n",
       "      <td>0.028452</td>\n",
       "      <td>1</td>\n",
       "    </tr>\n",
       "    <tr>\n",
       "      <th>1</th>\n",
       "      <td>四川省</td>\n",
       "      <td>-0.094626</td>\n",
       "      <td>0</td>\n",
       "    </tr>\n",
       "    <tr>\n",
       "      <th>2</th>\n",
       "      <td>河南省</td>\n",
       "      <td>-0.020698</td>\n",
       "      <td>1</td>\n",
       "    </tr>\n",
       "    <tr>\n",
       "      <th>3</th>\n",
       "      <td>江苏省</td>\n",
       "      <td>-0.020698</td>\n",
       "      <td>0</td>\n",
       "    </tr>\n",
       "    <tr>\n",
       "      <th>4</th>\n",
       "      <td>青海省</td>\n",
       "      <td>0.148877</td>\n",
       "      <td>0</td>\n",
       "    </tr>\n",
       "  </tbody>\n",
       "</table>\n",
       "</div>"
      ],
      "text/plain": [
       "  province  province_cb_woe  01d\n",
       "0      湖南省         0.028452    1\n",
       "1      四川省        -0.094626    0\n",
       "2      河南省        -0.020698    1\n",
       "3      江苏省        -0.020698    0\n",
       "4      青海省         0.148877    0"
      ]
     },
     "execution_count": 13,
     "metadata": {},
     "output_type": "execute_result"
    }
   ],
   "source": [
    "# cp = BinEncoder.get_cut_points_by_monotonic(df_obj_woe2['province_woe'], df_obj_woe2['01d'])\n",
    "fea_be = mlearn.service.transformer.ClusterBinEncoder()\n",
    "fea_be.method = 'monotonic'\n",
    "fea_be.num_of_bins = 10\n",
    "fea_be.fit(df_obj_woe2[['province']], df_obj_woe2['01d'])\n",
    "X_tmp = fea_be.transform(df_obj_woe2[['province']])\n",
    "X_tmp['01d'] = df_obj_woe2['01d']\n",
    "X_tmp.head()"
   ]
  },
  {
   "cell_type": "code",
   "execution_count": 11,
   "metadata": {
    "ExecuteTime": {
     "end_time": "2018-11-13T10:56:07.470235Z",
     "start_time": "2018-11-13T10:56:07.460712Z"
    }
   },
   "outputs": [
    {
     "data": {
      "text/plain": [
       "province_cb_woe\n",
       "-0.095089    0.478707\n",
       "-0.039571    0.492574\n",
       "-0.022745    0.496780\n",
       "-0.009866    0.500000\n",
       " 0.026836    0.509174\n",
       " 0.042800    0.513163\n",
       " 0.056890    0.516683\n",
       " 0.146365    0.538978\n",
       "Name: 01d, dtype: float64"
      ]
     },
     "execution_count": 11,
     "metadata": {},
     "output_type": "execute_result"
    }
   ],
   "source": [
    "X_tmp.groupby('province_cb_woe')['01d'].mean()"
   ]
  },
  {
   "cell_type": "markdown",
   "metadata": {},
   "source": [
    "# BIN-Encoder"
   ]
  },
  {
   "cell_type": "code",
   "execution_count": 189,
   "metadata": {
    "ExecuteTime": {
     "end_time": "2018-11-13T05:29:34.091152Z",
     "start_time": "2018-11-13T05:29:34.044135Z"
    },
    "code_folding": [
     257,
     287,
     313,
     328,
     340
    ]
   },
   "outputs": [],
   "source": [
    "import pandas as pd\n",
    "import numpy as np\n",
    "import re\n",
    "import math\n",
    "import hashlib\n",
    "import json\n",
    "from sklearn.utils.multiclass import type_of_target\n",
    "from sklearn import tree\n",
    "from sklearn.linear_model.logistic import LogisticRegression\n",
    "from sklearn.linear_model import LinearRegression\n",
    "from sklearn.tree import DecisionTreeClassifier\n",
    "from sklearn.feature_selection import f_regression\n",
    "from scipy import stats\n",
    "from sklearn.utils.multiclass import type_of_target\n",
    "\n",
    "import random\n",
    "from math import *\n",
    "import statsmodels.api as sm\n",
    "import statsmodels.stats.api as sms\n",
    "import statsmodels.formula.api as smf\n",
    "\n",
    "import traceback\n",
    "\n",
    "# from utils_woe import WOE\n",
    "# import utils.utils_model_monitor as umm\n",
    "\n",
    "\n",
    "class WOE:\n",
    "    def __init__(self):\n",
    "        self._WOE_MIN = -20\n",
    "        self._WOE_MAX = 20\n",
    "\n",
    "    def woe(self, X, y, event=1):\n",
    "        '''\n",
    "        Calculate woe of each feature category and information value\n",
    "        :param X: 2-D numpy array explanatory features which should be discreted already\n",
    "        :param y: 1-D numpy array target variable which should be binary\n",
    "        :param event: value of binary stands for the event to predict\n",
    "        :return: numpy array of woe dictionaries, each dictionary contains woe values for categories of each feature\n",
    "                 numpy array of information value of each feature\n",
    "        '''\n",
    "        self.check_target_binary(y)\n",
    "        X1 = self.feature_discretion(X)\n",
    "\n",
    "        res_woe = []\n",
    "        res_iv = []\n",
    "        for i in range(0, X1.shape[-1]):\n",
    "            x = X1[:, i]\n",
    "            woe_dict, iv1 = self.woe_single_x(x, y, event)\n",
    "            res_woe.append(woe_dict)\n",
    "            res_iv.append(iv1)\n",
    "        return np.array(res_woe), np.array(res_iv)\n",
    "\n",
    "    def woe_single_x(self, x, y, event=1):\n",
    "        '''\n",
    "        calculate woe and information for a single feature\n",
    "        :param x: 1-D numpy starnds for single feature\n",
    "        :param y: 1-D numpy array target variable\n",
    "        :param event: value of binary stands for the event to predict\n",
    "        :return: dictionary contains woe values for categories of this feature\n",
    "                 information value of this feature\n",
    "        '''\n",
    "        self.check_target_binary(y)\n",
    "\n",
    "        event_total, non_event_total = self.count_binary(y, event=event)\n",
    "        x_labels = pd.Categorical(x).categories.values\n",
    "        woe_dict = {}\n",
    "        iv = 0\n",
    "        for x1 in x_labels:\n",
    "            y1 = y[np.where(x == x1)[0]]\n",
    "            event_count, non_event_count = self.count_binary(y1, event=event)\n",
    "            rate_event = 1.0 * event_count / event_total\n",
    "            rate_non_event = 1.0 * non_event_count / non_event_total\n",
    "            if rate_event == 0:\n",
    "                woe1 = self._WOE_MIN\n",
    "            elif rate_non_event == 0:\n",
    "                woe1 = self._WOE_MAX\n",
    "            else:\n",
    "                woe1 = math.log(rate_event / rate_non_event)\n",
    "            woe_dict[x1] = woe1\n",
    "            iv += (rate_event - rate_non_event) * woe1\n",
    "        return woe_dict, iv\n",
    "\n",
    "    def woe_replace(self, X, woe_arr):\n",
    "        '''\n",
    "        replace the explanatory feature categories with its woe value\n",
    "        :param X: 2-D numpy array explanatory features which should be discreted already\n",
    "        :param woe_arr: numpy array of woe dictionaries, each dictionary contains woe values for categories of each feature\n",
    "        :return: the new numpy array in which woe values filled\n",
    "        '''\n",
    "        if X.shape[-1] != woe_arr.shape[-1]:\n",
    "            raise ValueError(\n",
    "                'WOE dict array length must be equal with features length')\n",
    "\n",
    "        res = np.copy(X).astype(float)\n",
    "        idx = 0\n",
    "        for woe_dict in woe_arr:\n",
    "            for k in woe_dict.keys():\n",
    "                woe = woe_dict[k]\n",
    "                res[:, idx][np.where(res[:, idx] == k)[0]] = woe * 1.0\n",
    "            idx += 1\n",
    "\n",
    "        return res\n",
    "\n",
    "    def combined_iv(self, X, y, masks, event=1):\n",
    "        '''\n",
    "        calcute the information vlaue of combination features\n",
    "        :param X: 2-D numpy array explanatory features which should be discreted already\n",
    "        :param y: 1-D numpy array target variable\n",
    "        :param masks: 1-D numpy array of masks stands for which features are included in combination,\n",
    "                      e.g. np.array([0,0,1,1,1,0,0,0,0,0,1]), the length should be same as features length\n",
    "        :param event: value of binary stands for the event to predict\n",
    "        :return: woe dictionary and information value of combined features\n",
    "        '''\n",
    "        if masks.shape[-1] != X.shape[-1]:\n",
    "            raise ValueError(\n",
    "                'Masks array length must be equal with features length')\n",
    "\n",
    "        x = X[:, np.where(masks == 1)[0]]\n",
    "        tmp = []\n",
    "        for i in range(x.shape[0]):\n",
    "            tmp.append(self.combine(x[i, :]))\n",
    "\n",
    "        dumy = np.array(tmp)\n",
    "        # dumy_labels = np.unique(dumy)\n",
    "        woe, iv = self.woe_single_x(dumy, y, event)\n",
    "        return woe, iv\n",
    "\n",
    "    def combine(self, list):\n",
    "        res = ''\n",
    "        for item in list:\n",
    "            res += str(item)\n",
    "        return res\n",
    "\n",
    "    def count_binary(self, a, event=1):\n",
    "        event_count = (a == event).sum()\n",
    "        non_event_count = a.shape[-1] - event_count\n",
    "        return event_count, non_event_count\n",
    "\n",
    "    def check_target_binary(self, y):\n",
    "        '''\n",
    "        check if the target variable is binary, raise error if not.\n",
    "        :param y:\n",
    "        :return:\n",
    "        '''\n",
    "        y_type = type_of_target(y)\n",
    "        if y_type not in ['binary']:\n",
    "            raise ValueError('Label type must be binary')\n",
    "\n",
    "    def feature_discretion(self, X):\n",
    "        '''\n",
    "        Discrete the continuous features of input data X, and keep other features unchanged.\n",
    "        :param X : numpy array\n",
    "        :return: the numpy array in which all continuous features are discreted\n",
    "        '''\n",
    "        temp = []\n",
    "        for i in range(0, X.shape[-1]):\n",
    "            x = X[:, i]\n",
    "            x_type = type_of_target(x)\n",
    "            if x_type == 'continuous':\n",
    "                x1 = self.discrete(x)\n",
    "                temp.append(x1)\n",
    "            else:\n",
    "                temp.append(x)\n",
    "        return np.array(temp).T\n",
    "\n",
    "    def discrete(self, x):\n",
    "        '''\n",
    "        Discrete the input 1-D numpy array using 5 equal percentiles\n",
    "        :param x: 1-D numpy array\n",
    "        :return: discreted 1-D numpy array\n",
    "        '''\n",
    "        res = np.array([0] * x.shape[-1], dtype=int)\n",
    "        for i in range(5):\n",
    "            point1 = stats.scoreatpercentile(x, i * 20)\n",
    "            point2 = stats.scoreatpercentile(x, (i + 1) * 20)\n",
    "            x1 = x[np.where((x >= point1) & (x <= point2))]\n",
    "            mask = np.in1d(x, x1)\n",
    "            res[mask] = (i + 1)\n",
    "        return res\n",
    "\n",
    "    @property\n",
    "    def WOE_MIN(self):\n",
    "        return self._WOE_MIN\n",
    "\n",
    "    @WOE_MIN.setter\n",
    "    def WOE_MIN(self, woe_min):\n",
    "        self._WOE_MIN = woe_min\n",
    "\n",
    "    @property\n",
    "    def WOE_MAX(self):\n",
    "        return self._WOE_MAX\n",
    "\n",
    "    @WOE_MAX.setter\n",
    "    def WOE_MAX(self, woe_max):\n",
    "        self._WOE_MAX = woe_max\n",
    "\n",
    "        \n",
    "from collections import defaultdict\n",
    "class BinEncoder(WOE):\n",
    "    def __init__(self, method='tree', num_of_bins=10, precision=4, inplace=True, include_inf=True):\n",
    "        self.RANDOM_STATE = 42\n",
    "        self._WOE_MIN = -20\n",
    "        self._WOE_MAX = 20\n",
    "        self.bin_map = defaultdict(dict)\n",
    "        self.method = method\n",
    "        self.num_of_bins = 10\n",
    "        self.precision = precision\n",
    "        self.inplace = inplace\n",
    "        self.include_inf = True\n",
    "\n",
    "    def fit(self, X, y=None):\n",
    "        \"\"\"\n",
    "        TODO: check type of y\n",
    "        \"\"\"\n",
    "        self.bin_map = defaultdict(dict)\n",
    "        self.columns = X.columns.tolist()\n",
    "        for col in self.columns:\n",
    "            x = X[col]\n",
    "            if self.method == 'tree':\n",
    "                if y is None:\n",
    "                    raise ValueError(f'Unexpected data type(None) are found in y!')\n",
    "                else:\n",
    "                    cut_points = self.get_cut_points_by_tree(x, y)\n",
    "            elif self.method == 'monotonic':\n",
    "                if y is None:\n",
    "                    raise ValueError(f'Unexpected data type(None) are found in y!')\n",
    "                else:\n",
    "                    cut_points = self.get_cut_points_by_monotonic(x, y, num_of_bins=self.num_of_bins)\n",
    "            elif self.method == 'freq':\n",
    "                cut_points = self.get_cut_points_by_freq(x, num_of_bins=self.num_of_bins, precision=self.precision)\n",
    "\n",
    "            elif self.method == 'interval':\n",
    "                cut_points = self.get_cut_points_by_interval(x, num_of_bins=self.num_of_bins, precision=self.precision)\n",
    "            else:\n",
    "                raise ValueError(f'Unexpected method {self.method} are found!')\n",
    "            if self.include_inf:\n",
    "                cut_points = [-np.inf] + cut_points[1:-1] + [np.inf]\n",
    "            self.bin_map[col]['cut_points'] = cut_points\n",
    "            self.bin_map[col]['labels'] = np.arange(1, len(cut_points))\n",
    "            \n",
    "    \n",
    "    def transform(self, X):\n",
    "        if X.columns.tolist() != self.columns:\n",
    "            cols = [col for col in self.columns if col not in X.columns]\n",
    "            raise ValueError(f'Unexpected columns {c} are found!')\n",
    "        \n",
    "        X_copy = X.copy()\n",
    "        for col in self.columns:\n",
    "            x = X[col]\n",
    "            X_copy[col + '_bin'] = pd.cut(X[col], bins=self.bin_map[col]['cut_points'], labels=self.bin_map[col]['labels'])\n",
    "            if self.inplace:\n",
    "                del X_copy[col]\n",
    "        return X_copy\n",
    "            \n",
    "    \n",
    "    \n",
    "    def bins(self, x, y=None, method='tree', num_of_bins=10, cut_points=None, precision=4):\n",
    "        if cut_points == None:\n",
    "            if method == 'tree':\n",
    "                cut_points = self.get_cut_points_by_tree(x, y)\n",
    "\n",
    "            elif method == 'monotonic':\n",
    "                cut_points = self.get_cut_points_by_monotonic(\n",
    "                    x, y, num_of_bins=num_of_bins)\n",
    "\n",
    "            elif method == 'freq':\n",
    "                cut_points = self.get_cut_points_by_freq(\n",
    "                    x, num_of_bins=num_of_bins, precision=precision)\n",
    "\n",
    "            elif method == 'interval':\n",
    "                cut_points = self.get_cut_points_by_interval(\n",
    "                    x, num_of_bins=num_of_bins, precision=precision)\n",
    "\n",
    "            else:\n",
    "                raise ValueError('INFO : method must be in (tree, freq, interval, monotonic).')\n",
    "\n",
    "            # print('cut_points1 :', cut_points)\n",
    "            cut_points = [-np.inf] + cut_points[1:-1] + [np.inf]\n",
    "            # print('cut_points2 :', cut_points)\n",
    "\n",
    "        df = pd.DataFrame({'x': x,\n",
    "                           'y': y,\n",
    "                           'bucket': pd.cut(x, cut_points, include_lowest=True, precision=precision)})\n",
    "        return df[['x', 'y', 'bucket']]\n",
    "\n",
    "    @staticmethod\n",
    "    def get_cut_points_by_tree(x, y, criterion='gini', max_depth=3, min_samples_leaf=0.01, max_leaf_nodes=None, random_state=2018):\n",
    "        x, y = pd.Series(x), pd.Series(y)\n",
    "        x_notnull = x[pd.notnull(x)]\n",
    "        y_notnull = y[pd.notnull(x)]\n",
    "        if type_of_target(y) == 'binary':\n",
    "            clf = DecisionTreeClassifier(\n",
    "                # criterion=criterion,\n",
    "                max_depth=max_depth,\n",
    "                min_samples_leaf=min_samples_leaf,\n",
    "                max_leaf_nodes=max_leaf_nodes,\n",
    "                random_state=random_state)\n",
    "        else:\n",
    "            clf = DecisionTreeRegressor(\n",
    "                # criterion=criterion,\n",
    "                max_depth=max_depth,\n",
    "                min_samples_leaf=min_samples_leaf,\n",
    "                max_leaf_nodes=max_leaf_nodes,\n",
    "                random_state=random_state)\n",
    "\n",
    "        clf.fit(np.array(x_notnull).reshape(-1, 1), np.array(y_notnull))\n",
    "        th = clf.tree_.threshold\n",
    "        fea = clf.tree_.feature\n",
    "        cp = [x.min()] + sorted(th[np.where(fea != -2)]) + [x.max()] # -2 代表的是对于没有参与分裂的节点\n",
    "        return sorted(set(cp)) \n",
    "    \n",
    "    @staticmethod\n",
    "    def get_cut_points_by_monotonic(x, y, num_of_bins=10):\n",
    "        x, y = pd.Series(x), pd.Series(y)\n",
    "        x_notnull = x[pd.notnull(x)]\n",
    "        y_notnull = y[pd.notnull(x)]\n",
    "        r = 0\n",
    "        while np.abs(r) < 1:\n",
    "            d1 = pd.DataFrame({\"x\": x_notnull, \"y\": y_notnull,\n",
    "                               \"Bucket\": pd.qcut(x_notnull, num_of_bins, duplicates='drop')})\n",
    "            d2 = d1.groupby('Bucket', as_index=True)\n",
    "            r, p = stats.spearmanr(d2['x'].mean(), d2['y'].mean())\n",
    "            num_of_bins -= 1\n",
    "\n",
    "        return d2['x'].min().tolist()[:1] + d2['x'].max().tolist()\n",
    "\n",
    "    @staticmethod\n",
    "    def get_cut_points_by_freq(x, num_of_bins=10, precision=4):\n",
    "        cp = pd.qcut(x, q=num_of_bins, retbins=True, precision=precision, duplicates='drop')[1]\n",
    "        return cp.tolist()\n",
    "#         x = pd.Series(x)\n",
    "#         x = x[pd.notnull(x)]\n",
    "#         interval = 100 / num_of_bins\n",
    "#         cp = sorted(set(np.percentile(x,  i * interval)\n",
    "#                         for i in range(num_of_bins + 1)))\n",
    "#         cp = np.round(cp, precision).tolist()\n",
    "#         return sorted(set(cp))\n",
    "\n",
    "    @staticmethod\n",
    "    def get_cut_points_by_interval(x, num_of_bins=10, precision=4):\n",
    "        cp = pd.cut(x, num_of_bins, retbins=True, precision=precision)[1]\n",
    "        return np.round(cp, precision).tolist()"
   ]
  },
  {
   "cell_type": "code",
   "execution_count": 21,
   "metadata": {
    "ExecuteTime": {
     "end_time": "2018-11-13T08:48:09.303295Z",
     "start_time": "2018-11-13T08:48:09.286802Z"
    }
   },
   "outputs": [
    {
     "data": {
      "text/plain": [
       "[-inf, 355.0, 410.0, 465.0, 520.0, 575.0, 630.0, 685.0, 740.0, 795.0, inf]"
      ]
     },
     "execution_count": 21,
     "metadata": {},
     "output_type": "execute_result"
    }
   ],
   "source": [
    "mlearn.service.transformer.get_cut_points(df2['kx_score'], df2['01d'], binning_method='cut')"
   ]
  },
  {
   "cell_type": "code",
   "execution_count": 22,
   "metadata": {
    "ExecuteTime": {
     "end_time": "2018-11-13T08:48:16.033039Z",
     "start_time": "2018-11-13T08:48:16.016907Z"
    }
   },
   "outputs": [
    {
     "data": {
      "text/plain": [
       "[-inf, 416.0, 452.0, 479.0, 503.0, 525.0, 550.0, 579.0, 615.0, 671.0, inf]"
      ]
     },
     "execution_count": 22,
     "metadata": {},
     "output_type": "execute_result"
    }
   ],
   "source": [
    "mlearn.service.transformer.get_cut_points(df2['kx_score'], df2['01d'], binning_method='qcut')"
   ]
  },
  {
   "cell_type": "code",
   "execution_count": 23,
   "metadata": {
    "ExecuteTime": {
     "end_time": "2018-11-13T08:48:24.090135Z",
     "start_time": "2018-11-13T08:48:23.978998Z"
    }
   },
   "outputs": [
    {
     "data": {
      "text/plain": [
       "[-inf, 489.0, 570.0, inf]"
      ]
     },
     "execution_count": 23,
     "metadata": {},
     "output_type": "execute_result"
    }
   ],
   "source": [
    "mlearn.service.transformer.get_cut_points(df2['kx_score'], df2['01d'], binning_method='monot')"
   ]
  },
  {
   "cell_type": "code",
   "execution_count": 131,
   "metadata": {
    "ExecuteTime": {
     "end_time": "2018-11-13T09:55:36.771261Z",
     "start_time": "2018-11-13T09:55:36.673159Z"
    }
   },
   "outputs": [],
   "source": [
    "class ClusterBinEncoder():\n",
    "    \"\"\"\n",
    "    ClusterBinEncoder, 适用于cate\n",
    "    对于cont类型变量，可在ContBining中做单调性切分\n",
    "    先对类别特征做woe编码，然后对编码后的值做单调性分箱，即相当于聚类\n",
    "    再对聚类的bucket做WOE编码\n",
    "\n",
    "    Parameters\n",
    "    ----------\n",
    "    num_of_cluster : int, default: 10\n",
    "\n",
    "    precision : int, default: 8\n",
    "\n",
    "    inplace : boolen, default: False\n",
    "        woe的截断最大值\n",
    "    \"\"\"\n",
    "    from collections import defaultdict\n",
    "\n",
    "    def __init__(self, num_of_cluster=10, precision=8, inplace=False):\n",
    "        self.num_of_cluster = num_of_cluster\n",
    "        self.precision = precision\n",
    "        self.inplace = inplace\n",
    "\n",
    "    def fit(self, X, y):\n",
    "        self.bin_map = defaultdict(dict)\n",
    "        self.columns = X.columns.tolist()\n",
    "        for col in self.columns:\n",
    "            X_tmp = X[[col]]\n",
    "            n_size = X_tmp[col].nunique() + 2\n",
    "            woe_encoder = mlearn.service.transformer.WOEEncoder(\n",
    "                inplace=False, diff_thr=n_size)\n",
    "            bin_encoder = mlearn.service.transformer.ContBinningEncoder(\n",
    "                diff_thr=20, bins=self.num_of_cluster, binning_method='monot', inplace=False)\n",
    "\n",
    "            # WOE encoder\n",
    "            X_tmp = woe_encoder.fit_transform(X_tmp, y)\n",
    "            col_woe = [c for c in X_tmp.columns if c not in [col]][0]\n",
    "\n",
    "            # Monotonic Bin Encoder (clustering the woe value)\n",
    "            tmp = bin_encoder.fit_transform(X_tmp[[col_woe]], y)\n",
    "            col_woe_bin = [c for c in tmp.columns if c not in [col, col_woe]][0]\n",
    "            X_tmp[col_woe_bin] = tmp[col_woe_bin]\n",
    "\n",
    "            tmp = woe_encoder.fit_transform(X_tmp[[col_woe_bin]], y)\n",
    "            col_woe_bin_woe = [c for c in tmp.columns if c not in [col, col_woe, col_woe_bin]][0]\n",
    "            X_tmp[col_woe_bin_woe] = tmp[col_woe_bin_woe]\n",
    "            \n",
    "            fea2woe = dict(zip(X_tmp[col], X_tmp[col_woe_bin_woe]))\n",
    "            self.bin_map[col] = fea2woe\n",
    "\n",
    "    def transform(self, X):\n",
    "        if list(X.columns) != self.columns:\n",
    "            col = [c for c in self.columns if c not in X.columns]\n",
    "            raise ValueError(f'Unexpected columns {col} are found!')\n",
    "\n",
    "        X_copy = X.copy()\n",
    "        for col in self.columns:\n",
    "            X_copy[col +'_cb_woe'] = X[col].map(lambda x: self.bin_map[col].get(x, 0))\n",
    "            if self.inplace:\n",
    "                del X_copy[col]\n",
    "        return X_copy"
   ]
  },
  {
   "cell_type": "code",
   "execution_count": 132,
   "metadata": {
    "ExecuteTime": {
     "end_time": "2018-11-13T09:55:37.773096Z",
     "start_time": "2018-11-13T09:55:37.462709Z"
    }
   },
   "outputs": [
    {
     "name": "stderr",
     "output_type": "stream",
     "text": [
      "/Users/Chenson/Dropbox/Github/mlearn/mlearn/service/transformer/continous_encoding.py:168: SettingWithCopyWarning: \n",
      "A value is trying to be set on a copy of a slice from a DataFrame.\n",
      "Try using .loc[row_indexer,col_indexer] = value instead\n",
      "\n",
      "See the caveats in the documentation: http://pandas.pydata.org/pandas-docs/stable/indexing.html#indexing-view-versus-copy\n",
      "  df[c + '_woe'] = df[c].map(lambda x : self.map[c].get(x, nan_val))\n"
     ]
    }
   ],
   "source": [
    "fea_cbe = ClusterBinEncoder(num_of_cluster=5, inplace=True)\n",
    "tmp = fea_cbe.fit(df2[['province']], df2['01d'])"
   ]
  },
  {
   "cell_type": "code",
   "execution_count": 134,
   "metadata": {
    "ExecuteTime": {
     "end_time": "2018-11-13T10:08:51.667739Z",
     "start_time": "2018-11-13T10:08:51.659286Z"
    }
   },
   "outputs": [],
   "source": [
    "mlearn.service.transformer.ContBinningEncoder?"
   ]
  },
  {
   "cell_type": "code",
   "execution_count": 135,
   "metadata": {
    "ExecuteTime": {
     "end_time": "2018-11-13T10:09:33.145229Z",
     "start_time": "2018-11-13T10:09:33.141531Z"
    }
   },
   "outputs": [],
   "source": [
    "fea_contbe = mlearn.service.transformer.ContBinningEncoder(binning_method='monot', inplace=False)"
   ]
  },
  {
   "cell_type": "code",
   "execution_count": 140,
   "metadata": {
    "ExecuteTime": {
     "end_time": "2018-11-13T10:10:24.589264Z",
     "start_time": "2018-11-13T10:10:24.220617Z"
    }
   },
   "outputs": [
    {
     "name": "stderr",
     "output_type": "stream",
     "text": [
      "/Users/Chenson/Dropbox/Github/mlearn/mlearn/service/transformer/continous_encoding.py:255: SettingWithCopyWarning: \n",
      "A value is trying to be set on a copy of a slice from a DataFrame.\n",
      "Try using .loc[row_indexer,col_indexer] = value instead\n",
      "\n",
      "See the caveats in the documentation: http://pandas.pydata.org/pandas-docs/stable/indexing.html#indexing-view-versus-copy\n",
      "  df[c + '_bin'] = pd.cut(df[c], bins=self.map[c]['cut_points'], labels=self.map[c]['labels']).astype(int)\n",
      "/Users/Chenson/anaconda3/lib/python3.6/site-packages/ipykernel_launcher.py:2: SettingWithCopyWarning: \n",
      "A value is trying to be set on a copy of a slice from a DataFrame.\n",
      "Try using .loc[row_indexer,col_indexer] = value instead\n",
      "\n",
      "See the caveats in the documentation: http://pandas.pydata.org/pandas-docs/stable/indexing.html#indexing-view-versus-copy\n",
      "  \n"
     ]
    }
   ],
   "source": [
    "tmp = fea_contbe.fit_transform(df2[['age']], df2['01d'])\n",
    "tmp['01d'] = df2['01d']"
   ]
  },
  {
   "cell_type": "code",
   "execution_count": 141,
   "metadata": {
    "ExecuteTime": {
     "end_time": "2018-11-13T10:10:37.390017Z",
     "start_time": "2018-11-13T10:10:37.379233Z"
    }
   },
   "outputs": [
    {
     "data": {
      "text/plain": [
       "age_bin\n",
       "0    0.502088\n",
       "1    0.508178\n",
       "2    0.513720\n",
       "Name: 01d, dtype: float64"
      ]
     },
     "execution_count": 141,
     "metadata": {},
     "output_type": "execute_result"
    }
   ],
   "source": [
    "tmp.groupby('age_bin')['01d'].mean()"
   ]
  },
  {
   "cell_type": "code",
   "execution_count": 126,
   "metadata": {
    "ExecuteTime": {
     "end_time": "2018-11-13T09:54:58.482756Z",
     "start_time": "2018-11-13T09:54:58.462628Z"
    }
   },
   "outputs": [
    {
     "data": {
      "text/html": [
       "<div>\n",
       "<style scoped>\n",
       "    .dataframe tbody tr th:only-of-type {\n",
       "        vertical-align: middle;\n",
       "    }\n",
       "\n",
       "    .dataframe tbody tr th {\n",
       "        vertical-align: top;\n",
       "    }\n",
       "\n",
       "    .dataframe thead th {\n",
       "        text-align: right;\n",
       "    }\n",
       "</style>\n",
       "<table border=\"1\" class=\"dataframe\">\n",
       "  <thead>\n",
       "    <tr style=\"text-align: right;\">\n",
       "      <th></th>\n",
       "      <th>province_woe</th>\n",
       "    </tr>\n",
       "  </thead>\n",
       "  <tbody>\n",
       "    <tr>\n",
       "      <th>0</th>\n",
       "      <td>0.023546</td>\n",
       "    </tr>\n",
       "    <tr>\n",
       "      <th>1</th>\n",
       "      <td>-0.079776</td>\n",
       "    </tr>\n",
       "    <tr>\n",
       "      <th>2</th>\n",
       "      <td>0.088163</td>\n",
       "    </tr>\n",
       "    <tr>\n",
       "      <th>3</th>\n",
       "      <td>-0.079776</td>\n",
       "    </tr>\n",
       "    <tr>\n",
       "      <th>4</th>\n",
       "      <td>-0.079776</td>\n",
       "    </tr>\n",
       "  </tbody>\n",
       "</table>\n",
       "</div>"
      ],
      "text/plain": [
       "   province_woe\n",
       "0      0.023546\n",
       "1     -0.079776\n",
       "2      0.088163\n",
       "3     -0.079776\n",
       "4     -0.079776"
      ]
     },
     "execution_count": 126,
     "metadata": {},
     "output_type": "execute_result"
    }
   ],
   "source": [
    "tmp = fea_cbe.transform(df2[['province']])\n",
    "tmp.head()"
   ]
  },
  {
   "cell_type": "code",
   "execution_count": 127,
   "metadata": {
    "ExecuteTime": {
     "end_time": "2018-11-13T09:55:12.496248Z",
     "start_time": "2018-11-13T09:55:12.490250Z"
    }
   },
   "outputs": [
    {
     "data": {
      "text/plain": [
       "4"
      ]
     },
     "execution_count": 127,
     "metadata": {},
     "output_type": "execute_result"
    }
   ],
   "source": [
    "tmp.province_woe.nunique()"
   ]
  },
  {
   "cell_type": "code",
   "execution_count": 283,
   "metadata": {
    "ExecuteTime": {
     "end_time": "2018-11-13T06:48:06.380681Z",
     "start_time": "2018-11-13T06:48:06.370346Z"
    }
   },
   "outputs": [],
   "source": [
    "n_size = df2.province.nunique() + 2\n",
    "bin_encoder = mlearn.service.transformer.ContBinningEncoder(\n",
    "                diff_thr=20, bins=10, binning_method='monot', inplace=False)"
   ]
  },
  {
   "cell_type": "code",
   "execution_count": 292,
   "metadata": {
    "ExecuteTime": {
     "end_time": "2018-11-13T06:50:23.974588Z",
     "start_time": "2018-11-13T06:50:23.919507Z"
    }
   },
   "outputs": [
    {
     "data": {
      "text/html": [
       "<div>\n",
       "<style scoped>\n",
       "    .dataframe tbody tr th:only-of-type {\n",
       "        vertical-align: middle;\n",
       "    }\n",
       "\n",
       "    .dataframe tbody tr th {\n",
       "        vertical-align: top;\n",
       "    }\n",
       "\n",
       "    .dataframe thead th {\n",
       "        text-align: right;\n",
       "    }\n",
       "</style>\n",
       "<table border=\"1\" class=\"dataframe\">\n",
       "  <thead>\n",
       "    <tr style=\"text-align: right;\">\n",
       "      <th></th>\n",
       "      <th>province_woe_bin</th>\n",
       "    </tr>\n",
       "  </thead>\n",
       "  <tbody>\n",
       "    <tr>\n",
       "      <th>0</th>\n",
       "      <td>1</td>\n",
       "    </tr>\n",
       "    <tr>\n",
       "      <th>1</th>\n",
       "      <td>1</td>\n",
       "    </tr>\n",
       "    <tr>\n",
       "      <th>2</th>\n",
       "      <td>8</td>\n",
       "    </tr>\n",
       "    <tr>\n",
       "      <th>3</th>\n",
       "      <td>5</td>\n",
       "    </tr>\n",
       "    <tr>\n",
       "      <th>4</th>\n",
       "      <td>4</td>\n",
       "    </tr>\n",
       "    <tr>\n",
       "      <th>5</th>\n",
       "      <td>6</td>\n",
       "    </tr>\n",
       "    <tr>\n",
       "      <th>6</th>\n",
       "      <td>9</td>\n",
       "    </tr>\n",
       "    <tr>\n",
       "      <th>7</th>\n",
       "      <td>3</td>\n",
       "    </tr>\n",
       "    <tr>\n",
       "      <th>8</th>\n",
       "      <td>2</td>\n",
       "    </tr>\n",
       "    <tr>\n",
       "      <th>9</th>\n",
       "      <td>6</td>\n",
       "    </tr>\n",
       "    <tr>\n",
       "      <th>10</th>\n",
       "      <td>5</td>\n",
       "    </tr>\n",
       "    <tr>\n",
       "      <th>11</th>\n",
       "      <td>8</td>\n",
       "    </tr>\n",
       "    <tr>\n",
       "      <th>12</th>\n",
       "      <td>8</td>\n",
       "    </tr>\n",
       "    <tr>\n",
       "      <th>13</th>\n",
       "      <td>3</td>\n",
       "    </tr>\n",
       "    <tr>\n",
       "      <th>14</th>\n",
       "      <td>7</td>\n",
       "    </tr>\n",
       "    <tr>\n",
       "      <th>15</th>\n",
       "      <td>6</td>\n",
       "    </tr>\n",
       "    <tr>\n",
       "      <th>16</th>\n",
       "      <td>6</td>\n",
       "    </tr>\n",
       "    <tr>\n",
       "      <th>17</th>\n",
       "      <td>5</td>\n",
       "    </tr>\n",
       "    <tr>\n",
       "      <th>18</th>\n",
       "      <td>3</td>\n",
       "    </tr>\n",
       "    <tr>\n",
       "      <th>19</th>\n",
       "      <td>2</td>\n",
       "    </tr>\n",
       "    <tr>\n",
       "      <th>20</th>\n",
       "      <td>3</td>\n",
       "    </tr>\n",
       "    <tr>\n",
       "      <th>21</th>\n",
       "      <td>3</td>\n",
       "    </tr>\n",
       "    <tr>\n",
       "      <th>22</th>\n",
       "      <td>2</td>\n",
       "    </tr>\n",
       "    <tr>\n",
       "      <th>23</th>\n",
       "      <td>3</td>\n",
       "    </tr>\n",
       "    <tr>\n",
       "      <th>24</th>\n",
       "      <td>5</td>\n",
       "    </tr>\n",
       "    <tr>\n",
       "      <th>25</th>\n",
       "      <td>9</td>\n",
       "    </tr>\n",
       "    <tr>\n",
       "      <th>26</th>\n",
       "      <td>6</td>\n",
       "    </tr>\n",
       "    <tr>\n",
       "      <th>27</th>\n",
       "      <td>5</td>\n",
       "    </tr>\n",
       "    <tr>\n",
       "      <th>28</th>\n",
       "      <td>3</td>\n",
       "    </tr>\n",
       "    <tr>\n",
       "      <th>29</th>\n",
       "      <td>5</td>\n",
       "    </tr>\n",
       "    <tr>\n",
       "      <th>...</th>\n",
       "      <td>...</td>\n",
       "    </tr>\n",
       "    <tr>\n",
       "      <th>19026</th>\n",
       "      <td>4</td>\n",
       "    </tr>\n",
       "    <tr>\n",
       "      <th>19027</th>\n",
       "      <td>4</td>\n",
       "    </tr>\n",
       "    <tr>\n",
       "      <th>19028</th>\n",
       "      <td>1</td>\n",
       "    </tr>\n",
       "    <tr>\n",
       "      <th>19029</th>\n",
       "      <td>2</td>\n",
       "    </tr>\n",
       "    <tr>\n",
       "      <th>19030</th>\n",
       "      <td>6</td>\n",
       "    </tr>\n",
       "    <tr>\n",
       "      <th>19031</th>\n",
       "      <td>6</td>\n",
       "    </tr>\n",
       "    <tr>\n",
       "      <th>19032</th>\n",
       "      <td>2</td>\n",
       "    </tr>\n",
       "    <tr>\n",
       "      <th>19033</th>\n",
       "      <td>8</td>\n",
       "    </tr>\n",
       "    <tr>\n",
       "      <th>19034</th>\n",
       "      <td>2</td>\n",
       "    </tr>\n",
       "    <tr>\n",
       "      <th>19035</th>\n",
       "      <td>4</td>\n",
       "    </tr>\n",
       "    <tr>\n",
       "      <th>19036</th>\n",
       "      <td>3</td>\n",
       "    </tr>\n",
       "    <tr>\n",
       "      <th>19037</th>\n",
       "      <td>2</td>\n",
       "    </tr>\n",
       "    <tr>\n",
       "      <th>19038</th>\n",
       "      <td>3</td>\n",
       "    </tr>\n",
       "    <tr>\n",
       "      <th>19039</th>\n",
       "      <td>7</td>\n",
       "    </tr>\n",
       "    <tr>\n",
       "      <th>19040</th>\n",
       "      <td>3</td>\n",
       "    </tr>\n",
       "    <tr>\n",
       "      <th>19041</th>\n",
       "      <td>4</td>\n",
       "    </tr>\n",
       "    <tr>\n",
       "      <th>19042</th>\n",
       "      <td>2</td>\n",
       "    </tr>\n",
       "    <tr>\n",
       "      <th>19043</th>\n",
       "      <td>1</td>\n",
       "    </tr>\n",
       "    <tr>\n",
       "      <th>19044</th>\n",
       "      <td>2</td>\n",
       "    </tr>\n",
       "    <tr>\n",
       "      <th>19045</th>\n",
       "      <td>6</td>\n",
       "    </tr>\n",
       "    <tr>\n",
       "      <th>19046</th>\n",
       "      <td>4</td>\n",
       "    </tr>\n",
       "    <tr>\n",
       "      <th>19047</th>\n",
       "      <td>9</td>\n",
       "    </tr>\n",
       "    <tr>\n",
       "      <th>19048</th>\n",
       "      <td>2</td>\n",
       "    </tr>\n",
       "    <tr>\n",
       "      <th>19049</th>\n",
       "      <td>3</td>\n",
       "    </tr>\n",
       "    <tr>\n",
       "      <th>19050</th>\n",
       "      <td>6</td>\n",
       "    </tr>\n",
       "    <tr>\n",
       "      <th>19051</th>\n",
       "      <td>4</td>\n",
       "    </tr>\n",
       "    <tr>\n",
       "      <th>19052</th>\n",
       "      <td>5</td>\n",
       "    </tr>\n",
       "    <tr>\n",
       "      <th>19053</th>\n",
       "      <td>5</td>\n",
       "    </tr>\n",
       "    <tr>\n",
       "      <th>19054</th>\n",
       "      <td>9</td>\n",
       "    </tr>\n",
       "    <tr>\n",
       "      <th>19055</th>\n",
       "      <td>7</td>\n",
       "    </tr>\n",
       "  </tbody>\n",
       "</table>\n",
       "<p>19056 rows × 1 columns</p>\n",
       "</div>"
      ],
      "text/plain": [
       "      province_woe_bin\n",
       "0                    1\n",
       "1                    1\n",
       "2                    8\n",
       "3                    5\n",
       "4                    4\n",
       "5                    6\n",
       "6                    9\n",
       "7                    3\n",
       "8                    2\n",
       "9                    6\n",
       "10                   5\n",
       "11                   8\n",
       "12                   8\n",
       "13                   3\n",
       "14                   7\n",
       "15                   6\n",
       "16                   6\n",
       "17                   5\n",
       "18                   3\n",
       "19                   2\n",
       "20                   3\n",
       "21                   3\n",
       "22                   2\n",
       "23                   3\n",
       "24                   5\n",
       "25                   9\n",
       "26                   6\n",
       "27                   5\n",
       "28                   3\n",
       "29                   5\n",
       "...                ...\n",
       "19026                4\n",
       "19027                4\n",
       "19028                1\n",
       "19029                2\n",
       "19030                6\n",
       "19031                6\n",
       "19032                2\n",
       "19033                8\n",
       "19034                2\n",
       "19035                4\n",
       "19036                3\n",
       "19037                2\n",
       "19038                3\n",
       "19039                7\n",
       "19040                3\n",
       "19041                4\n",
       "19042                2\n",
       "19043                1\n",
       "19044                2\n",
       "19045                6\n",
       "19046                4\n",
       "19047                9\n",
       "19048                2\n",
       "19049                3\n",
       "19050                6\n",
       "19051                4\n",
       "19052                5\n",
       "19053                5\n",
       "19054                9\n",
       "19055                7\n",
       "\n",
       "[19056 rows x 1 columns]"
      ]
     },
     "execution_count": 292,
     "metadata": {},
     "output_type": "execute_result"
    }
   ],
   "source": [
    "fea_be.method = 'monotonic'\n",
    "fea_be.fit(X_tmp[['province_woe']], df2['01d'])\n",
    "fea_be.transform(X_tmp[['province_woe']])"
   ]
  },
  {
   "cell_type": "code",
   "execution_count": 305,
   "metadata": {
    "ExecuteTime": {
     "end_time": "2018-11-13T07:06:29.516140Z",
     "start_time": "2018-11-13T07:06:28.943342Z"
    }
   },
   "outputs": [],
   "source": [
    "X_tmp[['province', 'province_woe']].to_dict(orient=)"
   ]
  },
  {
   "cell_type": "code",
   "execution_count": null,
   "metadata": {},
   "outputs": [],
   "source": [
    "X_tmp[['province', 'province_woe']].to_dict"
   ]
  },
  {
   "cell_type": "code",
   "execution_count": 307,
   "metadata": {
    "ExecuteTime": {
     "end_time": "2018-11-13T07:08:50.264175Z",
     "start_time": "2018-11-13T07:08:50.248782Z"
    }
   },
   "outputs": [
    {
     "data": {
      "text/plain": [
       "{'河北省': -0.11837163153725039,\n",
       " '江苏省': -0.05972162584768663,\n",
       " '福建省': 0.06054676525099924,\n",
       " '山东省': -0.008120497072604364,\n",
       " '安徽省': -0.010968316035979577,\n",
       " '浙江省': -0.00017764355866775426,\n",
       " '天津市': 0.1699245029540899,\n",
       " '湖北省': -0.028054711973421603,\n",
       " '四川省': -0.05597311234269279,\n",
       " '陕西省': 0.028052915768146548,\n",
       " '辽宁省': 0.0066152015811485505,\n",
       " '云南省': -0.007985206535971132,\n",
       " '湖南省': -0.03171979629919362,\n",
       " '贵州省': 0.1922687064805804,\n",
       " '广东省': 0.023140753023696534,\n",
       " '广西壮族自治区': -0.016195360797795738,\n",
       " '内蒙古自治区': 0.0949294424494745,\n",
       " '江西省': -0.04692903738224033,\n",
       " '河南省': 0.067835845536293,\n",
       " '吉林省': -0.025820074172005224,\n",
       " '重庆市': 0.0538239888879202,\n",
       " '新疆维吾尔自治区': 0.017665037767733642,\n",
       " '黑龙江省': 0.05989344410202445,\n",
       " '甘肃省': -0.05700300160869327,\n",
       " '山西省': -0.002381501199987773,\n",
       " '海南省': -0.12794956924838524,\n",
       " '上海市': 0.028247147098270455,\n",
       " '青海省': -0.05972162584768663,\n",
       " '宁夏回族自治区': -0.12519254798520899,\n",
       " '北京市': -0.23061448681801838,\n",
       " '西藏自治区': -0.02582007417200534}"
      ]
     },
     "execution_count": 307,
     "metadata": {},
     "output_type": "execute_result"
    }
   ],
   "source": []
  },
  {
   "cell_type": "code",
   "execution_count": 282,
   "metadata": {
    "ExecuteTime": {
     "end_time": "2018-11-13T06:45:05.533863Z",
     "start_time": "2018-11-13T06:45:05.453080Z"
    }
   },
   "outputs": [],
   "source": [
    "mlearn.service.transformer.ContBinningEncoder?"
   ]
  },
  {
   "cell_type": "code",
   "execution_count": 286,
   "metadata": {
    "ExecuteTime": {
     "end_time": "2018-11-13T06:48:27.589155Z",
     "start_time": "2018-11-13T06:48:27.351036Z"
    }
   },
   "outputs": [
    {
     "name": "stderr",
     "output_type": "stream",
     "text": [
      "/Users/Chenson/Dropbox/Github/mlearn/mlearn/service/transformer/continous_encoding.py:148: SettingWithCopyWarning: \n",
      "A value is trying to be set on a copy of a slice from a DataFrame.\n",
      "Try using .loc[row_indexer,col_indexer] = value instead\n",
      "\n",
      "See the caveats in the documentation: http://pandas.pydata.org/pandas-docs/stable/indexing.html#indexing-view-versus-copy\n",
      "  df[c + '_woe'] = df[c].map(lambda x : self.map[c].get(x, nan_val))\n"
     ]
    },
    {
     "data": {
      "text/html": [
       "<div>\n",
       "<style scoped>\n",
       "    .dataframe tbody tr th:only-of-type {\n",
       "        vertical-align: middle;\n",
       "    }\n",
       "\n",
       "    .dataframe tbody tr th {\n",
       "        vertical-align: top;\n",
       "    }\n",
       "\n",
       "    .dataframe thead th {\n",
       "        text-align: right;\n",
       "    }\n",
       "</style>\n",
       "<table border=\"1\" class=\"dataframe\">\n",
       "  <thead>\n",
       "    <tr style=\"text-align: right;\">\n",
       "      <th></th>\n",
       "      <th>province</th>\n",
       "      <th>province_woe</th>\n",
       "    </tr>\n",
       "  </thead>\n",
       "  <tbody>\n",
       "    <tr>\n",
       "      <th>0</th>\n",
       "      <td>河北省</td>\n",
       "      <td>-0.118372</td>\n",
       "    </tr>\n",
       "    <tr>\n",
       "      <th>1</th>\n",
       "      <td>江苏省</td>\n",
       "      <td>-0.059722</td>\n",
       "    </tr>\n",
       "    <tr>\n",
       "      <th>2</th>\n",
       "      <td>福建省</td>\n",
       "      <td>0.060547</td>\n",
       "    </tr>\n",
       "    <tr>\n",
       "      <th>3</th>\n",
       "      <td>山东省</td>\n",
       "      <td>-0.008120</td>\n",
       "    </tr>\n",
       "    <tr>\n",
       "      <th>4</th>\n",
       "      <td>安徽省</td>\n",
       "      <td>-0.010968</td>\n",
       "    </tr>\n",
       "  </tbody>\n",
       "</table>\n",
       "</div>"
      ],
      "text/plain": [
       "  province  province_woe\n",
       "0      河北省     -0.118372\n",
       "1      江苏省     -0.059722\n",
       "2      福建省      0.060547\n",
       "3      山东省     -0.008120\n",
       "4      安徽省     -0.010968"
      ]
     },
     "execution_count": 286,
     "metadata": {},
     "output_type": "execute_result"
    }
   ],
   "source": [
    "X_tmp = woe_encoder.fit_transform(df2[['province']], df2['01d'])\n",
    "X_tmp.head()"
   ]
  },
  {
   "cell_type": "code",
   "execution_count": 288,
   "metadata": {
    "ExecuteTime": {
     "end_time": "2018-11-13T06:49:56.224113Z",
     "start_time": "2018-11-13T06:49:56.206465Z"
    }
   },
   "outputs": [
    {
     "data": {
      "text/plain": [
       "Index(['province', 'province_woe'], dtype='object')"
      ]
     },
     "execution_count": 288,
     "metadata": {},
     "output_type": "execute_result"
    }
   ],
   "source": [
    "X_tmp.columns"
   ]
  },
  {
   "cell_type": "code",
   "execution_count": null,
   "metadata": {},
   "outputs": [],
   "source": []
  }
 ],
 "metadata": {
  "hide_input": false,
  "kernelspec": {
   "display_name": "Python [default]",
   "language": "python",
   "name": "python3"
  },
  "language_info": {
   "codemirror_mode": {
    "name": "ipython",
    "version": 3
   },
   "file_extension": ".py",
   "mimetype": "text/x-python",
   "name": "python",
   "nbconvert_exporter": "python",
   "pygments_lexer": "ipython3",
   "version": "3.6.3"
  },
  "toc": {
   "nav_menu": {},
   "number_sections": true,
   "sideBar": true,
   "skip_h1_title": false,
   "title_cell": "Table of Contents",
   "title_sidebar": "Contents",
   "toc_cell": false,
   "toc_position": {
    "height": "calc(100% - 180px)",
    "left": "10px",
    "top": "150px",
    "width": "299px"
   },
   "toc_section_display": true,
   "toc_window_display": true
  }
 },
 "nbformat": 4,
 "nbformat_minor": 2
}
